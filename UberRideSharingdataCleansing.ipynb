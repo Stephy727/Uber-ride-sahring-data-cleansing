{
 "cells": [
  {
   "cell_type": "markdown",
   "metadata": {},
   "source": [
    "\n",
    "Date: 15/05/2019\n",
    "\n",
    "Environment: Python 3.7.0 and Anaconda3 5.2.0(64-bit)\n",
    "\n",
    "\n",
    "## Libraries used:\n",
    "\n",
    "* re 2.2.1 (for regular expression, included in Anaconda Python 3.7.0)\n",
    "* json 2.0.9 (for json file handling, included in  Anaconda Python 3.7.0)\n",
    "* datetime(for date time operations, included in Anaconda Python 3.7.0)\n",
    "* math(to perform mathematical calculation, included in Anaconda Python 3.7.0)\n",
    "* pandas (for manipulating dataframes, included in Anaconda Python 3.7.0)\n",
    "* matplotlib(for graphing dataframes, included in Anaconda Python 3.7.0)\n",
    "* numpy(for numeric computations, included in Anaconda Python 3.7.0)\n",
    "* seaborn(for graphs, included in Anaconda Python 3.7.0)\n",
    "* LinearRegression (for regression analysis, included in Anaconda Python 3.7.0)\n",
    "\n",
    "Some images are captured from Tableau\n",
    "\n",
    "********************************************************************************************************************************\n",
    "\n",
    "## Content \n",
    "\n",
    "### 1.\tIntroduction \n",
    "\n",
    "\n",
    "### 2.\tLibraries\n",
    "\n",
    "\n",
    "### 3.\tExploring dirty data\n",
    "\n",
    "\n",
    "### 4.\tData cleaning\n",
    "\n",
    "    4.1\tFixing the error in Uber Type\n",
    "    \n",
    "    4.2\tCorrecting error in departure date\n",
    "    \n",
    "    4.3\tFixing the latitude and longitude\n",
    "    \n",
    "    4.4\tFixing error in region\n",
    "    \n",
    "    4.5\tFixing Departure time and arrival time\n",
    "    \n",
    "    4.6\tFixing distance and travel time\n",
    "    \n",
    "    4.7\tSaving the fixed file\n",
    "    \n",
    "    \n",
    "### 5.\tTreatment of missing data\n",
    "\n",
    "    5.1\tImputing Uber type\n",
    "    \n",
    "    5.2\tData Preparation for modelling travel fare \n",
    "    \n",
    "    5.3\tModelling the prepared Uber data to impute fare for each type of Uber\n",
    "    \n",
    "        5.3.1\tModelling for Uber Pool\n",
    "        \n",
    "        5.3.2\tModelling for Uber X\n",
    "        \n",
    "        5.3.3\tModelling for Uber Black\n",
    "        \n",
    "    5.4\tSaving the fixed file\n",
    "    \n",
    "    \n",
    "### 6.\tOutlier detection and removal\n",
    "\n",
    "    6.1\tMethodology based on IQR\n",
    "    \n",
    "    6.2\tOutlier removal\n",
    "    \n",
    "    6.3\tSaving the fixed file\n",
    "    \n",
    "    \n",
    "### 7.\tSummary \n",
    "\n",
    "\n",
    "### 8.\tReferences\n",
    "\n",
    "\n",
    "\n",
    "********************************************************************************************************************************\n",
    "\n",
    "\n",
    "## 1. Introduction\n",
    "\n",
    "The data is from Uber and contains information regarding trips in and around Melbourne. It contains information like Trip_ID, origination, destination, distance, time, fare etc. We will cover the codeing information for all the three tasks in this file\n"
   ]
  },
  {
   "cell_type": "markdown",
   "metadata": {},
   "source": [
    "## 2.  Import libraries "
   ]
  },
  {
   "cell_type": "code",
   "execution_count": 2,
   "metadata": {},
   "outputs": [],
   "source": [
    "# Importing libraries \n",
    "import pandas as pd\n",
    "import numpy as np\n",
    "import datetime\n",
    "import re\n",
    "from matplotlib import pyplot as plt\n",
    "import seaborn as sns\n",
    "from math import sin, cos, sqrt, atan2, radians\n",
    "import math \n",
    "from sklearn.cross_validation import train_test_split\n",
    "from sklearn.linear_model import LinearRegression"
   ]
  },
  {
   "cell_type": "code",
   "execution_count": 1038,
   "metadata": {},
   "outputs": [],
   "source": [
    "#reading the dirty data, nodes and edges file and storing it in a dataframe\n",
    "\n",
    "data= pd.read_csv(\"29915651_dirty_data.csv\")\n",
    "nodes=pd.read_csv(\"nodes.csv\")\n",
    "edges=pd.read_csv(\"edges.csv\")\n"
   ]
  },
  {
   "cell_type": "code",
   "execution_count": 1039,
   "metadata": {},
   "outputs": [
    {
     "data": {
      "text/plain": [
       "(298, 14)"
      ]
     },
     "execution_count": 1039,
     "metadata": {},
     "output_type": "execute_result"
    }
   ],
   "source": [
    "#print shape of data\n",
    "data.shape"
   ]
  },
  {
   "cell_type": "code",
   "execution_count": 1040,
   "metadata": {},
   "outputs": [
    {
     "data": {
      "text/plain": [
       "(42224, 6)"
      ]
     },
     "execution_count": 1040,
     "metadata": {},
     "output_type": "execute_result"
    }
   ],
   "source": [
    "edges.shape"
   ]
  },
  {
   "cell_type": "code",
   "execution_count": 1041,
   "metadata": {},
   "outputs": [
    {
     "data": {
      "text/plain": [
       "(17117, 3)"
      ]
     },
     "execution_count": 1041,
     "metadata": {},
     "output_type": "execute_result"
    }
   ],
   "source": [
    "nodes.shape"
   ]
  },
  {
   "cell_type": "markdown",
   "metadata": {},
   "source": [
    "## 3.  Exploring dirty data\n",
    "\n",
    "\n",
    "### Task 1\n",
    "\n",
    "#### Detect and fix errors in <student_no>_dirty_data.csv.\n",
    "\n",
    "The data set is analysed to understand what are the columns. This is done to understand:\n",
    "the spread of the various columns\n",
    "\n",
    "presence of null values\n",
    "\n",
    "the level of the data\n",
    "\n",
    "the factors of categorial variable etc\n"
   ]
  },
  {
   "cell_type": "code",
   "execution_count": 1042,
   "metadata": {},
   "outputs": [
    {
     "data": {
      "text/html": [
       "<div>\n",
       "<style scoped>\n",
       "    .dataframe tbody tr th:only-of-type {\n",
       "        vertical-align: middle;\n",
       "    }\n",
       "\n",
       "    .dataframe tbody tr th {\n",
       "        vertical-align: top;\n",
       "    }\n",
       "\n",
       "    .dataframe thead th {\n",
       "        text-align: right;\n",
       "    }\n",
       "</style>\n",
       "<table border=\"1\" class=\"dataframe\">\n",
       "  <thead>\n",
       "    <tr style=\"text-align: right;\">\n",
       "      <th></th>\n",
       "      <th>Unnamed: 0</th>\n",
       "      <th>Uber Type</th>\n",
       "      <th>Origin Region</th>\n",
       "      <th>Destination Region</th>\n",
       "      <th>Origin Latitude</th>\n",
       "      <th>Origin Longitude</th>\n",
       "      <th>Destination Latitude</th>\n",
       "      <th>Destination Longitude</th>\n",
       "      <th>Journey Distance(m)</th>\n",
       "      <th>Departure Date</th>\n",
       "      <th>Departure Time</th>\n",
       "      <th>Travel Time(s)</th>\n",
       "      <th>Arrival Time</th>\n",
       "      <th>Fare$</th>\n",
       "    </tr>\n",
       "  </thead>\n",
       "  <tbody>\n",
       "    <tr>\n",
       "      <th>0</th>\n",
       "      <td>ID3320317494</td>\n",
       "      <td>1</td>\n",
       "      <td>3</td>\n",
       "      <td>5</td>\n",
       "      <td>-37.825296</td>\n",
       "      <td>144.982523</td>\n",
       "      <td>-37.810676</td>\n",
       "      <td>144.926025</td>\n",
       "      <td>6240.6</td>\n",
       "      <td>2018-01-16</td>\n",
       "      <td>01:17:03</td>\n",
       "      <td>1531.56</td>\n",
       "      <td>1:42:34</td>\n",
       "      <td>20.38</td>\n",
       "    </tr>\n",
       "    <tr>\n",
       "      <th>1</th>\n",
       "      <td>ID3331420694</td>\n",
       "      <td>1</td>\n",
       "      <td>1</td>\n",
       "      <td>4</td>\n",
       "      <td>-37.808916</td>\n",
       "      <td>144.966157</td>\n",
       "      <td>-37.808679</td>\n",
       "      <td>145.006707</td>\n",
       "      <td>3842.1</td>\n",
       "      <td>2018-05-23</td>\n",
       "      <td>11:12:16</td>\n",
       "      <td>903.36</td>\n",
       "      <td>11:27:19</td>\n",
       "      <td>8.67</td>\n",
       "    </tr>\n",
       "    <tr>\n",
       "      <th>2</th>\n",
       "      <td>ID1609759320</td>\n",
       "      <td>0</td>\n",
       "      <td>2</td>\n",
       "      <td>1</td>\n",
       "      <td>-37.818954</td>\n",
       "      <td>144.943264</td>\n",
       "      <td>-37.802045</td>\n",
       "      <td>144.966781</td>\n",
       "      <td>3382.1</td>\n",
       "      <td>2018-07-04</td>\n",
       "      <td>08:23:32</td>\n",
       "      <td>907.56</td>\n",
       "      <td>8:38:39</td>\n",
       "      <td>5.16</td>\n",
       "    </tr>\n",
       "    <tr>\n",
       "      <th>3</th>\n",
       "      <td>ID1587559514</td>\n",
       "      <td>0</td>\n",
       "      <td>8</td>\n",
       "      <td>2</td>\n",
       "      <td>-37.815834</td>\n",
       "      <td>145.046450</td>\n",
       "      <td>-37.813678</td>\n",
       "      <td>144.939437</td>\n",
       "      <td>9775.3</td>\n",
       "      <td>2018-02-19</td>\n",
       "      <td>20:19:07</td>\n",
       "      <td>2738.16</td>\n",
       "      <td>21:04:45</td>\n",
       "      <td>11.21</td>\n",
       "    </tr>\n",
       "    <tr>\n",
       "      <th>4</th>\n",
       "      <td>ID1887103666</td>\n",
       "      <td>0</td>\n",
       "      <td>3</td>\n",
       "      <td>1</td>\n",
       "      <td>-37.821801</td>\n",
       "      <td>145.002530</td>\n",
       "      <td>-37.818042</td>\n",
       "      <td>144.952916</td>\n",
       "      <td>6182.0</td>\n",
       "      <td>2018-03-17</td>\n",
       "      <td>09:02:26</td>\n",
       "      <td>1548.90</td>\n",
       "      <td>9:28:14</td>\n",
       "      <td>9.62</td>\n",
       "    </tr>\n",
       "  </tbody>\n",
       "</table>\n",
       "</div>"
      ],
      "text/plain": [
       "     Unnamed: 0  Uber Type  Origin Region  Destination Region  \\\n",
       "0  ID3320317494          1              3                   5   \n",
       "1  ID3331420694          1              1                   4   \n",
       "2  ID1609759320          0              2                   1   \n",
       "3  ID1587559514          0              8                   2   \n",
       "4  ID1887103666          0              3                   1   \n",
       "\n",
       "   Origin Latitude  Origin Longitude  Destination Latitude  \\\n",
       "0       -37.825296        144.982523            -37.810676   \n",
       "1       -37.808916        144.966157            -37.808679   \n",
       "2       -37.818954        144.943264            -37.802045   \n",
       "3       -37.815834        145.046450            -37.813678   \n",
       "4       -37.821801        145.002530            -37.818042   \n",
       "\n",
       "   Destination Longitude  Journey Distance(m) Departure Date Departure Time  \\\n",
       "0             144.926025               6240.6     2018-01-16       01:17:03   \n",
       "1             145.006707               3842.1     2018-05-23       11:12:16   \n",
       "2             144.966781               3382.1     2018-07-04       08:23:32   \n",
       "3             144.939437               9775.3     2018-02-19       20:19:07   \n",
       "4             144.952916               6182.0     2018-03-17       09:02:26   \n",
       "\n",
       "   Travel Time(s) Arrival Time  Fare$  \n",
       "0         1531.56      1:42:34  20.38  \n",
       "1          903.36     11:27:19   8.67  \n",
       "2          907.56      8:38:39   5.16  \n",
       "3         2738.16     21:04:45  11.21  \n",
       "4         1548.90      9:28:14   9.62  "
      ]
     },
     "execution_count": 1042,
     "metadata": {},
     "output_type": "execute_result"
    }
   ],
   "source": [
    "data.head()"
   ]
  },
  {
   "cell_type": "code",
   "execution_count": 1043,
   "metadata": {},
   "outputs": [
    {
     "name": "stdout",
     "output_type": "stream",
     "text": [
      "<class 'pandas.core.frame.DataFrame'>\n",
      "RangeIndex: 298 entries, 0 to 297\n",
      "Data columns (total 14 columns):\n",
      "Unnamed: 0               298 non-null object\n",
      "Uber Type                298 non-null int64\n",
      "Origin Region            298 non-null int64\n",
      "Destination Region       298 non-null int64\n",
      "Origin Latitude          298 non-null float64\n",
      "Origin Longitude         298 non-null float64\n",
      "Destination Latitude     298 non-null float64\n",
      "Destination Longitude    298 non-null float64\n",
      "Journey Distance(m)      298 non-null float64\n",
      "Departure Date           298 non-null object\n",
      "Departure Time           298 non-null object\n",
      "Travel Time(s)           298 non-null float64\n",
      "Arrival Time             298 non-null object\n",
      "Fare$                    298 non-null float64\n",
      "dtypes: float64(7), int64(3), object(4)\n",
      "memory usage: 32.7+ KB\n"
     ]
    }
   ],
   "source": [
    "data.info()\n",
    "#no nulls identified"
   ]
  },
  {
   "cell_type": "code",
   "execution_count": 1044,
   "metadata": {
    "scrolled": true
   },
   "outputs": [
    {
     "data": {
      "text/html": [
       "<div>\n",
       "<style scoped>\n",
       "    .dataframe tbody tr th:only-of-type {\n",
       "        vertical-align: middle;\n",
       "    }\n",
       "\n",
       "    .dataframe tbody tr th {\n",
       "        vertical-align: top;\n",
       "    }\n",
       "\n",
       "    .dataframe thead th {\n",
       "        text-align: right;\n",
       "    }\n",
       "</style>\n",
       "<table border=\"1\" class=\"dataframe\">\n",
       "  <thead>\n",
       "    <tr style=\"text-align: right;\">\n",
       "      <th></th>\n",
       "      <th>Uber Type</th>\n",
       "      <th>Origin Region</th>\n",
       "      <th>Destination Region</th>\n",
       "      <th>Origin Latitude</th>\n",
       "      <th>Origin Longitude</th>\n",
       "      <th>Destination Latitude</th>\n",
       "      <th>Destination Longitude</th>\n",
       "      <th>Journey Distance(m)</th>\n",
       "      <th>Travel Time(s)</th>\n",
       "      <th>Fare$</th>\n",
       "    </tr>\n",
       "  </thead>\n",
       "  <tbody>\n",
       "    <tr>\n",
       "      <th>count</th>\n",
       "      <td>298.000000</td>\n",
       "      <td>298.000000</td>\n",
       "      <td>298.000000</td>\n",
       "      <td>298.000000</td>\n",
       "      <td>298.000000</td>\n",
       "      <td>298.000000</td>\n",
       "      <td>298.000000</td>\n",
       "      <td>298.000000</td>\n",
       "      <td>298.000000</td>\n",
       "      <td>298.000000</td>\n",
       "    </tr>\n",
       "    <tr>\n",
       "      <th>mean</th>\n",
       "      <td>0.781879</td>\n",
       "      <td>5.050336</td>\n",
       "      <td>4.862416</td>\n",
       "      <td>-36.577921</td>\n",
       "      <td>144.932994</td>\n",
       "      <td>-36.578255</td>\n",
       "      <td>144.934346</td>\n",
       "      <td>16004.578188</td>\n",
       "      <td>4166.095772</td>\n",
       "      <td>79.790973</td>\n",
       "    </tr>\n",
       "    <tr>\n",
       "      <th>std</th>\n",
       "      <td>0.762819</td>\n",
       "      <td>2.655434</td>\n",
       "      <td>2.532854</td>\n",
       "      <td>9.741679</td>\n",
       "      <td>0.109186</td>\n",
       "      <td>9.733807</td>\n",
       "      <td>0.103099</td>\n",
       "      <td>16550.771171</td>\n",
       "      <td>3979.509035</td>\n",
       "      <td>191.564337</td>\n",
       "    </tr>\n",
       "    <tr>\n",
       "      <th>min</th>\n",
       "      <td>0.000000</td>\n",
       "      <td>1.000000</td>\n",
       "      <td>1.000000</td>\n",
       "      <td>-38.110916</td>\n",
       "      <td>144.654173</td>\n",
       "      <td>-38.110916</td>\n",
       "      <td>144.654173</td>\n",
       "      <td>934.000000</td>\n",
       "      <td>330.600000</td>\n",
       "      <td>3.820000</td>\n",
       "    </tr>\n",
       "    <tr>\n",
       "      <th>25%</th>\n",
       "      <td>0.000000</td>\n",
       "      <td>3.000000</td>\n",
       "      <td>3.000000</td>\n",
       "      <td>-37.823157</td>\n",
       "      <td>144.929853</td>\n",
       "      <td>-37.824686</td>\n",
       "      <td>144.927170</td>\n",
       "      <td>5490.000000</td>\n",
       "      <td>1414.275000</td>\n",
       "      <td>13.805000</td>\n",
       "    </tr>\n",
       "    <tr>\n",
       "      <th>50%</th>\n",
       "      <td>1.000000</td>\n",
       "      <td>5.000000</td>\n",
       "      <td>5.000000</td>\n",
       "      <td>-37.815263</td>\n",
       "      <td>144.957335</td>\n",
       "      <td>-37.815315</td>\n",
       "      <td>144.959989</td>\n",
       "      <td>8742.500000</td>\n",
       "      <td>2583.210000</td>\n",
       "      <td>18.805000</td>\n",
       "    </tr>\n",
       "    <tr>\n",
       "      <th>75%</th>\n",
       "      <td>1.000000</td>\n",
       "      <td>7.750000</td>\n",
       "      <td>7.000000</td>\n",
       "      <td>-37.805997</td>\n",
       "      <td>144.985865</td>\n",
       "      <td>-37.806350</td>\n",
       "      <td>144.990572</td>\n",
       "      <td>13169.000000</td>\n",
       "      <td>4022.370000</td>\n",
       "      <td>44.062500</td>\n",
       "    </tr>\n",
       "    <tr>\n",
       "      <th>max</th>\n",
       "      <td>3.000000</td>\n",
       "      <td>9.000000</td>\n",
       "      <td>9.000000</td>\n",
       "      <td>38.110916</td>\n",
       "      <td>145.046450</td>\n",
       "      <td>37.815834</td>\n",
       "      <td>145.046450</td>\n",
       "      <td>51061.000000</td>\n",
       "      <td>13204.980000</td>\n",
       "      <td>1098.650000</td>\n",
       "    </tr>\n",
       "  </tbody>\n",
       "</table>\n",
       "</div>"
      ],
      "text/plain": [
       "        Uber Type  Origin Region  Destination Region  Origin Latitude  \\\n",
       "count  298.000000     298.000000          298.000000       298.000000   \n",
       "mean     0.781879       5.050336            4.862416       -36.577921   \n",
       "std      0.762819       2.655434            2.532854         9.741679   \n",
       "min      0.000000       1.000000            1.000000       -38.110916   \n",
       "25%      0.000000       3.000000            3.000000       -37.823157   \n",
       "50%      1.000000       5.000000            5.000000       -37.815263   \n",
       "75%      1.000000       7.750000            7.000000       -37.805997   \n",
       "max      3.000000       9.000000            9.000000        38.110916   \n",
       "\n",
       "       Origin Longitude  Destination Latitude  Destination Longitude  \\\n",
       "count        298.000000            298.000000             298.000000   \n",
       "mean         144.932994            -36.578255             144.934346   \n",
       "std            0.109186              9.733807               0.103099   \n",
       "min          144.654173            -38.110916             144.654173   \n",
       "25%          144.929853            -37.824686             144.927170   \n",
       "50%          144.957335            -37.815315             144.959989   \n",
       "75%          144.985865            -37.806350             144.990572   \n",
       "max          145.046450             37.815834             145.046450   \n",
       "\n",
       "       Journey Distance(m)  Travel Time(s)        Fare$  \n",
       "count           298.000000      298.000000   298.000000  \n",
       "mean          16004.578188     4166.095772    79.790973  \n",
       "std           16550.771171     3979.509035   191.564337  \n",
       "min             934.000000      330.600000     3.820000  \n",
       "25%            5490.000000     1414.275000    13.805000  \n",
       "50%            8742.500000     2583.210000    18.805000  \n",
       "75%           13169.000000     4022.370000    44.062500  \n",
       "max           51061.000000    13204.980000  1098.650000  "
      ]
     },
     "execution_count": 1044,
     "metadata": {},
     "output_type": "execute_result"
    }
   ],
   "source": [
    "data.describe()"
   ]
  },
  {
   "cell_type": "code",
   "execution_count": 1045,
   "metadata": {},
   "outputs": [],
   "source": [
    "#renaming data columns\n",
    "data.columns=['trip_id', 'type', 'ori_region', 'dest_region','ori_lat', 'ori_lng',\n",
    "              'dest_lat', 'dest_long', 'j_distance', 'dept_date',\n",
    "       'dept_time', 'travel_time', 'arrival_time', 'fare']\n"
   ]
  },
  {
   "cell_type": "code",
   "execution_count": 1046,
   "metadata": {},
   "outputs": [
    {
     "data": {
      "text/html": [
       "<div>\n",
       "<style scoped>\n",
       "    .dataframe tbody tr th:only-of-type {\n",
       "        vertical-align: middle;\n",
       "    }\n",
       "\n",
       "    .dataframe tbody tr th {\n",
       "        vertical-align: top;\n",
       "    }\n",
       "\n",
       "    .dataframe thead th {\n",
       "        text-align: right;\n",
       "    }\n",
       "</style>\n",
       "<table border=\"1\" class=\"dataframe\">\n",
       "  <thead>\n",
       "    <tr style=\"text-align: right;\">\n",
       "      <th></th>\n",
       "      <th>trip_id</th>\n",
       "      <th>dept_date</th>\n",
       "      <th>dept_time</th>\n",
       "      <th>arrival_time</th>\n",
       "    </tr>\n",
       "  </thead>\n",
       "  <tbody>\n",
       "    <tr>\n",
       "      <th>count</th>\n",
       "      <td>298</td>\n",
       "      <td>298</td>\n",
       "      <td>298</td>\n",
       "      <td>298</td>\n",
       "    </tr>\n",
       "    <tr>\n",
       "      <th>unique</th>\n",
       "      <td>298</td>\n",
       "      <td>154</td>\n",
       "      <td>297</td>\n",
       "      <td>298</td>\n",
       "    </tr>\n",
       "    <tr>\n",
       "      <th>top</th>\n",
       "      <td>ID1751595959</td>\n",
       "      <td>2018-07-28</td>\n",
       "      <td>06:48:36</td>\n",
       "      <td>12:44:39</td>\n",
       "    </tr>\n",
       "    <tr>\n",
       "      <th>freq</th>\n",
       "      <td>1</td>\n",
       "      <td>6</td>\n",
       "      <td>2</td>\n",
       "      <td>1</td>\n",
       "    </tr>\n",
       "  </tbody>\n",
       "</table>\n",
       "</div>"
      ],
      "text/plain": [
       "             trip_id   dept_date dept_time arrival_time\n",
       "count            298         298       298          298\n",
       "unique           298         154       297          298\n",
       "top     ID1751595959  2018-07-28  06:48:36     12:44:39\n",
       "freq               1           6         2            1"
      ]
     },
     "execution_count": 1046,
     "metadata": {},
     "output_type": "execute_result"
    }
   ],
   "source": [
    "data.describe(include=['O'])\n",
    "#trip ID is unique"
   ]
  },
  {
   "cell_type": "markdown",
   "metadata": {},
   "source": [
    "The trip ID column is found to be the unique identifier"
   ]
  },
  {
   "cell_type": "markdown",
   "metadata": {},
   "source": [
    "## 4. Data Cleaning "
   ]
  },
  {
   "cell_type": "code",
   "execution_count": 1047,
   "metadata": {},
   "outputs": [],
   "source": [
    "#copy of main dataframe\n",
    "data_cp=data.copy()\n",
    "#data = data_cp"
   ]
  },
  {
   "cell_type": "markdown",
   "metadata": {},
   "source": [
    "Uber type column seems to be fine, with no repeats, hence no cleaning required for this column"
   ]
  },
  {
   "cell_type": "code",
   "execution_count": 1048,
   "metadata": {},
   "outputs": [
    {
     "data": {
      "text/plain": [
       "array([1, 0, 2, 3], dtype=int64)"
      ]
     },
     "execution_count": 1048,
     "metadata": {},
     "output_type": "execute_result"
    }
   ],
   "source": [
    "data.type.unique()"
   ]
  },
  {
   "cell_type": "code",
   "execution_count": 1049,
   "metadata": {},
   "outputs": [
    {
     "data": {
      "text/html": [
       "<div>\n",
       "<style scoped>\n",
       "    .dataframe tbody tr th:only-of-type {\n",
       "        vertical-align: middle;\n",
       "    }\n",
       "\n",
       "    .dataframe tbody tr th {\n",
       "        vertical-align: top;\n",
       "    }\n",
       "\n",
       "    .dataframe thead th {\n",
       "        text-align: right;\n",
       "    }\n",
       "</style>\n",
       "<table border=\"1\" class=\"dataframe\">\n",
       "  <thead>\n",
       "    <tr style=\"text-align: right;\">\n",
       "      <th></th>\n",
       "      <th>Unnamed: 0</th>\n",
       "      <th>Uber Type</th>\n",
       "      <th>Origin Region</th>\n",
       "      <th>Destination Region</th>\n",
       "      <th>Origin Latitude</th>\n",
       "      <th>Origin Longitude</th>\n",
       "      <th>Destination Latitude</th>\n",
       "      <th>Destination Longitude</th>\n",
       "      <th>Journey Distance(m)</th>\n",
       "      <th>Departure Date</th>\n",
       "      <th>Departure Time</th>\n",
       "      <th>Travel Time(s)</th>\n",
       "      <th>Arrival Time</th>\n",
       "      <th>Fare$</th>\n",
       "    </tr>\n",
       "  </thead>\n",
       "  <tbody>\n",
       "    <tr>\n",
       "      <th>127</th>\n",
       "      <td>ID1694360495</td>\n",
       "      <td>3</td>\n",
       "      <td>7</td>\n",
       "      <td>4</td>\n",
       "      <td>-37.861835</td>\n",
       "      <td>144.905716</td>\n",
       "      <td>-37.813234</td>\n",
       "      <td>145.000175</td>\n",
       "      <td>11021.0</td>\n",
       "      <td>2018-04-04</td>\n",
       "      <td>01:43:40</td>\n",
       "      <td>3498.12</td>\n",
       "      <td>2:41:58</td>\n",
       "      <td>17.13</td>\n",
       "    </tr>\n",
       "    <tr>\n",
       "      <th>128</th>\n",
       "      <td>ID3652916570</td>\n",
       "      <td>3</td>\n",
       "      <td>2</td>\n",
       "      <td>5</td>\n",
       "      <td>-37.821383</td>\n",
       "      <td>144.946364</td>\n",
       "      <td>-37.811726</td>\n",
       "      <td>144.929737</td>\n",
       "      <td>3179.0</td>\n",
       "      <td>2018-05-06</td>\n",
       "      <td>12:37:05</td>\n",
       "      <td>739.02</td>\n",
       "      <td>12:49:24</td>\n",
       "      <td>15.16</td>\n",
       "    </tr>\n",
       "    <tr>\n",
       "      <th>137</th>\n",
       "      <td>ID3184273708</td>\n",
       "      <td>3</td>\n",
       "      <td>9</td>\n",
       "      <td>8</td>\n",
       "      <td>-38.110916</td>\n",
       "      <td>144.654173</td>\n",
       "      <td>-37.815834</td>\n",
       "      <td>145.046450</td>\n",
       "      <td>51032.0</td>\n",
       "      <td>2018-02-15</td>\n",
       "      <td>08:41:18</td>\n",
       "      <td>12681.06</td>\n",
       "      <td>12:12:39</td>\n",
       "      <td>48.10</td>\n",
       "    </tr>\n",
       "    <tr>\n",
       "      <th>142</th>\n",
       "      <td>ID1769280272</td>\n",
       "      <td>3</td>\n",
       "      <td>1</td>\n",
       "      <td>8</td>\n",
       "      <td>-37.825114</td>\n",
       "      <td>144.956168</td>\n",
       "      <td>-37.815834</td>\n",
       "      <td>145.046450</td>\n",
       "      <td>9748.0</td>\n",
       "      <td>2018-03-03</td>\n",
       "      <td>01:50:33</td>\n",
       "      <td>2821.86</td>\n",
       "      <td>2:37:34</td>\n",
       "      <td>21.29</td>\n",
       "    </tr>\n",
       "  </tbody>\n",
       "</table>\n",
       "</div>"
      ],
      "text/plain": [
       "       Unnamed: 0  Uber Type  Origin Region  Destination Region  \\\n",
       "127  ID1694360495          3              7                   4   \n",
       "128  ID3652916570          3              2                   5   \n",
       "137  ID3184273708          3              9                   8   \n",
       "142  ID1769280272          3              1                   8   \n",
       "\n",
       "     Origin Latitude  Origin Longitude  Destination Latitude  \\\n",
       "127       -37.861835        144.905716            -37.813234   \n",
       "128       -37.821383        144.946364            -37.811726   \n",
       "137       -38.110916        144.654173            -37.815834   \n",
       "142       -37.825114        144.956168            -37.815834   \n",
       "\n",
       "     Destination Longitude  Journey Distance(m) Departure Date Departure Time  \\\n",
       "127             145.000175              11021.0     2018-04-04       01:43:40   \n",
       "128             144.929737               3179.0     2018-05-06       12:37:05   \n",
       "137             145.046450              51032.0     2018-02-15       08:41:18   \n",
       "142             145.046450               9748.0     2018-03-03       01:50:33   \n",
       "\n",
       "     Travel Time(s) Arrival Time  Fare$  \n",
       "127         3498.12      2:41:58  17.13  \n",
       "128          739.02     12:49:24  15.16  \n",
       "137        12681.06     12:12:39  48.10  \n",
       "142         2821.86      2:37:34  21.29  "
      ]
     },
     "execution_count": 1049,
     "metadata": {},
     "output_type": "execute_result"
    }
   ],
   "source": [
    "qc_data= pd.read_csv(\"29915651_dirty_data.csv\")\n",
    "qc_data[qc_data['Uber Type'] == 3]"
   ]
  },
  {
   "cell_type": "markdown",
   "metadata": {},
   "source": [
    "### 4.1 Fixing the error in Uber Type"
   ]
  },
  {
   "cell_type": "markdown",
   "metadata": {},
   "source": [
    "There seems to be an error in this column, as description mentions that there is only there types of Uber journeys, namely Uber\n",
    "pool, Uberx, and Uber black.\n",
    "On verifying the data, it can be seen that the column type and the trip id are related based on the first digit in the trip id column\n",
    "All id's starting with 1 are associated to uber type 0\n",
    "All id's starting with 3 are associated to uber type 1\n",
    "All id's starting with 5 are associated to uber type 2\n",
    "Based on this we can reassign the uber type wrongly assigned as 3\n"
   ]
  },
  {
   "cell_type": "code",
   "execution_count": 1050,
   "metadata": {
    "scrolled": true
   },
   "outputs": [
    {
     "name": "stderr",
     "output_type": "stream",
     "text": [
      "C:\\Users\\Stephy\\Anaconda3\\lib\\site-packages\\pandas\\core\\indexing.py:630: SettingWithCopyWarning: \n",
      "A value is trying to be set on a copy of a slice from a DataFrame\n",
      "\n",
      "See the caveats in the documentation: http://pandas.pydata.org/pandas-docs/stable/indexing.html#indexing-view-versus-copy\n",
      "  self.obj[item_labels[indexer[info_axis]]] = value\n"
     ]
    }
   ],
   "source": [
    "# 3.1 Correcting error in uber type\n",
    "\n",
    "row_cnt = len(data) \n",
    "\n",
    "for i in range(row_cnt):\n",
    "    pattern=data.trip_id.iloc[i,][0:3]\n",
    "    if pattern =='ID1':\n",
    "        data.type.iloc[i,]=\"0\"\n",
    "    elif pattern =='ID3':\n",
    "        data.type.iloc[i,]=\"1\"\n",
    "    elif pattern =='ID5':\n",
    "        data.type.iloc[i,]=\"2\"\n",
    "    else:\n",
    "        data.type.iloc[i,]=\"error\"\n",
    "   "
   ]
  },
  {
   "cell_type": "code",
   "execution_count": 1051,
   "metadata": {},
   "outputs": [
    {
     "data": {
      "text/plain": [
       "array([1, 0, 2], dtype=int64)"
      ]
     },
     "execution_count": 1051,
     "metadata": {},
     "output_type": "execute_result"
    }
   ],
   "source": [
    "data.type.unique()\n"
   ]
  },
  {
   "cell_type": "code",
   "execution_count": 1052,
   "metadata": {},
   "outputs": [
    {
     "data": {
      "text/html": [
       "<div>\n",
       "<style scoped>\n",
       "    .dataframe tbody tr th:only-of-type {\n",
       "        vertical-align: middle;\n",
       "    }\n",
       "\n",
       "    .dataframe tbody tr th {\n",
       "        vertical-align: top;\n",
       "    }\n",
       "\n",
       "    .dataframe thead th {\n",
       "        text-align: right;\n",
       "    }\n",
       "</style>\n",
       "<table border=\"1\" class=\"dataframe\">\n",
       "  <thead>\n",
       "    <tr style=\"text-align: right;\">\n",
       "      <th></th>\n",
       "      <th>trip_id</th>\n",
       "      <th>type</th>\n",
       "      <th>ori_region</th>\n",
       "      <th>dest_region</th>\n",
       "      <th>ori_lat</th>\n",
       "      <th>ori_lng</th>\n",
       "      <th>dest_lat</th>\n",
       "      <th>dest_long</th>\n",
       "      <th>j_distance</th>\n",
       "      <th>dept_date</th>\n",
       "      <th>dept_time</th>\n",
       "      <th>travel_time</th>\n",
       "      <th>arrival_time</th>\n",
       "      <th>fare</th>\n",
       "    </tr>\n",
       "  </thead>\n",
       "  <tbody>\n",
       "  </tbody>\n",
       "</table>\n",
       "</div>"
      ],
      "text/plain": [
       "Empty DataFrame\n",
       "Columns: [trip_id, type, ori_region, dest_region, ori_lat, ori_lng, dest_lat, dest_long, j_distance, dept_date, dept_time, travel_time, arrival_time, fare]\n",
       "Index: []"
      ]
     },
     "execution_count": 1052,
     "metadata": {},
     "output_type": "execute_result"
    }
   ],
   "source": [
    "data[data['type'] == 3]"
   ]
  },
  {
   "cell_type": "code",
   "execution_count": 1053,
   "metadata": {},
   "outputs": [
    {
     "name": "stdout",
     "output_type": "stream",
     "text": [
      "type\n",
      "0    126\n",
      "1    124\n",
      "2     48\n",
      "Name: trip_id, dtype: int64\n"
     ]
    }
   ],
   "source": [
    "print(data.groupby(data.type).trip_id.nunique())\n"
   ]
  },
  {
   "cell_type": "code",
   "execution_count": 1054,
   "metadata": {},
   "outputs": [
    {
     "name": "stdout",
     "output_type": "stream",
     "text": [
      "type\n",
      "0    122\n",
      "1    123\n",
      "2     49\n",
      "3      4\n",
      "Name: trip_id, dtype: int64\n"
     ]
    }
   ],
   "source": [
    "print(data_cp.groupby(data_cp.type).trip_id.nunique())\n"
   ]
  },
  {
   "cell_type": "markdown",
   "metadata": {},
   "source": [
    "There are also three cases ID3411516233, ID1294958888, and ID1820866951 which are wrongly tagged \n",
    "From the above data cleaning step, that also has been rectified \n",
    "The error is shown below along with the rectified data"
   ]
  },
  {
   "cell_type": "code",
   "execution_count": 1055,
   "metadata": {},
   "outputs": [
    {
     "data": {
      "text/html": [
       "<div>\n",
       "<style scoped>\n",
       "    .dataframe tbody tr th:only-of-type {\n",
       "        vertical-align: middle;\n",
       "    }\n",
       "\n",
       "    .dataframe tbody tr th {\n",
       "        vertical-align: top;\n",
       "    }\n",
       "\n",
       "    .dataframe thead th {\n",
       "        text-align: right;\n",
       "    }\n",
       "</style>\n",
       "<table border=\"1\" class=\"dataframe\">\n",
       "  <thead>\n",
       "    <tr style=\"text-align: right;\">\n",
       "      <th></th>\n",
       "      <th>trip_id</th>\n",
       "      <th>type</th>\n",
       "      <th>ori_region</th>\n",
       "      <th>dest_region</th>\n",
       "      <th>ori_lat</th>\n",
       "      <th>ori_lng</th>\n",
       "      <th>dest_lat</th>\n",
       "      <th>dest_long</th>\n",
       "      <th>j_distance</th>\n",
       "      <th>dept_date</th>\n",
       "      <th>dept_time</th>\n",
       "      <th>travel_time</th>\n",
       "      <th>arrival_time</th>\n",
       "      <th>fare</th>\n",
       "    </tr>\n",
       "  </thead>\n",
       "  <tbody>\n",
       "    <tr>\n",
       "      <th>143</th>\n",
       "      <td>ID1294958888</td>\n",
       "      <td>1</td>\n",
       "      <td>9</td>\n",
       "      <td>3</td>\n",
       "      <td>-38.110916</td>\n",
       "      <td>144.654173</td>\n",
       "      <td>-37.81931</td>\n",
       "      <td>145.001698</td>\n",
       "      <td>46984.0</td>\n",
       "      <td>2018-05-28</td>\n",
       "      <td>06:48:36</td>\n",
       "      <td>11431.56</td>\n",
       "      <td>9:59:07</td>\n",
       "      <td>22.65</td>\n",
       "    </tr>\n",
       "  </tbody>\n",
       "</table>\n",
       "</div>"
      ],
      "text/plain": [
       "          trip_id  type  ori_region  dest_region    ori_lat     ori_lng  \\\n",
       "143  ID1294958888     1           9            3 -38.110916  144.654173   \n",
       "\n",
       "     dest_lat   dest_long  j_distance   dept_date dept_time  travel_time  \\\n",
       "143 -37.81931  145.001698     46984.0  2018-05-28  06:48:36     11431.56   \n",
       "\n",
       "    arrival_time   fare  \n",
       "143      9:59:07  22.65  "
      ]
     },
     "execution_count": 1055,
     "metadata": {},
     "output_type": "execute_result"
    }
   ],
   "source": [
    "data_cp[data_cp['trip_id']=='ID1294958888']"
   ]
  },
  {
   "cell_type": "code",
   "execution_count": 1056,
   "metadata": {},
   "outputs": [
    {
     "data": {
      "text/html": [
       "<div>\n",
       "<style scoped>\n",
       "    .dataframe tbody tr th:only-of-type {\n",
       "        vertical-align: middle;\n",
       "    }\n",
       "\n",
       "    .dataframe tbody tr th {\n",
       "        vertical-align: top;\n",
       "    }\n",
       "\n",
       "    .dataframe thead th {\n",
       "        text-align: right;\n",
       "    }\n",
       "</style>\n",
       "<table border=\"1\" class=\"dataframe\">\n",
       "  <thead>\n",
       "    <tr style=\"text-align: right;\">\n",
       "      <th></th>\n",
       "      <th>trip_id</th>\n",
       "      <th>type</th>\n",
       "      <th>ori_region</th>\n",
       "      <th>dest_region</th>\n",
       "      <th>ori_lat</th>\n",
       "      <th>ori_lng</th>\n",
       "      <th>dest_lat</th>\n",
       "      <th>dest_long</th>\n",
       "      <th>j_distance</th>\n",
       "      <th>dept_date</th>\n",
       "      <th>dept_time</th>\n",
       "      <th>travel_time</th>\n",
       "      <th>arrival_time</th>\n",
       "      <th>fare</th>\n",
       "    </tr>\n",
       "  </thead>\n",
       "  <tbody>\n",
       "    <tr>\n",
       "      <th>143</th>\n",
       "      <td>ID1294958888</td>\n",
       "      <td>0</td>\n",
       "      <td>9</td>\n",
       "      <td>3</td>\n",
       "      <td>-38.110916</td>\n",
       "      <td>144.654173</td>\n",
       "      <td>-37.81931</td>\n",
       "      <td>145.001698</td>\n",
       "      <td>46984.0</td>\n",
       "      <td>2018-05-28</td>\n",
       "      <td>06:48:36</td>\n",
       "      <td>11431.56</td>\n",
       "      <td>9:59:07</td>\n",
       "      <td>22.65</td>\n",
       "    </tr>\n",
       "  </tbody>\n",
       "</table>\n",
       "</div>"
      ],
      "text/plain": [
       "          trip_id  type  ori_region  dest_region    ori_lat     ori_lng  \\\n",
       "143  ID1294958888     0           9            3 -38.110916  144.654173   \n",
       "\n",
       "     dest_lat   dest_long  j_distance   dept_date dept_time  travel_time  \\\n",
       "143 -37.81931  145.001698     46984.0  2018-05-28  06:48:36     11431.56   \n",
       "\n",
       "    arrival_time   fare  \n",
       "143      9:59:07  22.65  "
      ]
     },
     "execution_count": 1056,
     "metadata": {},
     "output_type": "execute_result"
    }
   ],
   "source": [
    "data[data['trip_id']=='ID1294958888']"
   ]
  },
  {
   "cell_type": "code",
   "execution_count": 1057,
   "metadata": {},
   "outputs": [],
   "source": [
    "data1 = data.copy()"
   ]
  },
  {
   "cell_type": "markdown",
   "metadata": {},
   "source": [
    "### 4.2 Correcting error in departure date"
   ]
  },
  {
   "cell_type": "markdown",
   "metadata": {},
   "source": [
    "From the EDA it is understood that few rows in the departure date are errorneous.\n",
    "The errors are of three types\n",
    "1. swap in year-month-day format\n",
    "2. faulty dates in feb, ending with 30 etc\n",
    "3. faulty dates ending with 31 in months having 30 days"
   ]
  },
  {
   "cell_type": "code",
   "execution_count": 1058,
   "metadata": {},
   "outputs": [],
   "source": [
    "\n",
    "\n",
    "#correcting swapped dates\n",
    "\n",
    "def clean_date(date):\n",
    "    incorrect = [r'(\\d{4})-(1[0-9]|2[0-9]|3[0-1])-(0?[1-9]|1[0,2])$', #year-day-month\n",
    "               r'(\\d{4})-(0?[4,6,9]|11)-(31)$', #faulty 31 ending month dates \n",
    "               r'(\\d{4})-(02)-(3[0,1])$', #faulty feb dates\n",
    "               r'(\\d{4})-(0?[1-9]|1[0-2])-(0?[1-9]|1[0-9]|2[0-9]|3[0-1])$']  #year-month-day\n",
    "        \n",
    "    #incorrect = [re.compile(p) for p in incorrect]\n",
    "    \n",
    "    for index, err in enumerate(re.compile(p) for p in incorrect):\n",
    "        part = err.match(date)\n",
    "        if part and index == 0: \n",
    "             return f'{part[1]}-{part[3]}-{part[2]}' #change to day/month/year\n",
    "            \n",
    "        if part and index == 1: \n",
    "             return f'{part[1]}-{part[2]}-30' #correct to ending 30 \n",
    "            \n",
    "        if part and index == 2: \n",
    "             return f'{part[1]}-{part[2]}-28' #change to ending 28 for feb\n",
    "              \n",
    "        if part and index == 3:  \n",
    "             return f'{part[1]}-{part[2]}-{part[3]}' #keep it same\n",
    "        "
   ]
  },
  {
   "cell_type": "code",
   "execution_count": 1059,
   "metadata": {
    "collapsed": true
   },
   "outputs": [
    {
     "name": "stderr",
     "output_type": "stream",
     "text": [
      "C:\\Users\\Stephy\\Anaconda3\\lib\\site-packages\\pandas\\core\\indexing.py:630: SettingWithCopyWarning: \n",
      "A value is trying to be set on a copy of a slice from a DataFrame\n",
      "\n",
      "See the caveats in the documentation: http://pandas.pydata.org/pandas-docs/stable/indexing.html#indexing-view-versus-copy\n",
      "  self.obj[item_labels[indexer[info_axis]]] = value\n",
      "C:\\Users\\Stephy\\Anaconda3\\lib\\site-packages\\pandas\\core\\indexing.py:189: SettingWithCopyWarning: \n",
      "A value is trying to be set on a copy of a slice from a DataFrame\n",
      "\n",
      "See the caveats in the documentation: http://pandas.pydata.org/pandas-docs/stable/indexing.html#indexing-view-versus-copy\n",
      "  self._setitem_with_indexer(indexer, value)\n"
     ]
    }
   ],
   "source": [
    "\n",
    "data['new_dept_date'] = 0\n",
    "\n",
    "for i in range(row_cnt):\n",
    "    err_date=data.dept_date.iloc[i,]\n",
    "    #print(err_date)\n",
    "    data.new_dept_date.iloc[i,] = clean_date(err_date)\n",
    "    #print(data.new_dept_date)\n",
    "     "
   ]
  },
  {
   "cell_type": "code",
   "execution_count": 1060,
   "metadata": {},
   "outputs": [
    {
     "data": {
      "text/html": [
       "<div>\n",
       "<style scoped>\n",
       "    .dataframe tbody tr th:only-of-type {\n",
       "        vertical-align: middle;\n",
       "    }\n",
       "\n",
       "    .dataframe tbody tr th {\n",
       "        vertical-align: top;\n",
       "    }\n",
       "\n",
       "    .dataframe thead th {\n",
       "        text-align: right;\n",
       "    }\n",
       "</style>\n",
       "<table border=\"1\" class=\"dataframe\">\n",
       "  <thead>\n",
       "    <tr style=\"text-align: right;\">\n",
       "      <th></th>\n",
       "      <th>trip_id</th>\n",
       "      <th>type</th>\n",
       "      <th>ori_region</th>\n",
       "      <th>dest_region</th>\n",
       "      <th>ori_lat</th>\n",
       "      <th>ori_lng</th>\n",
       "      <th>dest_lat</th>\n",
       "      <th>dest_long</th>\n",
       "      <th>j_distance</th>\n",
       "      <th>dept_date</th>\n",
       "      <th>dept_time</th>\n",
       "      <th>travel_time</th>\n",
       "      <th>arrival_time</th>\n",
       "      <th>fare</th>\n",
       "      <th>new_dept_date</th>\n",
       "    </tr>\n",
       "  </thead>\n",
       "  <tbody>\n",
       "    <tr>\n",
       "      <th>186</th>\n",
       "      <td>ID5210061440</td>\n",
       "      <td>2</td>\n",
       "      <td>8</td>\n",
       "      <td>2</td>\n",
       "      <td>-37.807202</td>\n",
       "      <td>145.026637</td>\n",
       "      <td>-37.814984</td>\n",
       "      <td>144.936438</td>\n",
       "      <td>9980.0</td>\n",
       "      <td>2018-14-05</td>\n",
       "      <td>19:20:01</td>\n",
       "      <td>2554.14</td>\n",
       "      <td>20:02:35</td>\n",
       "      <td>228.66</td>\n",
       "      <td>2018-05-14</td>\n",
       "    </tr>\n",
       "  </tbody>\n",
       "</table>\n",
       "</div>"
      ],
      "text/plain": [
       "          trip_id  type  ori_region  dest_region    ori_lat     ori_lng  \\\n",
       "186  ID5210061440     2           8            2 -37.807202  145.026637   \n",
       "\n",
       "      dest_lat   dest_long  j_distance   dept_date dept_time  travel_time  \\\n",
       "186 -37.814984  144.936438      9980.0  2018-14-05  19:20:01      2554.14   \n",
       "\n",
       "    arrival_time    fare new_dept_date  \n",
       "186     20:02:35  228.66    2018-05-14  "
      ]
     },
     "execution_count": 1060,
     "metadata": {},
     "output_type": "execute_result"
    }
   ],
   "source": [
    "data[data['trip_id'] == 'ID5210061440']"
   ]
  },
  {
   "cell_type": "code",
   "execution_count": 1061,
   "metadata": {},
   "outputs": [],
   "source": [
    "data2 = data.copy()"
   ]
  },
  {
   "cell_type": "code",
   "execution_count": 1062,
   "metadata": {},
   "outputs": [],
   "source": [
    "data.dept_date = data.new_dept_date"
   ]
  },
  {
   "cell_type": "code",
   "execution_count": 1063,
   "metadata": {},
   "outputs": [],
   "source": [
    "data = data.drop(columns=['new_dept_date'])"
   ]
  },
  {
   "cell_type": "code",
   "execution_count": 1064,
   "metadata": {},
   "outputs": [
    {
     "data": {
      "text/html": [
       "<div>\n",
       "<style scoped>\n",
       "    .dataframe tbody tr th:only-of-type {\n",
       "        vertical-align: middle;\n",
       "    }\n",
       "\n",
       "    .dataframe tbody tr th {\n",
       "        vertical-align: top;\n",
       "    }\n",
       "\n",
       "    .dataframe thead th {\n",
       "        text-align: right;\n",
       "    }\n",
       "</style>\n",
       "<table border=\"1\" class=\"dataframe\">\n",
       "  <thead>\n",
       "    <tr style=\"text-align: right;\">\n",
       "      <th></th>\n",
       "      <th>trip_id</th>\n",
       "      <th>type</th>\n",
       "      <th>ori_region</th>\n",
       "      <th>dest_region</th>\n",
       "      <th>ori_lat</th>\n",
       "      <th>ori_lng</th>\n",
       "      <th>dest_lat</th>\n",
       "      <th>dest_long</th>\n",
       "      <th>j_distance</th>\n",
       "      <th>dept_date</th>\n",
       "      <th>dept_time</th>\n",
       "      <th>travel_time</th>\n",
       "      <th>arrival_time</th>\n",
       "      <th>fare</th>\n",
       "    </tr>\n",
       "  </thead>\n",
       "  <tbody>\n",
       "    <tr>\n",
       "      <th>175</th>\n",
       "      <td>ID3888859966</td>\n",
       "      <td>1</td>\n",
       "      <td>9</td>\n",
       "      <td>6</td>\n",
       "      <td>-38.110916</td>\n",
       "      <td>144.654173</td>\n",
       "      <td>-37.773803</td>\n",
       "      <td>144.983647</td>\n",
       "      <td>51061.0</td>\n",
       "      <td>2018-04-28</td>\n",
       "      <td>18:18:01</td>\n",
       "      <td>12952.44</td>\n",
       "      <td>21:53:53</td>\n",
       "      <td>57.41</td>\n",
       "    </tr>\n",
       "  </tbody>\n",
       "</table>\n",
       "</div>"
      ],
      "text/plain": [
       "          trip_id  type  ori_region  dest_region    ori_lat     ori_lng  \\\n",
       "175  ID3888859966     1           9            6 -38.110916  144.654173   \n",
       "\n",
       "      dest_lat   dest_long  j_distance   dept_date dept_time  travel_time  \\\n",
       "175 -37.773803  144.983647     51061.0  2018-04-28  18:18:01     12952.44   \n",
       "\n",
       "    arrival_time   fare  \n",
       "175     21:53:53  57.41  "
      ]
     },
     "execution_count": 1064,
     "metadata": {},
     "output_type": "execute_result"
    }
   ],
   "source": [
    "#check\n",
    "data[data['trip_id'] == 'ID3888859966']"
   ]
  },
  {
   "cell_type": "markdown",
   "metadata": {},
   "source": [
    "### 4.3 Fixing latitude and longitude"
   ]
  },
  {
   "cell_type": "markdown",
   "metadata": {},
   "source": [
    "The latitude and longitude were plotted in Tableau and few errorneous data points were identified\n",
    "The co-ordinates for Origin and Destination point are shown below. We know that data given is for Victoria but we can see that some points are in sea near Japan, indicating error in lattitue values of these points. \n"
   ]
  },
  {
   "cell_type": "markdown",
   "metadata": {},
   "source": [
    "![alt text](Ori_cord_problem.png \"Title\")\n"
   ]
  },
  {
   "cell_type": "markdown",
   "metadata": {},
   "source": [
    "Similarly we can see problem with the destination co-ordinates as well"
   ]
  },
  {
   "cell_type": "markdown",
   "metadata": {},
   "source": [
    "![alt text](Dest_cord_problem.png \"Title\")"
   ]
  },
  {
   "cell_type": "markdown",
   "metadata": {},
   "source": [
    "The following code snippet helps to clean these errorneous data points"
   ]
  },
  {
   "cell_type": "code",
   "execution_count": 1065,
   "metadata": {},
   "outputs": [
    {
     "name": "stderr",
     "output_type": "stream",
     "text": [
      "C:\\Users\\Stephy\\Anaconda3\\lib\\site-packages\\pandas\\core\\indexing.py:630: SettingWithCopyWarning: \n",
      "A value is trying to be set on a copy of a slice from a DataFrame\n",
      "\n",
      "See the caveats in the documentation: http://pandas.pydata.org/pandas-docs/stable/indexing.html#indexing-view-versus-copy\n",
      "  self.obj[item_labels[indexer[info_axis]]] = value\n"
     ]
    }
   ],
   "source": [
    "for i in range(row_cnt):\n",
    "    \n",
    "    # Origin lat, long is fixed \n",
    "    if data.ori_lat.iloc[i,] > 0:\n",
    "        data.ori_lat.iloc[i,] = -1*(data.ori_lat.iloc[i,])\n",
    "\n",
    "    #if data.ori_lng.iloc[i,] < 0:\n",
    "     #   data.ori_lng.iloc[i,] = -1*(data.ori_lng.iloc[i,])\n",
    "\n",
    "    # Destination lat, long is fixed\n",
    "\n",
    "    if data.dest_lat.iloc[i,] > 0:\n",
    "        data.dest_lat.iloc[i,] = -1*(data.dest_lat.iloc[i,])\n",
    "\n",
    "    #if data.dest_long.iloc[i,] < 0:\n",
    "     #   data.dest_long.iloc[i,] = -1*(data.dest_long.iloc[i,])\n",
    "\n",
    "    "
   ]
  },
  {
   "cell_type": "code",
   "execution_count": 1066,
   "metadata": {},
   "outputs": [],
   "source": [
    "data3 = data.copy()\n",
    "data.to_csv('test_3.csv', encoding='utf-8', index=False)"
   ]
  },
  {
   "cell_type": "markdown",
   "metadata": {},
   "source": [
    "The corrected data points can be seen in the images below\n",
    "\n",
    "#### Origin co-ordinates\n",
    "\n",
    "![alt text](Ori_cord_corrected.png \"Title\")"
   ]
  },
  {
   "cell_type": "markdown",
   "metadata": {},
   "source": [
    "#### Destination Co-ordinates\n",
    "\n",
    "![alt text](Dest_cord_corrected.png \"Title\")\n"
   ]
  },
  {
   "cell_type": "markdown",
   "metadata": {},
   "source": [
    "### 4.4 Fixing error in region \n",
    "\n",
    "On plotting the latitude longitude value corresponding to region for origin and destination, few outliers are observed. These indicate the presence of wrongly marked regions"
   ]
  },
  {
   "cell_type": "code",
   "execution_count": 1069,
   "metadata": {},
   "outputs": [],
   "source": [
    "#EDA Plots"
   ]
  },
  {
   "cell_type": "code",
   "execution_count": 1070,
   "metadata": {},
   "outputs": [
    {
     "data": {
      "text/plain": [
       "<matplotlib.axes._subplots.AxesSubplot at 0x2639e8f1978>"
      ]
     },
     "execution_count": 1070,
     "metadata": {},
     "output_type": "execute_result"
    },
    {
     "data": {
      "image/png": "[encoded data removed]",
      "text/plain": [
       "<Figure size 720x504 with 1 Axes>"
      ]
     },
     "metadata": {},
     "output_type": "display_data"
    }
   ],
   "source": [
    "import matplotlib.pyplot as plt\n",
    "%matplotlib inline\n",
    "import seaborn as sns\n",
    "\n",
    "plt.rcParams['figure.figsize']=10,7\n",
    "ori_filt=data[['ori_lat','ori_lng','ori_region']]\n",
    "sns.boxplot(data=ori_filt,x='ori_region',y='ori_lng')"
   ]
  },
  {
   "cell_type": "markdown",
   "metadata": {},
   "source": [
    "From the above plot, outliers can be seen in region 1, which probably should have belonged to region 9"
   ]
  },
  {
   "cell_type": "code",
   "execution_count": 1071,
   "metadata": {},
   "outputs": [
    {
     "data": {
      "text/plain": [
       "<matplotlib.axes._subplots.AxesSubplot at 0x2639e5d9eb8>"
      ]
     },
     "execution_count": 1071,
     "metadata": {},
     "output_type": "execute_result"
    },
    {
     "data": {
      "image/png": "[encoded data removed]",
      "text/plain": [
       "<Figure size 720x504 with 1 Axes>"
      ]
     },
     "metadata": {},
     "output_type": "display_data"
    }
   ],
   "source": [
    "sns.boxplot(data=ori_filt,x='ori_region',y='ori_lat')"
   ]
  },
  {
   "cell_type": "code",
   "execution_count": 1072,
   "metadata": {},
   "outputs": [
    {
     "data": {
      "text/plain": [
       "<matplotlib.axes._subplots.AxesSubplot at 0x2639eae04e0>"
      ]
     },
     "execution_count": 1072,
     "metadata": {},
     "output_type": "execute_result"
    },
    {
     "data": {
      "image/png": "[encoded data removed]",
      "text/plain": [
       "<Figure size 720x504 with 1 Axes>"
      ]
     },
     "metadata": {},
     "output_type": "display_data"
    }
   ],
   "source": [
    "plt.rcParams['figure.figsize']=10,7\n",
    "dest_filt=data[['dest_lat','dest_long','dest_region']]\n",
    "sns.boxplot(data=dest_filt,x='dest_region',y='dest_long')\n"
   ]
  },
  {
   "cell_type": "code",
   "execution_count": 1073,
   "metadata": {},
   "outputs": [
    {
     "data": {
      "text/plain": [
       "<matplotlib.axes._subplots.AxesSubplot at 0x2639e890e48>"
      ]
     },
     "execution_count": 1073,
     "metadata": {},
     "output_type": "execute_result"
    },
    {
     "data": {
      "image/png": "[encoded data removed]",
      "text/plain": [
       "<Figure size 720x504 with 1 Axes>"
      ]
     },
     "metadata": {},
     "output_type": "display_data"
    }
   ],
   "source": [
    "sns.boxplot(data=dest_filt,x='dest_region',y='dest_lat')\n"
   ]
  },
  {
   "cell_type": "markdown",
   "metadata": {},
   "source": [
    "### Methodology\n",
    "The errors are fixed by combining the non missing value and th outlier data, as we know they dont have error in region attribute\n",
    "\n",
    "Steps\n",
    "1. Combine all the datasets\n",
    "2. Find the median latitude and longitude for all the region, by combining the destination region and origin region datapoints\n",
    "3. Compute the distance for all datapoints from the median\n",
    "4. Select the region with minimum distance to median of regions as the correct region\n"
   ]
  },
  {
   "cell_type": "code",
   "execution_count": 1075,
   "metadata": {},
   "outputs": [
    {
     "data": {
      "text/plain": [
       "(298, 14)"
      ]
     },
     "execution_count": 1075,
     "metadata": {},
     "output_type": "execute_result"
    }
   ],
   "source": [
    "data.shape"
   ]
  },
  {
   "cell_type": "code",
   "execution_count": 1076,
   "metadata": {},
   "outputs": [
    {
     "data": {
      "text/plain": [
       "(124, 14)"
      ]
     },
     "execution_count": 1076,
     "metadata": {},
     "output_type": "execute_result"
    }
   ],
   "source": [
    "#collating all regions for destination and origin to find the median geographical co-ordinate\n",
    "\n",
    "missing_value= pd.read_csv(\"29915651_missing_value.csv\")\n",
    "missing_value.shape"
   ]
  },
  {
   "cell_type": "code",
   "execution_count": 1077,
   "metadata": {},
   "outputs": [
    {
     "data": {
      "text/plain": [
       "(108, 15)"
      ]
     },
     "execution_count": 1077,
     "metadata": {},
     "output_type": "execute_result"
    }
   ],
   "source": [
    "outliers= pd.read_csv(\"29915651_outliers.csv\")\n",
    "outliers.shape"
   ]
  },
  {
   "cell_type": "code",
   "execution_count": 1078,
   "metadata": {},
   "outputs": [],
   "source": [
    "missing_value.columns=['trip_id', 'type', 'ori_region', 'dest_region','ori_lat', 'ori_lng',\n",
    "              'dest_lat', 'dest_long', 'j_distance', 'dept_date',\n",
    "       'dept_time', 'travel_time', 'arrival_time', 'fare']"
   ]
  },
  {
   "cell_type": "code",
   "execution_count": 1079,
   "metadata": {},
   "outputs": [],
   "source": [
    "outliers = outliers.drop(columns=['Unnamed: 0'])"
   ]
  },
  {
   "cell_type": "code",
   "execution_count": 1080,
   "metadata": {},
   "outputs": [
    {
     "data": {
      "text/plain": [
       "Index(['Unnamed: 0.1', 'Uber Type', 'Origin Region', 'Destination Region',\n",
       "       'Origin Latitude', 'Origin Longitude', 'Destination Latitude',\n",
       "       'Destination Longitude', 'Journey Distance(m)', 'Departure Date',\n",
       "       'Departure Time', 'Travel Time(s)', 'Arrival Time', 'Fare$'],\n",
       "      dtype='object')"
      ]
     },
     "execution_count": 1080,
     "metadata": {},
     "output_type": "execute_result"
    }
   ],
   "source": [
    "outliers.columns"
   ]
  },
  {
   "cell_type": "code",
   "execution_count": 1081,
   "metadata": {},
   "outputs": [],
   "source": [
    "outliers.columns=['trip_id', 'type', 'ori_region', 'dest_region','ori_lat', 'ori_lng',\n",
    "              'dest_lat', 'dest_long', 'j_distance', 'dept_date',\n",
    "       'dept_time', 'travel_time', 'arrival_time', 'fare']"
   ]
  },
  {
   "cell_type": "code",
   "execution_count": 1082,
   "metadata": {},
   "outputs": [
    {
     "data": {
      "text/plain": [
       "(298, 14)"
      ]
     },
     "execution_count": 1082,
     "metadata": {},
     "output_type": "execute_result"
    }
   ],
   "source": [
    "data_all = data.copy()\n",
    "data_all.shape"
   ]
  },
  {
   "cell_type": "code",
   "execution_count": 1083,
   "metadata": {},
   "outputs": [],
   "source": [
    "#data_all = data_all.append(missing_value) \n",
    "#data_all = data_all.append(outliers)\n",
    "#concatnating all data\n",
    "data_all1 = pd.concat([data_all,missing_value,outliers])"
   ]
  },
  {
   "cell_type": "code",
   "execution_count": 1084,
   "metadata": {},
   "outputs": [
    {
     "data": {
      "text/plain": [
       "(530, 14)"
      ]
     },
     "execution_count": 1084,
     "metadata": {},
     "output_type": "execute_result"
    }
   ],
   "source": [
    "data_all1.shape"
   ]
  },
  {
   "cell_type": "markdown",
   "metadata": {},
   "source": [
    "The combined dataset has 530 entries"
   ]
  },
  {
   "cell_type": "code",
   "execution_count": 1085,
   "metadata": {},
   "outputs": [
    {
     "name": "stderr",
     "output_type": "stream",
     "text": [
      "C:\\Users\\Stephy\\Anaconda3\\lib\\site-packages\\pandas\\core\\frame.py:3778: SettingWithCopyWarning: \n",
      "A value is trying to be set on a copy of a slice from a DataFrame\n",
      "\n",
      "See the caveats in the documentation: http://pandas.pydata.org/pandas-docs/stable/indexing.html#indexing-view-versus-copy\n",
      "  return super(DataFrame, self).rename(**kwargs)\n"
     ]
    }
   ],
   "source": [
    "origin_data=data[['ori_region','ori_lat','ori_lng']]\n",
    "origin_data.rename(columns={'ori_region': 'reg', 'ori_lat': 'lat', 'ori_lng':'lng'}, inplace=True)\n",
    "dest_data=data[['dest_region','dest_lat','dest_long']]\n",
    "dest_data.rename(columns={'dest_region': 'reg', 'dest_lat': 'lat', 'dest_long':'lng'}, inplace=True)\n",
    "reg_data = pd.concat([origin_data,dest_data])\n",
    "\n",
    "#Calculating the median value - taken as the center of each cluster\n",
    "#region=reg_data.groupby('reg')[['lat','lng']].median()\n",
    "\n",
    "#region"
   ]
  },
  {
   "cell_type": "code",
   "execution_count": 1086,
   "metadata": {},
   "outputs": [
    {
     "data": {
      "text/html": [
       "<div>\n",
       "<style scoped>\n",
       "    .dataframe tbody tr th:only-of-type {\n",
       "        vertical-align: middle;\n",
       "    }\n",
       "\n",
       "    .dataframe tbody tr th {\n",
       "        vertical-align: top;\n",
       "    }\n",
       "\n",
       "    .dataframe thead th {\n",
       "        text-align: right;\n",
       "    }\n",
       "</style>\n",
       "<table border=\"1\" class=\"dataframe\">\n",
       "  <thead>\n",
       "    <tr style=\"text-align: right;\">\n",
       "      <th></th>\n",
       "      <th>reg</th>\n",
       "      <th>lat</th>\n",
       "      <th>lng</th>\n",
       "    </tr>\n",
       "  </thead>\n",
       "  <tbody>\n",
       "    <tr>\n",
       "      <th>0</th>\n",
       "      <td>1</td>\n",
       "      <td>-37.811795</td>\n",
       "      <td>144.958893</td>\n",
       "    </tr>\n",
       "    <tr>\n",
       "      <th>1</th>\n",
       "      <td>2</td>\n",
       "      <td>-37.816556</td>\n",
       "      <td>144.941059</td>\n",
       "    </tr>\n",
       "    <tr>\n",
       "      <th>2</th>\n",
       "      <td>3</td>\n",
       "      <td>-37.819776</td>\n",
       "      <td>144.982691</td>\n",
       "    </tr>\n",
       "    <tr>\n",
       "      <th>3</th>\n",
       "      <td>4</td>\n",
       "      <td>-37.808537</td>\n",
       "      <td>145.004085</td>\n",
       "    </tr>\n",
       "    <tr>\n",
       "      <th>4</th>\n",
       "      <td>5</td>\n",
       "      <td>-37.805824</td>\n",
       "      <td>144.932855</td>\n",
       "    </tr>\n",
       "    <tr>\n",
       "      <th>5</th>\n",
       "      <td>6</td>\n",
       "      <td>-37.787433</td>\n",
       "      <td>144.983647</td>\n",
       "    </tr>\n",
       "    <tr>\n",
       "      <th>6</th>\n",
       "      <td>7</td>\n",
       "      <td>-37.861835</td>\n",
       "      <td>144.905716</td>\n",
       "    </tr>\n",
       "    <tr>\n",
       "      <th>7</th>\n",
       "      <td>8</td>\n",
       "      <td>-37.815834</td>\n",
       "      <td>145.046450</td>\n",
       "    </tr>\n",
       "    <tr>\n",
       "      <th>8</th>\n",
       "      <td>9</td>\n",
       "      <td>-38.110916</td>\n",
       "      <td>144.654173</td>\n",
       "    </tr>\n",
       "  </tbody>\n",
       "</table>\n",
       "</div>"
      ],
      "text/plain": [
       "   reg        lat         lng\n",
       "0    1 -37.811795  144.958893\n",
       "1    2 -37.816556  144.941059\n",
       "2    3 -37.819776  144.982691\n",
       "3    4 -37.808537  145.004085\n",
       "4    5 -37.805824  144.932855\n",
       "5    6 -37.787433  144.983647\n",
       "6    7 -37.861835  144.905716\n",
       "7    8 -37.815834  145.046450\n",
       "8    9 -38.110916  144.654173"
      ]
     },
     "execution_count": 1086,
     "metadata": {},
     "output_type": "execute_result"
    }
   ],
   "source": [
    "region_med=reg_data.groupby('reg').median()\n",
    "region_med = region_med.reset_index()\n",
    "region_med\n"
   ]
  },
  {
   "cell_type": "markdown",
   "metadata": {},
   "source": [
    "The co-ordinates in the above table is considered as the center point for each region. \n",
    "\n",
    "If distance of a point is calculated to each region co-ordinate, then the region to which it has the minimum distance will be considered that points region.\n",
    "\n"
   ]
  },
  {
   "cell_type": "markdown",
   "metadata": {},
   "source": [
    "#### The distance is calculated based on Haversine distance, which is useful in computing distance between points on Earth if co-ordination information is known."
   ]
  },
  {
   "cell_type": "code",
   "execution_count": 1087,
   "metadata": {},
   "outputs": [],
   "source": [
    "from math import sin, cos, sqrt, atan2, radians"
   ]
  },
  {
   "cell_type": "code",
   "execution_count": 1088,
   "metadata": {},
   "outputs": [],
   "source": [
    "#Calculate the Haversine distance.\n",
    "#https://stackoverflow.com/questions/19412462/getting-distance-between-two-points-based-on-latitude-longitude\n",
    "\n",
    "def distance(lat1,lon1,lat2,lon2):\n",
    "   \n",
    "    radius = 6378.0  # km\n",
    "\n",
    "    dlat = math.radians(lat2 - lat1)\n",
    "    dlon = math.radians(lon2 - lon1)\n",
    "    a = (math.sin(dlat / 2) * math.sin(dlat / 2) +\n",
    "         math.cos(math.radians(lat1)) * math.cos(math.radians(lat2)) *\n",
    "         math.sin(dlon / 2) * math.sin(dlon / 2))\n",
    "    c = 2 * math.atan2(math.sqrt(a), math.sqrt(1 - a))\n",
    "    d = radius * c\n",
    "\n",
    "    return d"
   ]
  },
  {
   "cell_type": "markdown",
   "metadata": {},
   "source": [
    "#### To use this function for each datapoint, firsty the data and region median data is cross joined"
   ]
  },
  {
   "cell_type": "code",
   "execution_count": 1089,
   "metadata": {},
   "outputs": [],
   "source": [
    "#https://stackoverflow.com/questions/53699012/performant-cartesian-product-cross-join-with-pandas/53699013#53699013\n",
    "import itertools\n",
    "l=list(itertools.product(data_all.values.tolist(),region_med.values.tolist()))\n",
    "cross_data = pd.DataFrame(list(map(lambda x : sum(x,[]),l)))"
   ]
  },
  {
   "cell_type": "code",
   "execution_count": 1090,
   "metadata": {},
   "outputs": [],
   "source": [
    "cross_data.columns=['trip_id', 'type', 'ori_region', 'dest_region','ori_lat', 'ori_lng',\n",
    "              'dest_lat', 'dest_long', 'j_distance', 'dept_date',\n",
    "       'dept_time', 'travel_time', 'arrival_time', 'fare','med_id','reg_med_lat', 'reg_med_lng']"
   ]
  },
  {
   "cell_type": "code",
   "execution_count": 1091,
   "metadata": {},
   "outputs": [],
   "source": [
    "cross_data['diff_origin'] = 0\n",
    "cross_data['diff_dest'] = 0"
   ]
  },
  {
   "cell_type": "code",
   "execution_count": 1092,
   "metadata": {},
   "outputs": [],
   "source": [
    "cross_data['diff_origin'] = cross_data.apply(lambda x: distance(x['ori_lat'],x['ori_lng'],x['reg_med_lat'],x['reg_med_lng']),axis=1)\n",
    "cross_data['diff_dest'] = cross_data.apply(lambda x: distance(x['dest_lat'],x['dest_long'],x['reg_med_lat'],x['reg_med_lng']),axis=1)\n"
   ]
  },
  {
   "cell_type": "code",
   "execution_count": 1093,
   "metadata": {},
   "outputs": [
    {
     "data": {
      "text/html": [
       "<div>\n",
       "<style scoped>\n",
       "    .dataframe tbody tr th:only-of-type {\n",
       "        vertical-align: middle;\n",
       "    }\n",
       "\n",
       "    .dataframe tbody tr th {\n",
       "        vertical-align: top;\n",
       "    }\n",
       "\n",
       "    .dataframe thead th {\n",
       "        text-align: right;\n",
       "    }\n",
       "</style>\n",
       "<table border=\"1\" class=\"dataframe\">\n",
       "  <thead>\n",
       "    <tr style=\"text-align: right;\">\n",
       "      <th></th>\n",
       "      <th>trip_id</th>\n",
       "      <th>type</th>\n",
       "      <th>ori_region</th>\n",
       "      <th>dest_region</th>\n",
       "      <th>ori_lat</th>\n",
       "      <th>ori_lng</th>\n",
       "      <th>dest_lat</th>\n",
       "      <th>dest_long</th>\n",
       "      <th>j_distance</th>\n",
       "      <th>dept_date</th>\n",
       "      <th>dept_time</th>\n",
       "      <th>travel_time</th>\n",
       "      <th>arrival_time</th>\n",
       "      <th>fare</th>\n",
       "      <th>med_id</th>\n",
       "      <th>reg_med_lat</th>\n",
       "      <th>reg_med_lng</th>\n",
       "      <th>diff_origin</th>\n",
       "      <th>diff_dest</th>\n",
       "    </tr>\n",
       "  </thead>\n",
       "  <tbody>\n",
       "    <tr>\n",
       "      <th>0</th>\n",
       "      <td>ID3320317494</td>\n",
       "      <td>1</td>\n",
       "      <td>3</td>\n",
       "      <td>5</td>\n",
       "      <td>-37.825296</td>\n",
       "      <td>144.982523</td>\n",
       "      <td>-37.810676</td>\n",
       "      <td>144.926025</td>\n",
       "      <td>6240.6</td>\n",
       "      <td>2018-01-16</td>\n",
       "      <td>01:17:03</td>\n",
       "      <td>1531.56</td>\n",
       "      <td>1:42:34</td>\n",
       "      <td>20.38</td>\n",
       "      <td>1.0</td>\n",
       "      <td>-37.811795</td>\n",
       "      <td>144.958893</td>\n",
       "      <td>2.564395</td>\n",
       "      <td>2.893230</td>\n",
       "    </tr>\n",
       "    <tr>\n",
       "      <th>1</th>\n",
       "      <td>ID3320317494</td>\n",
       "      <td>1</td>\n",
       "      <td>3</td>\n",
       "      <td>5</td>\n",
       "      <td>-37.825296</td>\n",
       "      <td>144.982523</td>\n",
       "      <td>-37.810676</td>\n",
       "      <td>144.926025</td>\n",
       "      <td>6240.6</td>\n",
       "      <td>2018-01-16</td>\n",
       "      <td>01:17:03</td>\n",
       "      <td>1531.56</td>\n",
       "      <td>1:42:34</td>\n",
       "      <td>20.38</td>\n",
       "      <td>2.0</td>\n",
       "      <td>-37.816556</td>\n",
       "      <td>144.941059</td>\n",
       "      <td>3.773599</td>\n",
       "      <td>1.475230</td>\n",
       "    </tr>\n",
       "    <tr>\n",
       "      <th>2</th>\n",
       "      <td>ID3320317494</td>\n",
       "      <td>1</td>\n",
       "      <td>3</td>\n",
       "      <td>5</td>\n",
       "      <td>-37.825296</td>\n",
       "      <td>144.982523</td>\n",
       "      <td>-37.810676</td>\n",
       "      <td>144.926025</td>\n",
       "      <td>6240.6</td>\n",
       "      <td>2018-01-16</td>\n",
       "      <td>01:17:03</td>\n",
       "      <td>1531.56</td>\n",
       "      <td>1:42:34</td>\n",
       "      <td>20.38</td>\n",
       "      <td>3.0</td>\n",
       "      <td>-37.819776</td>\n",
       "      <td>144.982691</td>\n",
       "      <td>0.614594</td>\n",
       "      <td>5.085116</td>\n",
       "    </tr>\n",
       "    <tr>\n",
       "      <th>3</th>\n",
       "      <td>ID3320317494</td>\n",
       "      <td>1</td>\n",
       "      <td>3</td>\n",
       "      <td>5</td>\n",
       "      <td>-37.825296</td>\n",
       "      <td>144.982523</td>\n",
       "      <td>-37.810676</td>\n",
       "      <td>144.926025</td>\n",
       "      <td>6240.6</td>\n",
       "      <td>2018-01-16</td>\n",
       "      <td>01:17:03</td>\n",
       "      <td>1531.56</td>\n",
       "      <td>1:42:34</td>\n",
       "      <td>20.38</td>\n",
       "      <td>4.0</td>\n",
       "      <td>-37.808537</td>\n",
       "      <td>145.004085</td>\n",
       "      <td>2.660027</td>\n",
       "      <td>6.869203</td>\n",
       "    </tr>\n",
       "    <tr>\n",
       "      <th>4</th>\n",
       "      <td>ID3320317494</td>\n",
       "      <td>1</td>\n",
       "      <td>3</td>\n",
       "      <td>5</td>\n",
       "      <td>-37.825296</td>\n",
       "      <td>144.982523</td>\n",
       "      <td>-37.810676</td>\n",
       "      <td>144.926025</td>\n",
       "      <td>6240.6</td>\n",
       "      <td>2018-01-16</td>\n",
       "      <td>01:17:03</td>\n",
       "      <td>1531.56</td>\n",
       "      <td>1:42:34</td>\n",
       "      <td>20.38</td>\n",
       "      <td>5.0</td>\n",
       "      <td>-37.805824</td>\n",
       "      <td>144.932855</td>\n",
       "      <td>4.875965</td>\n",
       "      <td>0.807821</td>\n",
       "    </tr>\n",
       "  </tbody>\n",
       "</table>\n",
       "</div>"
      ],
      "text/plain": [
       "        trip_id  type  ori_region  dest_region    ori_lat     ori_lng  \\\n",
       "0  ID3320317494     1           3            5 -37.825296  144.982523   \n",
       "1  ID3320317494     1           3            5 -37.825296  144.982523   \n",
       "2  ID3320317494     1           3            5 -37.825296  144.982523   \n",
       "3  ID3320317494     1           3            5 -37.825296  144.982523   \n",
       "4  ID3320317494     1           3            5 -37.825296  144.982523   \n",
       "\n",
       "    dest_lat   dest_long  j_distance   dept_date dept_time  travel_time  \\\n",
       "0 -37.810676  144.926025      6240.6  2018-01-16  01:17:03      1531.56   \n",
       "1 -37.810676  144.926025      6240.6  2018-01-16  01:17:03      1531.56   \n",
       "2 -37.810676  144.926025      6240.6  2018-01-16  01:17:03      1531.56   \n",
       "3 -37.810676  144.926025      6240.6  2018-01-16  01:17:03      1531.56   \n",
       "4 -37.810676  144.926025      6240.6  2018-01-16  01:17:03      1531.56   \n",
       "\n",
       "  arrival_time   fare  med_id  reg_med_lat  reg_med_lng  diff_origin  \\\n",
       "0      1:42:34  20.38     1.0   -37.811795   144.958893     2.564395   \n",
       "1      1:42:34  20.38     2.0   -37.816556   144.941059     3.773599   \n",
       "2      1:42:34  20.38     3.0   -37.819776   144.982691     0.614594   \n",
       "3      1:42:34  20.38     4.0   -37.808537   145.004085     2.660027   \n",
       "4      1:42:34  20.38     5.0   -37.805824   144.932855     4.875965   \n",
       "\n",
       "   diff_dest  \n",
       "0   2.893230  \n",
       "1   1.475230  \n",
       "2   5.085116  \n",
       "3   6.869203  \n",
       "4   0.807821  "
      ]
     },
     "execution_count": 1093,
     "metadata": {},
     "output_type": "execute_result"
    }
   ],
   "source": [
    "cross_data.head()"
   ]
  },
  {
   "cell_type": "code",
   "execution_count": 1094,
   "metadata": {},
   "outputs": [],
   "source": [
    "ori_data = cross_data[['trip_id','ori_region','ori_lat', 'ori_lng','med_id','diff_origin']]\n",
    "dest_data = cross_data[['trip_id','dest_region','dest_lat', 'dest_long','med_id','diff_dest']]"
   ]
  },
  {
   "cell_type": "code",
   "execution_count": 1095,
   "metadata": {},
   "outputs": [
    {
     "data": {
      "text/html": [
       "<div>\n",
       "<style scoped>\n",
       "    .dataframe tbody tr th:only-of-type {\n",
       "        vertical-align: middle;\n",
       "    }\n",
       "\n",
       "    .dataframe tbody tr th {\n",
       "        vertical-align: top;\n",
       "    }\n",
       "\n",
       "    .dataframe thead th {\n",
       "        text-align: right;\n",
       "    }\n",
       "</style>\n",
       "<table border=\"1\" class=\"dataframe\">\n",
       "  <thead>\n",
       "    <tr style=\"text-align: right;\">\n",
       "      <th></th>\n",
       "      <th>trip_id</th>\n",
       "      <th>dest_region</th>\n",
       "      <th>dest_lat</th>\n",
       "      <th>dest_long</th>\n",
       "      <th>med_id</th>\n",
       "      <th>diff_dest</th>\n",
       "    </tr>\n",
       "  </thead>\n",
       "  <tbody>\n",
       "    <tr>\n",
       "      <th>0</th>\n",
       "      <td>ID3320317494</td>\n",
       "      <td>5</td>\n",
       "      <td>-37.810676</td>\n",
       "      <td>144.926025</td>\n",
       "      <td>1.0</td>\n",
       "      <td>2.893230</td>\n",
       "    </tr>\n",
       "    <tr>\n",
       "      <th>1</th>\n",
       "      <td>ID3320317494</td>\n",
       "      <td>5</td>\n",
       "      <td>-37.810676</td>\n",
       "      <td>144.926025</td>\n",
       "      <td>2.0</td>\n",
       "      <td>1.475230</td>\n",
       "    </tr>\n",
       "    <tr>\n",
       "      <th>2</th>\n",
       "      <td>ID3320317494</td>\n",
       "      <td>5</td>\n",
       "      <td>-37.810676</td>\n",
       "      <td>144.926025</td>\n",
       "      <td>3.0</td>\n",
       "      <td>5.085116</td>\n",
       "    </tr>\n",
       "    <tr>\n",
       "      <th>3</th>\n",
       "      <td>ID3320317494</td>\n",
       "      <td>5</td>\n",
       "      <td>-37.810676</td>\n",
       "      <td>144.926025</td>\n",
       "      <td>4.0</td>\n",
       "      <td>6.869203</td>\n",
       "    </tr>\n",
       "    <tr>\n",
       "      <th>4</th>\n",
       "      <td>ID3320317494</td>\n",
       "      <td>5</td>\n",
       "      <td>-37.810676</td>\n",
       "      <td>144.926025</td>\n",
       "      <td>5.0</td>\n",
       "      <td>0.807821</td>\n",
       "    </tr>\n",
       "  </tbody>\n",
       "</table>\n",
       "</div>"
      ],
      "text/plain": [
       "        trip_id  dest_region   dest_lat   dest_long  med_id  diff_dest\n",
       "0  ID3320317494            5 -37.810676  144.926025     1.0   2.893230\n",
       "1  ID3320317494            5 -37.810676  144.926025     2.0   1.475230\n",
       "2  ID3320317494            5 -37.810676  144.926025     3.0   5.085116\n",
       "3  ID3320317494            5 -37.810676  144.926025     4.0   6.869203\n",
       "4  ID3320317494            5 -37.810676  144.926025     5.0   0.807821"
      ]
     },
     "execution_count": 1095,
     "metadata": {},
     "output_type": "execute_result"
    }
   ],
   "source": [
    "dest_data.head()"
   ]
  },
  {
   "cell_type": "markdown",
   "metadata": {},
   "source": [
    "After obtaining distance for each data point to each region, the min distance is obtained by aggregating using min function"
   ]
  },
  {
   "cell_type": "code",
   "execution_count": 1096,
   "metadata": {},
   "outputs": [
    {
     "data": {
      "text/html": [
       "<div>\n",
       "<style scoped>\n",
       "    .dataframe tbody tr th:only-of-type {\n",
       "        vertical-align: middle;\n",
       "    }\n",
       "\n",
       "    .dataframe tbody tr th {\n",
       "        vertical-align: top;\n",
       "    }\n",
       "\n",
       "    .dataframe thead th {\n",
       "        text-align: right;\n",
       "    }\n",
       "</style>\n",
       "<table border=\"1\" class=\"dataframe\">\n",
       "  <thead>\n",
       "    <tr style=\"text-align: right;\">\n",
       "      <th></th>\n",
       "      <th>trip_id</th>\n",
       "      <th>level_1</th>\n",
       "      <th>ori_region</th>\n",
       "      <th>ori_lat</th>\n",
       "      <th>ori_lng</th>\n",
       "      <th>med_id</th>\n",
       "      <th>diff_origin</th>\n",
       "    </tr>\n",
       "  </thead>\n",
       "  <tbody>\n",
       "    <tr>\n",
       "      <th>0</th>\n",
       "      <td>ID1114439128</td>\n",
       "      <td>881</td>\n",
       "      <td>9</td>\n",
       "      <td>-38.110916</td>\n",
       "      <td>144.654173</td>\n",
       "      <td>9.0</td>\n",
       "      <td>0.000000</td>\n",
       "    </tr>\n",
       "    <tr>\n",
       "      <th>1</th>\n",
       "      <td>ID1127511506</td>\n",
       "      <td>1987</td>\n",
       "      <td>8</td>\n",
       "      <td>-37.815834</td>\n",
       "      <td>145.046450</td>\n",
       "      <td>8.0</td>\n",
       "      <td>0.000000</td>\n",
       "    </tr>\n",
       "    <tr>\n",
       "      <th>2</th>\n",
       "      <td>ID1138474503</td>\n",
       "      <td>935</td>\n",
       "      <td>9</td>\n",
       "      <td>-38.110916</td>\n",
       "      <td>144.654173</td>\n",
       "      <td>9.0</td>\n",
       "      <td>0.000000</td>\n",
       "    </tr>\n",
       "    <tr>\n",
       "      <th>3</th>\n",
       "      <td>ID1139090290</td>\n",
       "      <td>2557</td>\n",
       "      <td>1</td>\n",
       "      <td>-37.809735</td>\n",
       "      <td>144.943283</td>\n",
       "      <td>2.0</td>\n",
       "      <td>0.784012</td>\n",
       "    </tr>\n",
       "    <tr>\n",
       "      <th>4</th>\n",
       "      <td>ID1140358725</td>\n",
       "      <td>2185</td>\n",
       "      <td>8</td>\n",
       "      <td>-37.815834</td>\n",
       "      <td>145.046450</td>\n",
       "      <td>8.0</td>\n",
       "      <td>0.000000</td>\n",
       "    </tr>\n",
       "  </tbody>\n",
       "</table>\n",
       "</div>"
      ],
      "text/plain": [
       "        trip_id  level_1  ori_region    ori_lat     ori_lng  med_id  \\\n",
       "0  ID1114439128      881           9 -38.110916  144.654173     9.0   \n",
       "1  ID1127511506     1987           8 -37.815834  145.046450     8.0   \n",
       "2  ID1138474503      935           9 -38.110916  144.654173     9.0   \n",
       "3  ID1139090290     2557           1 -37.809735  144.943283     2.0   \n",
       "4  ID1140358725     2185           8 -37.815834  145.046450     8.0   \n",
       "\n",
       "   diff_origin  \n",
       "0     0.000000  \n",
       "1     0.000000  \n",
       "2     0.000000  \n",
       "3     0.784012  \n",
       "4     0.000000  "
      ]
     },
     "execution_count": 1096,
     "metadata": {},
     "output_type": "execute_result"
    }
   ],
   "source": [
    "#https://stackoverflow.com/questions/27488080/python-pandas-filter-rows-after-groupby\n",
    "\n",
    "groups = ori_data.groupby(by=['trip_id'])\n",
    "correct_reg_origin = pd.DataFrame(groups.apply(lambda g: g[g['diff_origin'] == g['diff_origin'].min()]))\n",
    "cols = [0]\n",
    "correct_reg_origin.drop(correct_reg_origin.columns[cols],axis=1,inplace=True)\n",
    "correct_reg_origin=correct_reg_origin.reset_index()\n",
    "correct_reg_origin.head()"
   ]
  },
  {
   "cell_type": "code",
   "execution_count": 1097,
   "metadata": {},
   "outputs": [
    {
     "data": {
      "text/html": [
       "<div>\n",
       "<style scoped>\n",
       "    .dataframe tbody tr th:only-of-type {\n",
       "        vertical-align: middle;\n",
       "    }\n",
       "\n",
       "    .dataframe tbody tr th {\n",
       "        vertical-align: top;\n",
       "    }\n",
       "\n",
       "    .dataframe thead th {\n",
       "        text-align: right;\n",
       "    }\n",
       "</style>\n",
       "<table border=\"1\" class=\"dataframe\">\n",
       "  <thead>\n",
       "    <tr style=\"text-align: right;\">\n",
       "      <th></th>\n",
       "      <th>trip_id</th>\n",
       "      <th>level_1</th>\n",
       "      <th>dest_region</th>\n",
       "      <th>dest_lat</th>\n",
       "      <th>dest_long</th>\n",
       "      <th>med_id</th>\n",
       "      <th>diff_dest</th>\n",
       "    </tr>\n",
       "  </thead>\n",
       "  <tbody>\n",
       "    <tr>\n",
       "      <th>0</th>\n",
       "      <td>ID1114439128</td>\n",
       "      <td>878</td>\n",
       "      <td>6</td>\n",
       "      <td>-37.773845</td>\n",
       "      <td>144.983689</td>\n",
       "      <td>6.0</td>\n",
       "      <td>1.512526</td>\n",
       "    </tr>\n",
       "    <tr>\n",
       "      <th>1</th>\n",
       "      <td>ID1127511506</td>\n",
       "      <td>1984</td>\n",
       "      <td>5</td>\n",
       "      <td>-37.806224</td>\n",
       "      <td>144.932369</td>\n",
       "      <td>5.0</td>\n",
       "      <td>0.061717</td>\n",
       "    </tr>\n",
       "    <tr>\n",
       "      <th>2</th>\n",
       "      <td>ID1138474503</td>\n",
       "      <td>928</td>\n",
       "      <td>1</td>\n",
       "      <td>-37.808434</td>\n",
       "      <td>144.945432</td>\n",
       "      <td>2.0</td>\n",
       "      <td>0.982534</td>\n",
       "    </tr>\n",
       "    <tr>\n",
       "      <th>3</th>\n",
       "      <td>ID1139090290</td>\n",
       "      <td>2561</td>\n",
       "      <td>6</td>\n",
       "      <td>-37.773845</td>\n",
       "      <td>144.983689</td>\n",
       "      <td>6.0</td>\n",
       "      <td>1.512526</td>\n",
       "    </tr>\n",
       "    <tr>\n",
       "      <th>4</th>\n",
       "      <td>ID1140358725</td>\n",
       "      <td>2181</td>\n",
       "      <td>4</td>\n",
       "      <td>-37.811679</td>\n",
       "      <td>145.007290</td>\n",
       "      <td>4.0</td>\n",
       "      <td>0.449232</td>\n",
       "    </tr>\n",
       "  </tbody>\n",
       "</table>\n",
       "</div>"
      ],
      "text/plain": [
       "        trip_id  level_1  dest_region   dest_lat   dest_long  med_id  \\\n",
       "0  ID1114439128      878            6 -37.773845  144.983689     6.0   \n",
       "1  ID1127511506     1984            5 -37.806224  144.932369     5.0   \n",
       "2  ID1138474503      928            1 -37.808434  144.945432     2.0   \n",
       "3  ID1139090290     2561            6 -37.773845  144.983689     6.0   \n",
       "4  ID1140358725     2181            4 -37.811679  145.007290     4.0   \n",
       "\n",
       "   diff_dest  \n",
       "0   1.512526  \n",
       "1   0.061717  \n",
       "2   0.982534  \n",
       "3   1.512526  \n",
       "4   0.449232  "
      ]
     },
     "execution_count": 1097,
     "metadata": {},
     "output_type": "execute_result"
    }
   ],
   "source": [
    "\n",
    "groups = dest_data.groupby(by=['trip_id'])\n",
    "correct_reg_dest = pd.DataFrame(groups.apply(lambda g: g[g['diff_dest'] == g['diff_dest'].min()]))\n",
    "cols = [0]\n",
    "correct_reg_dest.drop(correct_reg_dest.columns[cols],axis=1,inplace=True)\n",
    "correct_reg_dest=correct_reg_dest.reset_index()\n",
    "correct_reg_dest.head()"
   ]
  },
  {
   "cell_type": "code",
   "execution_count": 1099,
   "metadata": {},
   "outputs": [
    {
     "data": {
      "text/html": [
       "<div>\n",
       "<style scoped>\n",
       "    .dataframe tbody tr th:only-of-type {\n",
       "        vertical-align: middle;\n",
       "    }\n",
       "\n",
       "    .dataframe tbody tr th {\n",
       "        vertical-align: top;\n",
       "    }\n",
       "\n",
       "    .dataframe thead th {\n",
       "        text-align: right;\n",
       "    }\n",
       "</style>\n",
       "<table border=\"1\" class=\"dataframe\">\n",
       "  <thead>\n",
       "    <tr style=\"text-align: right;\">\n",
       "      <th></th>\n",
       "      <th>trip_id</th>\n",
       "      <th>type</th>\n",
       "      <th>ori_region</th>\n",
       "      <th>dest_region</th>\n",
       "      <th>ori_lat</th>\n",
       "      <th>ori_lng</th>\n",
       "      <th>dest_lat</th>\n",
       "      <th>dest_long</th>\n",
       "      <th>j_distance</th>\n",
       "      <th>dept_date</th>\n",
       "      <th>dept_time</th>\n",
       "      <th>travel_time</th>\n",
       "      <th>arrival_time</th>\n",
       "      <th>fare</th>\n",
       "    </tr>\n",
       "  </thead>\n",
       "  <tbody>\n",
       "    <tr>\n",
       "      <th>0</th>\n",
       "      <td>ID3320317494</td>\n",
       "      <td>1</td>\n",
       "      <td>3.0</td>\n",
       "      <td>5</td>\n",
       "      <td>-37.825296</td>\n",
       "      <td>144.982523</td>\n",
       "      <td>-37.810676</td>\n",
       "      <td>144.926025</td>\n",
       "      <td>6240.6</td>\n",
       "      <td>2018-01-16</td>\n",
       "      <td>01:17:03</td>\n",
       "      <td>1531.56</td>\n",
       "      <td>1:42:34</td>\n",
       "      <td>20.38</td>\n",
       "    </tr>\n",
       "    <tr>\n",
       "      <th>1</th>\n",
       "      <td>ID3331420694</td>\n",
       "      <td>1</td>\n",
       "      <td>1.0</td>\n",
       "      <td>4</td>\n",
       "      <td>-37.808916</td>\n",
       "      <td>144.966157</td>\n",
       "      <td>-37.808679</td>\n",
       "      <td>145.006707</td>\n",
       "      <td>3842.1</td>\n",
       "      <td>2018-05-23</td>\n",
       "      <td>11:12:16</td>\n",
       "      <td>903.36</td>\n",
       "      <td>11:27:19</td>\n",
       "      <td>8.67</td>\n",
       "    </tr>\n",
       "    <tr>\n",
       "      <th>2</th>\n",
       "      <td>ID1609759320</td>\n",
       "      <td>0</td>\n",
       "      <td>2.0</td>\n",
       "      <td>1</td>\n",
       "      <td>-37.818954</td>\n",
       "      <td>144.943264</td>\n",
       "      <td>-37.802045</td>\n",
       "      <td>144.966781</td>\n",
       "      <td>3382.1</td>\n",
       "      <td>2018-07-04</td>\n",
       "      <td>08:23:32</td>\n",
       "      <td>907.56</td>\n",
       "      <td>8:38:39</td>\n",
       "      <td>5.16</td>\n",
       "    </tr>\n",
       "    <tr>\n",
       "      <th>3</th>\n",
       "      <td>ID1587559514</td>\n",
       "      <td>0</td>\n",
       "      <td>8.0</td>\n",
       "      <td>2</td>\n",
       "      <td>-37.815834</td>\n",
       "      <td>145.046450</td>\n",
       "      <td>-37.813678</td>\n",
       "      <td>144.939437</td>\n",
       "      <td>9775.3</td>\n",
       "      <td>2018-02-19</td>\n",
       "      <td>20:19:07</td>\n",
       "      <td>2738.16</td>\n",
       "      <td>21:04:45</td>\n",
       "      <td>11.21</td>\n",
       "    </tr>\n",
       "    <tr>\n",
       "      <th>4</th>\n",
       "      <td>ID1887103666</td>\n",
       "      <td>0</td>\n",
       "      <td>4.0</td>\n",
       "      <td>1</td>\n",
       "      <td>-37.821801</td>\n",
       "      <td>145.002530</td>\n",
       "      <td>-37.818042</td>\n",
       "      <td>144.952916</td>\n",
       "      <td>6182.0</td>\n",
       "      <td>2018-03-17</td>\n",
       "      <td>09:02:26</td>\n",
       "      <td>1548.90</td>\n",
       "      <td>9:28:14</td>\n",
       "      <td>9.62</td>\n",
       "    </tr>\n",
       "  </tbody>\n",
       "</table>\n",
       "</div>"
      ],
      "text/plain": [
       "        trip_id  type  ori_region  dest_region    ori_lat     ori_lng  \\\n",
       "0  ID3320317494     1         3.0            5 -37.825296  144.982523   \n",
       "1  ID3331420694     1         1.0            4 -37.808916  144.966157   \n",
       "2  ID1609759320     0         2.0            1 -37.818954  144.943264   \n",
       "3  ID1587559514     0         8.0            2 -37.815834  145.046450   \n",
       "4  ID1887103666     0         4.0            1 -37.821801  145.002530   \n",
       "\n",
       "    dest_lat   dest_long  j_distance   dept_date dept_time  travel_time  \\\n",
       "0 -37.810676  144.926025      6240.6  2018-01-16  01:17:03      1531.56   \n",
       "1 -37.808679  145.006707      3842.1  2018-05-23  11:12:16       903.36   \n",
       "2 -37.802045  144.966781      3382.1  2018-07-04  08:23:32       907.56   \n",
       "3 -37.813678  144.939437      9775.3  2018-02-19  20:19:07      2738.16   \n",
       "4 -37.818042  144.952916      6182.0  2018-03-17  09:02:26      1548.90   \n",
       "\n",
       "  arrival_time   fare  \n",
       "0      1:42:34  20.38  \n",
       "1     11:27:19   8.67  \n",
       "2      8:38:39   5.16  \n",
       "3     21:04:45  11.21  \n",
       "4      9:28:14   9.62  "
      ]
     },
     "execution_count": 1099,
     "metadata": {},
     "output_type": "execute_result"
    }
   ],
   "source": [
    "#changing the origin region\n",
    "data_x = data.set_index('trip_id').join(correct_reg_origin.set_index('trip_id'), how='inner', rsuffix='ori')\n",
    "data_x['ori_region'] = data_x['med_id']\n",
    "#cols=[13,14,15,16,17,18]\n",
    "data_x.drop(data_x.columns[[13,14,15,16,17,18]],axis=1,inplace=True)\n",
    "data_x = data_x.reset_index()\n",
    "data_x.head()"
   ]
  },
  {
   "cell_type": "code",
   "execution_count": 1106,
   "metadata": {},
   "outputs": [
    {
     "data": {
      "text/html": [
       "<div>\n",
       "<style scoped>\n",
       "    .dataframe tbody tr th:only-of-type {\n",
       "        vertical-align: middle;\n",
       "    }\n",
       "\n",
       "    .dataframe tbody tr th {\n",
       "        vertical-align: top;\n",
       "    }\n",
       "\n",
       "    .dataframe thead th {\n",
       "        text-align: right;\n",
       "    }\n",
       "</style>\n",
       "<table border=\"1\" class=\"dataframe\">\n",
       "  <thead>\n",
       "    <tr style=\"text-align: right;\">\n",
       "      <th></th>\n",
       "      <th>trip_id</th>\n",
       "      <th>type</th>\n",
       "      <th>ori_region</th>\n",
       "      <th>dest_region</th>\n",
       "      <th>ori_lat</th>\n",
       "      <th>ori_lng</th>\n",
       "      <th>dest_lat</th>\n",
       "      <th>dest_long</th>\n",
       "      <th>j_distance</th>\n",
       "      <th>dept_date</th>\n",
       "      <th>dept_time</th>\n",
       "      <th>travel_time</th>\n",
       "      <th>arrival_time</th>\n",
       "      <th>fare</th>\n",
       "    </tr>\n",
       "  </thead>\n",
       "  <tbody>\n",
       "    <tr>\n",
       "      <th>0</th>\n",
       "      <td>ID3320317494</td>\n",
       "      <td>1</td>\n",
       "      <td>3.0</td>\n",
       "      <td>5.0</td>\n",
       "      <td>-37.825296</td>\n",
       "      <td>144.982523</td>\n",
       "      <td>-37.810676</td>\n",
       "      <td>144.926025</td>\n",
       "      <td>6240.6</td>\n",
       "      <td>2018-01-16</td>\n",
       "      <td>01:17:03</td>\n",
       "      <td>1531.56</td>\n",
       "      <td>1:42:34</td>\n",
       "      <td>20.38</td>\n",
       "    </tr>\n",
       "    <tr>\n",
       "      <th>1</th>\n",
       "      <td>ID3331420694</td>\n",
       "      <td>1</td>\n",
       "      <td>1.0</td>\n",
       "      <td>4.0</td>\n",
       "      <td>-37.808916</td>\n",
       "      <td>144.966157</td>\n",
       "      <td>-37.808679</td>\n",
       "      <td>145.006707</td>\n",
       "      <td>3842.1</td>\n",
       "      <td>2018-05-23</td>\n",
       "      <td>11:12:16</td>\n",
       "      <td>903.36</td>\n",
       "      <td>11:27:19</td>\n",
       "      <td>8.67</td>\n",
       "    </tr>\n",
       "    <tr>\n",
       "      <th>2</th>\n",
       "      <td>ID1609759320</td>\n",
       "      <td>0</td>\n",
       "      <td>2.0</td>\n",
       "      <td>1.0</td>\n",
       "      <td>-37.818954</td>\n",
       "      <td>144.943264</td>\n",
       "      <td>-37.802045</td>\n",
       "      <td>144.966781</td>\n",
       "      <td>3382.1</td>\n",
       "      <td>2018-07-04</td>\n",
       "      <td>08:23:32</td>\n",
       "      <td>907.56</td>\n",
       "      <td>8:38:39</td>\n",
       "      <td>5.16</td>\n",
       "    </tr>\n",
       "    <tr>\n",
       "      <th>3</th>\n",
       "      <td>ID1587559514</td>\n",
       "      <td>0</td>\n",
       "      <td>8.0</td>\n",
       "      <td>2.0</td>\n",
       "      <td>-37.815834</td>\n",
       "      <td>145.046450</td>\n",
       "      <td>-37.813678</td>\n",
       "      <td>144.939437</td>\n",
       "      <td>9775.3</td>\n",
       "      <td>2018-02-19</td>\n",
       "      <td>20:19:07</td>\n",
       "      <td>2738.16</td>\n",
       "      <td>21:04:45</td>\n",
       "      <td>11.21</td>\n",
       "    </tr>\n",
       "    <tr>\n",
       "      <th>4</th>\n",
       "      <td>ID1887103666</td>\n",
       "      <td>0</td>\n",
       "      <td>4.0</td>\n",
       "      <td>1.0</td>\n",
       "      <td>-37.821801</td>\n",
       "      <td>145.002530</td>\n",
       "      <td>-37.818042</td>\n",
       "      <td>144.952916</td>\n",
       "      <td>6182.0</td>\n",
       "      <td>2018-03-17</td>\n",
       "      <td>09:02:26</td>\n",
       "      <td>1548.90</td>\n",
       "      <td>9:28:14</td>\n",
       "      <td>9.62</td>\n",
       "    </tr>\n",
       "  </tbody>\n",
       "</table>\n",
       "</div>"
      ],
      "text/plain": [
       "        trip_id  type  ori_region  dest_region    ori_lat     ori_lng  \\\n",
       "0  ID3320317494     1         3.0          5.0 -37.825296  144.982523   \n",
       "1  ID3331420694     1         1.0          4.0 -37.808916  144.966157   \n",
       "2  ID1609759320     0         2.0          1.0 -37.818954  144.943264   \n",
       "3  ID1587559514     0         8.0          2.0 -37.815834  145.046450   \n",
       "4  ID1887103666     0         4.0          1.0 -37.821801  145.002530   \n",
       "\n",
       "    dest_lat   dest_long  j_distance   dept_date dept_time  travel_time  \\\n",
       "0 -37.810676  144.926025      6240.6  2018-01-16  01:17:03      1531.56   \n",
       "1 -37.808679  145.006707      3842.1  2018-05-23  11:12:16       903.36   \n",
       "2 -37.802045  144.966781      3382.1  2018-07-04  08:23:32       907.56   \n",
       "3 -37.813678  144.939437      9775.3  2018-02-19  20:19:07      2738.16   \n",
       "4 -37.818042  144.952916      6182.0  2018-03-17  09:02:26      1548.90   \n",
       "\n",
       "  arrival_time   fare  \n",
       "0      1:42:34  20.38  \n",
       "1     11:27:19   8.67  \n",
       "2      8:38:39   5.16  \n",
       "3     21:04:45  11.21  \n",
       "4      9:28:14   9.62  "
      ]
     },
     "execution_count": 1106,
     "metadata": {},
     "output_type": "execute_result"
    }
   ],
   "source": [
    "#changing the destination region\n",
    "#staring with data_x, in which origin regions have already been changed\n",
    "data_y = data_x.set_index('trip_id').join(correct_reg_dest.set_index('trip_id'), how='inner', rsuffix='dest')\n",
    "data_y['dest_region'] = data_y['med_id']\n",
    "#cols=[13,14,15,16,17,18]\n",
    "data_y.drop(data_y.columns[[13,14,15,16,17,18]],axis=1,inplace=True)\n",
    "data_y = data_y.reset_index()\n",
    "data_y.head()"
   ]
  },
  {
   "cell_type": "markdown",
   "metadata": {},
   "source": [
    "#### As seen in the below plots the outliers have significantly reduced for eachregion"
   ]
  },
  {
   "cell_type": "code",
   "execution_count": 1107,
   "metadata": {},
   "outputs": [
    {
     "data": {
      "text/plain": [
       "<matplotlib.axes._subplots.AxesSubplot at 0x263a088ea58>"
      ]
     },
     "execution_count": 1107,
     "metadata": {},
     "output_type": "execute_result"
    },
    {
     "data": {
      "image/png": "[encoded data removed]",
      "text/plain": [
       "<Figure size 720x504 with 1 Axes>"
      ]
     },
     "metadata": {},
     "output_type": "display_data"
    }
   ],
   "source": [
    "#verifying if origin longitudes are in correct region\n",
    "plt.rcParams['figure.figsize']=10,7\n",
    "ori_filt=data_y[['ori_lat','ori_lng','ori_region']]\n",
    "sns.boxplot(data=ori_filt,x='ori_region',y='ori_lng')\n"
   ]
  },
  {
   "cell_type": "code",
   "execution_count": 1108,
   "metadata": {},
   "outputs": [
    {
     "data": {
      "text/plain": [
       "<matplotlib.axes._subplots.AxesSubplot at 0x263a15540b8>"
      ]
     },
     "execution_count": 1108,
     "metadata": {},
     "output_type": "execute_result"
    },
    {
     "data": {
      "image/png": "[encoded data removed]",
      "text/plain": [
       "<Figure size 720x504 with 1 Axes>"
      ]
     },
     "metadata": {},
     "output_type": "display_data"
    }
   ],
   "source": [
    "#verifying is origin latitudes are in correct region\n",
    "sns.boxplot(data=ori_filt,x='ori_region',y='ori_lat')\n"
   ]
  },
  {
   "cell_type": "code",
   "execution_count": 1109,
   "metadata": {},
   "outputs": [
    {
     "data": {
      "text/plain": [
       "<matplotlib.axes._subplots.AxesSubplot at 0x263a2c28048>"
      ]
     },
     "execution_count": 1109,
     "metadata": {},
     "output_type": "execute_result"
    },
    {
     "data": {
      "image/png": "[encoded data removed]",
      "text/plain": [
       "<Figure size 720x504 with 1 Axes>"
      ]
     },
     "metadata": {},
     "output_type": "display_data"
    }
   ],
   "source": [
    "#verifying if dest longitudes are in correct region\n",
    "plt.rcParams['figure.figsize']=10,7\n",
    "dest_filt=data_y[['dest_lat','dest_long','dest_region']]\n",
    "sns.boxplot(data=dest_filt,x='dest_region',y='dest_long')"
   ]
  },
  {
   "cell_type": "code",
   "execution_count": 1110,
   "metadata": {},
   "outputs": [
    {
     "data": {
      "text/plain": [
       "<matplotlib.axes._subplots.AxesSubplot at 0x263a282cf98>"
      ]
     },
     "execution_count": 1110,
     "metadata": {},
     "output_type": "execute_result"
    },
    {
     "data": {
      "image/png": "[encoded data removed]",
      "text/plain": [
       "<Figure size 720x504 with 1 Axes>"
      ]
     },
     "metadata": {},
     "output_type": "display_data"
    }
   ],
   "source": [
    "#verifying is destination latitudes are in correct region\n",
    "sns.boxplot(data=dest_filt,x='dest_region',y='dest_lat')"
   ]
  },
  {
   "cell_type": "code",
   "execution_count": 1124,
   "metadata": {},
   "outputs": [],
   "source": [
    "data_next=data_y.copy()"
   ]
  },
  {
   "cell_type": "markdown",
   "metadata": {},
   "source": [
    "Few datapoints were manually changed, this was done in the end to follow by the information that one row has only one error"
   ]
  },
  {
   "cell_type": "code",
   "execution_count": 1125,
   "metadata": {
    "collapsed": true
   },
   "outputs": [
    {
     "name": "stderr",
     "output_type": "stream",
     "text": [
      "C:\\Users\\Stephy\\Anaconda3\\lib\\site-packages\\ipykernel_launcher.py:2: SettingWithCopyWarning: \n",
      "A value is trying to be set on a copy of a slice from a DataFrame\n",
      "\n",
      "See the caveats in the documentation: http://pandas.pydata.org/pandas-docs/stable/indexing.html#indexing-view-versus-copy\n",
      "  \n"
     ]
    }
   ],
   "source": [
    "#reassigning this data point to original cause it has already been changed for origin latitude\n",
    "data_next['ori_region'][data_next.trip_id == 'ID1639783748'] = \"2.0\""
   ]
  },
  {
   "cell_type": "code",
   "execution_count": 1132,
   "metadata": {
    "collapsed": true
   },
   "outputs": [
    {
     "name": "stderr",
     "output_type": "stream",
     "text": [
      "C:\\Users\\Stephy\\Anaconda3\\lib\\site-packages\\ipykernel_launcher.py:1: SettingWithCopyWarning: \n",
      "A value is trying to be set on a copy of a slice from a DataFrame\n",
      "\n",
      "See the caveats in the documentation: http://pandas.pydata.org/pandas-docs/stable/indexing.html#indexing-view-versus-copy\n",
      "  \"\"\"Entry point for launching an IPython kernel.\n"
     ]
    }
   ],
   "source": [
    "#reassigning this data point to original cause it has already been changed for departure time \n",
    "data_next['ori_region'][data_next.trip_id == 'ID5210061440'] = \"8.0\""
   ]
  },
  {
   "cell_type": "code",
   "execution_count": 1164,
   "metadata": {
    "collapsed": true
   },
   "outputs": [
    {
     "name": "stderr",
     "output_type": "stream",
     "text": [
      "C:\\Users\\Stephy\\Anaconda3\\lib\\site-packages\\ipykernel_launcher.py:2: SettingWithCopyWarning: \n",
      "A value is trying to be set on a copy of a slice from a DataFrame\n",
      "\n",
      "See the caveats in the documentation: http://pandas.pydata.org/pandas-docs/stable/indexing.html#indexing-view-versus-copy\n",
      "  \n"
     ]
    }
   ],
   "source": [
    "#reassigning this data point to original cause it has the depature time arrival time swap error \n",
    "data_next['ori_region'][data_next.trip_id == 'ID3220141693'] = \"4.0\""
   ]
  },
  {
   "cell_type": "code",
   "execution_count": 1183,
   "metadata": {
    "collapsed": true
   },
   "outputs": [
    {
     "name": "stderr",
     "output_type": "stream",
     "text": [
      "C:\\Users\\Stephy\\Anaconda3\\lib\\site-packages\\ipykernel_launcher.py:3: SettingWithCopyWarning: \n",
      "A value is trying to be set on a copy of a slice from a DataFrame\n",
      "\n",
      "See the caveats in the documentation: http://pandas.pydata.org/pandas-docs/stable/indexing.html#indexing-view-versus-copy\n",
      "  This is separate from the ipykernel package so we can avoid doing imports until\n"
     ]
    }
   ],
   "source": [
    "#ID1979536679\n",
    "##reassigning this data point to original cause it has the distance error \n",
    "data_next['ori_region'][data_next.trip_id == 'ID1979536679'] = \"8.0\""
   ]
  },
  {
   "cell_type": "code",
   "execution_count": 1146,
   "metadata": {
    "collapsed": true
   },
   "outputs": [
    {
     "name": "stderr",
     "output_type": "stream",
     "text": [
      "C:\\Users\\Stephy\\Anaconda3\\lib\\site-packages\\ipykernel_launcher.py:1: SettingWithCopyWarning: \n",
      "A value is trying to be set on a copy of a slice from a DataFrame\n",
      "\n",
      "See the caveats in the documentation: http://pandas.pydata.org/pandas-docs/stable/indexing.html#indexing-view-versus-copy\n",
      "  \"\"\"Entry point for launching an IPython kernel.\n"
     ]
    }
   ],
   "source": [
    "#reassigning this data point to original cause it has already been changed for uber type \n",
    "data_next['dest_region'][data_next.trip_id == 'ID1294958888'] = \"3.0\""
   ]
  },
  {
   "cell_type": "code",
   "execution_count": null,
   "metadata": {},
   "outputs": [],
   "source": [
    "data_next['dest_region'][data_next.trip_id == 'ID5905696098'] = \"8.0\""
   ]
  },
  {
   "cell_type": "code",
   "execution_count": 1185,
   "metadata": {},
   "outputs": [
    {
     "data": {
      "text/html": [
       "<div>\n",
       "<style scoped>\n",
       "    .dataframe tbody tr th:only-of-type {\n",
       "        vertical-align: middle;\n",
       "    }\n",
       "\n",
       "    .dataframe tbody tr th {\n",
       "        vertical-align: top;\n",
       "    }\n",
       "\n",
       "    .dataframe thead th {\n",
       "        text-align: right;\n",
       "    }\n",
       "</style>\n",
       "<table border=\"1\" class=\"dataframe\">\n",
       "  <thead>\n",
       "    <tr style=\"text-align: right;\">\n",
       "      <th></th>\n",
       "      <th>trip_id</th>\n",
       "      <th>type</th>\n",
       "      <th>ori_region</th>\n",
       "      <th>dest_region</th>\n",
       "      <th>ori_lat</th>\n",
       "      <th>ori_lng</th>\n",
       "      <th>dest_lat</th>\n",
       "      <th>dest_long</th>\n",
       "      <th>j_distance</th>\n",
       "      <th>dept_date</th>\n",
       "      <th>dept_time</th>\n",
       "      <th>travel_time</th>\n",
       "      <th>arrival_time</th>\n",
       "      <th>fare</th>\n",
       "      <th>origin_node</th>\n",
       "      <th>dest_node</th>\n",
       "      <th>new_dist</th>\n",
       "      <th>new_tt</th>\n",
       "    </tr>\n",
       "  </thead>\n",
       "  <tbody>\n",
       "    <tr>\n",
       "      <th>5</th>\n",
       "      <td>ID1979536679</td>\n",
       "      <td>0</td>\n",
       "      <td>8.0</td>\n",
       "      <td>2</td>\n",
       "      <td>-37.807202</td>\n",
       "      <td>145.026637</td>\n",
       "      <td>-37.8139</td>\n",
       "      <td>144.944226</td>\n",
       "      <td>8049.0</td>\n",
       "      <td>2018-07-18</td>\n",
       "      <td>03:20:07</td>\n",
       "      <td>2090.76</td>\n",
       "      <td>3:54:57</td>\n",
       "      <td>15.97</td>\n",
       "      <td>304700558</td>\n",
       "      <td>506050894</td>\n",
       "      <td>8049.0</td>\n",
       "      <td>2090.76</td>\n",
       "    </tr>\n",
       "  </tbody>\n",
       "</table>\n",
       "</div>"
      ],
      "text/plain": [
       "        trip_id  type ori_region dest_region    ori_lat     ori_lng  dest_lat  \\\n",
       "5  ID1979536679     0        8.0           2 -37.807202  145.026637  -37.8139   \n",
       "\n",
       "    dest_long  j_distance   dept_date dept_time  travel_time arrival_time  \\\n",
       "5  144.944226      8049.0  2018-07-18  03:20:07      2090.76      3:54:57   \n",
       "\n",
       "    fare  origin_node  dest_node  new_dist   new_tt  \n",
       "5  15.97    304700558  506050894    8049.0  2090.76  "
      ]
     },
     "execution_count": 1185,
     "metadata": {},
     "output_type": "execute_result"
    }
   ],
   "source": [
    "data_next[data_next.trip_id == 'ID1979536679'] "
   ]
  },
  {
   "cell_type": "markdown",
   "metadata": {},
   "source": [
    "These two points have been changed for origin, but not sure if destination should also be changed\n",
    "ID5905696098\n",
    "ID1906398306"
   ]
  },
  {
   "cell_type": "markdown",
   "metadata": {},
   "source": [
    "### 4.5 Fixing Departure time and arrival time"
   ]
  },
  {
   "cell_type": "markdown",
   "metadata": {},
   "source": [
    "Firsty the format of data is checked, to flag any inconsistency"
   ]
  },
  {
   "cell_type": "code",
   "execution_count": 1152,
   "metadata": {},
   "outputs": [],
   "source": [
    "#https://stackoverflow.com/questions/27488080/python-pandas-filter-rows-after-groupby\n",
    "\n",
    "def checktime(time):\n",
    "    correct_format = \"%H:%M:%S\"\n",
    "    isvalidtime= True\n",
    "    try:\n",
    "        datetime.datetime.strptime(time, correct_format)\n",
    "    except:\n",
    "        isvalidtime = False\n",
    "\n",
    "    if(isvalidtime):\n",
    "        return 1\n",
    "    else:\n",
    "        return 0\n"
   ]
  },
  {
   "cell_type": "code",
   "execution_count": 1153,
   "metadata": {},
   "outputs": [
    {
     "data": {
      "text/plain": [
       "298"
      ]
     },
     "execution_count": 1153,
     "metadata": {},
     "output_type": "execute_result"
    }
   ],
   "source": [
    "check_dept_time = pd.DataFrame(columns=['check'])\n",
    "check_dept_time['check'] = data_next.apply(lambda x: checktime(x['dept_time']),axis=1)\n",
    "check_dept_time.check.sum()"
   ]
  },
  {
   "cell_type": "code",
   "execution_count": 1154,
   "metadata": {},
   "outputs": [
    {
     "data": {
      "text/plain": [
       "298"
      ]
     },
     "execution_count": 1154,
     "metadata": {},
     "output_type": "execute_result"
    }
   ],
   "source": [
    "check_arr_time = pd.DataFrame(columns=['check'])\n",
    "check_arr_time['check'] = data_next.apply(lambda x: checktime(x['arrival_time']),axis=1)\n",
    "check_arr_time.check.sum()"
   ]
  },
  {
   "cell_type": "markdown",
   "metadata": {},
   "source": [
    "All the time data points are in correct format "
   ]
  },
  {
   "cell_type": "markdown",
   "metadata": {},
   "source": [
    "### Checking swap between arrival time  and departure time"
   ]
  },
  {
   "cell_type": "markdown",
   "metadata": {},
   "source": [
    "The difference between the arrival time and the departure time is checked and in cases where the difference is greater than 10 hours the arival time and departure time are swapped.\n",
    "This is done using the pd.to_timedelta function. This function helps to calculate the differnce in time, taking into account the days over which the time points are spread.\n"
   ]
  },
  {
   "cell_type": "markdown",
   "metadata": {},
   "source": [
    "### Methodology\n",
    "\n",
    "1. Calculate the time differnce between arrival time and departure time\n",
    "2. Convert the difference from timedelta format to seconds (as that be done easily)\n",
    "3. Convert the differnce to hours \n",
    "4. If the difference is greater than 10 hours then swap departure and arrival the time "
   ]
  },
  {
   "cell_type": "code",
   "execution_count": 1156,
   "metadata": {},
   "outputs": [],
   "source": [
    "#https://stackoverflow.com/questions/34519536/convert-integer-series-to-timedelta-in-pandas\n",
    "\n",
    "swap_check=data_next.copy()\n",
    "\n",
    "swap_check['diff']= pd.to_timedelta(data_next['arrival_time'])-pd.to_timedelta(data_next['dept_time'])\n",
    "swap_check['diff'] = pd.to_timedelta(swap_check['diff'].dt.seconds, unit='s')\n",
    "\n",
    "#https://www.numpy.org/devdocs/reference/arrays.datetime.html\n",
    "swap_check['check'] = swap_check['diff'] / np.timedelta64(1, 'h')\n",
    "# below step will find which time is less than 15hrs, this is a valid time\n",
    "\n",
    "#assuption is that if hours > 10 then its a swapped case of dept time and arrival time\n",
    "cond = swap_check.check > 10\n",
    "swap_check.loc[cond, ['arrival_time', 'dept_time']] = swap_check.loc[cond, ['dept_time', 'arrival_time']].values\n"
   ]
  },
  {
   "cell_type": "code",
   "execution_count": 1157,
   "metadata": {},
   "outputs": [
    {
     "data": {
      "text/html": [
       "<div>\n",
       "<style scoped>\n",
       "    .dataframe tbody tr th:only-of-type {\n",
       "        vertical-align: middle;\n",
       "    }\n",
       "\n",
       "    .dataframe tbody tr th {\n",
       "        vertical-align: top;\n",
       "    }\n",
       "\n",
       "    .dataframe thead th {\n",
       "        text-align: right;\n",
       "    }\n",
       "</style>\n",
       "<table border=\"1\" class=\"dataframe\">\n",
       "  <thead>\n",
       "    <tr style=\"text-align: right;\">\n",
       "      <th></th>\n",
       "      <th>trip_id</th>\n",
       "      <th>type</th>\n",
       "      <th>ori_region</th>\n",
       "      <th>dest_region</th>\n",
       "      <th>ori_lat</th>\n",
       "      <th>ori_lng</th>\n",
       "      <th>dest_lat</th>\n",
       "      <th>dest_long</th>\n",
       "      <th>j_distance</th>\n",
       "      <th>dept_date</th>\n",
       "      <th>dept_time</th>\n",
       "      <th>travel_time</th>\n",
       "      <th>arrival_time</th>\n",
       "      <th>fare</th>\n",
       "      <th>diff</th>\n",
       "      <th>check</th>\n",
       "    </tr>\n",
       "  </thead>\n",
       "  <tbody>\n",
       "    <tr>\n",
       "      <th>0</th>\n",
       "      <td>ID3320317494</td>\n",
       "      <td>1</td>\n",
       "      <td>3</td>\n",
       "      <td>5</td>\n",
       "      <td>-37.825296</td>\n",
       "      <td>144.982523</td>\n",
       "      <td>-37.810676</td>\n",
       "      <td>144.926025</td>\n",
       "      <td>6240.6</td>\n",
       "      <td>2018-01-16</td>\n",
       "      <td>01:17:03</td>\n",
       "      <td>1531.56</td>\n",
       "      <td>1:42:34</td>\n",
       "      <td>20.38</td>\n",
       "      <td>00:25:31</td>\n",
       "      <td>0.425278</td>\n",
       "    </tr>\n",
       "    <tr>\n",
       "      <th>1</th>\n",
       "      <td>ID3331420694</td>\n",
       "      <td>1</td>\n",
       "      <td>1</td>\n",
       "      <td>4</td>\n",
       "      <td>-37.808916</td>\n",
       "      <td>144.966157</td>\n",
       "      <td>-37.808679</td>\n",
       "      <td>145.006707</td>\n",
       "      <td>3842.1</td>\n",
       "      <td>2018-05-23</td>\n",
       "      <td>11:12:16</td>\n",
       "      <td>903.36</td>\n",
       "      <td>11:27:19</td>\n",
       "      <td>8.67</td>\n",
       "      <td>00:15:03</td>\n",
       "      <td>0.250833</td>\n",
       "    </tr>\n",
       "    <tr>\n",
       "      <th>2</th>\n",
       "      <td>ID1609759320</td>\n",
       "      <td>0</td>\n",
       "      <td>2</td>\n",
       "      <td>1</td>\n",
       "      <td>-37.818954</td>\n",
       "      <td>144.943264</td>\n",
       "      <td>-37.802045</td>\n",
       "      <td>144.966781</td>\n",
       "      <td>3382.1</td>\n",
       "      <td>2018-07-04</td>\n",
       "      <td>08:23:32</td>\n",
       "      <td>907.56</td>\n",
       "      <td>8:38:39</td>\n",
       "      <td>5.16</td>\n",
       "      <td>00:15:07</td>\n",
       "      <td>0.251944</td>\n",
       "    </tr>\n",
       "    <tr>\n",
       "      <th>3</th>\n",
       "      <td>ID1587559514</td>\n",
       "      <td>0</td>\n",
       "      <td>8</td>\n",
       "      <td>2</td>\n",
       "      <td>-37.815834</td>\n",
       "      <td>145.046450</td>\n",
       "      <td>-37.813678</td>\n",
       "      <td>144.939437</td>\n",
       "      <td>9775.3</td>\n",
       "      <td>2018-02-19</td>\n",
       "      <td>20:19:07</td>\n",
       "      <td>2738.16</td>\n",
       "      <td>21:04:45</td>\n",
       "      <td>11.21</td>\n",
       "      <td>00:45:38</td>\n",
       "      <td>0.760556</td>\n",
       "    </tr>\n",
       "    <tr>\n",
       "      <th>4</th>\n",
       "      <td>ID1887103666</td>\n",
       "      <td>0</td>\n",
       "      <td>4</td>\n",
       "      <td>1</td>\n",
       "      <td>-37.821801</td>\n",
       "      <td>145.002530</td>\n",
       "      <td>-37.818042</td>\n",
       "      <td>144.952916</td>\n",
       "      <td>6182.0</td>\n",
       "      <td>2018-03-17</td>\n",
       "      <td>09:02:26</td>\n",
       "      <td>1548.90</td>\n",
       "      <td>9:28:14</td>\n",
       "      <td>9.62</td>\n",
       "      <td>00:25:48</td>\n",
       "      <td>0.430000</td>\n",
       "    </tr>\n",
       "  </tbody>\n",
       "</table>\n",
       "</div>"
      ],
      "text/plain": [
       "        trip_id  type ori_region dest_region    ori_lat     ori_lng  \\\n",
       "0  ID3320317494     1          3           5 -37.825296  144.982523   \n",
       "1  ID3331420694     1          1           4 -37.808916  144.966157   \n",
       "2  ID1609759320     0          2           1 -37.818954  144.943264   \n",
       "3  ID1587559514     0          8           2 -37.815834  145.046450   \n",
       "4  ID1887103666     0          4           1 -37.821801  145.002530   \n",
       "\n",
       "    dest_lat   dest_long  j_distance   dept_date dept_time  travel_time  \\\n",
       "0 -37.810676  144.926025      6240.6  2018-01-16  01:17:03      1531.56   \n",
       "1 -37.808679  145.006707      3842.1  2018-05-23  11:12:16       903.36   \n",
       "2 -37.802045  144.966781      3382.1  2018-07-04  08:23:32       907.56   \n",
       "3 -37.813678  144.939437      9775.3  2018-02-19  20:19:07      2738.16   \n",
       "4 -37.818042  144.952916      6182.0  2018-03-17  09:02:26      1548.90   \n",
       "\n",
       "  arrival_time   fare     diff     check  \n",
       "0      1:42:34  20.38 00:25:31  0.425278  \n",
       "1     11:27:19   8.67 00:15:03  0.250833  \n",
       "2      8:38:39   5.16 00:15:07  0.251944  \n",
       "3     21:04:45  11.21 00:45:38  0.760556  \n",
       "4      9:28:14   9.62 00:25:48  0.430000  "
      ]
     },
     "execution_count": 1157,
     "metadata": {},
     "output_type": "execute_result"
    }
   ],
   "source": [
    "swap_check.head()\n",
    "#swap_check.to_csv('time_diff_2.csv', encoding='utf-8', index=False)"
   ]
  },
  {
   "cell_type": "code",
   "execution_count": 1158,
   "metadata": {},
   "outputs": [
    {
     "data": {
      "text/html": [
       "<div>\n",
       "<style scoped>\n",
       "    .dataframe tbody tr th:only-of-type {\n",
       "        vertical-align: middle;\n",
       "    }\n",
       "\n",
       "    .dataframe tbody tr th {\n",
       "        vertical-align: top;\n",
       "    }\n",
       "\n",
       "    .dataframe thead th {\n",
       "        text-align: right;\n",
       "    }\n",
       "</style>\n",
       "<table border=\"1\" class=\"dataframe\">\n",
       "  <thead>\n",
       "    <tr style=\"text-align: right;\">\n",
       "      <th></th>\n",
       "      <th>trip_id</th>\n",
       "      <th>type</th>\n",
       "      <th>ori_region</th>\n",
       "      <th>dest_region</th>\n",
       "      <th>ori_lat</th>\n",
       "      <th>ori_lng</th>\n",
       "      <th>dest_lat</th>\n",
       "      <th>dest_long</th>\n",
       "      <th>j_distance</th>\n",
       "      <th>dept_date</th>\n",
       "      <th>dept_time</th>\n",
       "      <th>travel_time</th>\n",
       "      <th>arrival_time</th>\n",
       "      <th>fare</th>\n",
       "    </tr>\n",
       "  </thead>\n",
       "  <tbody>\n",
       "    <tr>\n",
       "      <th>164</th>\n",
       "      <td>ID1780261088</td>\n",
       "      <td>0</td>\n",
       "      <td>9</td>\n",
       "      <td>3</td>\n",
       "      <td>-38.110916</td>\n",
       "      <td>144.654173</td>\n",
       "      <td>-37.819776</td>\n",
       "      <td>144.980949</td>\n",
       "      <td>45102.0</td>\n",
       "      <td>2018-04-20</td>\n",
       "      <td>14:25:32</td>\n",
       "      <td>10845.3</td>\n",
       "      <td>17:26:17</td>\n",
       "      <td>24.49</td>\n",
       "    </tr>\n",
       "  </tbody>\n",
       "</table>\n",
       "</div>"
      ],
      "text/plain": [
       "          trip_id  type ori_region dest_region    ori_lat     ori_lng  \\\n",
       "164  ID1780261088     0          9           3 -38.110916  144.654173   \n",
       "\n",
       "      dest_lat   dest_long  j_distance   dept_date dept_time  travel_time  \\\n",
       "164 -37.819776  144.980949     45102.0  2018-04-20  14:25:32      10845.3   \n",
       "\n",
       "    arrival_time   fare  \n",
       "164     17:26:17  24.49  "
      ]
     },
     "execution_count": 1158,
     "metadata": {},
     "output_type": "execute_result"
    }
   ],
   "source": [
    "data_next[data_next['trip_id']=='ID1780261088']"
   ]
  },
  {
   "cell_type": "code",
   "execution_count": 1159,
   "metadata": {},
   "outputs": [],
   "source": [
    "data_next.dept_time = swap_check.dept_time\n",
    "data_next.arrival_time = swap_check.arrival_time\n"
   ]
  },
  {
   "cell_type": "code",
   "execution_count": 1160,
   "metadata": {},
   "outputs": [],
   "source": [
    "#proceeding further with data_next"
   ]
  },
  {
   "cell_type": "markdown",
   "metadata": {
    "scrolled": true
   },
   "source": [
    "## 4.6 Fixing the travel distance and travel time\n",
    "\n",
    "The shortest path, in meters, between the origin and the destination with respect to the nodes.txt and the edges.txt files are calculated using the Dijkstra algorithm."
   ]
  },
  {
   "cell_type": "markdown",
   "metadata": {},
   "source": [
    "### Methodology \n",
    "\n",
    "\n",
    "1. Combine the nodes file to the data file based on latitude and longitude to get the origin and destination nodes\n",
    "2. From the edges file, for each starting and ending node, the weighted distance can be obtained. Keep this aside for a while\n",
    "3. Define a function to get travel time based on path and edges.\n",
    "The edges file loaded in step 2, will be used in this function.\n",
    "4. We will be using network package to calculate the paths. This package will be used to a.Return a graph from Pandas DataFrame containing an edge list.(edges file in this case)\n",
    "b.This graph will be used as input to nx.single_source_dijkstra to get the single shortest path from origin node to destination node\n",
    "c.This graph will also be used as input to nx.all_shortest_paths to get multiple shortest path (all with same distance)\n",
    "5.We now have a way to find path based on ‘single_source_dijkstra’, therefore for all the datapoints, the path is found by passing the graph(discussed in 4.a , origin node, and destination node) \n",
    "6. The above returns a tuple with the first element as distance of the shortest path and the second element is the path itself.\n",
    "7. We can get obtain the correct distance from distance obtained in step 6. This distance is verified with the distance given in the file and 5 values mismatch which have been updated with distance obtained.\n",
    "8. The path is now passed to  a function to calculate time, along with the edges time. This time is compared to the time in dataset and only 30 entries mismatch\n",
    "9. For these 30 entries, the multiple shortest path is obtained (4.c). The time taken by each path is calculated (3). Now we check if  the time time list obtained by the multiple paths contains the given time in dirty data for the 30 cases. If yes it means that given time is correct as Uber driver may have taken the alternative shortest route. \n",
    "10. There could still be cases (24 exactly) where the given travel time has not matched the Dijkstra algorithm time. This could be indicative of error in given time. The next 3 steps are performed for these cases.\n",
    "11. Now we check the difference between arrival time and departure time. If the difference is same as calculated new time, then all good but if not then more deep dive is done.\n",
    "12. Now going by the assumption, that given time is correct, the arrival time is recalculated as departure time + given travel time.\n",
    "13. In the cases where the calculated arrival time does not match the given time, the arrival time is updated as we know only one entry can be wrong in a row.\n",
    "14. The given time is updated for cases where difference and new travel time are same.\n",
    "15. Now based on assumption that travel time is correct, post updating, we check in entire dataset if there is difference between calculated difference and travel time. If there is difference then arrival time is updated. \n",
    "Thus distance, travel time and arrival time are updated.\n",
    "\n"
   ]
  },
  {
   "cell_type": "code",
   "execution_count": 1205,
   "metadata": {},
   "outputs": [
    {
     "data": {
      "text/plain": [
       "Index(['trip_id', 'type', 'ori_region', 'dest_region', 'ori_lat', 'ori_lng',\n",
       "       'dest_lat', 'dest_long', 'j_distance', 'dept_date', 'dept_time',\n",
       "       'travel_time', 'arrival_time', 'fare', 'origin_node', 'dest_node',\n",
       "       'new_dist', 'new_tt'],\n",
       "      dtype='object')"
      ]
     },
     "execution_count": 1205,
     "metadata": {},
     "output_type": "execute_result"
    }
   ],
   "source": [
    "#journey distance calculation\n",
    "#steps\n",
    "#add nodes to the dirty file\n",
    "#\n",
    "data_next.columns"
   ]
  },
  {
   "cell_type": "code",
   "execution_count": 1167,
   "metadata": {},
   "outputs": [],
   "source": [
    "nodes.columns=['node', 'lat', 'lng']"
   ]
  },
  {
   "cell_type": "code",
   "execution_count": 1331,
   "metadata": {},
   "outputs": [
    {
     "data": {
      "text/plain": [
       "(298, 14)"
      ]
     },
     "execution_count": 1331,
     "metadata": {},
     "output_type": "execute_result"
    }
   ],
   "source": [
    "#making backup of data_next \n",
    "data_5 = data_next.copy()\n",
    "data_5.shape\n",
    "\n"
   ]
  },
  {
   "cell_type": "code",
   "execution_count": 1332,
   "metadata": {},
   "outputs": [],
   "source": [
    "data_next = pd.merge(data_next, nodes,  how='left', left_on=['ori_lat','ori_lng'], right_on = ['lat','lng'])\n",
    "data_next = data_next.drop(columns=['lat','lng'])\n",
    "data_next.columns=['trip_id', 'type', 'ori_region', 'dest_region', 'ori_lat', 'ori_lng','dest_lat', 'dest_long', 'j_distance', 'dept_date', 'dept_time','travel_time', 'arrival_time', 'fare','origin_node']"
   ]
  },
  {
   "cell_type": "code",
   "execution_count": 1333,
   "metadata": {},
   "outputs": [
    {
     "data": {
      "text/plain": [
       "(298, 15)"
      ]
     },
     "execution_count": 1333,
     "metadata": {},
     "output_type": "execute_result"
    }
   ],
   "source": [
    "data_next.shape"
   ]
  },
  {
   "cell_type": "code",
   "execution_count": 1334,
   "metadata": {},
   "outputs": [],
   "source": [
    "data_next = pd.merge(data_next, nodes,  how='left', left_on=['dest_lat','dest_long'], right_on = ['lat','lng'])\n",
    "data_next = data_next.drop(columns=['lat','lng'])\n",
    "data_next.columns=['trip_id', 'type', 'ori_region', 'dest_region', 'ori_lat', 'ori_lng','dest_lat', 'dest_long', 'j_distance', 'dept_date', 'dept_time','travel_time', 'arrival_time', 'fare','origin_node','dest_node']"
   ]
  },
  {
   "cell_type": "code",
   "execution_count": 1335,
   "metadata": {},
   "outputs": [
    {
     "data": {
      "text/plain": [
       "(298, 16)"
      ]
     },
     "execution_count": 1335,
     "metadata": {},
     "output_type": "execute_result"
    }
   ],
   "source": [
    "data_next.shape"
   ]
  },
  {
   "cell_type": "code",
   "execution_count": 1336,
   "metadata": {},
   "outputs": [
    {
     "data": {
      "text/html": [
       "<div>\n",
       "<style scoped>\n",
       "    .dataframe tbody tr th:only-of-type {\n",
       "        vertical-align: middle;\n",
       "    }\n",
       "\n",
       "    .dataframe tbody tr th {\n",
       "        vertical-align: top;\n",
       "    }\n",
       "\n",
       "    .dataframe thead th {\n",
       "        text-align: right;\n",
       "    }\n",
       "</style>\n",
       "<table border=\"1\" class=\"dataframe\">\n",
       "  <thead>\n",
       "    <tr style=\"text-align: right;\">\n",
       "      <th></th>\n",
       "      <th>id</th>\n",
       "      <th>u</th>\n",
       "      <th>v</th>\n",
       "      <th>distance_m</th>\n",
       "      <th>street_type</th>\n",
       "      <th>speed_kmh</th>\n",
       "    </tr>\n",
       "  </thead>\n",
       "  <tbody>\n",
       "    <tr>\n",
       "      <th>0</th>\n",
       "      <td>0</td>\n",
       "      <td>711327755</td>\n",
       "      <td>711332946</td>\n",
       "      <td>58.0</td>\n",
       "      <td>1</td>\n",
       "      <td>15.0</td>\n",
       "    </tr>\n",
       "    <tr>\n",
       "      <th>1</th>\n",
       "      <td>2</td>\n",
       "      <td>711327755</td>\n",
       "      <td>55725841</td>\n",
       "      <td>15.0</td>\n",
       "      <td>2</td>\n",
       "      <td>20.0</td>\n",
       "    </tr>\n",
       "    <tr>\n",
       "      <th>2</th>\n",
       "      <td>3</td>\n",
       "      <td>711327755</td>\n",
       "      <td>711327760</td>\n",
       "      <td>165.0</td>\n",
       "      <td>1</td>\n",
       "      <td>15.0</td>\n",
       "    </tr>\n",
       "    <tr>\n",
       "      <th>3</th>\n",
       "      <td>4</td>\n",
       "      <td>711327756</td>\n",
       "      <td>703557073</td>\n",
       "      <td>4.0</td>\n",
       "      <td>0</td>\n",
       "      <td>10.0</td>\n",
       "    </tr>\n",
       "    <tr>\n",
       "      <th>4</th>\n",
       "      <td>5</td>\n",
       "      <td>711327756</td>\n",
       "      <td>711332946</td>\n",
       "      <td>8.0</td>\n",
       "      <td>1</td>\n",
       "      <td>15.0</td>\n",
       "    </tr>\n",
       "  </tbody>\n",
       "</table>\n",
       "</div>"
      ],
      "text/plain": [
       "   id          u          v  distance_m  street_type  speed_kmh\n",
       "0   0  711327755  711332946        58.0            1       15.0\n",
       "1   2  711327755   55725841        15.0            2       20.0\n",
       "2   3  711327755  711327760       165.0            1       15.0\n",
       "3   4  711327756  703557073         4.0            0       10.0\n",
       "4   5  711327756  711332946         8.0            1       15.0"
      ]
     },
     "execution_count": 1336,
     "metadata": {},
     "output_type": "execute_result"
    }
   ],
   "source": [
    "#working on edges file\n",
    "edges.head()"
   ]
  },
  {
   "cell_type": "code",
   "execution_count": 1337,
   "metadata": {},
   "outputs": [],
   "source": [
    "edges.columns=['id', 'u', 'v','distance_m', 'street_type', 'speed_kmh']"
   ]
  },
  {
   "cell_type": "code",
   "execution_count": 1338,
   "metadata": {},
   "outputs": [],
   "source": [
    "#calculate travel time \n",
    "\n",
    "def traveltime(path, edges):\n",
    "    tt = 0\n",
    "    for i in range(len(path)-1):\n",
    "        tt = tt + (edges[((edges.u==path[i]) & (edges.v== path[i+1])) | ((edges.v==path[i]) & (edges.u== path[i+1]))]['distance_m'].values[0] * 1.0 * 3600) / (edges[((edges.u==path[i]) & (edges.v== path[i+1])) | ((edges.v==path[i]) & (edges.u== path[i+1]))]['speed_kmh'].values[0] * 1000)    \n",
    "    return tt"
   ]
  },
  {
   "cell_type": "code",
   "execution_count": 1339,
   "metadata": {},
   "outputs": [],
   "source": [
    "#https://www.python-course.eu/networkx.php\n",
    "import networkx as nx\n",
    "G=nx.from_pandas_edgelist(edges,'u','v',['distance_m'])"
   ]
  },
  {
   "cell_type": "code",
   "execution_count": 1340,
   "metadata": {},
   "outputs": [],
   "source": [
    "#single path \n",
    "def get_shortest_path(vertex1, vertex2):\n",
    "        try:\n",
    "            return nx.single_source_dijkstra(G, source=vertex1, target=vertex2, weight='distance_m')\n",
    "        except nx.NetworkXNoPath:\n",
    "            return 0 \n",
    "\n",
    "data_next['n_p'] = data_next.apply(lambda x: get_shortest_path(x['origin_node'],x['dest_node'] ),axis=1)\n"
   ]
  },
  {
   "cell_type": "code",
   "execution_count": 1341,
   "metadata": {},
   "outputs": [
    {
     "name": "stderr",
     "output_type": "stream",
     "text": [
      "C:\\Users\\Stephy\\Anaconda3\\lib\\site-packages\\pandas\\core\\indexing.py:189: SettingWithCopyWarning: \n",
      "A value is trying to be set on a copy of a slice from a DataFrame\n",
      "\n",
      "See the caveats in the documentation: http://pandas.pydata.org/pandas-docs/stable/indexing.html#indexing-view-versus-copy\n",
      "  self._setitem_with_indexer(indexer, value)\n"
     ]
    }
   ],
   "source": [
    "#get distance and time based on single path\n",
    "data_next['new_dist']=0.00\n",
    "data_next['new_tt']=0.00\n",
    "\n",
    "for i in range(len(data_next)):\n",
    "    #distance is the first value in tuple\n",
    "    data_next['new_dist'].iloc[i] = round(data_next.n_p.iloc[i][0],2)\n",
    "    #separating path \n",
    "    path = data_next.n_p.iloc[i][1]\n",
    "    data_next['new_tt'].iloc[i] = round(traveltime(path,edges),2)\n",
    " "
   ]
  },
  {
   "cell_type": "code",
   "execution_count": 1342,
   "metadata": {},
   "outputs": [],
   "source": [
    "#data_next\n",
    "#dropping extra columns\n",
    "data_next = data_next.drop(columns=['n_p'])"
   ]
  },
  {
   "cell_type": "code",
   "execution_count": 1343,
   "metadata": {},
   "outputs": [
    {
     "name": "stdout",
     "output_type": "stream",
     "text": [
      "293\n",
      "5\n",
      "268\n",
      "30\n"
     ]
    }
   ],
   "source": [
    "#checking how many distances are different\n",
    "print(len(data_next[(round(data_next['j_distance'],2)-round(data_next['new_dist'],2))==0]))\n",
    "print(len(data_next[(round(data_next['j_distance'],2)-round(data_next['new_dist'],2))!=0]))\n",
    "\n",
    "data_next['j_distance'] = data_next['new_dist']\n",
    "\n",
    "print(len(data_next[(round(data_next['travel_time'],2)-round(data_next['new_tt'],2))==0]))\n",
    "print(len(data_next[(round(data_next['travel_time'],2)-round(data_next['new_tt'],2))!=0]))\n"
   ]
  },
  {
   "cell_type": "code",
   "execution_count": 1344,
   "metadata": {
    "collapsed": true
   },
   "outputs": [
    {
     "data": {
      "text/html": [
       "<div>\n",
       "<style scoped>\n",
       "    .dataframe tbody tr th:only-of-type {\n",
       "        vertical-align: middle;\n",
       "    }\n",
       "\n",
       "    .dataframe tbody tr th {\n",
       "        vertical-align: top;\n",
       "    }\n",
       "\n",
       "    .dataframe thead th {\n",
       "        text-align: right;\n",
       "    }\n",
       "</style>\n",
       "<table border=\"1\" class=\"dataframe\">\n",
       "  <thead>\n",
       "    <tr style=\"text-align: right;\">\n",
       "      <th></th>\n",
       "      <th>trip_id</th>\n",
       "      <th>type</th>\n",
       "      <th>ori_region</th>\n",
       "      <th>dest_region</th>\n",
       "      <th>ori_lat</th>\n",
       "      <th>ori_lng</th>\n",
       "      <th>dest_lat</th>\n",
       "      <th>dest_long</th>\n",
       "      <th>j_distance</th>\n",
       "      <th>dept_date</th>\n",
       "      <th>dept_time</th>\n",
       "      <th>travel_time</th>\n",
       "      <th>arrival_time</th>\n",
       "      <th>fare</th>\n",
       "      <th>origin_node</th>\n",
       "      <th>dest_node</th>\n",
       "      <th>new_dist</th>\n",
       "      <th>new_tt</th>\n",
       "    </tr>\n",
       "  </thead>\n",
       "  <tbody>\n",
       "    <tr>\n",
       "      <th>0</th>\n",
       "      <td>ID3320317494</td>\n",
       "      <td>1</td>\n",
       "      <td>3</td>\n",
       "      <td>5</td>\n",
       "      <td>-37.825296</td>\n",
       "      <td>144.982523</td>\n",
       "      <td>-37.810676</td>\n",
       "      <td>144.926025</td>\n",
       "      <td>6235.0</td>\n",
       "      <td>2018-01-16</td>\n",
       "      <td>01:17:03</td>\n",
       "      <td>1531.56</td>\n",
       "      <td>1:42:34</td>\n",
       "      <td>20.38</td>\n",
       "      <td>746917816</td>\n",
       "      <td>4893634375</td>\n",
       "      <td>6235.0</td>\n",
       "      <td>1531.56</td>\n",
       "    </tr>\n",
       "    <tr>\n",
       "      <th>1</th>\n",
       "      <td>ID3331420694</td>\n",
       "      <td>1</td>\n",
       "      <td>1</td>\n",
       "      <td>4</td>\n",
       "      <td>-37.808916</td>\n",
       "      <td>144.966157</td>\n",
       "      <td>-37.808679</td>\n",
       "      <td>145.006707</td>\n",
       "      <td>3835.0</td>\n",
       "      <td>2018-05-23</td>\n",
       "      <td>11:12:16</td>\n",
       "      <td>903.36</td>\n",
       "      <td>11:27:19</td>\n",
       "      <td>8.67</td>\n",
       "      <td>6167344486</td>\n",
       "      <td>332794366</td>\n",
       "      <td>3835.0</td>\n",
       "      <td>903.36</td>\n",
       "    </tr>\n",
       "    <tr>\n",
       "      <th>2</th>\n",
       "      <td>ID1609759320</td>\n",
       "      <td>0</td>\n",
       "      <td>2</td>\n",
       "      <td>1</td>\n",
       "      <td>-37.818954</td>\n",
       "      <td>144.943264</td>\n",
       "      <td>-37.802045</td>\n",
       "      <td>144.966781</td>\n",
       "      <td>3376.0</td>\n",
       "      <td>2018-07-04</td>\n",
       "      <td>08:23:32</td>\n",
       "      <td>907.56</td>\n",
       "      <td>8:38:39</td>\n",
       "      <td>5.16</td>\n",
       "      <td>2397324992</td>\n",
       "      <td>137182987</td>\n",
       "      <td>3376.0</td>\n",
       "      <td>907.56</td>\n",
       "    </tr>\n",
       "    <tr>\n",
       "      <th>3</th>\n",
       "      <td>ID1587559514</td>\n",
       "      <td>0</td>\n",
       "      <td>8</td>\n",
       "      <td>2</td>\n",
       "      <td>-37.815834</td>\n",
       "      <td>145.046450</td>\n",
       "      <td>-37.813678</td>\n",
       "      <td>144.939437</td>\n",
       "      <td>9768.0</td>\n",
       "      <td>2018-02-19</td>\n",
       "      <td>20:19:07</td>\n",
       "      <td>2738.16</td>\n",
       "      <td>21:04:45</td>\n",
       "      <td>11.21</td>\n",
       "      <td>1889485053</td>\n",
       "      <td>634785708</td>\n",
       "      <td>9768.0</td>\n",
       "      <td>2738.16</td>\n",
       "    </tr>\n",
       "    <tr>\n",
       "      <th>4</th>\n",
       "      <td>ID1887103666</td>\n",
       "      <td>0</td>\n",
       "      <td>4</td>\n",
       "      <td>1</td>\n",
       "      <td>-37.821801</td>\n",
       "      <td>145.002530</td>\n",
       "      <td>-37.818042</td>\n",
       "      <td>144.952916</td>\n",
       "      <td>6182.0</td>\n",
       "      <td>2018-03-17</td>\n",
       "      <td>09:02:26</td>\n",
       "      <td>1548.90</td>\n",
       "      <td>9:28:14</td>\n",
       "      <td>9.62</td>\n",
       "      <td>4909776718</td>\n",
       "      <td>3967630087</td>\n",
       "      <td>6182.0</td>\n",
       "      <td>1548.90</td>\n",
       "    </tr>\n",
       "    <tr>\n",
       "      <th>5</th>\n",
       "      <td>ID1979536679</td>\n",
       "      <td>0</td>\n",
       "      <td>4</td>\n",
       "      <td>2</td>\n",
       "      <td>-37.807202</td>\n",
       "      <td>145.026637</td>\n",
       "      <td>-37.813900</td>\n",
       "      <td>144.944226</td>\n",
       "      <td>8049.0</td>\n",
       "      <td>2018-07-18</td>\n",
       "      <td>03:20:07</td>\n",
       "      <td>2090.76</td>\n",
       "      <td>3:54:57</td>\n",
       "      <td>15.97</td>\n",
       "      <td>304700558</td>\n",
       "      <td>506050894</td>\n",
       "      <td>8049.0</td>\n",
       "      <td>2090.76</td>\n",
       "    </tr>\n",
       "    <tr>\n",
       "      <th>6</th>\n",
       "      <td>ID5564889848</td>\n",
       "      <td>2</td>\n",
       "      <td>9</td>\n",
       "      <td>6</td>\n",
       "      <td>-38.110916</td>\n",
       "      <td>144.654173</td>\n",
       "      <td>-37.773803</td>\n",
       "      <td>144.983647</td>\n",
       "      <td>51061.0</td>\n",
       "      <td>2018-04-07</td>\n",
       "      <td>01:05:35</td>\n",
       "      <td>12952.44</td>\n",
       "      <td>4:41:27</td>\n",
       "      <td>1086.17</td>\n",
       "      <td>5002706670</td>\n",
       "      <td>2455254505</td>\n",
       "      <td>51061.0</td>\n",
       "      <td>12979.38</td>\n",
       "    </tr>\n",
       "    <tr>\n",
       "      <th>7</th>\n",
       "      <td>ID3484088696</td>\n",
       "      <td>1</td>\n",
       "      <td>4</td>\n",
       "      <td>5</td>\n",
       "      <td>-37.807202</td>\n",
       "      <td>145.026637</td>\n",
       "      <td>-37.809116</td>\n",
       "      <td>144.931933</td>\n",
       "      <td>9196.0</td>\n",
       "      <td>2018-03-16</td>\n",
       "      <td>11:32:50</td>\n",
       "      <td>2323.26</td>\n",
       "      <td>12:11:33</td>\n",
       "      <td>12.75</td>\n",
       "      <td>304700558</td>\n",
       "      <td>76459296</td>\n",
       "      <td>9196.0</td>\n",
       "      <td>2323.26</td>\n",
       "    </tr>\n",
       "    <tr>\n",
       "      <th>8</th>\n",
       "      <td>ID1812981782</td>\n",
       "      <td>0</td>\n",
       "      <td>5</td>\n",
       "      <td>7</td>\n",
       "      <td>-37.805824</td>\n",
       "      <td>144.936687</td>\n",
       "      <td>-37.861835</td>\n",
       "      <td>144.905716</td>\n",
       "      <td>10628.0</td>\n",
       "      <td>2018-03-16</td>\n",
       "      <td>13:06:46</td>\n",
       "      <td>3458.40</td>\n",
       "      <td>14:04:24</td>\n",
       "      <td>12.89</td>\n",
       "      <td>3555802214</td>\n",
       "      <td>1390575046</td>\n",
       "      <td>10628.0</td>\n",
       "      <td>3458.40</td>\n",
       "    </tr>\n",
       "    <tr>\n",
       "      <th>9</th>\n",
       "      <td>ID3341998310</td>\n",
       "      <td>1</td>\n",
       "      <td>8</td>\n",
       "      <td>4</td>\n",
       "      <td>-37.815834</td>\n",
       "      <td>145.046450</td>\n",
       "      <td>-37.814064</td>\n",
       "      <td>145.012872</td>\n",
       "      <td>3783.0</td>\n",
       "      <td>2018-07-20</td>\n",
       "      <td>10:12:02</td>\n",
       "      <td>1236.78</td>\n",
       "      <td>10:32:38</td>\n",
       "      <td>9.25</td>\n",
       "      <td>1889485053</td>\n",
       "      <td>4299945073</td>\n",
       "      <td>3783.0</td>\n",
       "      <td>1236.78</td>\n",
       "    </tr>\n",
       "    <tr>\n",
       "      <th>10</th>\n",
       "      <td>ID3753477988</td>\n",
       "      <td>1</td>\n",
       "      <td>4</td>\n",
       "      <td>3</td>\n",
       "      <td>-37.803804</td>\n",
       "      <td>145.010846</td>\n",
       "      <td>-37.823398</td>\n",
       "      <td>144.968964</td>\n",
       "      <td>5712.0</td>\n",
       "      <td>2018-05-27</td>\n",
       "      <td>07:53:49</td>\n",
       "      <td>1419.24</td>\n",
       "      <td>8:17:28</td>\n",
       "      <td>12.20</td>\n",
       "      <td>1053540533</td>\n",
       "      <td>1350268191</td>\n",
       "      <td>5712.0</td>\n",
       "      <td>1419.24</td>\n",
       "    </tr>\n",
       "    <tr>\n",
       "      <th>11</th>\n",
       "      <td>ID3289729344</td>\n",
       "      <td>1</td>\n",
       "      <td>7</td>\n",
       "      <td>6</td>\n",
       "      <td>-37.861835</td>\n",
       "      <td>144.905716</td>\n",
       "      <td>-37.790818</td>\n",
       "      <td>144.985793</td>\n",
       "      <td>11712.0</td>\n",
       "      <td>2018-07-20</td>\n",
       "      <td>16:46:47</td>\n",
       "      <td>3700.98</td>\n",
       "      <td>17:48:27</td>\n",
       "      <td>22.65</td>\n",
       "      <td>1390575046</td>\n",
       "      <td>4307007287</td>\n",
       "      <td>11712.0</td>\n",
       "      <td>3700.98</td>\n",
       "    </tr>\n",
       "    <tr>\n",
       "      <th>12</th>\n",
       "      <td>ID5483559671</td>\n",
       "      <td>2</td>\n",
       "      <td>7</td>\n",
       "      <td>4</td>\n",
       "      <td>-37.861835</td>\n",
       "      <td>144.905716</td>\n",
       "      <td>-37.803248</td>\n",
       "      <td>145.001800</td>\n",
       "      <td>11773.0</td>\n",
       "      <td>2018-05-22</td>\n",
       "      <td>05:09:16</td>\n",
       "      <td>3764.64</td>\n",
       "      <td>6:12:00</td>\n",
       "      <td>337.45</td>\n",
       "      <td>1390575046</td>\n",
       "      <td>310944170</td>\n",
       "      <td>11773.0</td>\n",
       "      <td>3764.64</td>\n",
       "    </tr>\n",
       "    <tr>\n",
       "      <th>13</th>\n",
       "      <td>ID3680975253</td>\n",
       "      <td>1</td>\n",
       "      <td>8</td>\n",
       "      <td>9</td>\n",
       "      <td>-37.815834</td>\n",
       "      <td>145.046450</td>\n",
       "      <td>-38.110916</td>\n",
       "      <td>144.654173</td>\n",
       "      <td>51032.0</td>\n",
       "      <td>2018-01-08</td>\n",
       "      <td>02:23:09</td>\n",
       "      <td>12681.06</td>\n",
       "      <td>5:54:30</td>\n",
       "      <td>58.10</td>\n",
       "      <td>1889485053</td>\n",
       "      <td>5002706670</td>\n",
       "      <td>51032.0</td>\n",
       "      <td>12681.06</td>\n",
       "    </tr>\n",
       "    <tr>\n",
       "      <th>14</th>\n",
       "      <td>ID3942713997</td>\n",
       "      <td>1</td>\n",
       "      <td>5</td>\n",
       "      <td>5</td>\n",
       "      <td>-37.805381</td>\n",
       "      <td>144.936395</td>\n",
       "      <td>-37.815388</td>\n",
       "      <td>144.928071</td>\n",
       "      <td>3071.0</td>\n",
       "      <td>2018-05-24</td>\n",
       "      <td>08:20:02</td>\n",
       "      <td>729.12</td>\n",
       "      <td>8:32:11</td>\n",
       "      <td>7.07</td>\n",
       "      <td>33366761</td>\n",
       "      <td>206204609</td>\n",
       "      <td>3071.0</td>\n",
       "      <td>729.12</td>\n",
       "    </tr>\n",
       "    <tr>\n",
       "      <th>15</th>\n",
       "      <td>ID3653448231</td>\n",
       "      <td>1</td>\n",
       "      <td>5</td>\n",
       "      <td>7</td>\n",
       "      <td>-37.805003</td>\n",
       "      <td>144.925262</td>\n",
       "      <td>-37.861835</td>\n",
       "      <td>144.905716</td>\n",
       "      <td>11609.0</td>\n",
       "      <td>2018-02-21</td>\n",
       "      <td>17:45:27</td>\n",
       "      <td>3623.22</td>\n",
       "      <td>18:45:50</td>\n",
       "      <td>21.85</td>\n",
       "      <td>202767928</td>\n",
       "      <td>1390575046</td>\n",
       "      <td>11609.0</td>\n",
       "      <td>3623.22</td>\n",
       "    </tr>\n",
       "    <tr>\n",
       "      <th>16</th>\n",
       "      <td>ID3728008578</td>\n",
       "      <td>1</td>\n",
       "      <td>3</td>\n",
       "      <td>5</td>\n",
       "      <td>-37.808281</td>\n",
       "      <td>144.976622</td>\n",
       "      <td>-37.815212</td>\n",
       "      <td>144.927553</td>\n",
       "      <td>5609.0</td>\n",
       "      <td>2018-01-15</td>\n",
       "      <td>00:34:37</td>\n",
       "      <td>1440.12</td>\n",
       "      <td>0:58:37</td>\n",
       "      <td>19.68</td>\n",
       "      <td>2189377522</td>\n",
       "      <td>4754200377</td>\n",
       "      <td>5609.0</td>\n",
       "      <td>1440.12</td>\n",
       "    </tr>\n",
       "    <tr>\n",
       "      <th>17</th>\n",
       "      <td>ID3124798479</td>\n",
       "      <td>1</td>\n",
       "      <td>3</td>\n",
       "      <td>9</td>\n",
       "      <td>-37.815981</td>\n",
       "      <td>144.972550</td>\n",
       "      <td>-38.110916</td>\n",
       "      <td>144.654173</td>\n",
       "      <td>44294.0</td>\n",
       "      <td>2018-05-28</td>\n",
       "      <td>23:40:33</td>\n",
       "      <td>10706.70</td>\n",
       "      <td>2:38:59</td>\n",
       "      <td>49.89</td>\n",
       "      <td>1449431604</td>\n",
       "      <td>5002706670</td>\n",
       "      <td>44294.0</td>\n",
       "      <td>10706.70</td>\n",
       "    </tr>\n",
       "    <tr>\n",
       "      <th>18</th>\n",
       "      <td>ID5265952630</td>\n",
       "      <td>2</td>\n",
       "      <td>8</td>\n",
       "      <td>7</td>\n",
       "      <td>-37.815834</td>\n",
       "      <td>145.046450</td>\n",
       "      <td>-37.861835</td>\n",
       "      <td>144.905716</td>\n",
       "      <td>15151.0</td>\n",
       "      <td>2018-01-19</td>\n",
       "      <td>07:30:46</td>\n",
       "      <td>4917.48</td>\n",
       "      <td>8:52:43</td>\n",
       "      <td>409.10</td>\n",
       "      <td>1889485053</td>\n",
       "      <td>1390575046</td>\n",
       "      <td>15151.0</td>\n",
       "      <td>4917.48</td>\n",
       "    </tr>\n",
       "    <tr>\n",
       "      <th>19</th>\n",
       "      <td>ID3149029314</td>\n",
       "      <td>1</td>\n",
       "      <td>5</td>\n",
       "      <td>9</td>\n",
       "      <td>-37.800891</td>\n",
       "      <td>144.919491</td>\n",
       "      <td>-38.110916</td>\n",
       "      <td>144.654173</td>\n",
       "      <td>45039.0</td>\n",
       "      <td>2018-07-28</td>\n",
       "      <td>23:22:52</td>\n",
       "      <td>10890.00</td>\n",
       "      <td>2:24:22</td>\n",
       "      <td>55.42</td>\n",
       "      <td>202498972</td>\n",
       "      <td>5002706670</td>\n",
       "      <td>45039.0</td>\n",
       "      <td>10890.00</td>\n",
       "    </tr>\n",
       "    <tr>\n",
       "      <th>20</th>\n",
       "      <td>ID1228755238</td>\n",
       "      <td>0</td>\n",
       "      <td>2</td>\n",
       "      <td>9</td>\n",
       "      <td>-37.813099</td>\n",
       "      <td>144.936426</td>\n",
       "      <td>-38.110916</td>\n",
       "      <td>144.654173</td>\n",
       "      <td>43006.0</td>\n",
       "      <td>2018-03-08</td>\n",
       "      <td>05:41:14</td>\n",
       "      <td>10345.38</td>\n",
       "      <td>8:33:39</td>\n",
       "      <td>25.71</td>\n",
       "      <td>710002037</td>\n",
       "      <td>5002706670</td>\n",
       "      <td>43006.0</td>\n",
       "      <td>10345.38</td>\n",
       "    </tr>\n",
       "    <tr>\n",
       "      <th>21</th>\n",
       "      <td>ID3650801241</td>\n",
       "      <td>1</td>\n",
       "      <td>1</td>\n",
       "      <td>8</td>\n",
       "      <td>-37.802817</td>\n",
       "      <td>144.966507</td>\n",
       "      <td>-37.815834</td>\n",
       "      <td>145.046450</td>\n",
       "      <td>7544.0</td>\n",
       "      <td>2018-01-06</td>\n",
       "      <td>05:22:18</td>\n",
       "      <td>2230.98</td>\n",
       "      <td>5:59:28</td>\n",
       "      <td>26.28</td>\n",
       "      <td>2005895266</td>\n",
       "      <td>1889485053</td>\n",
       "      <td>7544.0</td>\n",
       "      <td>2230.98</td>\n",
       "    </tr>\n",
       "    <tr>\n",
       "      <th>22</th>\n",
       "      <td>ID3145954616</td>\n",
       "      <td>1</td>\n",
       "      <td>7</td>\n",
       "      <td>2</td>\n",
       "      <td>-37.861835</td>\n",
       "      <td>144.905716</td>\n",
       "      <td>-37.817743</td>\n",
       "      <td>144.951058</td>\n",
       "      <td>8806.0</td>\n",
       "      <td>2018-06-17</td>\n",
       "      <td>10:59:52</td>\n",
       "      <td>2987.76</td>\n",
       "      <td>11:49:39</td>\n",
       "      <td>18.23</td>\n",
       "      <td>1390575046</td>\n",
       "      <td>2442297404</td>\n",
       "      <td>8806.0</td>\n",
       "      <td>2987.76</td>\n",
       "    </tr>\n",
       "    <tr>\n",
       "      <th>23</th>\n",
       "      <td>ID3784263510</td>\n",
       "      <td>1</td>\n",
       "      <td>8</td>\n",
       "      <td>4</td>\n",
       "      <td>-37.815834</td>\n",
       "      <td>145.046450</td>\n",
       "      <td>-37.799554</td>\n",
       "      <td>145.010197</td>\n",
       "      <td>4991.0</td>\n",
       "      <td>2018-04-18</td>\n",
       "      <td>12:56:32</td>\n",
       "      <td>1554.36</td>\n",
       "      <td>13:22:26</td>\n",
       "      <td>15.66</td>\n",
       "      <td>1889485053</td>\n",
       "      <td>282854783</td>\n",
       "      <td>4991.0</td>\n",
       "      <td>1554.36</td>\n",
       "    </tr>\n",
       "    <tr>\n",
       "      <th>24</th>\n",
       "      <td>ID1625241224</td>\n",
       "      <td>0</td>\n",
       "      <td>2</td>\n",
       "      <td>6</td>\n",
       "      <td>-37.814383</td>\n",
       "      <td>144.932813</td>\n",
       "      <td>-37.787442</td>\n",
       "      <td>144.980409</td>\n",
       "      <td>7027.0</td>\n",
       "      <td>2018-03-11</td>\n",
       "      <td>17:48:21</td>\n",
       "      <td>1827.06</td>\n",
       "      <td>18:18:48</td>\n",
       "      <td>13.30</td>\n",
       "      <td>6197211483</td>\n",
       "      <td>2204638268</td>\n",
       "      <td>7027.0</td>\n",
       "      <td>1854.24</td>\n",
       "    </tr>\n",
       "    <tr>\n",
       "      <th>25</th>\n",
       "      <td>ID3379031868</td>\n",
       "      <td>1</td>\n",
       "      <td>6</td>\n",
       "      <td>8</td>\n",
       "      <td>-37.773845</td>\n",
       "      <td>144.983689</td>\n",
       "      <td>-37.815834</td>\n",
       "      <td>145.046450</td>\n",
       "      <td>10698.0</td>\n",
       "      <td>2018-05-09</td>\n",
       "      <td>15:16:00</td>\n",
       "      <td>2756.46</td>\n",
       "      <td>16:01:56</td>\n",
       "      <td>19.92</td>\n",
       "      <td>2455254499</td>\n",
       "      <td>1889485053</td>\n",
       "      <td>10698.0</td>\n",
       "      <td>2756.46</td>\n",
       "    </tr>\n",
       "    <tr>\n",
       "      <th>26</th>\n",
       "      <td>ID3640837759</td>\n",
       "      <td>1</td>\n",
       "      <td>7</td>\n",
       "      <td>3</td>\n",
       "      <td>-37.861835</td>\n",
       "      <td>144.905716</td>\n",
       "      <td>-37.824801</td>\n",
       "      <td>144.969024</td>\n",
       "      <td>8089.0</td>\n",
       "      <td>2018-03-10</td>\n",
       "      <td>09:50:24</td>\n",
       "      <td>2816.52</td>\n",
       "      <td>10:37:20</td>\n",
       "      <td>18.03</td>\n",
       "      <td>1390575046</td>\n",
       "      <td>6231506306</td>\n",
       "      <td>8089.0</td>\n",
       "      <td>2816.52</td>\n",
       "    </tr>\n",
       "    <tr>\n",
       "      <th>27</th>\n",
       "      <td>ID1443782153</td>\n",
       "      <td>0</td>\n",
       "      <td>7</td>\n",
       "      <td>2</td>\n",
       "      <td>-37.861835</td>\n",
       "      <td>144.905716</td>\n",
       "      <td>-37.821704</td>\n",
       "      <td>144.951276</td>\n",
       "      <td>8658.0</td>\n",
       "      <td>2018-04-09</td>\n",
       "      <td>15:23:19</td>\n",
       "      <td>2955.78</td>\n",
       "      <td>16:12:34</td>\n",
       "      <td>12.62</td>\n",
       "      <td>1390575046</td>\n",
       "      <td>571730521</td>\n",
       "      <td>8658.0</td>\n",
       "      <td>2955.78</td>\n",
       "    </tr>\n",
       "    <tr>\n",
       "      <th>28</th>\n",
       "      <td>ID1816799754</td>\n",
       "      <td>0</td>\n",
       "      <td>1</td>\n",
       "      <td>4</td>\n",
       "      <td>-37.807374</td>\n",
       "      <td>144.962919</td>\n",
       "      <td>-37.811773</td>\n",
       "      <td>145.013525</td>\n",
       "      <td>4520.0</td>\n",
       "      <td>2018-07-09</td>\n",
       "      <td>16:15:17</td>\n",
       "      <td>1122.36</td>\n",
       "      <td>16:33:59</td>\n",
       "      <td>10.24</td>\n",
       "      <td>2183273514</td>\n",
       "      <td>1546958636</td>\n",
       "      <td>4520.0</td>\n",
       "      <td>1122.36</td>\n",
       "    </tr>\n",
       "    <tr>\n",
       "      <th>29</th>\n",
       "      <td>ID1559192856</td>\n",
       "      <td>0</td>\n",
       "      <td>6</td>\n",
       "      <td>4</td>\n",
       "      <td>-37.773803</td>\n",
       "      <td>144.983647</td>\n",
       "      <td>-37.801092</td>\n",
       "      <td>144.998752</td>\n",
       "      <td>8935.0</td>\n",
       "      <td>2018-05-02</td>\n",
       "      <td>10:56:07</td>\n",
       "      <td>2775.72</td>\n",
       "      <td>11:42:22</td>\n",
       "      <td>10.02</td>\n",
       "      <td>2455254505</td>\n",
       "      <td>305913664</td>\n",
       "      <td>8935.0</td>\n",
       "      <td>2775.72</td>\n",
       "    </tr>\n",
       "    <tr>\n",
       "      <th>...</th>\n",
       "      <td>...</td>\n",
       "      <td>...</td>\n",
       "      <td>...</td>\n",
       "      <td>...</td>\n",
       "      <td>...</td>\n",
       "      <td>...</td>\n",
       "      <td>...</td>\n",
       "      <td>...</td>\n",
       "      <td>...</td>\n",
       "      <td>...</td>\n",
       "      <td>...</td>\n",
       "      <td>...</td>\n",
       "      <td>...</td>\n",
       "      <td>...</td>\n",
       "      <td>...</td>\n",
       "      <td>...</td>\n",
       "      <td>...</td>\n",
       "      <td>...</td>\n",
       "    </tr>\n",
       "    <tr>\n",
       "      <th>268</th>\n",
       "      <td>ID5353199746</td>\n",
       "      <td>2</td>\n",
       "      <td>9</td>\n",
       "      <td>6</td>\n",
       "      <td>-38.110916</td>\n",
       "      <td>144.654173</td>\n",
       "      <td>-37.773803</td>\n",
       "      <td>144.983647</td>\n",
       "      <td>51061.0</td>\n",
       "      <td>2018-07-12</td>\n",
       "      <td>06:37:18</td>\n",
       "      <td>12952.44</td>\n",
       "      <td>10:13:10</td>\n",
       "      <td>1059.89</td>\n",
       "      <td>5002706670</td>\n",
       "      <td>2455254505</td>\n",
       "      <td>51061.0</td>\n",
       "      <td>12979.38</td>\n",
       "    </tr>\n",
       "    <tr>\n",
       "      <th>269</th>\n",
       "      <td>ID1689504986</td>\n",
       "      <td>0</td>\n",
       "      <td>8</td>\n",
       "      <td>3</td>\n",
       "      <td>-37.815834</td>\n",
       "      <td>145.046450</td>\n",
       "      <td>-37.819359</td>\n",
       "      <td>144.983801</td>\n",
       "      <td>6419.0</td>\n",
       "      <td>2018-07-22</td>\n",
       "      <td>12:30:55</td>\n",
       "      <td>1948.68</td>\n",
       "      <td>13:03:23</td>\n",
       "      <td>13.09</td>\n",
       "      <td>1889485053</td>\n",
       "      <td>575374801</td>\n",
       "      <td>6419.0</td>\n",
       "      <td>1948.68</td>\n",
       "    </tr>\n",
       "    <tr>\n",
       "      <th>270</th>\n",
       "      <td>ID3368318415</td>\n",
       "      <td>1</td>\n",
       "      <td>2</td>\n",
       "      <td>4</td>\n",
       "      <td>-37.821512</td>\n",
       "      <td>144.945087</td>\n",
       "      <td>-37.807202</td>\n",
       "      <td>145.026637</td>\n",
       "      <td>8386.0</td>\n",
       "      <td>2018-04-06</td>\n",
       "      <td>09:57:59</td>\n",
       "      <td>2122.68</td>\n",
       "      <td>10:33:21</td>\n",
       "      <td>12.59</td>\n",
       "      <td>844501003</td>\n",
       "      <td>304700558</td>\n",
       "      <td>8386.0</td>\n",
       "      <td>2122.68</td>\n",
       "    </tr>\n",
       "    <tr>\n",
       "      <th>271</th>\n",
       "      <td>ID1902067905</td>\n",
       "      <td>0</td>\n",
       "      <td>5</td>\n",
       "      <td>4</td>\n",
       "      <td>-37.799408</td>\n",
       "      <td>144.936526</td>\n",
       "      <td>-37.806339</td>\n",
       "      <td>145.009768</td>\n",
       "      <td>6941.0</td>\n",
       "      <td>2018-05-19</td>\n",
       "      <td>23:20:24</td>\n",
       "      <td>1886.70</td>\n",
       "      <td>23:51:50</td>\n",
       "      <td>17.22</td>\n",
       "      <td>3094967060</td>\n",
       "      <td>2621587175</td>\n",
       "      <td>6941.0</td>\n",
       "      <td>1886.70</td>\n",
       "    </tr>\n",
       "    <tr>\n",
       "      <th>272</th>\n",
       "      <td>ID3749225541</td>\n",
       "      <td>1</td>\n",
       "      <td>8</td>\n",
       "      <td>7</td>\n",
       "      <td>-37.815834</td>\n",
       "      <td>145.046450</td>\n",
       "      <td>-37.861835</td>\n",
       "      <td>144.905716</td>\n",
       "      <td>15151.0</td>\n",
       "      <td>2018-03-08</td>\n",
       "      <td>22:28:28</td>\n",
       "      <td>4917.48</td>\n",
       "      <td>23:50:25</td>\n",
       "      <td>30.96</td>\n",
       "      <td>1889485053</td>\n",
       "      <td>1390575046</td>\n",
       "      <td>15151.0</td>\n",
       "      <td>4917.48</td>\n",
       "    </tr>\n",
       "    <tr>\n",
       "      <th>273</th>\n",
       "      <td>ID1382542050</td>\n",
       "      <td>0</td>\n",
       "      <td>5</td>\n",
       "      <td>2</td>\n",
       "      <td>-37.799655</td>\n",
       "      <td>144.937124</td>\n",
       "      <td>-37.815172</td>\n",
       "      <td>144.945081</td>\n",
       "      <td>2458.0</td>\n",
       "      <td>2018-04-01</td>\n",
       "      <td>21:09:50</td>\n",
       "      <td>663.84</td>\n",
       "      <td>21:20:53</td>\n",
       "      <td>16.23</td>\n",
       "      <td>4807112219</td>\n",
       "      <td>1132014900</td>\n",
       "      <td>2458.0</td>\n",
       "      <td>663.84</td>\n",
       "    </tr>\n",
       "    <tr>\n",
       "      <th>274</th>\n",
       "      <td>ID3224344558</td>\n",
       "      <td>1</td>\n",
       "      <td>5</td>\n",
       "      <td>4</td>\n",
       "      <td>-37.802144</td>\n",
       "      <td>144.933059</td>\n",
       "      <td>-37.816223</td>\n",
       "      <td>145.007447</td>\n",
       "      <td>7717.0</td>\n",
       "      <td>2018-07-28</td>\n",
       "      <td>12:41:33</td>\n",
       "      <td>1848.54</td>\n",
       "      <td>13:12:21</td>\n",
       "      <td>18.37</td>\n",
       "      <td>202412621</td>\n",
       "      <td>1463620982</td>\n",
       "      <td>7717.0</td>\n",
       "      <td>1848.54</td>\n",
       "    </tr>\n",
       "    <tr>\n",
       "      <th>275</th>\n",
       "      <td>ID3737984892</td>\n",
       "      <td>1</td>\n",
       "      <td>9</td>\n",
       "      <td>4</td>\n",
       "      <td>-38.110916</td>\n",
       "      <td>144.654173</td>\n",
       "      <td>-37.804280</td>\n",
       "      <td>144.992849</td>\n",
       "      <td>46659.0</td>\n",
       "      <td>2018-06-27</td>\n",
       "      <td>15:53:48</td>\n",
       "      <td>11297.52</td>\n",
       "      <td>19:02:05</td>\n",
       "      <td>47.88</td>\n",
       "      <td>5002706670</td>\n",
       "      <td>647852812</td>\n",
       "      <td>46659.0</td>\n",
       "      <td>11297.52</td>\n",
       "    </tr>\n",
       "    <tr>\n",
       "      <th>276</th>\n",
       "      <td>ID5223926884</td>\n",
       "      <td>2</td>\n",
       "      <td>2</td>\n",
       "      <td>9</td>\n",
       "      <td>-37.815642</td>\n",
       "      <td>144.937348</td>\n",
       "      <td>-38.110916</td>\n",
       "      <td>144.654173</td>\n",
       "      <td>42609.0</td>\n",
       "      <td>2018-04-08</td>\n",
       "      <td>13:45:17</td>\n",
       "      <td>10236.78</td>\n",
       "      <td>16:35:53</td>\n",
       "      <td>857.24</td>\n",
       "      <td>1560149569</td>\n",
       "      <td>5002706670</td>\n",
       "      <td>42609.0</td>\n",
       "      <td>10236.78</td>\n",
       "    </tr>\n",
       "    <tr>\n",
       "      <th>277</th>\n",
       "      <td>ID1503040110</td>\n",
       "      <td>0</td>\n",
       "      <td>6</td>\n",
       "      <td>7</td>\n",
       "      <td>-37.790797</td>\n",
       "      <td>144.985865</td>\n",
       "      <td>-37.861835</td>\n",
       "      <td>144.905716</td>\n",
       "      <td>11711.0</td>\n",
       "      <td>2018-05-26</td>\n",
       "      <td>11:50:27</td>\n",
       "      <td>3866.94</td>\n",
       "      <td>12:54:53</td>\n",
       "      <td>15.28</td>\n",
       "      <td>4307007286</td>\n",
       "      <td>1390575046</td>\n",
       "      <td>11711.0</td>\n",
       "      <td>3866.94</td>\n",
       "    </tr>\n",
       "    <tr>\n",
       "      <th>278</th>\n",
       "      <td>ID5511110277</td>\n",
       "      <td>2</td>\n",
       "      <td>2</td>\n",
       "      <td>3</td>\n",
       "      <td>-37.815571</td>\n",
       "      <td>144.928303</td>\n",
       "      <td>-37.813531</td>\n",
       "      <td>144.974069</td>\n",
       "      <td>5595.0</td>\n",
       "      <td>2018-04-12</td>\n",
       "      <td>16:16:48</td>\n",
       "      <td>1405.92</td>\n",
       "      <td>16:40:13</td>\n",
       "      <td>134.78</td>\n",
       "      <td>206204612</td>\n",
       "      <td>1449431194</td>\n",
       "      <td>5595.0</td>\n",
       "      <td>1405.92</td>\n",
       "    </tr>\n",
       "    <tr>\n",
       "      <th>279</th>\n",
       "      <td>ID1617730191</td>\n",
       "      <td>0</td>\n",
       "      <td>6</td>\n",
       "      <td>4</td>\n",
       "      <td>-37.773845</td>\n",
       "      <td>144.983689</td>\n",
       "      <td>-37.807005</td>\n",
       "      <td>145.003786</td>\n",
       "      <td>6643.0</td>\n",
       "      <td>2018-04-02</td>\n",
       "      <td>00:38:14</td>\n",
       "      <td>1437.36</td>\n",
       "      <td>1:02:11</td>\n",
       "      <td>16.55</td>\n",
       "      <td>2455254499</td>\n",
       "      <td>299023529</td>\n",
       "      <td>6643.0</td>\n",
       "      <td>1437.36</td>\n",
       "    </tr>\n",
       "    <tr>\n",
       "      <th>280</th>\n",
       "      <td>ID3308863242</td>\n",
       "      <td>1</td>\n",
       "      <td>9</td>\n",
       "      <td>1</td>\n",
       "      <td>-38.110916</td>\n",
       "      <td>144.654173</td>\n",
       "      <td>-37.803236</td>\n",
       "      <td>144.963426</td>\n",
       "      <td>44317.0</td>\n",
       "      <td>2018-02-23</td>\n",
       "      <td>20:54:09</td>\n",
       "      <td>10721.04</td>\n",
       "      <td>23:52:50</td>\n",
       "      <td>46.71</td>\n",
       "      <td>5002706670</td>\n",
       "      <td>1492383932</td>\n",
       "      <td>44317.0</td>\n",
       "      <td>10721.04</td>\n",
       "    </tr>\n",
       "    <tr>\n",
       "      <th>281</th>\n",
       "      <td>ID3752695308</td>\n",
       "      <td>1</td>\n",
       "      <td>2</td>\n",
       "      <td>6</td>\n",
       "      <td>-37.815450</td>\n",
       "      <td>144.941596</td>\n",
       "      <td>-37.773803</td>\n",
       "      <td>144.983647</td>\n",
       "      <td>9626.0</td>\n",
       "      <td>2018-07-21</td>\n",
       "      <td>17:12:00</td>\n",
       "      <td>2987.88</td>\n",
       "      <td>18:01:47</td>\n",
       "      <td>22.39</td>\n",
       "      <td>253027670</td>\n",
       "      <td>2455254505</td>\n",
       "      <td>9626.0</td>\n",
       "      <td>3014.82</td>\n",
       "    </tr>\n",
       "    <tr>\n",
       "      <th>282</th>\n",
       "      <td>ID5616736563</td>\n",
       "      <td>2</td>\n",
       "      <td>6</td>\n",
       "      <td>8</td>\n",
       "      <td>-37.787442</td>\n",
       "      <td>144.980409</td>\n",
       "      <td>-37.815834</td>\n",
       "      <td>145.046450</td>\n",
       "      <td>8357.0</td>\n",
       "      <td>2018-04-20</td>\n",
       "      <td>01:51:45</td>\n",
       "      <td>2437.38</td>\n",
       "      <td>2:32:22</td>\n",
       "      <td>227.87</td>\n",
       "      <td>2204638268</td>\n",
       "      <td>1889485053</td>\n",
       "      <td>8357.0</td>\n",
       "      <td>2437.38</td>\n",
       "    </tr>\n",
       "    <tr>\n",
       "      <th>283</th>\n",
       "      <td>ID3566642073</td>\n",
       "      <td>1</td>\n",
       "      <td>1</td>\n",
       "      <td>7</td>\n",
       "      <td>-37.811380</td>\n",
       "      <td>144.959736</td>\n",
       "      <td>-37.861835</td>\n",
       "      <td>144.905716</td>\n",
       "      <td>8572.0</td>\n",
       "      <td>2018-04-05</td>\n",
       "      <td>02:20:27</td>\n",
       "      <td>2938.86</td>\n",
       "      <td>3:09:25</td>\n",
       "      <td>24.63</td>\n",
       "      <td>168384030</td>\n",
       "      <td>1390575046</td>\n",
       "      <td>8572.0</td>\n",
       "      <td>2938.86</td>\n",
       "    </tr>\n",
       "    <tr>\n",
       "      <th>284</th>\n",
       "      <td>ID1139090290</td>\n",
       "      <td>0</td>\n",
       "      <td>2</td>\n",
       "      <td>6</td>\n",
       "      <td>-37.809735</td>\n",
       "      <td>144.943283</td>\n",
       "      <td>-37.773845</td>\n",
       "      <td>144.983689</td>\n",
       "      <td>6927.0</td>\n",
       "      <td>2018-01-12</td>\n",
       "      <td>09:33:54</td>\n",
       "      <td>1475.82</td>\n",
       "      <td>9:58:29</td>\n",
       "      <td>7.44</td>\n",
       "      <td>581776547</td>\n",
       "      <td>2455254499</td>\n",
       "      <td>6927.0</td>\n",
       "      <td>1475.82</td>\n",
       "    </tr>\n",
       "    <tr>\n",
       "      <th>285</th>\n",
       "      <td>ID1818822503</td>\n",
       "      <td>0</td>\n",
       "      <td>3</td>\n",
       "      <td>1</td>\n",
       "      <td>-37.813212</td>\n",
       "      <td>144.973846</td>\n",
       "      <td>-37.801772</td>\n",
       "      <td>144.950882</td>\n",
       "      <td>2840.0</td>\n",
       "      <td>2018-06-20</td>\n",
       "      <td>06:04:03</td>\n",
       "      <td>729.90</td>\n",
       "      <td>6:16:12</td>\n",
       "      <td>4.04</td>\n",
       "      <td>4148228281</td>\n",
       "      <td>282825802</td>\n",
       "      <td>2840.0</td>\n",
       "      <td>729.90</td>\n",
       "    </tr>\n",
       "    <tr>\n",
       "      <th>286</th>\n",
       "      <td>ID3396575730</td>\n",
       "      <td>1</td>\n",
       "      <td>8</td>\n",
       "      <td>5</td>\n",
       "      <td>-37.815834</td>\n",
       "      <td>145.046450</td>\n",
       "      <td>-37.806893</td>\n",
       "      <td>144.937745</td>\n",
       "      <td>10229.0</td>\n",
       "      <td>2018-01-24</td>\n",
       "      <td>09:01:00</td>\n",
       "      <td>2853.48</td>\n",
       "      <td>9:48:33</td>\n",
       "      <td>15.90</td>\n",
       "      <td>1889485053</td>\n",
       "      <td>641022871</td>\n",
       "      <td>10229.0</td>\n",
       "      <td>2853.48</td>\n",
       "    </tr>\n",
       "    <tr>\n",
       "      <th>287</th>\n",
       "      <td>ID5636711732</td>\n",
       "      <td>2</td>\n",
       "      <td>2</td>\n",
       "      <td>2</td>\n",
       "      <td>-37.813246</td>\n",
       "      <td>144.933446</td>\n",
       "      <td>-37.820381</td>\n",
       "      <td>144.951913</td>\n",
       "      <td>3034.0</td>\n",
       "      <td>2018-05-06</td>\n",
       "      <td>00:55:58</td>\n",
       "      <td>757.20</td>\n",
       "      <td>1:08:35</td>\n",
       "      <td>99.19</td>\n",
       "      <td>6197211477</td>\n",
       "      <td>36823179</td>\n",
       "      <td>3034.0</td>\n",
       "      <td>757.20</td>\n",
       "    </tr>\n",
       "    <tr>\n",
       "      <th>288</th>\n",
       "      <td>ID3273485250</td>\n",
       "      <td>1</td>\n",
       "      <td>8</td>\n",
       "      <td>3</td>\n",
       "      <td>-37.815834</td>\n",
       "      <td>145.046450</td>\n",
       "      <td>-37.812240</td>\n",
       "      <td>144.973634</td>\n",
       "      <td>6791.0</td>\n",
       "      <td>2018-01-11</td>\n",
       "      <td>23:30:13</td>\n",
       "      <td>2005.92</td>\n",
       "      <td>0:03:38</td>\n",
       "      <td>21.04</td>\n",
       "      <td>1889485053</td>\n",
       "      <td>588198714</td>\n",
       "      <td>6791.0</td>\n",
       "      <td>2005.92</td>\n",
       "    </tr>\n",
       "    <tr>\n",
       "      <th>289</th>\n",
       "      <td>ID1870411659</td>\n",
       "      <td>0</td>\n",
       "      <td>3</td>\n",
       "      <td>5</td>\n",
       "      <td>-37.811666</td>\n",
       "      <td>144.983273</td>\n",
       "      <td>-37.806522</td>\n",
       "      <td>144.931768</td>\n",
       "      <td>5021.0</td>\n",
       "      <td>2018-06-11</td>\n",
       "      <td>04:21:09</td>\n",
       "      <td>1242.48</td>\n",
       "      <td>4:41:51</td>\n",
       "      <td>12.51</td>\n",
       "      <td>370751653</td>\n",
       "      <td>3106294929</td>\n",
       "      <td>5021.0</td>\n",
       "      <td>1242.48</td>\n",
       "    </tr>\n",
       "    <tr>\n",
       "      <th>290</th>\n",
       "      <td>ID3670293996</td>\n",
       "      <td>1</td>\n",
       "      <td>2</td>\n",
       "      <td>7</td>\n",
       "      <td>-37.815136</td>\n",
       "      <td>144.939391</td>\n",
       "      <td>-37.861835</td>\n",
       "      <td>144.905716</td>\n",
       "      <td>10218.0</td>\n",
       "      <td>2018-06-19</td>\n",
       "      <td>06:17:49</td>\n",
       "      <td>3388.14</td>\n",
       "      <td>7:14:17</td>\n",
       "      <td>15.44</td>\n",
       "      <td>5292513669</td>\n",
       "      <td>1390575046</td>\n",
       "      <td>10218.0</td>\n",
       "      <td>3388.14</td>\n",
       "    </tr>\n",
       "    <tr>\n",
       "      <th>291</th>\n",
       "      <td>ID3332523217</td>\n",
       "      <td>1</td>\n",
       "      <td>1</td>\n",
       "      <td>6</td>\n",
       "      <td>-37.813489</td>\n",
       "      <td>144.965626</td>\n",
       "      <td>-37.790818</td>\n",
       "      <td>144.985793</td>\n",
       "      <td>3741.0</td>\n",
       "      <td>2018-01-19</td>\n",
       "      <td>07:58:14</td>\n",
       "      <td>927.78</td>\n",
       "      <td>8:13:41</td>\n",
       "      <td>10.57</td>\n",
       "      <td>2383211217</td>\n",
       "      <td>4307007287</td>\n",
       "      <td>3741.0</td>\n",
       "      <td>928.02</td>\n",
       "    </tr>\n",
       "    <tr>\n",
       "      <th>292</th>\n",
       "      <td>ID1751595959</td>\n",
       "      <td>0</td>\n",
       "      <td>8</td>\n",
       "      <td>1</td>\n",
       "      <td>-37.815834</td>\n",
       "      <td>145.046450</td>\n",
       "      <td>-37.808405</td>\n",
       "      <td>144.948926</td>\n",
       "      <td>8868.0</td>\n",
       "      <td>2018-06-08</td>\n",
       "      <td>04:54:07</td>\n",
       "      <td>2533.44</td>\n",
       "      <td>5:36:20</td>\n",
       "      <td>16.03</td>\n",
       "      <td>1889485053</td>\n",
       "      <td>3215192020</td>\n",
       "      <td>8868.0</td>\n",
       "      <td>2533.44</td>\n",
       "    </tr>\n",
       "    <tr>\n",
       "      <th>293</th>\n",
       "      <td>ID5833052631</td>\n",
       "      <td>2</td>\n",
       "      <td>2</td>\n",
       "      <td>5</td>\n",
       "      <td>-37.812975</td>\n",
       "      <td>144.935031</td>\n",
       "      <td>-37.800943</td>\n",
       "      <td>144.934656</td>\n",
       "      <td>4362.0</td>\n",
       "      <td>2018-06-06</td>\n",
       "      <td>18:48:02</td>\n",
       "      <td>1065.48</td>\n",
       "      <td>19:05:47</td>\n",
       "      <td>107.03</td>\n",
       "      <td>301545281</td>\n",
       "      <td>4884445035</td>\n",
       "      <td>4362.0</td>\n",
       "      <td>1065.48</td>\n",
       "    </tr>\n",
       "    <tr>\n",
       "      <th>294</th>\n",
       "      <td>ID1401451741</td>\n",
       "      <td>0</td>\n",
       "      <td>1</td>\n",
       "      <td>6</td>\n",
       "      <td>-37.812205</td>\n",
       "      <td>144.953310</td>\n",
       "      <td>-37.787433</td>\n",
       "      <td>144.980377</td>\n",
       "      <td>4443.0</td>\n",
       "      <td>2018-02-09</td>\n",
       "      <td>12:20:25</td>\n",
       "      <td>1114.02</td>\n",
       "      <td>12:38:59</td>\n",
       "      <td>9.36</td>\n",
       "      <td>5002595097</td>\n",
       "      <td>2204638282</td>\n",
       "      <td>4443.0</td>\n",
       "      <td>1114.02</td>\n",
       "    </tr>\n",
       "    <tr>\n",
       "      <th>295</th>\n",
       "      <td>ID1700942294</td>\n",
       "      <td>0</td>\n",
       "      <td>6</td>\n",
       "      <td>1</td>\n",
       "      <td>-37.787433</td>\n",
       "      <td>144.980377</td>\n",
       "      <td>-37.818862</td>\n",
       "      <td>144.953444</td>\n",
       "      <td>4977.0</td>\n",
       "      <td>2018-06-24</td>\n",
       "      <td>12:56:07</td>\n",
       "      <td>1176.30</td>\n",
       "      <td>13:15:43</td>\n",
       "      <td>12.85</td>\n",
       "      <td>2204638282</td>\n",
       "      <td>4716795441</td>\n",
       "      <td>4977.0</td>\n",
       "      <td>1243.86</td>\n",
       "    </tr>\n",
       "    <tr>\n",
       "      <th>296</th>\n",
       "      <td>ID5273058952</td>\n",
       "      <td>2</td>\n",
       "      <td>3</td>\n",
       "      <td>8</td>\n",
       "      <td>-37.822100</td>\n",
       "      <td>144.980650</td>\n",
       "      <td>-37.815834</td>\n",
       "      <td>145.046450</td>\n",
       "      <td>6927.0</td>\n",
       "      <td>2018-01-14</td>\n",
       "      <td>16:23:46</td>\n",
       "      <td>2056.68</td>\n",
       "      <td>16:58:02</td>\n",
       "      <td>195.04</td>\n",
       "      <td>6202471428</td>\n",
       "      <td>1889485053</td>\n",
       "      <td>6927.0</td>\n",
       "      <td>2056.68</td>\n",
       "    </tr>\n",
       "    <tr>\n",
       "      <th>297</th>\n",
       "      <td>ID1179502505</td>\n",
       "      <td>0</td>\n",
       "      <td>4</td>\n",
       "      <td>2</td>\n",
       "      <td>-37.809692</td>\n",
       "      <td>145.003403</td>\n",
       "      <td>-37.814084</td>\n",
       "      <td>144.944512</td>\n",
       "      <td>5552.0</td>\n",
       "      <td>2018-05-21</td>\n",
       "      <td>12:48:23</td>\n",
       "      <td>1416.36</td>\n",
       "      <td>13:11:59</td>\n",
       "      <td>10.17</td>\n",
       "      <td>2481930669</td>\n",
       "      <td>1132069603</td>\n",
       "      <td>5552.0</td>\n",
       "      <td>1416.36</td>\n",
       "    </tr>\n",
       "  </tbody>\n",
       "</table>\n",
       "<p>298 rows × 18 columns</p>\n",
       "</div>"
      ],
      "text/plain": [
       "          trip_id  type ori_region dest_region    ori_lat     ori_lng  \\\n",
       "0    ID3320317494     1          3           5 -37.825296  144.982523   \n",
       "1    ID3331420694     1          1           4 -37.808916  144.966157   \n",
       "2    ID1609759320     0          2           1 -37.818954  144.943264   \n",
       "3    ID1587559514     0          8           2 -37.815834  145.046450   \n",
       "4    ID1887103666     0          4           1 -37.821801  145.002530   \n",
       "5    ID1979536679     0          4           2 -37.807202  145.026637   \n",
       "6    ID5564889848     2          9           6 -38.110916  144.654173   \n",
       "7    ID3484088696     1          4           5 -37.807202  145.026637   \n",
       "8    ID1812981782     0          5           7 -37.805824  144.936687   \n",
       "9    ID3341998310     1          8           4 -37.815834  145.046450   \n",
       "10   ID3753477988     1          4           3 -37.803804  145.010846   \n",
       "11   ID3289729344     1          7           6 -37.861835  144.905716   \n",
       "12   ID5483559671     2          7           4 -37.861835  144.905716   \n",
       "13   ID3680975253     1          8           9 -37.815834  145.046450   \n",
       "14   ID3942713997     1          5           5 -37.805381  144.936395   \n",
       "15   ID3653448231     1          5           7 -37.805003  144.925262   \n",
       "16   ID3728008578     1          3           5 -37.808281  144.976622   \n",
       "17   ID3124798479     1          3           9 -37.815981  144.972550   \n",
       "18   ID5265952630     2          8           7 -37.815834  145.046450   \n",
       "19   ID3149029314     1          5           9 -37.800891  144.919491   \n",
       "20   ID1228755238     0          2           9 -37.813099  144.936426   \n",
       "21   ID3650801241     1          1           8 -37.802817  144.966507   \n",
       "22   ID3145954616     1          7           2 -37.861835  144.905716   \n",
       "23   ID3784263510     1          8           4 -37.815834  145.046450   \n",
       "24   ID1625241224     0          2           6 -37.814383  144.932813   \n",
       "25   ID3379031868     1          6           8 -37.773845  144.983689   \n",
       "26   ID3640837759     1          7           3 -37.861835  144.905716   \n",
       "27   ID1443782153     0          7           2 -37.861835  144.905716   \n",
       "28   ID1816799754     0          1           4 -37.807374  144.962919   \n",
       "29   ID1559192856     0          6           4 -37.773803  144.983647   \n",
       "..            ...   ...        ...         ...        ...         ...   \n",
       "268  ID5353199746     2          9           6 -38.110916  144.654173   \n",
       "269  ID1689504986     0          8           3 -37.815834  145.046450   \n",
       "270  ID3368318415     1          2           4 -37.821512  144.945087   \n",
       "271  ID1902067905     0          5           4 -37.799408  144.936526   \n",
       "272  ID3749225541     1          8           7 -37.815834  145.046450   \n",
       "273  ID1382542050     0          5           2 -37.799655  144.937124   \n",
       "274  ID3224344558     1          5           4 -37.802144  144.933059   \n",
       "275  ID3737984892     1          9           4 -38.110916  144.654173   \n",
       "276  ID5223926884     2          2           9 -37.815642  144.937348   \n",
       "277  ID1503040110     0          6           7 -37.790797  144.985865   \n",
       "278  ID5511110277     2          2           3 -37.815571  144.928303   \n",
       "279  ID1617730191     0          6           4 -37.773845  144.983689   \n",
       "280  ID3308863242     1          9           1 -38.110916  144.654173   \n",
       "281  ID3752695308     1          2           6 -37.815450  144.941596   \n",
       "282  ID5616736563     2          6           8 -37.787442  144.980409   \n",
       "283  ID3566642073     1          1           7 -37.811380  144.959736   \n",
       "284  ID1139090290     0          2           6 -37.809735  144.943283   \n",
       "285  ID1818822503     0          3           1 -37.813212  144.973846   \n",
       "286  ID3396575730     1          8           5 -37.815834  145.046450   \n",
       "287  ID5636711732     2          2           2 -37.813246  144.933446   \n",
       "288  ID3273485250     1          8           3 -37.815834  145.046450   \n",
       "289  ID1870411659     0          3           5 -37.811666  144.983273   \n",
       "290  ID3670293996     1          2           7 -37.815136  144.939391   \n",
       "291  ID3332523217     1          1           6 -37.813489  144.965626   \n",
       "292  ID1751595959     0          8           1 -37.815834  145.046450   \n",
       "293  ID5833052631     2          2           5 -37.812975  144.935031   \n",
       "294  ID1401451741     0          1           6 -37.812205  144.953310   \n",
       "295  ID1700942294     0          6           1 -37.787433  144.980377   \n",
       "296  ID5273058952     2          3           8 -37.822100  144.980650   \n",
       "297  ID1179502505     0          4           2 -37.809692  145.003403   \n",
       "\n",
       "      dest_lat   dest_long  j_distance   dept_date dept_time  travel_time  \\\n",
       "0   -37.810676  144.926025      6235.0  2018-01-16  01:17:03      1531.56   \n",
       "1   -37.808679  145.006707      3835.0  2018-05-23  11:12:16       903.36   \n",
       "2   -37.802045  144.966781      3376.0  2018-07-04  08:23:32       907.56   \n",
       "3   -37.813678  144.939437      9768.0  2018-02-19  20:19:07      2738.16   \n",
       "4   -37.818042  144.952916      6182.0  2018-03-17  09:02:26      1548.90   \n",
       "5   -37.813900  144.944226      8049.0  2018-07-18  03:20:07      2090.76   \n",
       "6   -37.773803  144.983647     51061.0  2018-04-07  01:05:35     12952.44   \n",
       "7   -37.809116  144.931933      9196.0  2018-03-16  11:32:50      2323.26   \n",
       "8   -37.861835  144.905716     10628.0  2018-03-16  13:06:46      3458.40   \n",
       "9   -37.814064  145.012872      3783.0  2018-07-20  10:12:02      1236.78   \n",
       "10  -37.823398  144.968964      5712.0  2018-05-27  07:53:49      1419.24   \n",
       "11  -37.790818  144.985793     11712.0  2018-07-20  16:46:47      3700.98   \n",
       "12  -37.803248  145.001800     11773.0  2018-05-22  05:09:16      3764.64   \n",
       "13  -38.110916  144.654173     51032.0  2018-01-08  02:23:09     12681.06   \n",
       "14  -37.815388  144.928071      3071.0  2018-05-24  08:20:02       729.12   \n",
       "15  -37.861835  144.905716     11609.0  2018-02-21  17:45:27      3623.22   \n",
       "16  -37.815212  144.927553      5609.0  2018-01-15  00:34:37      1440.12   \n",
       "17  -38.110916  144.654173     44294.0  2018-05-28  23:40:33     10706.70   \n",
       "18  -37.861835  144.905716     15151.0  2018-01-19  07:30:46      4917.48   \n",
       "19  -38.110916  144.654173     45039.0  2018-07-28  23:22:52     10890.00   \n",
       "20  -38.110916  144.654173     43006.0  2018-03-08  05:41:14     10345.38   \n",
       "21  -37.815834  145.046450      7544.0  2018-01-06  05:22:18      2230.98   \n",
       "22  -37.817743  144.951058      8806.0  2018-06-17  10:59:52      2987.76   \n",
       "23  -37.799554  145.010197      4991.0  2018-04-18  12:56:32      1554.36   \n",
       "24  -37.787442  144.980409      7027.0  2018-03-11  17:48:21      1827.06   \n",
       "25  -37.815834  145.046450     10698.0  2018-05-09  15:16:00      2756.46   \n",
       "26  -37.824801  144.969024      8089.0  2018-03-10  09:50:24      2816.52   \n",
       "27  -37.821704  144.951276      8658.0  2018-04-09  15:23:19      2955.78   \n",
       "28  -37.811773  145.013525      4520.0  2018-07-09  16:15:17      1122.36   \n",
       "29  -37.801092  144.998752      8935.0  2018-05-02  10:56:07      2775.72   \n",
       "..         ...         ...         ...         ...       ...          ...   \n",
       "268 -37.773803  144.983647     51061.0  2018-07-12  06:37:18     12952.44   \n",
       "269 -37.819359  144.983801      6419.0  2018-07-22  12:30:55      1948.68   \n",
       "270 -37.807202  145.026637      8386.0  2018-04-06  09:57:59      2122.68   \n",
       "271 -37.806339  145.009768      6941.0  2018-05-19  23:20:24      1886.70   \n",
       "272 -37.861835  144.905716     15151.0  2018-03-08  22:28:28      4917.48   \n",
       "273 -37.815172  144.945081      2458.0  2018-04-01  21:09:50       663.84   \n",
       "274 -37.816223  145.007447      7717.0  2018-07-28  12:41:33      1848.54   \n",
       "275 -37.804280  144.992849     46659.0  2018-06-27  15:53:48     11297.52   \n",
       "276 -38.110916  144.654173     42609.0  2018-04-08  13:45:17     10236.78   \n",
       "277 -37.861835  144.905716     11711.0  2018-05-26  11:50:27      3866.94   \n",
       "278 -37.813531  144.974069      5595.0  2018-04-12  16:16:48      1405.92   \n",
       "279 -37.807005  145.003786      6643.0  2018-04-02  00:38:14      1437.36   \n",
       "280 -37.803236  144.963426     44317.0  2018-02-23  20:54:09     10721.04   \n",
       "281 -37.773803  144.983647      9626.0  2018-07-21  17:12:00      2987.88   \n",
       "282 -37.815834  145.046450      8357.0  2018-04-20  01:51:45      2437.38   \n",
       "283 -37.861835  144.905716      8572.0  2018-04-05  02:20:27      2938.86   \n",
       "284 -37.773845  144.983689      6927.0  2018-01-12  09:33:54      1475.82   \n",
       "285 -37.801772  144.950882      2840.0  2018-06-20  06:04:03       729.90   \n",
       "286 -37.806893  144.937745     10229.0  2018-01-24  09:01:00      2853.48   \n",
       "287 -37.820381  144.951913      3034.0  2018-05-06  00:55:58       757.20   \n",
       "288 -37.812240  144.973634      6791.0  2018-01-11  23:30:13      2005.92   \n",
       "289 -37.806522  144.931768      5021.0  2018-06-11  04:21:09      1242.48   \n",
       "290 -37.861835  144.905716     10218.0  2018-06-19  06:17:49      3388.14   \n",
       "291 -37.790818  144.985793      3741.0  2018-01-19  07:58:14       927.78   \n",
       "292 -37.808405  144.948926      8868.0  2018-06-08  04:54:07      2533.44   \n",
       "293 -37.800943  144.934656      4362.0  2018-06-06  18:48:02      1065.48   \n",
       "294 -37.787433  144.980377      4443.0  2018-02-09  12:20:25      1114.02   \n",
       "295 -37.818862  144.953444      4977.0  2018-06-24  12:56:07      1176.30   \n",
       "296 -37.815834  145.046450      6927.0  2018-01-14  16:23:46      2056.68   \n",
       "297 -37.814084  144.944512      5552.0  2018-05-21  12:48:23      1416.36   \n",
       "\n",
       "    arrival_time     fare  origin_node   dest_node  new_dist    new_tt  \n",
       "0        1:42:34    20.38    746917816  4893634375    6235.0   1531.56  \n",
       "1       11:27:19     8.67   6167344486   332794366    3835.0    903.36  \n",
       "2        8:38:39     5.16   2397324992   137182987    3376.0    907.56  \n",
       "3       21:04:45    11.21   1889485053   634785708    9768.0   2738.16  \n",
       "4        9:28:14     9.62   4909776718  3967630087    6182.0   1548.90  \n",
       "5        3:54:57    15.97    304700558   506050894    8049.0   2090.76  \n",
       "6        4:41:27  1086.17   5002706670  2455254505   51061.0  12979.38  \n",
       "7       12:11:33    12.75    304700558    76459296    9196.0   2323.26  \n",
       "8       14:04:24    12.89   3555802214  1390575046   10628.0   3458.40  \n",
       "9       10:32:38     9.25   1889485053  4299945073    3783.0   1236.78  \n",
       "10       8:17:28    12.20   1053540533  1350268191    5712.0   1419.24  \n",
       "11      17:48:27    22.65   1390575046  4307007287   11712.0   3700.98  \n",
       "12       6:12:00   337.45   1390575046   310944170   11773.0   3764.64  \n",
       "13       5:54:30    58.10   1889485053  5002706670   51032.0  12681.06  \n",
       "14       8:32:11     7.07     33366761   206204609    3071.0    729.12  \n",
       "15      18:45:50    21.85    202767928  1390575046   11609.0   3623.22  \n",
       "16       0:58:37    19.68   2189377522  4754200377    5609.0   1440.12  \n",
       "17       2:38:59    49.89   1449431604  5002706670   44294.0  10706.70  \n",
       "18       8:52:43   409.10   1889485053  1390575046   15151.0   4917.48  \n",
       "19       2:24:22    55.42    202498972  5002706670   45039.0  10890.00  \n",
       "20       8:33:39    25.71    710002037  5002706670   43006.0  10345.38  \n",
       "21       5:59:28    26.28   2005895266  1889485053    7544.0   2230.98  \n",
       "22      11:49:39    18.23   1390575046  2442297404    8806.0   2987.76  \n",
       "23      13:22:26    15.66   1889485053   282854783    4991.0   1554.36  \n",
       "24      18:18:48    13.30   6197211483  2204638268    7027.0   1854.24  \n",
       "25      16:01:56    19.92   2455254499  1889485053   10698.0   2756.46  \n",
       "26      10:37:20    18.03   1390575046  6231506306    8089.0   2816.52  \n",
       "27      16:12:34    12.62   1390575046   571730521    8658.0   2955.78  \n",
       "28      16:33:59    10.24   2183273514  1546958636    4520.0   1122.36  \n",
       "29      11:42:22    10.02   2455254505   305913664    8935.0   2775.72  \n",
       "..           ...      ...          ...         ...       ...       ...  \n",
       "268     10:13:10  1059.89   5002706670  2455254505   51061.0  12979.38  \n",
       "269     13:03:23    13.09   1889485053   575374801    6419.0   1948.68  \n",
       "270     10:33:21    12.59    844501003   304700558    8386.0   2122.68  \n",
       "271     23:51:50    17.22   3094967060  2621587175    6941.0   1886.70  \n",
       "272     23:50:25    30.96   1889485053  1390575046   15151.0   4917.48  \n",
       "273     21:20:53    16.23   4807112219  1132014900    2458.0    663.84  \n",
       "274     13:12:21    18.37    202412621  1463620982    7717.0   1848.54  \n",
       "275     19:02:05    47.88   5002706670   647852812   46659.0  11297.52  \n",
       "276     16:35:53   857.24   1560149569  5002706670   42609.0  10236.78  \n",
       "277     12:54:53    15.28   4307007286  1390575046   11711.0   3866.94  \n",
       "278     16:40:13   134.78    206204612  1449431194    5595.0   1405.92  \n",
       "279      1:02:11    16.55   2455254499   299023529    6643.0   1437.36  \n",
       "280     23:52:50    46.71   5002706670  1492383932   44317.0  10721.04  \n",
       "281     18:01:47    22.39    253027670  2455254505    9626.0   3014.82  \n",
       "282      2:32:22   227.87   2204638268  1889485053    8357.0   2437.38  \n",
       "283      3:09:25    24.63    168384030  1390575046    8572.0   2938.86  \n",
       "284      9:58:29     7.44    581776547  2455254499    6927.0   1475.82  \n",
       "285      6:16:12     4.04   4148228281   282825802    2840.0    729.90  \n",
       "286      9:48:33    15.90   1889485053   641022871   10229.0   2853.48  \n",
       "287      1:08:35    99.19   6197211477    36823179    3034.0    757.20  \n",
       "288      0:03:38    21.04   1889485053   588198714    6791.0   2005.92  \n",
       "289      4:41:51    12.51    370751653  3106294929    5021.0   1242.48  \n",
       "290      7:14:17    15.44   5292513669  1390575046   10218.0   3388.14  \n",
       "291      8:13:41    10.57   2383211217  4307007287    3741.0    928.02  \n",
       "292      5:36:20    16.03   1889485053  3215192020    8868.0   2533.44  \n",
       "293     19:05:47   107.03    301545281  4884445035    4362.0   1065.48  \n",
       "294     12:38:59     9.36   5002595097  2204638282    4443.0   1114.02  \n",
       "295     13:15:43    12.85   2204638282  4716795441    4977.0   1243.86  \n",
       "296     16:58:02   195.04   6202471428  1889485053    6927.0   2056.68  \n",
       "297     13:11:59    10.17   2481930669  1132069603    5552.0   1416.36  \n",
       "\n",
       "[298 rows x 18 columns]"
      ]
     },
     "execution_count": 1344,
     "metadata": {},
     "output_type": "execute_result"
    }
   ],
   "source": [
    "data_next"
   ]
  },
  {
   "cell_type": "code",
   "execution_count": 1345,
   "metadata": {},
   "outputs": [],
   "source": [
    "#cases where the calculated travel time is different from the given travel time\n",
    "#calculating all the times from all the shortest path for these 30 uberID's to check if any of the time matches the given travel time\n",
    "check_data = data_next[(round(data_next['travel_time'],2)-round(data_next['new_tt'],2)) != 0]"
   ]
  },
  {
   "cell_type": "code",
   "execution_count": 1346,
   "metadata": {},
   "outputs": [
    {
     "data": {
      "text/plain": [
       "30"
      ]
     },
     "execution_count": 1346,
     "metadata": {},
     "output_type": "execute_result"
    }
   ],
   "source": [
    "len(check_data)"
   ]
  },
  {
   "cell_type": "code",
   "execution_count": 1347,
   "metadata": {},
   "outputs": [
    {
     "name": "stderr",
     "output_type": "stream",
     "text": [
      "C:\\Users\\Stephy\\Anaconda3\\lib\\site-packages\\ipykernel_launcher.py:9: SettingWithCopyWarning: \n",
      "A value is trying to be set on a copy of a slice from a DataFrame.\n",
      "Try using .loc[row_indexer,col_indexer] = value instead\n",
      "\n",
      "See the caveats in the documentation: http://pandas.pydata.org/pandas-docs/stable/indexing.html#indexing-view-versus-copy\n",
      "  if __name__ == '__main__':\n"
     ]
    }
   ],
   "source": [
    "#for the check data we will calculate the travel time based on multiple paths\n",
    "def get_all_shortest_path(vertex1, vertex2):\n",
    "        try:\n",
    "            return list(nx.all_shortest_paths(G,source=vertex1, target=vertex2, weight='distance_m'))      \n",
    "        except nx.NetworkXNoPath:\n",
    "            return 0 \n",
    "\n",
    "check_data['all_path'] = check_data.apply(lambda x: get_all_shortest_path(x['origin_node'],x['dest_node'] ),axis=1)\n"
   ]
  },
  {
   "cell_type": "code",
   "execution_count": 1348,
   "metadata": {
    "collapsed": true
   },
   "outputs": [
    {
     "name": "stderr",
     "output_type": "stream",
     "text": [
      "C:\\Users\\Stephy\\Anaconda3\\lib\\site-packages\\pandas\\core\\indexing.py:630: SettingWithCopyWarning: \n",
      "A value is trying to be set on a copy of a slice from a DataFrame\n",
      "\n",
      "See the caveats in the documentation: http://pandas.pydata.org/pandas-docs/stable/indexing.html#indexing-view-versus-copy\n",
      "  self.obj[item_labels[indexer[info_axis]]] = value\n",
      "C:\\Users\\Stephy\\Anaconda3\\lib\\site-packages\\pandas\\core\\indexing.py:189: SettingWithCopyWarning: \n",
      "A value is trying to be set on a copy of a slice from a DataFrame\n",
      "\n",
      "See the caveats in the documentation: http://pandas.pydata.org/pandas-docs/stable/indexing.html#indexing-view-versus-copy\n",
      "  self._setitem_with_indexer(indexer, value)\n"
     ]
    }
   ],
   "source": [
    "for i in range(len(check_data)):\n",
    "    paths=int(len(check_data['all_path'].iloc[i,]))\n",
    "    if paths>0:\n",
    "        all_times=[]\n",
    "        for a_path in range(paths):\n",
    "            path = check_data['all_path'].iloc[i,][a_path]\n",
    "            all_times.append(round(traveltime(path,edges),2))\n",
    "        if check_data['travel_time'].iloc[i,] in all_times:\n",
    "            check_data['new_tt'].iloc[i,]=check_data['travel_time'].iloc[i,]"
   ]
  },
  {
   "cell_type": "code",
   "execution_count": 1349,
   "metadata": {},
   "outputs": [],
   "source": [
    "check_data = check_data.drop(columns=[ 'type', 'ori_region', 'dest_region', 'ori_lat', 'ori_lng',\n",
    "       'dest_lat', 'dest_long', 'j_distance', 'dept_date', 'dept_time',\n",
    "       'travel_time', 'arrival_time', 'fare', 'origin_node', 'dest_node',\n",
    "       'new_dist', 'all_path'])"
   ]
  },
  {
   "cell_type": "code",
   "execution_count": 1350,
   "metadata": {},
   "outputs": [],
   "source": [
    "#check_data_join\n",
    "check_data.columns = ['trip_id', 'travel_time_mul']"
   ]
  },
  {
   "cell_type": "code",
   "execution_count": 1351,
   "metadata": {},
   "outputs": [],
   "source": [
    "data_next = pd.merge(data_next, check_data,  how='left', left_on=['trip_id'], right_on = ['trip_id'])"
   ]
  },
  {
   "cell_type": "code",
   "execution_count": 1353,
   "metadata": {},
   "outputs": [
    {
     "name": "stderr",
     "output_type": "stream",
     "text": [
      "C:\\Users\\Stephy\\Anaconda3\\lib\\site-packages\\pandas\\core\\indexing.py:189: SettingWithCopyWarning: \n",
      "A value is trying to be set on a copy of a slice from a DataFrame\n",
      "\n",
      "See the caveats in the documentation: http://pandas.pydata.org/pandas-docs/stable/indexing.html#indexing-view-versus-copy\n",
      "  self._setitem_with_indexer(indexer, value)\n"
     ]
    }
   ],
   "source": [
    "#data_next1\n",
    "cnt1 = 0\n",
    "cnt2 = 0\n",
    "\n",
    "for i in range(len(data_next)):\n",
    "    if pd.isna(data_next.travel_time_mul.iloc[i]):\n",
    "        data_next.new_tt.iloc[i]= data_next.new_tt.iloc[i]\n",
    "        cnt1 = cnt1+1\n",
    "    else:\n",
    "        data_next.new_tt.iloc[i]= data_next.travel_time_mul.iloc[i]\n",
    "        cnt2 = cnt2+1"
   ]
  },
  {
   "cell_type": "code",
   "execution_count": 1354,
   "metadata": {},
   "outputs": [
    {
     "data": {
      "text/plain": [
       "268"
      ]
     },
     "execution_count": 1354,
     "metadata": {},
     "output_type": "execute_result"
    }
   ],
   "source": [
    "cnt1"
   ]
  },
  {
   "cell_type": "code",
   "execution_count": 1355,
   "metadata": {},
   "outputs": [
    {
     "data": {
      "text/plain": [
       "30"
      ]
     },
     "execution_count": 1355,
     "metadata": {},
     "output_type": "execute_result"
    }
   ],
   "source": [
    "cnt2"
   ]
  },
  {
   "cell_type": "code",
   "execution_count": 1357,
   "metadata": {},
   "outputs": [],
   "source": [
    "data_next1 = data_next.drop(columns=['travel_time_mul', 'origin_node', 'dest_node', 'new_dist'])"
   ]
  },
  {
   "cell_type": "code",
   "execution_count": 1358,
   "metadata": {},
   "outputs": [
    {
     "data": {
      "text/plain": [
       "(298, 15)"
      ]
     },
     "execution_count": 1358,
     "metadata": {},
     "output_type": "execute_result"
    }
   ],
   "source": [
    "data_next1.shape"
   ]
  },
  {
   "cell_type": "code",
   "execution_count": 1359,
   "metadata": {},
   "outputs": [],
   "source": [
    "#the departure time and arrival time swap has already been fixed\n",
    "#checking the time differnce between the travel time and time difference between arrival time and departure time\n",
    "\n",
    "data_next1['check_time_diff'] = 0.00\n",
    "\n",
    "data_next1['check_time_diff']  = pd.to_timedelta(data_next1['arrival_time'])-pd.to_timedelta(data_next1['dept_time'])\n",
    "data_next1['check_time_diff']  = pd.to_timedelta(data_next1['check_time_diff'].dt.seconds, unit='s')\n",
    "\n",
    "#https://www.numpy.org/devdocs/reference/arrays.datetime.html\n",
    "data_next1['check_time_diff'] = data_next1['check_time_diff'] / np.timedelta64(1, 's')\n"
   ]
  },
  {
   "cell_type": "code",
   "execution_count": 1360,
   "metadata": {},
   "outputs": [
    {
     "data": {
      "text/plain": [
       "(298, 16)"
      ]
     },
     "execution_count": 1360,
     "metadata": {},
     "output_type": "execute_result"
    }
   ],
   "source": [
    "data_next1.shape"
   ]
  },
  {
   "cell_type": "code",
   "execution_count": 1361,
   "metadata": {},
   "outputs": [],
   "source": [
    "# now separating the cases where the calculated difference and new travel time is different \n",
    "check_1 = data_next1[round(data_next1['new_tt'],2)-round(data_next1['check_time_diff'],2) != 0]\n",
    "check_2 = check_1[(round(check_1['new_tt'],2)-round(check_1['check_time_diff'],2)) > 1]\n",
    "check_3 = check_1[(round(check_1['new_tt'],2)-round(check_1['travel_time'],2)) > 1]\n",
    "check_4 = pd.concat([check_2, check_3])\n"
   ]
  },
  {
   "cell_type": "code",
   "execution_count": 1362,
   "metadata": {},
   "outputs": [],
   "source": [
    "#for the cases in check_4 the time calculated and the given time differs\n",
    "#going by the assumption that the given time is correct, we will check if arrival time corresponds with given time \n",
    "\n",
    "check_4\n",
    "check_4['arrival_time1'] = pd.to_timedelta(check_4['dept_time']) + check_4['travel_time'] * np.timedelta64(1, 's')\n",
    "check_4['arrival_time1'] = pd.to_datetime(check_4['arrival_time1']).apply(lambda x: datetime.datetime.time(x))\n"
   ]
  },
  {
   "cell_type": "markdown",
   "metadata": {},
   "source": [
    "It can be seen that still in a few ID's the arrival time does not correspond with the given time, in these cases defintetly the arrival time needs to be changed, since assumptionis is that the given time is correct\n",
    "ID's where arrival time needs to be updated \n",
    "\n",
    "\n",
    "ID1114439128 \n",
    "\n",
    "\n",
    "ID1418364938\n",
    "\n",
    "\n",
    "ID5214707525\n",
    "\n",
    "\n",
    "ID5778830568\n",
    "\n",
    "\n",
    "ID5374300048\n",
    "\n"
   ]
  },
  {
   "cell_type": "code",
   "execution_count": 1382,
   "metadata": {
    "collapsed": true
   },
   "outputs": [
    {
     "name": "stderr",
     "output_type": "stream",
     "text": [
      "C:\\Users\\Stephy\\Anaconda3\\lib\\site-packages\\ipykernel_launcher.py:5: SettingWithCopyWarning: \n",
      "A value is trying to be set on a copy of a slice from a DataFrame\n",
      "\n",
      "See the caveats in the documentation: http://pandas.pydata.org/pandas-docs/stable/indexing.html#indexing-view-versus-copy\n",
      "  \"\"\"\n"
     ]
    }
   ],
   "source": [
    "data_next1['arrival_time'][data_next1.trip_id == 'ID1114439128'] = check_4['arrival_time1'][check_4.trip_id == 'ID1114439128']\n",
    "data_next1['arrival_time'][data_next1.trip_id == 'ID1418364938'] = check_4['arrival_time1'][check_4.trip_id == 'ID1418364938']\n",
    "data_next1['arrival_time'][data_next1.trip_id == 'ID5214707525'] = check_4['arrival_time1'][check_4.trip_id == 'ID5214707525']\n",
    "data_next1['arrival_time'][data_next1.trip_id == 'ID5778830568'] = check_4['arrival_time1'][check_4.trip_id == 'ID5778830568']\n",
    "data_next1['arrival_time'][data_next1.trip_id == 'ID5374300048'] = check_4['arrival_time1'][check_4.trip_id == 'ID5374300048']"
   ]
  },
  {
   "cell_type": "code",
   "execution_count": 1372,
   "metadata": {},
   "outputs": [
    {
     "data": {
      "text/plain": [
       "(298, 16)"
      ]
     },
     "execution_count": 1372,
     "metadata": {},
     "output_type": "execute_result"
    }
   ],
   "source": [
    "data_next1.shape"
   ]
  },
  {
   "cell_type": "code",
   "execution_count": 1475,
   "metadata": {},
   "outputs": [],
   "source": [
    "data_next2 = data_next1.copy()"
   ]
  },
  {
   "cell_type": "markdown",
   "metadata": {},
   "source": [
    "There could be more cases where the arrival time and travel time is wrong.\n",
    "This can be known by checking the entries where there is difference between travel time and (arrival time - departure time)"
   ]
  },
  {
   "cell_type": "code",
   "execution_count": 1476,
   "metadata": {},
   "outputs": [
    {
     "name": "stderr",
     "output_type": "stream",
     "text": [
      "C:\\Users\\Stephy\\Anaconda3\\lib\\site-packages\\pandas\\core\\indexing.py:189: SettingWithCopyWarning: \n",
      "A value is trying to be set on a copy of a slice from a DataFrame\n",
      "\n",
      "See the caveats in the documentation: http://pandas.pydata.org/pandas-docs/stable/indexing.html#indexing-view-versus-copy\n",
      "  self._setitem_with_indexer(indexer, value)\n"
     ]
    }
   ],
   "source": [
    "#cases where travel time is the calculated travel time\n",
    "for i in range(len(data_next2)):\n",
    "    if abs(data_next2.check_time_diff.iloc[i]-data_next2.travel_time.iloc[i])>1:\n",
    "        if math.floor(data_next2.check_time_diff.iloc[i])-math.floor(data_next2.new_tt.iloc[i]) == 0:\n",
    "            data_next2.travel_time.iloc[i]=data_next2.new_tt.iloc[i]\n",
    "            \n",
    "    "
   ]
  },
  {
   "cell_type": "code",
   "execution_count": 1477,
   "metadata": {
    "scrolled": true
   },
   "outputs": [
    {
     "name": "stderr",
     "output_type": "stream",
     "text": [
      "C:\\Users\\Stephy\\Anaconda3\\lib\\site-packages\\pandas\\core\\indexing.py:189: SettingWithCopyWarning: \n",
      "A value is trying to be set on a copy of a slice from a DataFrame\n",
      "\n",
      "See the caveats in the documentation: http://pandas.pydata.org/pandas-docs/stable/indexing.html#indexing-view-versus-copy\n",
      "  self._setitem_with_indexer(indexer, value)\n"
     ]
    }
   ],
   "source": [
    "#cases where given travel time is correct but arrival time is wrong\n",
    "#here assumption is that the given travel time is correct\n",
    "#these are case where given travel time, difference b/w arrival and depature and the calculated travel time are all different\n",
    "#there are also cases where the given travel time and calculated travel time are the same\n",
    "for i in range(len(data_next2)):\n",
    "    if abs(data_next2.check_time_diff.iloc[i]-data_next2.travel_time.iloc[i])>1:\n",
    "        data_next2.arrival_time.iloc[i] = pd.to_timedelta(data_next2.dept_time.iloc[i]) + data_next2.travel_time.iloc[i] * np.timedelta64(1, 's')\n",
    "        "
   ]
  },
  {
   "cell_type": "code",
   "execution_count": 1478,
   "metadata": {
    "scrolled": true
   },
   "outputs": [
    {
     "data": {
      "text/html": [
       "<div>\n",
       "<style scoped>\n",
       "    .dataframe tbody tr th:only-of-type {\n",
       "        vertical-align: middle;\n",
       "    }\n",
       "\n",
       "    .dataframe tbody tr th {\n",
       "        vertical-align: top;\n",
       "    }\n",
       "\n",
       "    .dataframe thead th {\n",
       "        text-align: right;\n",
       "    }\n",
       "</style>\n",
       "<table border=\"1\" class=\"dataframe\">\n",
       "  <thead>\n",
       "    <tr style=\"text-align: right;\">\n",
       "      <th></th>\n",
       "      <th>trip_id</th>\n",
       "      <th>type</th>\n",
       "      <th>ori_region</th>\n",
       "      <th>dest_region</th>\n",
       "      <th>ori_lat</th>\n",
       "      <th>ori_lng</th>\n",
       "      <th>dest_lat</th>\n",
       "      <th>dest_long</th>\n",
       "      <th>j_distance</th>\n",
       "      <th>dept_date</th>\n",
       "      <th>dept_time</th>\n",
       "      <th>travel_time</th>\n",
       "      <th>arrival_time</th>\n",
       "      <th>fare</th>\n",
       "      <th>new_tt</th>\n",
       "      <th>check_time_diff</th>\n",
       "    </tr>\n",
       "  </thead>\n",
       "  <tbody>\n",
       "    <tr>\n",
       "      <th>108</th>\n",
       "      <td>ID1204376089</td>\n",
       "      <td>0</td>\n",
       "      <td>8</td>\n",
       "      <td>7</td>\n",
       "      <td>-37.815834</td>\n",
       "      <td>145.04645</td>\n",
       "      <td>-37.861835</td>\n",
       "      <td>144.905716</td>\n",
       "      <td>15151.0</td>\n",
       "      <td>2018-05-17</td>\n",
       "      <td>03:15:37</td>\n",
       "      <td>4917.48</td>\n",
       "      <td>0 days 04:37:34</td>\n",
       "      <td>18.2</td>\n",
       "      <td>4917.48</td>\n",
       "      <td>20851.0</td>\n",
       "    </tr>\n",
       "  </tbody>\n",
       "</table>\n",
       "</div>"
      ],
      "text/plain": [
       "          trip_id  type ori_region dest_region    ori_lat    ori_lng  \\\n",
       "108  ID1204376089     0          8           7 -37.815834  145.04645   \n",
       "\n",
       "      dest_lat   dest_long  j_distance   dept_date dept_time  travel_time  \\\n",
       "108 -37.861835  144.905716     15151.0  2018-05-17  03:15:37      4917.48   \n",
       "\n",
       "        arrival_time  fare   new_tt  check_time_diff  \n",
       "108  0 days 04:37:34  18.2  4917.48          20851.0  "
      ]
     },
     "execution_count": 1478,
     "metadata": {},
     "output_type": "execute_result"
    }
   ],
   "source": [
    "#random check\n",
    "data_next2[data_next2['trip_id']=='ID1204376089']\n",
    "\n",
    "#if math.floor(data_next1.travel_time) - data_next1.check_time_diff = 0\n",
    "#then new_tt = travel_time"
   ]
  },
  {
   "cell_type": "code",
   "execution_count": 1479,
   "metadata": {},
   "outputs": [],
   "source": [
    "data_next2 = data_next2.drop(columns=['new_tt', 'check_time_diff'])"
   ]
  },
  {
   "cell_type": "code",
   "execution_count": 1480,
   "metadata": {},
   "outputs": [
    {
     "data": {
      "text/plain": [
       "(298, 14)"
      ]
     },
     "execution_count": 1480,
     "metadata": {},
     "output_type": "execute_result"
    }
   ],
   "source": [
    "data_next2.shape"
   ]
  },
  {
   "cell_type": "code",
   "execution_count": 1481,
   "metadata": {},
   "outputs": [],
   "source": [
    "data_next3 = data_next2.copy()"
   ]
  },
  {
   "cell_type": "markdown",
   "metadata": {},
   "source": [
    "### 4.7 Saving the fixed file"
   ]
  },
  {
   "cell_type": "code",
   "execution_count": 1482,
   "metadata": {},
   "outputs": [],
   "source": [
    "original = pd.read_csv(\"29915651_dirty_data.csv\")"
   ]
  },
  {
   "cell_type": "code",
   "execution_count": 1483,
   "metadata": {},
   "outputs": [
    {
     "data": {
      "text/plain": [
       "Index(['Unnamed: 0', 'Uber Type', 'Origin Region', 'Destination Region',\n",
       "       'Origin Latitude', 'Origin Longitude', 'Destination Latitude',\n",
       "       'Destination Longitude', 'Journey Distance(m)', 'Departure Date',\n",
       "       'Departure Time', 'Travel Time(s)', 'Arrival Time', 'Fare$'],\n",
       "      dtype='object')"
      ]
     },
     "execution_count": 1483,
     "metadata": {},
     "output_type": "execute_result"
    }
   ],
   "source": [
    "#save cleaned file \n",
    "original.columns "
   ]
  },
  {
   "cell_type": "code",
   "execution_count": 1484,
   "metadata": {},
   "outputs": [],
   "source": [
    "data_next2.columns = ['Unnamed: 0', 'Uber Type', 'Origin Region', 'Destination Region',\n",
    "       'Origin Latitude', 'Origin Longitude', 'Destination Latitude',\n",
    "       'Destination Longitude', 'Journey Distance(m)', 'Departure Date',\n",
    "       'Departure Time', 'Travel Time(s)', 'Arrival Time', 'Fare$']"
   ]
  },
  {
   "cell_type": "code",
   "execution_count": 1485,
   "metadata": {},
   "outputs": [],
   "source": [
    "data_next2.to_csv(\"29915651_dirty_data_solution.csv\",index = False)\n"
   ]
  },
  {
   "cell_type": "markdown",
   "metadata": {},
   "source": [
    "### Thus the dirty data is cleaned "
   ]
  },
  {
   "cell_type": "markdown",
   "metadata": {},
   "source": [
    "## 5. Treatment of missing value\n",
    "\n",
    "### Task 2 \n",
    "\n",
    "#### Impute the missing values in <student_no>_missing_value.csv\n",
    "\n",
    "The data given is the 29915651_missing_value file.\n",
    "Basic EDA is performed on this file to understand the data and how the missing values can be imputed."
   ]
  },
  {
   "cell_type": "code",
   "execution_count": 234,
   "metadata": {},
   "outputs": [],
   "source": [
    "missing= pd.read_csv(\"29915651_missing_value.csv\")"
   ]
  },
  {
   "cell_type": "code",
   "execution_count": 33,
   "metadata": {},
   "outputs": [
    {
     "data": {
      "text/plain": [
       "Index(['Unnamed: 0', 'Uber Type', 'Origin Region', 'Destination Region',\n",
       "       'Origin Latitude', 'Origin Longitude', 'Destination Latitude',\n",
       "       'Destination Longitude', 'Journey Distance(m)', 'Departure Date',\n",
       "       'Departure Time', 'Travel Time(s)', 'Arrival Time', 'Fare$'],\n",
       "      dtype='object')"
      ]
     },
     "execution_count": 33,
     "metadata": {},
     "output_type": "execute_result"
    }
   ],
   "source": [
    "missing.columns"
   ]
  },
  {
   "cell_type": "code",
   "execution_count": 34,
   "metadata": {},
   "outputs": [
    {
     "data": {
      "text/plain": [
       "(124, 14)"
      ]
     },
     "execution_count": 34,
     "metadata": {},
     "output_type": "execute_result"
    }
   ],
   "source": [
    "missing.shape"
   ]
  },
  {
   "cell_type": "code",
   "execution_count": 35,
   "metadata": {},
   "outputs": [],
   "source": [
    "missing.columns=['trip_id', 'type', 'ori_region', 'dest_region','ori_lat', 'ori_lng',\n",
    "              'dest_lat', 'dest_long', 'j_distance', 'dept_date',\n",
    "       'dept_time', 'travel_time', 'arrival_time', 'fare']"
   ]
  },
  {
   "cell_type": "code",
   "execution_count": 36,
   "metadata": {},
   "outputs": [
    {
     "data": {
      "text/plain": [
       "trip_id          0\n",
       "type            20\n",
       "ori_region       0\n",
       "dest_region      0\n",
       "ori_lat          0\n",
       "ori_lng          0\n",
       "dest_lat         0\n",
       "dest_long        0\n",
       "j_distance       0\n",
       "dept_date        0\n",
       "dept_time        0\n",
       "travel_time      0\n",
       "arrival_time     0\n",
       "fare            18\n",
       "dtype: int64"
      ]
     },
     "execution_count": 36,
     "metadata": {},
     "output_type": "execute_result"
    }
   ],
   "source": [
    "missing.isnull().sum()"
   ]
  },
  {
   "cell_type": "markdown",
   "metadata": {},
   "source": [
    "There are 20 missing values in Uber Type and 18 missing values in fare."
   ]
  },
  {
   "cell_type": "markdown",
   "metadata": {},
   "source": [
    "### 5.1 Imputing Uber Type \n",
    "\n",
    "Uber type can be determined by Uber trip ID. Using the same logic as in dirty data cleaning, \n",
    "\n",
    "if trip ID starts with ID1, then it belongs to Uber pool, \n",
    "\n",
    "otherwise if trip ID starts with ID2, then it belongs to Uber X, \n",
    "\n",
    "elseif the trip ID starts with ID3, then it belongs to Uber Black."
   ]
  },
  {
   "cell_type": "code",
   "execution_count": 37,
   "metadata": {},
   "outputs": [
    {
     "name": "stderr",
     "output_type": "stream",
     "text": [
      "C:\\Users\\Stephy\\Anaconda3\\lib\\site-packages\\pandas\\core\\indexing.py:630: SettingWithCopyWarning: \n",
      "A value is trying to be set on a copy of a slice from a DataFrame\n",
      "\n",
      "See the caveats in the documentation: http://pandas.pydata.org/pandas-docs/stable/indexing.html#indexing-view-versus-copy\n",
      "  self.obj[item_labels[indexer[info_axis]]] = value\n"
     ]
    }
   ],
   "source": [
    "row_cnt = len(missing) \n",
    "cnt = 0\n",
    "\n",
    "for i in range(row_cnt):\n",
    "    pattern=missing['trip_id'].iloc[i,][0:3]\n",
    "    if pattern =='ID1':\n",
    "        missing['type'].iloc[i,]=\"0\"\n",
    "        cnt = cnt+1\n",
    "    elif pattern =='ID3':\n",
    "        missing['type'].iloc[i,]=\"1\"\n",
    "        cnt = cnt+1\n",
    "    elif pattern =='ID5':\n",
    "        missing['type'].iloc[i,]=\"2\"\n",
    "        cnt = cnt+1\n",
    "    else:\n",
    "        missing['type'].iloc[i,]=\"error\""
   ]
  },
  {
   "cell_type": "code",
   "execution_count": 38,
   "metadata": {},
   "outputs": [
    {
     "data": {
      "text/plain": [
       "type\n",
       "0.0    51\n",
       "1.0    49\n",
       "2.0    24\n",
       "Name: trip_id, dtype: int64"
      ]
     },
     "execution_count": 38,
     "metadata": {},
     "output_type": "execute_result"
    }
   ],
   "source": [
    "missing.groupby('type')['trip_id'].nunique()"
   ]
  },
  {
   "cell_type": "markdown",
   "metadata": {},
   "source": [
    "### 5.2\tData Preparation for modelling travel fare \n",
    "\n",
    "The fare will be predicted based on linear modelling\n",
    "For this the data size is increased by taking the cleaned dataset and concatenating with the missing value dataset\n",
    "\n",
    "Then basic EDA is performed to identify the significant variables"
   ]
  },
  {
   "cell_type": "code",
   "execution_count": 39,
   "metadata": {},
   "outputs": [],
   "source": [
    "data_next3= pd.read_csv(\"29915651_dirty_data_solution.csv\")"
   ]
  },
  {
   "cell_type": "code",
   "execution_count": 40,
   "metadata": {},
   "outputs": [],
   "source": [
    "data_next3.columns=['trip_id', 'type', 'ori_region', 'dest_region','ori_lat', 'ori_lng',\n",
    "              'dest_lat', 'dest_long', 'j_distance', 'dept_date',\n",
    "       'dept_time', 'travel_time', 'arrival_time', 'fare']"
   ]
  },
  {
   "cell_type": "code",
   "execution_count": 41,
   "metadata": {},
   "outputs": [],
   "source": [
    "more_data =pd.concat([missing, data_next3])"
   ]
  },
  {
   "cell_type": "code",
   "execution_count": 42,
   "metadata": {},
   "outputs": [
    {
     "data": {
      "text/plain": [
       "422"
      ]
     },
     "execution_count": 42,
     "metadata": {},
     "output_type": "execute_result"
    }
   ],
   "source": [
    "len(more_data)"
   ]
  },
  {
   "cell_type": "code",
   "execution_count": 43,
   "metadata": {
    "collapsed": true
   },
   "outputs": [
    {
     "data": {
      "text/html": [
       "<div>\n",
       "<style scoped>\n",
       "    .dataframe tbody tr th:only-of-type {\n",
       "        vertical-align: middle;\n",
       "    }\n",
       "\n",
       "    .dataframe tbody tr th {\n",
       "        vertical-align: top;\n",
       "    }\n",
       "\n",
       "    .dataframe thead th {\n",
       "        text-align: right;\n",
       "    }\n",
       "</style>\n",
       "<table border=\"1\" class=\"dataframe\">\n",
       "  <thead>\n",
       "    <tr style=\"text-align: right;\">\n",
       "      <th></th>\n",
       "      <th>trip_id</th>\n",
       "      <th>type</th>\n",
       "      <th>ori_region</th>\n",
       "      <th>dest_region</th>\n",
       "      <th>ori_lat</th>\n",
       "      <th>ori_lng</th>\n",
       "      <th>dest_lat</th>\n",
       "      <th>dest_long</th>\n",
       "      <th>j_distance</th>\n",
       "      <th>dept_date</th>\n",
       "      <th>dept_time</th>\n",
       "      <th>travel_time</th>\n",
       "      <th>arrival_time</th>\n",
       "      <th>fare</th>\n",
       "    </tr>\n",
       "  </thead>\n",
       "  <tbody>\n",
       "    <tr>\n",
       "      <th>0</th>\n",
       "      <td>ID1150447209</td>\n",
       "      <td>0.0</td>\n",
       "      <td>6</td>\n",
       "      <td>2</td>\n",
       "      <td>-37.787442</td>\n",
       "      <td>144.980409</td>\n",
       "      <td>-37.818482</td>\n",
       "      <td>144.944247</td>\n",
       "      <td>5825.0</td>\n",
       "      <td>2018-02-01</td>\n",
       "      <td>14:25:11</td>\n",
       "      <td>1539.06</td>\n",
       "      <td>14:50:50</td>\n",
       "      <td>11.15</td>\n",
       "    </tr>\n",
       "    <tr>\n",
       "      <th>1</th>\n",
       "      <td>ID1865938578</td>\n",
       "      <td>0.0</td>\n",
       "      <td>1</td>\n",
       "      <td>8</td>\n",
       "      <td>-37.816116</td>\n",
       "      <td>144.938397</td>\n",
       "      <td>-37.815834</td>\n",
       "      <td>145.046450</td>\n",
       "      <td>9970.0</td>\n",
       "      <td>2018-03-08</td>\n",
       "      <td>20:16:26</td>\n",
       "      <td>2814.60</td>\n",
       "      <td>21:03:20</td>\n",
       "      <td>11.76</td>\n",
       "    </tr>\n",
       "    <tr>\n",
       "      <th>2</th>\n",
       "      <td>ID5959375442</td>\n",
       "      <td>2.0</td>\n",
       "      <td>3</td>\n",
       "      <td>7</td>\n",
       "      <td>-37.840692</td>\n",
       "      <td>144.993057</td>\n",
       "      <td>-37.861835</td>\n",
       "      <td>144.905716</td>\n",
       "      <td>11169.0</td>\n",
       "      <td>2018-03-19</td>\n",
       "      <td>17:08:46</td>\n",
       "      <td>3950.10</td>\n",
       "      <td>18:14:36</td>\n",
       "      <td>357.92</td>\n",
       "    </tr>\n",
       "    <tr>\n",
       "      <th>3</th>\n",
       "      <td>ID3415243284</td>\n",
       "      <td>1.0</td>\n",
       "      <td>4</td>\n",
       "      <td>6</td>\n",
       "      <td>-37.816218</td>\n",
       "      <td>145.007396</td>\n",
       "      <td>-37.790797</td>\n",
       "      <td>144.985865</td>\n",
       "      <td>4603.0</td>\n",
       "      <td>2018-04-06</td>\n",
       "      <td>10:45:37</td>\n",
       "      <td>1319.04</td>\n",
       "      <td>11:07:36</td>\n",
       "      <td>10.37</td>\n",
       "    </tr>\n",
       "    <tr>\n",
       "      <th>4</th>\n",
       "      <td>ID3952316105</td>\n",
       "      <td>1.0</td>\n",
       "      <td>4</td>\n",
       "      <td>7</td>\n",
       "      <td>-37.800917</td>\n",
       "      <td>145.010809</td>\n",
       "      <td>-37.861835</td>\n",
       "      <td>144.905716</td>\n",
       "      <td>12680.0</td>\n",
       "      <td>2018-07-23</td>\n",
       "      <td>06:02:54</td>\n",
       "      <td>4076.46</td>\n",
       "      <td>7:10:50</td>\n",
       "      <td>23.18</td>\n",
       "    </tr>\n",
       "    <tr>\n",
       "      <th>5</th>\n",
       "      <td>ID1137438502</td>\n",
       "      <td>0.0</td>\n",
       "      <td>7</td>\n",
       "      <td>1</td>\n",
       "      <td>-37.861835</td>\n",
       "      <td>144.905716</td>\n",
       "      <td>-37.820723</td>\n",
       "      <td>144.957482</td>\n",
       "      <td>7995.0</td>\n",
       "      <td>2018-07-12</td>\n",
       "      <td>08:59:45</td>\n",
       "      <td>2796.54</td>\n",
       "      <td>9:46:21</td>\n",
       "      <td>7.59</td>\n",
       "    </tr>\n",
       "    <tr>\n",
       "      <th>6</th>\n",
       "      <td>ID3327093815</td>\n",
       "      <td>1.0</td>\n",
       "      <td>4</td>\n",
       "      <td>2</td>\n",
       "      <td>-37.806980</td>\n",
       "      <td>145.014768</td>\n",
       "      <td>-37.811601</td>\n",
       "      <td>144.927428</td>\n",
       "      <td>8541.0</td>\n",
       "      <td>2018-05-19</td>\n",
       "      <td>02:39:53</td>\n",
       "      <td>2189.76</td>\n",
       "      <td>3:16:22</td>\n",
       "      <td>29.47</td>\n",
       "    </tr>\n",
       "    <tr>\n",
       "      <th>7</th>\n",
       "      <td>ID5333097186</td>\n",
       "      <td>2.0</td>\n",
       "      <td>9</td>\n",
       "      <td>6</td>\n",
       "      <td>-38.110916</td>\n",
       "      <td>144.654173</td>\n",
       "      <td>-37.773803</td>\n",
       "      <td>144.983647</td>\n",
       "      <td>51061.0</td>\n",
       "      <td>2018-03-02</td>\n",
       "      <td>23:07:53</td>\n",
       "      <td>12952.44</td>\n",
       "      <td>2:43:45</td>\n",
       "      <td>1131.46</td>\n",
       "    </tr>\n",
       "    <tr>\n",
       "      <th>8</th>\n",
       "      <td>ID3984616234</td>\n",
       "      <td>1.0</td>\n",
       "      <td>4</td>\n",
       "      <td>1</td>\n",
       "      <td>-37.801453</td>\n",
       "      <td>145.006883</td>\n",
       "      <td>-37.801069</td>\n",
       "      <td>144.963874</td>\n",
       "      <td>4186.0</td>\n",
       "      <td>2018-01-01</td>\n",
       "      <td>13:09:16</td>\n",
       "      <td>1080.24</td>\n",
       "      <td>13:27:16</td>\n",
       "      <td>13.21</td>\n",
       "    </tr>\n",
       "    <tr>\n",
       "      <th>9</th>\n",
       "      <td>ID1932239555</td>\n",
       "      <td>0.0</td>\n",
       "      <td>5</td>\n",
       "      <td>9</td>\n",
       "      <td>-37.804481</td>\n",
       "      <td>144.921904</td>\n",
       "      <td>-38.110916</td>\n",
       "      <td>144.654173</td>\n",
       "      <td>44266.0</td>\n",
       "      <td>2018-07-12</td>\n",
       "      <td>23:53:34</td>\n",
       "      <td>10621.62</td>\n",
       "      <td>2:50:35</td>\n",
       "      <td>25.29</td>\n",
       "    </tr>\n",
       "    <tr>\n",
       "      <th>10</th>\n",
       "      <td>ID5428198548</td>\n",
       "      <td>2.0</td>\n",
       "      <td>1</td>\n",
       "      <td>2</td>\n",
       "      <td>-37.809828</td>\n",
       "      <td>144.962807</td>\n",
       "      <td>-37.820160</td>\n",
       "      <td>144.950845</td>\n",
       "      <td>2034.0</td>\n",
       "      <td>2018-02-01</td>\n",
       "      <td>10:14:12</td>\n",
       "      <td>478.20</td>\n",
       "      <td>10:22:10</td>\n",
       "      <td>51.05</td>\n",
       "    </tr>\n",
       "    <tr>\n",
       "      <th>11</th>\n",
       "      <td>ID3464842001</td>\n",
       "      <td>1.0</td>\n",
       "      <td>2</td>\n",
       "      <td>7</td>\n",
       "      <td>-37.822001</td>\n",
       "      <td>144.950744</td>\n",
       "      <td>-37.861835</td>\n",
       "      <td>144.905716</td>\n",
       "      <td>8584.0</td>\n",
       "      <td>2018-04-25</td>\n",
       "      <td>01:54:38</td>\n",
       "      <td>2955.06</td>\n",
       "      <td>2:43:53</td>\n",
       "      <td>30.21</td>\n",
       "    </tr>\n",
       "    <tr>\n",
       "      <th>12</th>\n",
       "      <td>ID5581061239</td>\n",
       "      <td>2.0</td>\n",
       "      <td>9</td>\n",
       "      <td>6</td>\n",
       "      <td>-38.110916</td>\n",
       "      <td>144.654173</td>\n",
       "      <td>-37.790797</td>\n",
       "      <td>144.985865</td>\n",
       "      <td>47193.0</td>\n",
       "      <td>2018-05-09</td>\n",
       "      <td>04:58:11</td>\n",
       "      <td>11535.78</td>\n",
       "      <td>8:10:26</td>\n",
       "      <td>1013.01</td>\n",
       "    </tr>\n",
       "    <tr>\n",
       "      <th>13</th>\n",
       "      <td>ID1944735020</td>\n",
       "      <td>0.0</td>\n",
       "      <td>6</td>\n",
       "      <td>8</td>\n",
       "      <td>-37.787433</td>\n",
       "      <td>144.980377</td>\n",
       "      <td>-37.815834</td>\n",
       "      <td>145.046450</td>\n",
       "      <td>8361.0</td>\n",
       "      <td>2018-03-12</td>\n",
       "      <td>08:18:11</td>\n",
       "      <td>2438.22</td>\n",
       "      <td>8:58:49</td>\n",
       "      <td>8.18</td>\n",
       "    </tr>\n",
       "    <tr>\n",
       "      <th>14</th>\n",
       "      <td>ID1828467371</td>\n",
       "      <td>0.0</td>\n",
       "      <td>4</td>\n",
       "      <td>1</td>\n",
       "      <td>-37.804081</td>\n",
       "      <td>145.008981</td>\n",
       "      <td>-37.819925</td>\n",
       "      <td>144.950719</td>\n",
       "      <td>6187.0</td>\n",
       "      <td>2018-06-03</td>\n",
       "      <td>17:30:27</td>\n",
       "      <td>1481.76</td>\n",
       "      <td>17:55:08</td>\n",
       "      <td>13.42</td>\n",
       "    </tr>\n",
       "    <tr>\n",
       "      <th>15</th>\n",
       "      <td>ID3311880313</td>\n",
       "      <td>1.0</td>\n",
       "      <td>8</td>\n",
       "      <td>5</td>\n",
       "      <td>-37.815834</td>\n",
       "      <td>145.046450</td>\n",
       "      <td>-37.814985</td>\n",
       "      <td>144.927590</td>\n",
       "      <td>11845.0</td>\n",
       "      <td>2018-02-13</td>\n",
       "      <td>22:33:00</td>\n",
       "      <td>3285.12</td>\n",
       "      <td>23:27:45</td>\n",
       "      <td>32.58</td>\n",
       "    </tr>\n",
       "    <tr>\n",
       "      <th>16</th>\n",
       "      <td>ID1896673775</td>\n",
       "      <td>0.0</td>\n",
       "      <td>2</td>\n",
       "      <td>9</td>\n",
       "      <td>-37.814860</td>\n",
       "      <td>144.923513</td>\n",
       "      <td>-38.110916</td>\n",
       "      <td>144.654173</td>\n",
       "      <td>44639.0</td>\n",
       "      <td>2018-05-12</td>\n",
       "      <td>04:53:45</td>\n",
       "      <td>10781.82</td>\n",
       "      <td>7:53:26</td>\n",
       "      <td>31.61</td>\n",
       "    </tr>\n",
       "    <tr>\n",
       "      <th>17</th>\n",
       "      <td>ID3303603927</td>\n",
       "      <td>1.0</td>\n",
       "      <td>5</td>\n",
       "      <td>3</td>\n",
       "      <td>-37.809274</td>\n",
       "      <td>144.937567</td>\n",
       "      <td>-37.816977</td>\n",
       "      <td>144.980080</td>\n",
       "      <td>4554.0</td>\n",
       "      <td>2018-05-25</td>\n",
       "      <td>04:54:33</td>\n",
       "      <td>1186.62</td>\n",
       "      <td>5:14:19</td>\n",
       "      <td>19.45</td>\n",
       "    </tr>\n",
       "    <tr>\n",
       "      <th>18</th>\n",
       "      <td>ID1557030431</td>\n",
       "      <td>0.0</td>\n",
       "      <td>9</td>\n",
       "      <td>2</td>\n",
       "      <td>-38.110916</td>\n",
       "      <td>144.654173</td>\n",
       "      <td>-37.814562</td>\n",
       "      <td>144.938224</td>\n",
       "      <td>42553.0</td>\n",
       "      <td>2018-04-13</td>\n",
       "      <td>00:14:53</td>\n",
       "      <td>10196.16</td>\n",
       "      <td>3:04:49</td>\n",
       "      <td>26.92</td>\n",
       "    </tr>\n",
       "    <tr>\n",
       "      <th>19</th>\n",
       "      <td>ID1262062225</td>\n",
       "      <td>0.0</td>\n",
       "      <td>9</td>\n",
       "      <td>6</td>\n",
       "      <td>-38.110916</td>\n",
       "      <td>144.654173</td>\n",
       "      <td>-37.773845</td>\n",
       "      <td>144.983689</td>\n",
       "      <td>48197.0</td>\n",
       "      <td>2018-04-23</td>\n",
       "      <td>14:50:22</td>\n",
       "      <td>11495.34</td>\n",
       "      <td>18:01:57</td>\n",
       "      <td>24.01</td>\n",
       "    </tr>\n",
       "    <tr>\n",
       "      <th>20</th>\n",
       "      <td>ID1324417517</td>\n",
       "      <td>0.0</td>\n",
       "      <td>8</td>\n",
       "      <td>4</td>\n",
       "      <td>-37.807202</td>\n",
       "      <td>145.026637</td>\n",
       "      <td>-37.806385</td>\n",
       "      <td>145.010033</td>\n",
       "      <td>1651.0</td>\n",
       "      <td>2018-06-09</td>\n",
       "      <td>13:00:59</td>\n",
       "      <td>394.20</td>\n",
       "      <td>13:07:33</td>\n",
       "      <td>12.58</td>\n",
       "    </tr>\n",
       "    <tr>\n",
       "      <th>21</th>\n",
       "      <td>ID1734582130</td>\n",
       "      <td>0.0</td>\n",
       "      <td>6</td>\n",
       "      <td>9</td>\n",
       "      <td>-37.790797</td>\n",
       "      <td>144.985865</td>\n",
       "      <td>-38.110916</td>\n",
       "      <td>144.654173</td>\n",
       "      <td>47193.0</td>\n",
       "      <td>2018-06-28</td>\n",
       "      <td>21:49:21</td>\n",
       "      <td>11530.62</td>\n",
       "      <td>1:01:31</td>\n",
       "      <td>29.86</td>\n",
       "    </tr>\n",
       "    <tr>\n",
       "      <th>22</th>\n",
       "      <td>ID1799146603</td>\n",
       "      <td>0.0</td>\n",
       "      <td>7</td>\n",
       "      <td>1</td>\n",
       "      <td>-37.861835</td>\n",
       "      <td>144.905716</td>\n",
       "      <td>-37.800482</td>\n",
       "      <td>144.958210</td>\n",
       "      <td>9711.0</td>\n",
       "      <td>2018-04-18</td>\n",
       "      <td>13:06:31</td>\n",
       "      <td>3215.22</td>\n",
       "      <td>14:00:06</td>\n",
       "      <td>12.77</td>\n",
       "    </tr>\n",
       "    <tr>\n",
       "      <th>23</th>\n",
       "      <td>ID3832710898</td>\n",
       "      <td>1.0</td>\n",
       "      <td>5</td>\n",
       "      <td>7</td>\n",
       "      <td>-37.803571</td>\n",
       "      <td>144.926427</td>\n",
       "      <td>-37.861835</td>\n",
       "      <td>144.905716</td>\n",
       "      <td>11567.0</td>\n",
       "      <td>2018-02-16</td>\n",
       "      <td>21:00:52</td>\n",
       "      <td>3767.58</td>\n",
       "      <td>22:03:39</td>\n",
       "      <td>34.13</td>\n",
       "    </tr>\n",
       "    <tr>\n",
       "      <th>24</th>\n",
       "      <td>ID1402936565</td>\n",
       "      <td>0.0</td>\n",
       "      <td>7</td>\n",
       "      <td>3</td>\n",
       "      <td>-37.861835</td>\n",
       "      <td>144.905716</td>\n",
       "      <td>-37.809262</td>\n",
       "      <td>144.983824</td>\n",
       "      <td>9641.0</td>\n",
       "      <td>2018-05-28</td>\n",
       "      <td>07:55:26</td>\n",
       "      <td>3246.90</td>\n",
       "      <td>8:49:32</td>\n",
       "      <td>6.39</td>\n",
       "    </tr>\n",
       "    <tr>\n",
       "      <th>25</th>\n",
       "      <td>ID5644276599</td>\n",
       "      <td>2.0</td>\n",
       "      <td>5</td>\n",
       "      <td>1</td>\n",
       "      <td>-37.805090</td>\n",
       "      <td>144.930054</td>\n",
       "      <td>-37.803839</td>\n",
       "      <td>144.956327</td>\n",
       "      <td>2679.0</td>\n",
       "      <td>2018-06-05</td>\n",
       "      <td>12:26:05</td>\n",
       "      <td>725.04</td>\n",
       "      <td>12:38:10</td>\n",
       "      <td>81.99</td>\n",
       "    </tr>\n",
       "    <tr>\n",
       "      <th>26</th>\n",
       "      <td>ID1566606241</td>\n",
       "      <td>0.0</td>\n",
       "      <td>4</td>\n",
       "      <td>3</td>\n",
       "      <td>-37.801299</td>\n",
       "      <td>145.001159</td>\n",
       "      <td>-37.820522</td>\n",
       "      <td>144.984006</td>\n",
       "      <td>3346.0</td>\n",
       "      <td>2018-01-25</td>\n",
       "      <td>21:46:33</td>\n",
       "      <td>907.26</td>\n",
       "      <td>22:01:40</td>\n",
       "      <td>12.25</td>\n",
       "    </tr>\n",
       "    <tr>\n",
       "      <th>27</th>\n",
       "      <td>ID3795374103</td>\n",
       "      <td>1.0</td>\n",
       "      <td>7</td>\n",
       "      <td>2</td>\n",
       "      <td>-37.861835</td>\n",
       "      <td>144.905716</td>\n",
       "      <td>-37.821658</td>\n",
       "      <td>144.942579</td>\n",
       "      <td>9462.0</td>\n",
       "      <td>2018-03-09</td>\n",
       "      <td>06:03:12</td>\n",
       "      <td>3244.44</td>\n",
       "      <td>6:57:16</td>\n",
       "      <td>19.76</td>\n",
       "    </tr>\n",
       "    <tr>\n",
       "      <th>28</th>\n",
       "      <td>ID3431450420</td>\n",
       "      <td>1.0</td>\n",
       "      <td>1</td>\n",
       "      <td>8</td>\n",
       "      <td>-37.820168</td>\n",
       "      <td>144.958262</td>\n",
       "      <td>-37.807202</td>\n",
       "      <td>145.026637</td>\n",
       "      <td>7123.0</td>\n",
       "      <td>2018-02-04</td>\n",
       "      <td>07:50:40</td>\n",
       "      <td>1797.06</td>\n",
       "      <td>8:20:37</td>\n",
       "      <td>15.66</td>\n",
       "    </tr>\n",
       "    <tr>\n",
       "      <th>29</th>\n",
       "      <td>ID1804383166</td>\n",
       "      <td>0.0</td>\n",
       "      <td>6</td>\n",
       "      <td>3</td>\n",
       "      <td>-37.773803</td>\n",
       "      <td>144.983647</td>\n",
       "      <td>-37.821604</td>\n",
       "      <td>144.979217</td>\n",
       "      <td>8867.0</td>\n",
       "      <td>2018-02-18</td>\n",
       "      <td>15:04:12</td>\n",
       "      <td>2770.62</td>\n",
       "      <td>15:50:22</td>\n",
       "      <td>15.86</td>\n",
       "    </tr>\n",
       "    <tr>\n",
       "      <th>...</th>\n",
       "      <td>...</td>\n",
       "      <td>...</td>\n",
       "      <td>...</td>\n",
       "      <td>...</td>\n",
       "      <td>...</td>\n",
       "      <td>...</td>\n",
       "      <td>...</td>\n",
       "      <td>...</td>\n",
       "      <td>...</td>\n",
       "      <td>...</td>\n",
       "      <td>...</td>\n",
       "      <td>...</td>\n",
       "      <td>...</td>\n",
       "      <td>...</td>\n",
       "    </tr>\n",
       "    <tr>\n",
       "      <th>268</th>\n",
       "      <td>ID5353199746</td>\n",
       "      <td>2.0</td>\n",
       "      <td>9</td>\n",
       "      <td>6</td>\n",
       "      <td>-38.110916</td>\n",
       "      <td>144.654173</td>\n",
       "      <td>-37.773803</td>\n",
       "      <td>144.983647</td>\n",
       "      <td>51061.0</td>\n",
       "      <td>12-07-2018</td>\n",
       "      <td>06:37:18</td>\n",
       "      <td>12952.44</td>\n",
       "      <td>10:13:10</td>\n",
       "      <td>1059.89</td>\n",
       "    </tr>\n",
       "    <tr>\n",
       "      <th>269</th>\n",
       "      <td>ID1689504986</td>\n",
       "      <td>0.0</td>\n",
       "      <td>8</td>\n",
       "      <td>3</td>\n",
       "      <td>-37.815834</td>\n",
       "      <td>145.046450</td>\n",
       "      <td>-37.819359</td>\n",
       "      <td>144.983801</td>\n",
       "      <td>6419.0</td>\n",
       "      <td>22-07-2018</td>\n",
       "      <td>12:30:55</td>\n",
       "      <td>1948.68</td>\n",
       "      <td>13:03:23</td>\n",
       "      <td>13.09</td>\n",
       "    </tr>\n",
       "    <tr>\n",
       "      <th>270</th>\n",
       "      <td>ID3368318415</td>\n",
       "      <td>1.0</td>\n",
       "      <td>2</td>\n",
       "      <td>4</td>\n",
       "      <td>-37.821512</td>\n",
       "      <td>144.945087</td>\n",
       "      <td>-37.807202</td>\n",
       "      <td>145.026637</td>\n",
       "      <td>8386.0</td>\n",
       "      <td>06-04-2018</td>\n",
       "      <td>09:57:59</td>\n",
       "      <td>2122.68</td>\n",
       "      <td>10:33:21</td>\n",
       "      <td>12.59</td>\n",
       "    </tr>\n",
       "    <tr>\n",
       "      <th>271</th>\n",
       "      <td>ID1902067905</td>\n",
       "      <td>0.0</td>\n",
       "      <td>5</td>\n",
       "      <td>4</td>\n",
       "      <td>-37.799408</td>\n",
       "      <td>144.936526</td>\n",
       "      <td>-37.806339</td>\n",
       "      <td>145.009768</td>\n",
       "      <td>6941.0</td>\n",
       "      <td>19-05-2018</td>\n",
       "      <td>23:20:24</td>\n",
       "      <td>1886.70</td>\n",
       "      <td>23:51:50</td>\n",
       "      <td>17.22</td>\n",
       "    </tr>\n",
       "    <tr>\n",
       "      <th>272</th>\n",
       "      <td>ID3749225541</td>\n",
       "      <td>1.0</td>\n",
       "      <td>8</td>\n",
       "      <td>7</td>\n",
       "      <td>-37.815834</td>\n",
       "      <td>145.046450</td>\n",
       "      <td>-37.861835</td>\n",
       "      <td>144.905716</td>\n",
       "      <td>15151.0</td>\n",
       "      <td>08-03-2018</td>\n",
       "      <td>22:28:28</td>\n",
       "      <td>4917.48</td>\n",
       "      <td>23:50:25</td>\n",
       "      <td>30.96</td>\n",
       "    </tr>\n",
       "    <tr>\n",
       "      <th>273</th>\n",
       "      <td>ID1382542050</td>\n",
       "      <td>0.0</td>\n",
       "      <td>5</td>\n",
       "      <td>2</td>\n",
       "      <td>-37.799655</td>\n",
       "      <td>144.937124</td>\n",
       "      <td>-37.815172</td>\n",
       "      <td>144.945081</td>\n",
       "      <td>2458.0</td>\n",
       "      <td>01-04-2018</td>\n",
       "      <td>21:09:50</td>\n",
       "      <td>663.84</td>\n",
       "      <td>21:20:53</td>\n",
       "      <td>16.23</td>\n",
       "    </tr>\n",
       "    <tr>\n",
       "      <th>274</th>\n",
       "      <td>ID3224344558</td>\n",
       "      <td>1.0</td>\n",
       "      <td>5</td>\n",
       "      <td>4</td>\n",
       "      <td>-37.802144</td>\n",
       "      <td>144.933059</td>\n",
       "      <td>-37.816223</td>\n",
       "      <td>145.007447</td>\n",
       "      <td>7717.0</td>\n",
       "      <td>28-07-2018</td>\n",
       "      <td>12:41:33</td>\n",
       "      <td>1848.54</td>\n",
       "      <td>13:12:21</td>\n",
       "      <td>18.37</td>\n",
       "    </tr>\n",
       "    <tr>\n",
       "      <th>275</th>\n",
       "      <td>ID3737984892</td>\n",
       "      <td>1.0</td>\n",
       "      <td>9</td>\n",
       "      <td>4</td>\n",
       "      <td>-38.110916</td>\n",
       "      <td>144.654173</td>\n",
       "      <td>-37.804280</td>\n",
       "      <td>144.992849</td>\n",
       "      <td>46659.0</td>\n",
       "      <td>27-06-2018</td>\n",
       "      <td>15:53:48</td>\n",
       "      <td>11297.52</td>\n",
       "      <td>19:02:05</td>\n",
       "      <td>47.88</td>\n",
       "    </tr>\n",
       "    <tr>\n",
       "      <th>276</th>\n",
       "      <td>ID5223926884</td>\n",
       "      <td>2.0</td>\n",
       "      <td>2</td>\n",
       "      <td>9</td>\n",
       "      <td>-37.815642</td>\n",
       "      <td>144.937348</td>\n",
       "      <td>-38.110916</td>\n",
       "      <td>144.654173</td>\n",
       "      <td>42609.0</td>\n",
       "      <td>08-04-2018</td>\n",
       "      <td>13:45:17</td>\n",
       "      <td>10236.78</td>\n",
       "      <td>16:35:53</td>\n",
       "      <td>857.24</td>\n",
       "    </tr>\n",
       "    <tr>\n",
       "      <th>277</th>\n",
       "      <td>ID1503040110</td>\n",
       "      <td>0.0</td>\n",
       "      <td>6</td>\n",
       "      <td>7</td>\n",
       "      <td>-37.790797</td>\n",
       "      <td>144.985865</td>\n",
       "      <td>-37.861835</td>\n",
       "      <td>144.905716</td>\n",
       "      <td>11711.0</td>\n",
       "      <td>26-05-2018</td>\n",
       "      <td>11:50:27</td>\n",
       "      <td>3866.94</td>\n",
       "      <td>12:54:53</td>\n",
       "      <td>15.28</td>\n",
       "    </tr>\n",
       "    <tr>\n",
       "      <th>278</th>\n",
       "      <td>ID5511110277</td>\n",
       "      <td>2.0</td>\n",
       "      <td>2</td>\n",
       "      <td>3</td>\n",
       "      <td>-37.815571</td>\n",
       "      <td>144.928303</td>\n",
       "      <td>-37.813531</td>\n",
       "      <td>144.974069</td>\n",
       "      <td>5595.0</td>\n",
       "      <td>12-04-2018</td>\n",
       "      <td>16:16:48</td>\n",
       "      <td>1405.92</td>\n",
       "      <td>16:40:13</td>\n",
       "      <td>134.78</td>\n",
       "    </tr>\n",
       "    <tr>\n",
       "      <th>279</th>\n",
       "      <td>ID1617730191</td>\n",
       "      <td>0.0</td>\n",
       "      <td>6</td>\n",
       "      <td>4</td>\n",
       "      <td>-37.773845</td>\n",
       "      <td>144.983689</td>\n",
       "      <td>-37.807005</td>\n",
       "      <td>145.003786</td>\n",
       "      <td>6643.0</td>\n",
       "      <td>02-04-2018</td>\n",
       "      <td>00:38:14</td>\n",
       "      <td>1437.36</td>\n",
       "      <td>01:02:11</td>\n",
       "      <td>16.55</td>\n",
       "    </tr>\n",
       "    <tr>\n",
       "      <th>280</th>\n",
       "      <td>ID3308863242</td>\n",
       "      <td>1.0</td>\n",
       "      <td>9</td>\n",
       "      <td>1</td>\n",
       "      <td>-38.110916</td>\n",
       "      <td>144.654173</td>\n",
       "      <td>-37.803236</td>\n",
       "      <td>144.963426</td>\n",
       "      <td>44317.0</td>\n",
       "      <td>23-02-2018</td>\n",
       "      <td>20:54:09</td>\n",
       "      <td>10721.04</td>\n",
       "      <td>23:52:50</td>\n",
       "      <td>46.71</td>\n",
       "    </tr>\n",
       "    <tr>\n",
       "      <th>281</th>\n",
       "      <td>ID3752695308</td>\n",
       "      <td>1.0</td>\n",
       "      <td>2</td>\n",
       "      <td>6</td>\n",
       "      <td>-37.815450</td>\n",
       "      <td>144.941596</td>\n",
       "      <td>-37.773803</td>\n",
       "      <td>144.983647</td>\n",
       "      <td>9626.0</td>\n",
       "      <td>21-07-2018</td>\n",
       "      <td>17:12:00</td>\n",
       "      <td>2987.88</td>\n",
       "      <td>18:01:47</td>\n",
       "      <td>22.39</td>\n",
       "    </tr>\n",
       "    <tr>\n",
       "      <th>282</th>\n",
       "      <td>ID5616736563</td>\n",
       "      <td>2.0</td>\n",
       "      <td>6</td>\n",
       "      <td>8</td>\n",
       "      <td>-37.787442</td>\n",
       "      <td>144.980409</td>\n",
       "      <td>-37.815834</td>\n",
       "      <td>145.046450</td>\n",
       "      <td>8357.0</td>\n",
       "      <td>20-04-2018</td>\n",
       "      <td>01:51:45</td>\n",
       "      <td>2437.38</td>\n",
       "      <td>02:32:22</td>\n",
       "      <td>227.87</td>\n",
       "    </tr>\n",
       "    <tr>\n",
       "      <th>283</th>\n",
       "      <td>ID3566642073</td>\n",
       "      <td>1.0</td>\n",
       "      <td>1</td>\n",
       "      <td>7</td>\n",
       "      <td>-37.811380</td>\n",
       "      <td>144.959736</td>\n",
       "      <td>-37.861835</td>\n",
       "      <td>144.905716</td>\n",
       "      <td>8572.0</td>\n",
       "      <td>05-04-2018</td>\n",
       "      <td>02:20:27</td>\n",
       "      <td>2938.86</td>\n",
       "      <td>03:09:25</td>\n",
       "      <td>24.63</td>\n",
       "    </tr>\n",
       "    <tr>\n",
       "      <th>284</th>\n",
       "      <td>ID1139090290</td>\n",
       "      <td>0.0</td>\n",
       "      <td>2</td>\n",
       "      <td>6</td>\n",
       "      <td>-37.809735</td>\n",
       "      <td>144.943283</td>\n",
       "      <td>-37.773845</td>\n",
       "      <td>144.983689</td>\n",
       "      <td>6927.0</td>\n",
       "      <td>12-01-2018</td>\n",
       "      <td>09:33:54</td>\n",
       "      <td>1475.82</td>\n",
       "      <td>09:58:29</td>\n",
       "      <td>7.44</td>\n",
       "    </tr>\n",
       "    <tr>\n",
       "      <th>285</th>\n",
       "      <td>ID1818822503</td>\n",
       "      <td>0.0</td>\n",
       "      <td>3</td>\n",
       "      <td>1</td>\n",
       "      <td>-37.813212</td>\n",
       "      <td>144.973846</td>\n",
       "      <td>-37.801772</td>\n",
       "      <td>144.950882</td>\n",
       "      <td>2840.0</td>\n",
       "      <td>20-06-2018</td>\n",
       "      <td>06:04:03</td>\n",
       "      <td>729.90</td>\n",
       "      <td>06:16:12</td>\n",
       "      <td>4.04</td>\n",
       "    </tr>\n",
       "    <tr>\n",
       "      <th>286</th>\n",
       "      <td>ID3396575730</td>\n",
       "      <td>1.0</td>\n",
       "      <td>8</td>\n",
       "      <td>5</td>\n",
       "      <td>-37.815834</td>\n",
       "      <td>145.046450</td>\n",
       "      <td>-37.806893</td>\n",
       "      <td>144.937745</td>\n",
       "      <td>10229.0</td>\n",
       "      <td>24-01-2018</td>\n",
       "      <td>09:01:00</td>\n",
       "      <td>2853.48</td>\n",
       "      <td>09:48:33</td>\n",
       "      <td>15.90</td>\n",
       "    </tr>\n",
       "    <tr>\n",
       "      <th>287</th>\n",
       "      <td>ID5636711732</td>\n",
       "      <td>2.0</td>\n",
       "      <td>2</td>\n",
       "      <td>2</td>\n",
       "      <td>-37.813246</td>\n",
       "      <td>144.933446</td>\n",
       "      <td>-37.820381</td>\n",
       "      <td>144.951913</td>\n",
       "      <td>3034.0</td>\n",
       "      <td>06-05-2018</td>\n",
       "      <td>00:55:58</td>\n",
       "      <td>757.20</td>\n",
       "      <td>01:08:35</td>\n",
       "      <td>99.19</td>\n",
       "    </tr>\n",
       "    <tr>\n",
       "      <th>288</th>\n",
       "      <td>ID3273485250</td>\n",
       "      <td>1.0</td>\n",
       "      <td>8</td>\n",
       "      <td>3</td>\n",
       "      <td>-37.815834</td>\n",
       "      <td>145.046450</td>\n",
       "      <td>-37.812240</td>\n",
       "      <td>144.973634</td>\n",
       "      <td>6791.0</td>\n",
       "      <td>11-01-2018</td>\n",
       "      <td>23:30:13</td>\n",
       "      <td>2005.92</td>\n",
       "      <td>00:03:38</td>\n",
       "      <td>21.04</td>\n",
       "    </tr>\n",
       "    <tr>\n",
       "      <th>289</th>\n",
       "      <td>ID1870411659</td>\n",
       "      <td>0.0</td>\n",
       "      <td>3</td>\n",
       "      <td>5</td>\n",
       "      <td>-37.811666</td>\n",
       "      <td>144.983273</td>\n",
       "      <td>-37.806522</td>\n",
       "      <td>144.931768</td>\n",
       "      <td>5021.0</td>\n",
       "      <td>11-06-2018</td>\n",
       "      <td>04:21:09</td>\n",
       "      <td>1242.48</td>\n",
       "      <td>04:41:51</td>\n",
       "      <td>12.51</td>\n",
       "    </tr>\n",
       "    <tr>\n",
       "      <th>290</th>\n",
       "      <td>ID3670293996</td>\n",
       "      <td>1.0</td>\n",
       "      <td>2</td>\n",
       "      <td>7</td>\n",
       "      <td>-37.815136</td>\n",
       "      <td>144.939391</td>\n",
       "      <td>-37.861835</td>\n",
       "      <td>144.905716</td>\n",
       "      <td>10218.0</td>\n",
       "      <td>19-06-2018</td>\n",
       "      <td>06:17:49</td>\n",
       "      <td>3388.14</td>\n",
       "      <td>07:14:17</td>\n",
       "      <td>15.44</td>\n",
       "    </tr>\n",
       "    <tr>\n",
       "      <th>291</th>\n",
       "      <td>ID3332523217</td>\n",
       "      <td>1.0</td>\n",
       "      <td>1</td>\n",
       "      <td>6</td>\n",
       "      <td>-37.813489</td>\n",
       "      <td>144.965626</td>\n",
       "      <td>-37.790818</td>\n",
       "      <td>144.985793</td>\n",
       "      <td>3741.0</td>\n",
       "      <td>19-01-2018</td>\n",
       "      <td>07:58:14</td>\n",
       "      <td>927.78</td>\n",
       "      <td>08:13:41</td>\n",
       "      <td>10.57</td>\n",
       "    </tr>\n",
       "    <tr>\n",
       "      <th>292</th>\n",
       "      <td>ID1751595959</td>\n",
       "      <td>0.0</td>\n",
       "      <td>8</td>\n",
       "      <td>1</td>\n",
       "      <td>-37.815834</td>\n",
       "      <td>145.046450</td>\n",
       "      <td>-37.808405</td>\n",
       "      <td>144.948926</td>\n",
       "      <td>8868.0</td>\n",
       "      <td>08-06-2018</td>\n",
       "      <td>04:54:07</td>\n",
       "      <td>2533.44</td>\n",
       "      <td>05:36:20</td>\n",
       "      <td>16.03</td>\n",
       "    </tr>\n",
       "    <tr>\n",
       "      <th>293</th>\n",
       "      <td>ID5833052631</td>\n",
       "      <td>2.0</td>\n",
       "      <td>2</td>\n",
       "      <td>5</td>\n",
       "      <td>-37.812975</td>\n",
       "      <td>144.935031</td>\n",
       "      <td>-37.800943</td>\n",
       "      <td>144.934656</td>\n",
       "      <td>4362.0</td>\n",
       "      <td>06-06-2018</td>\n",
       "      <td>18:48:02</td>\n",
       "      <td>1065.48</td>\n",
       "      <td>19:05:47</td>\n",
       "      <td>107.03</td>\n",
       "    </tr>\n",
       "    <tr>\n",
       "      <th>294</th>\n",
       "      <td>ID1401451741</td>\n",
       "      <td>0.0</td>\n",
       "      <td>1</td>\n",
       "      <td>6</td>\n",
       "      <td>-37.812205</td>\n",
       "      <td>144.953310</td>\n",
       "      <td>-37.787433</td>\n",
       "      <td>144.980377</td>\n",
       "      <td>4443.0</td>\n",
       "      <td>09-02-2018</td>\n",
       "      <td>12:20:25</td>\n",
       "      <td>1114.02</td>\n",
       "      <td>12:38:59</td>\n",
       "      <td>9.36</td>\n",
       "    </tr>\n",
       "    <tr>\n",
       "      <th>295</th>\n",
       "      <td>ID1700942294</td>\n",
       "      <td>0.0</td>\n",
       "      <td>6</td>\n",
       "      <td>1</td>\n",
       "      <td>-37.787433</td>\n",
       "      <td>144.980377</td>\n",
       "      <td>-37.818862</td>\n",
       "      <td>144.953444</td>\n",
       "      <td>4977.0</td>\n",
       "      <td>24-06-2018</td>\n",
       "      <td>12:56:07</td>\n",
       "      <td>1176.30</td>\n",
       "      <td>13:15:43</td>\n",
       "      <td>12.85</td>\n",
       "    </tr>\n",
       "    <tr>\n",
       "      <th>296</th>\n",
       "      <td>ID5273058952</td>\n",
       "      <td>2.0</td>\n",
       "      <td>3</td>\n",
       "      <td>8</td>\n",
       "      <td>-37.822100</td>\n",
       "      <td>144.980650</td>\n",
       "      <td>-37.815834</td>\n",
       "      <td>145.046450</td>\n",
       "      <td>6927.0</td>\n",
       "      <td>14-01-2018</td>\n",
       "      <td>16:23:46</td>\n",
       "      <td>2056.68</td>\n",
       "      <td>16:58:02</td>\n",
       "      <td>195.04</td>\n",
       "    </tr>\n",
       "    <tr>\n",
       "      <th>297</th>\n",
       "      <td>ID1179502505</td>\n",
       "      <td>0.0</td>\n",
       "      <td>4</td>\n",
       "      <td>2</td>\n",
       "      <td>-37.809692</td>\n",
       "      <td>145.003403</td>\n",
       "      <td>-37.814084</td>\n",
       "      <td>144.944512</td>\n",
       "      <td>5552.0</td>\n",
       "      <td>21-05-2018</td>\n",
       "      <td>12:48:23</td>\n",
       "      <td>1416.36</td>\n",
       "      <td>13:11:59</td>\n",
       "      <td>10.17</td>\n",
       "    </tr>\n",
       "  </tbody>\n",
       "</table>\n",
       "<p>422 rows × 14 columns</p>\n",
       "</div>"
      ],
      "text/plain": [
       "          trip_id  type  ori_region  dest_region    ori_lat     ori_lng  \\\n",
       "0    ID1150447209   0.0           6            2 -37.787442  144.980409   \n",
       "1    ID1865938578   0.0           1            8 -37.816116  144.938397   \n",
       "2    ID5959375442   2.0           3            7 -37.840692  144.993057   \n",
       "3    ID3415243284   1.0           4            6 -37.816218  145.007396   \n",
       "4    ID3952316105   1.0           4            7 -37.800917  145.010809   \n",
       "5    ID1137438502   0.0           7            1 -37.861835  144.905716   \n",
       "6    ID3327093815   1.0           4            2 -37.806980  145.014768   \n",
       "7    ID5333097186   2.0           9            6 -38.110916  144.654173   \n",
       "8    ID3984616234   1.0           4            1 -37.801453  145.006883   \n",
       "9    ID1932239555   0.0           5            9 -37.804481  144.921904   \n",
       "10   ID5428198548   2.0           1            2 -37.809828  144.962807   \n",
       "11   ID3464842001   1.0           2            7 -37.822001  144.950744   \n",
       "12   ID5581061239   2.0           9            6 -38.110916  144.654173   \n",
       "13   ID1944735020   0.0           6            8 -37.787433  144.980377   \n",
       "14   ID1828467371   0.0           4            1 -37.804081  145.008981   \n",
       "15   ID3311880313   1.0           8            5 -37.815834  145.046450   \n",
       "16   ID1896673775   0.0           2            9 -37.814860  144.923513   \n",
       "17   ID3303603927   1.0           5            3 -37.809274  144.937567   \n",
       "18   ID1557030431   0.0           9            2 -38.110916  144.654173   \n",
       "19   ID1262062225   0.0           9            6 -38.110916  144.654173   \n",
       "20   ID1324417517   0.0           8            4 -37.807202  145.026637   \n",
       "21   ID1734582130   0.0           6            9 -37.790797  144.985865   \n",
       "22   ID1799146603   0.0           7            1 -37.861835  144.905716   \n",
       "23   ID3832710898   1.0           5            7 -37.803571  144.926427   \n",
       "24   ID1402936565   0.0           7            3 -37.861835  144.905716   \n",
       "25   ID5644276599   2.0           5            1 -37.805090  144.930054   \n",
       "26   ID1566606241   0.0           4            3 -37.801299  145.001159   \n",
       "27   ID3795374103   1.0           7            2 -37.861835  144.905716   \n",
       "28   ID3431450420   1.0           1            8 -37.820168  144.958262   \n",
       "29   ID1804383166   0.0           6            3 -37.773803  144.983647   \n",
       "..            ...   ...         ...          ...        ...         ...   \n",
       "268  ID5353199746   2.0           9            6 -38.110916  144.654173   \n",
       "269  ID1689504986   0.0           8            3 -37.815834  145.046450   \n",
       "270  ID3368318415   1.0           2            4 -37.821512  144.945087   \n",
       "271  ID1902067905   0.0           5            4 -37.799408  144.936526   \n",
       "272  ID3749225541   1.0           8            7 -37.815834  145.046450   \n",
       "273  ID1382542050   0.0           5            2 -37.799655  144.937124   \n",
       "274  ID3224344558   1.0           5            4 -37.802144  144.933059   \n",
       "275  ID3737984892   1.0           9            4 -38.110916  144.654173   \n",
       "276  ID5223926884   2.0           2            9 -37.815642  144.937348   \n",
       "277  ID1503040110   0.0           6            7 -37.790797  144.985865   \n",
       "278  ID5511110277   2.0           2            3 -37.815571  144.928303   \n",
       "279  ID1617730191   0.0           6            4 -37.773845  144.983689   \n",
       "280  ID3308863242   1.0           9            1 -38.110916  144.654173   \n",
       "281  ID3752695308   1.0           2            6 -37.815450  144.941596   \n",
       "282  ID5616736563   2.0           6            8 -37.787442  144.980409   \n",
       "283  ID3566642073   1.0           1            7 -37.811380  144.959736   \n",
       "284  ID1139090290   0.0           2            6 -37.809735  144.943283   \n",
       "285  ID1818822503   0.0           3            1 -37.813212  144.973846   \n",
       "286  ID3396575730   1.0           8            5 -37.815834  145.046450   \n",
       "287  ID5636711732   2.0           2            2 -37.813246  144.933446   \n",
       "288  ID3273485250   1.0           8            3 -37.815834  145.046450   \n",
       "289  ID1870411659   0.0           3            5 -37.811666  144.983273   \n",
       "290  ID3670293996   1.0           2            7 -37.815136  144.939391   \n",
       "291  ID3332523217   1.0           1            6 -37.813489  144.965626   \n",
       "292  ID1751595959   0.0           8            1 -37.815834  145.046450   \n",
       "293  ID5833052631   2.0           2            5 -37.812975  144.935031   \n",
       "294  ID1401451741   0.0           1            6 -37.812205  144.953310   \n",
       "295  ID1700942294   0.0           6            1 -37.787433  144.980377   \n",
       "296  ID5273058952   2.0           3            8 -37.822100  144.980650   \n",
       "297  ID1179502505   0.0           4            2 -37.809692  145.003403   \n",
       "\n",
       "      dest_lat   dest_long  j_distance   dept_date dept_time  travel_time  \\\n",
       "0   -37.818482  144.944247      5825.0  2018-02-01  14:25:11      1539.06   \n",
       "1   -37.815834  145.046450      9970.0  2018-03-08  20:16:26      2814.60   \n",
       "2   -37.861835  144.905716     11169.0  2018-03-19  17:08:46      3950.10   \n",
       "3   -37.790797  144.985865      4603.0  2018-04-06  10:45:37      1319.04   \n",
       "4   -37.861835  144.905716     12680.0  2018-07-23  06:02:54      4076.46   \n",
       "5   -37.820723  144.957482      7995.0  2018-07-12  08:59:45      2796.54   \n",
       "6   -37.811601  144.927428      8541.0  2018-05-19  02:39:53      2189.76   \n",
       "7   -37.773803  144.983647     51061.0  2018-03-02  23:07:53     12952.44   \n",
       "8   -37.801069  144.963874      4186.0  2018-01-01  13:09:16      1080.24   \n",
       "9   -38.110916  144.654173     44266.0  2018-07-12  23:53:34     10621.62   \n",
       "10  -37.820160  144.950845      2034.0  2018-02-01  10:14:12       478.20   \n",
       "11  -37.861835  144.905716      8584.0  2018-04-25  01:54:38      2955.06   \n",
       "12  -37.790797  144.985865     47193.0  2018-05-09  04:58:11     11535.78   \n",
       "13  -37.815834  145.046450      8361.0  2018-03-12  08:18:11      2438.22   \n",
       "14  -37.819925  144.950719      6187.0  2018-06-03  17:30:27      1481.76   \n",
       "15  -37.814985  144.927590     11845.0  2018-02-13  22:33:00      3285.12   \n",
       "16  -38.110916  144.654173     44639.0  2018-05-12  04:53:45     10781.82   \n",
       "17  -37.816977  144.980080      4554.0  2018-05-25  04:54:33      1186.62   \n",
       "18  -37.814562  144.938224     42553.0  2018-04-13  00:14:53     10196.16   \n",
       "19  -37.773845  144.983689     48197.0  2018-04-23  14:50:22     11495.34   \n",
       "20  -37.806385  145.010033      1651.0  2018-06-09  13:00:59       394.20   \n",
       "21  -38.110916  144.654173     47193.0  2018-06-28  21:49:21     11530.62   \n",
       "22  -37.800482  144.958210      9711.0  2018-04-18  13:06:31      3215.22   \n",
       "23  -37.861835  144.905716     11567.0  2018-02-16  21:00:52      3767.58   \n",
       "24  -37.809262  144.983824      9641.0  2018-05-28  07:55:26      3246.90   \n",
       "25  -37.803839  144.956327      2679.0  2018-06-05  12:26:05       725.04   \n",
       "26  -37.820522  144.984006      3346.0  2018-01-25  21:46:33       907.26   \n",
       "27  -37.821658  144.942579      9462.0  2018-03-09  06:03:12      3244.44   \n",
       "28  -37.807202  145.026637      7123.0  2018-02-04  07:50:40      1797.06   \n",
       "29  -37.821604  144.979217      8867.0  2018-02-18  15:04:12      2770.62   \n",
       "..         ...         ...         ...         ...       ...          ...   \n",
       "268 -37.773803  144.983647     51061.0  12-07-2018  06:37:18     12952.44   \n",
       "269 -37.819359  144.983801      6419.0  22-07-2018  12:30:55      1948.68   \n",
       "270 -37.807202  145.026637      8386.0  06-04-2018  09:57:59      2122.68   \n",
       "271 -37.806339  145.009768      6941.0  19-05-2018  23:20:24      1886.70   \n",
       "272 -37.861835  144.905716     15151.0  08-03-2018  22:28:28      4917.48   \n",
       "273 -37.815172  144.945081      2458.0  01-04-2018  21:09:50       663.84   \n",
       "274 -37.816223  145.007447      7717.0  28-07-2018  12:41:33      1848.54   \n",
       "275 -37.804280  144.992849     46659.0  27-06-2018  15:53:48     11297.52   \n",
       "276 -38.110916  144.654173     42609.0  08-04-2018  13:45:17     10236.78   \n",
       "277 -37.861835  144.905716     11711.0  26-05-2018  11:50:27      3866.94   \n",
       "278 -37.813531  144.974069      5595.0  12-04-2018  16:16:48      1405.92   \n",
       "279 -37.807005  145.003786      6643.0  02-04-2018  00:38:14      1437.36   \n",
       "280 -37.803236  144.963426     44317.0  23-02-2018  20:54:09     10721.04   \n",
       "281 -37.773803  144.983647      9626.0  21-07-2018  17:12:00      2987.88   \n",
       "282 -37.815834  145.046450      8357.0  20-04-2018  01:51:45      2437.38   \n",
       "283 -37.861835  144.905716      8572.0  05-04-2018  02:20:27      2938.86   \n",
       "284 -37.773845  144.983689      6927.0  12-01-2018  09:33:54      1475.82   \n",
       "285 -37.801772  144.950882      2840.0  20-06-2018  06:04:03       729.90   \n",
       "286 -37.806893  144.937745     10229.0  24-01-2018  09:01:00      2853.48   \n",
       "287 -37.820381  144.951913      3034.0  06-05-2018  00:55:58       757.20   \n",
       "288 -37.812240  144.973634      6791.0  11-01-2018  23:30:13      2005.92   \n",
       "289 -37.806522  144.931768      5021.0  11-06-2018  04:21:09      1242.48   \n",
       "290 -37.861835  144.905716     10218.0  19-06-2018  06:17:49      3388.14   \n",
       "291 -37.790818  144.985793      3741.0  19-01-2018  07:58:14       927.78   \n",
       "292 -37.808405  144.948926      8868.0  08-06-2018  04:54:07      2533.44   \n",
       "293 -37.800943  144.934656      4362.0  06-06-2018  18:48:02      1065.48   \n",
       "294 -37.787433  144.980377      4443.0  09-02-2018  12:20:25      1114.02   \n",
       "295 -37.818862  144.953444      4977.0  24-06-2018  12:56:07      1176.30   \n",
       "296 -37.815834  145.046450      6927.0  14-01-2018  16:23:46      2056.68   \n",
       "297 -37.814084  144.944512      5552.0  21-05-2018  12:48:23      1416.36   \n",
       "\n",
       "    arrival_time     fare  \n",
       "0       14:50:50    11.15  \n",
       "1       21:03:20    11.76  \n",
       "2       18:14:36   357.92  \n",
       "3       11:07:36    10.37  \n",
       "4        7:10:50    23.18  \n",
       "5        9:46:21     7.59  \n",
       "6        3:16:22    29.47  \n",
       "7        2:43:45  1131.46  \n",
       "8       13:27:16    13.21  \n",
       "9        2:50:35    25.29  \n",
       "10      10:22:10    51.05  \n",
       "11       2:43:53    30.21  \n",
       "12       8:10:26  1013.01  \n",
       "13       8:58:49     8.18  \n",
       "14      17:55:08    13.42  \n",
       "15      23:27:45    32.58  \n",
       "16       7:53:26    31.61  \n",
       "17       5:14:19    19.45  \n",
       "18       3:04:49    26.92  \n",
       "19      18:01:57    24.01  \n",
       "20      13:07:33    12.58  \n",
       "21       1:01:31    29.86  \n",
       "22      14:00:06    12.77  \n",
       "23      22:03:39    34.13  \n",
       "24       8:49:32     6.39  \n",
       "25      12:38:10    81.99  \n",
       "26      22:01:40    12.25  \n",
       "27       6:57:16    19.76  \n",
       "28       8:20:37    15.66  \n",
       "29      15:50:22    15.86  \n",
       "..           ...      ...  \n",
       "268     10:13:10  1059.89  \n",
       "269     13:03:23    13.09  \n",
       "270     10:33:21    12.59  \n",
       "271     23:51:50    17.22  \n",
       "272     23:50:25    30.96  \n",
       "273     21:20:53    16.23  \n",
       "274     13:12:21    18.37  \n",
       "275     19:02:05    47.88  \n",
       "276     16:35:53   857.24  \n",
       "277     12:54:53    15.28  \n",
       "278     16:40:13   134.78  \n",
       "279     01:02:11    16.55  \n",
       "280     23:52:50    46.71  \n",
       "281     18:01:47    22.39  \n",
       "282     02:32:22   227.87  \n",
       "283     03:09:25    24.63  \n",
       "284     09:58:29     7.44  \n",
       "285     06:16:12     4.04  \n",
       "286     09:48:33    15.90  \n",
       "287     01:08:35    99.19  \n",
       "288     00:03:38    21.04  \n",
       "289     04:41:51    12.51  \n",
       "290     07:14:17    15.44  \n",
       "291     08:13:41    10.57  \n",
       "292     05:36:20    16.03  \n",
       "293     19:05:47   107.03  \n",
       "294     12:38:59     9.36  \n",
       "295     13:15:43    12.85  \n",
       "296     16:58:02   195.04  \n",
       "297     13:11:59    10.17  \n",
       "\n",
       "[422 rows x 14 columns]"
      ]
     },
     "execution_count": 43,
     "metadata": {},
     "output_type": "execute_result"
    }
   ],
   "source": [
    "more_data"
   ]
  },
  {
   "cell_type": "code",
   "execution_count": 44,
   "metadata": {},
   "outputs": [],
   "source": [
    "more_data=more_data.reset_index(drop=True)"
   ]
  },
  {
   "cell_type": "markdown",
   "metadata": {},
   "source": [
    "The fare could be dependent on the departure time we can group the departure time to find its effect on fare. "
   ]
  },
  {
   "cell_type": "code",
   "execution_count": 45,
   "metadata": {},
   "outputs": [],
   "source": [
    "# the Departure time is split into intervals \n",
    "# codes are as 1 for morning(6:00:00 - 11:59:59),  2 for afternoon(12:00:00 - 20:59:59), 3 for night(21:00 - 5:59:59).\n",
    "\n",
    "def codes(time):\n",
    "    time= time.split(':')\n",
    "    hour=int(time[0]) \n",
    "    if 6 <= hour < 12:\n",
    "        return 1\n",
    "    elif 12 <= hour < 21:\n",
    "        return 2\n",
    "    else:\n",
    "        return 3\n",
    "    \n",
    "more_data['time_interval']=more_data.apply(lambda x: codes(x['dept_time']),axis=1)\n"
   ]
  },
  {
   "cell_type": "code",
   "execution_count": 46,
   "metadata": {},
   "outputs": [
    {
     "data": {
      "text/plain": [
       "<seaborn.axisgrid.PairGrid at 0x1d9c0f6f128>"
      ]
     },
     "execution_count": 46,
     "metadata": {},
     "output_type": "execute_result"
    },
    {
     "data": {
      "image/png": "[encoded data removed]",
      "text/plain": [
       "<Figure size 1080x180 with 6 Axes>"
      ]
     },
     "metadata": {},
     "output_type": "display_data"
    }
   ],
   "source": [
    "sns.pairplot(more_data,x_vars=['type','ori_region','dest_region','j_distance',\n",
    "                             'travel_time','time_interval'],y_vars='fare',kind='reg')"
   ]
  },
  {
   "cell_type": "markdown",
   "metadata": {},
   "source": [
    "*From the graph 1, it is evident that the fare varies by Uber Type.\n",
    "\n",
    "*Hence it would be ideal to split the data by Uber type and then do the fare prediction.\n",
    "\n",
    "*The origin region and destination have a very similar effect on the fare, so it would be better to use only one of the two, preferably origin region for modelling.\n",
    "\n",
    "*The distance variable has a very linear relationship with fare as expected. We can also notice that some fares are very positively related with distance. This again could be just for one of the Uber type, Uber Black, maybe.\n",
    "\n",
    "*The same is applicable for travel time. \n",
    "\n",
    "*Ideally only one of the variable, out of distance and time needs to be selected.\n",
    "\n",
    "*The effect of time interval on the fare is hard to see but effect would be definetly more prominent per Uber type.\n",
    "\n"
   ]
  },
  {
   "cell_type": "code",
   "execution_count": 47,
   "metadata": {},
   "outputs": [
    {
     "data": {
      "text/plain": [
       "<matplotlib.axes._subplots.AxesSubplot at 0x1d9c0e3f550>"
      ]
     },
     "execution_count": 47,
     "metadata": {},
     "output_type": "execute_result"
    },
    {
     "data": {
      "image/png": "[encoded data removed]",
      "text/plain": [
       "<Figure size 360x360 with 1 Axes>"
      ]
     },
     "metadata": {},
     "output_type": "display_data"
    }
   ],
   "source": [
    "plt.rcParams['figure.figsize']= 5,5\n",
    "sns.boxplot(data=more_data[['type','fare']],x='type',y='fare')"
   ]
  },
  {
   "cell_type": "markdown",
   "metadata": {},
   "source": [
    "Above plot confirms that, there could be outliers in the fare of each uber type.\n",
    "These outliers should be removed for fare prediction.Function below helps to identify the outliers.\n",
    "This is done by verfying the points beyond 1.5*IQR* and filtering them."
   ]
  },
  {
   "cell_type": "code",
   "execution_count": 51,
   "metadata": {},
   "outputs": [],
   "source": [
    "#outliers are removed separately for each uber type \n",
    "def remove_outlier(data_df):\n",
    "    ubertype=(0,1,2)\n",
    "    clean_df = pd.DataFrame()\n",
    "    outlier_df = pd.DataFrame()\n",
    "    for each in ubertype:\n",
    "        #each type of uber \n",
    "        ubertype_df=data_df[data_df.iloc[:,-1]==[each]]\n",
    "        Q1 = ubertype_df.quantile(0.25)\n",
    "        Q3 = ubertype_df.quantile(0.75)\n",
    "        IQR = Q3 - Q1\n",
    "        LB = Q1 - 1.5 * IQR\n",
    "        UB = Q3 + 1.5 * IQR\n",
    "        clean=ubertype_df[~((ubertype_df < LB)|(ubertype_df > UB)).any(axis=1)]\n",
    "        outlier= ubertype_df[((ubertype_df < LB)|(ubertype_df > UB)).any(axis=1)]\n",
    "        clean_df=pd.concat([clean_df,clean])\n",
    "        outlier_df=pd.concat([outlier_df,outlier])\n",
    "                               \n",
    "    return(clean_df,outlier_df)\n",
    "\n",
    "df_fare=more_data[['fare','type']]\n",
    "cleaned_data,outlier_data= remove_outlier(df_fare)\n"
   ]
  },
  {
   "cell_type": "code",
   "execution_count": 57,
   "metadata": {},
   "outputs": [
    {
     "data": {
      "text/plain": [
       "(29, 2)"
      ]
     },
     "execution_count": 57,
     "metadata": {},
     "output_type": "execute_result"
    }
   ],
   "source": [
    "outlier_data.shape"
   ]
  },
  {
   "cell_type": "code",
   "execution_count": 58,
   "metadata": {},
   "outputs": [
    {
     "data": {
      "text/plain": [
       "(393, 2)"
      ]
     },
     "execution_count": 58,
     "metadata": {},
     "output_type": "execute_result"
    }
   ],
   "source": [
    "cleaned_data.shape"
   ]
  },
  {
   "cell_type": "markdown",
   "metadata": {},
   "source": [
    "Post outlier cleaning 29 entries have been removed from all the three Uber types combined.\n",
    "\n",
    "Now remaining 393 datapoints will be used for modelling"
   ]
  },
  {
   "cell_type": "code",
   "execution_count": 61,
   "metadata": {},
   "outputs": [
    {
     "data": {
      "text/plain": [
       "(393, 15)"
      ]
     },
     "execution_count": 61,
     "metadata": {},
     "output_type": "execute_result"
    }
   ],
   "source": [
    "#mapping this data with original\n",
    "#######################################################\n",
    "uber_clean_df = more_data.index.isin(cleaned_data.index)\n",
    "uber_clean_df= more_data[uber_clean_df]\n",
    "uber_clean_df.shape\n"
   ]
  },
  {
   "cell_type": "code",
   "execution_count": 62,
   "metadata": {},
   "outputs": [
    {
     "data": {
      "text/plain": [
       "(393, 15)"
      ]
     },
     "execution_count": 62,
     "metadata": {},
     "output_type": "execute_result"
    }
   ],
   "source": [
    "#Making data copies \n",
    "more_data1 = more_data.copy()\n",
    "more_data= uber_clean_df.copy()\n",
    "more_data.shape"
   ]
  },
  {
   "cell_type": "markdown",
   "metadata": {},
   "source": [
    "Now flagging the weekend and weekdays based on departure date as this could be influential in fare hike"
   ]
  },
  {
   "cell_type": "code",
   "execution_count": 71,
   "metadata": {},
   "outputs": [
    {
     "name": "stderr",
     "output_type": "stream",
     "text": [
      "C:\\Users\\Stephy\\Anaconda3\\lib\\site-packages\\pandas\\core\\indexing.py:189: SettingWithCopyWarning: \n",
      "A value is trying to be set on a copy of a slice from a DataFrame\n",
      "\n",
      "See the caveats in the documentation: http://pandas.pydata.org/pandas-docs/stable/indexing.html#indexing-view-versus-copy\n",
      "  self._setitem_with_indexer(indexer, value)\n"
     ]
    }
   ],
   "source": [
    "#assign week day number , 0- Monday , 5-Saturday etc\n",
    "more_data['weekday'] = pd.to_datetime(more_data['dept_date']).apply(lambda x: x.weekday())\n",
    "\n",
    "more_data['weekday_flag'] = 2\n",
    "\n",
    "for i in range(len(more_data)):\n",
    "   \n",
    "    weekdays = ['Monday','Tuesday','Wednesday','Thursday','Friday']\n",
    "    if  more_data['weekday'].iloc[i] < 5:\n",
    "        more_data.weekday_flag.iloc[i]=0\n",
    "    else:\n",
    "        more_data.weekday_flag.iloc[i]=1\n",
    "        "
   ]
  },
  {
   "cell_type": "code",
   "execution_count": 72,
   "metadata": {},
   "outputs": [],
   "source": [
    "more_data = more_data.drop(columns=[ 'weekday'])"
   ]
  },
  {
   "cell_type": "code",
   "execution_count": 73,
   "metadata": {},
   "outputs": [
    {
     "data": {
      "text/plain": [
       "(393, 16)"
      ]
     },
     "execution_count": 73,
     "metadata": {},
     "output_type": "execute_result"
    }
   ],
   "source": [
    "more_data.shape"
   ]
  },
  {
   "cell_type": "code",
   "execution_count": 74,
   "metadata": {},
   "outputs": [
    {
     "data": {
      "text/plain": [
       "<matplotlib.axes._subplots.AxesSubplot at 0x1d9c2688e10>"
      ]
     },
     "execution_count": 74,
     "metadata": {},
     "output_type": "execute_result"
    },
    {
     "data": {
      "image/png": "[encoded data removed]",
      "text/plain": [
       "<Figure size 360x360 with 1 Axes>"
      ]
     },
     "metadata": {},
     "output_type": "display_data"
    }
   ],
   "source": [
    "#checking the effect of weekday and weekend on fare \n",
    "#0- weekday\n",
    "#1- weekend\n",
    "#below is for Uber type 0 - Uber pool\n",
    "plt.rcParams['figure.figsize']= 5,5\n",
    "x=more_data[more_data['type']==0]\n",
    "sns.boxplot(data=x[['weekday_flag','fare']],x='weekday_flag',y='fare')"
   ]
  },
  {
   "cell_type": "markdown",
   "metadata": {},
   "source": [
    "Uber Type = 0\n",
    "\n",
    "\n",
    "Uber Pool\n",
    "\n",
    "\n",
    "This shows that number of trips are lesser as expected but fare for those trips are higher in few cases during the weekend.\n",
    "The fare spread is larger during the weekdays, though median fare is higher during weekends."
   ]
  },
  {
   "cell_type": "code",
   "execution_count": 75,
   "metadata": {},
   "outputs": [
    {
     "data": {
      "text/plain": [
       "<matplotlib.axes._subplots.AxesSubplot at 0x1d9c26ef4e0>"
      ]
     },
     "execution_count": 75,
     "metadata": {},
     "output_type": "execute_result"
    },
    {
     "data": {
      "image/png": "[encoded data removed]",
      "text/plain": [
       "<Figure size 360x360 with 1 Axes>"
      ]
     },
     "metadata": {},
     "output_type": "display_data"
    }
   ],
   "source": [
    "#checking the effect of weekday and weekend on fare \n",
    "#0- weekday\n",
    "#1- weekend\n",
    "#below is for Uber type 1- Uber X\n",
    "\n",
    "plt.rcParams['figure.figsize']= 5,5\n",
    "x=more_data[more_data['type']==1]\n",
    "sns.boxplot(data=x[['weekday_flag','fare']],x='weekday_flag',y='fare')"
   ]
  },
  {
   "cell_type": "markdown",
   "metadata": {},
   "source": [
    "Uber Type = 1\n",
    "\n",
    "\n",
    "Uber X\n",
    "\n",
    "\n",
    "This shows that number of trips are almost similar during weekday and weekend.\n",
    "The median fare is higher for weekends as expected."
   ]
  },
  {
   "cell_type": "code",
   "execution_count": 76,
   "metadata": {},
   "outputs": [
    {
     "data": {
      "text/plain": [
       "<matplotlib.axes._subplots.AxesSubplot at 0x1d9c2754278>"
      ]
     },
     "execution_count": 76,
     "metadata": {},
     "output_type": "execute_result"
    },
    {
     "data": {
      "image/png": "[encoded data removed]",
      "text/plain": [
       "<Figure size 360x360 with 1 Axes>"
      ]
     },
     "metadata": {},
     "output_type": "display_data"
    }
   ],
   "source": [
    "#checking the effect of weekday and weekend on fare \n",
    "#0- weekday\n",
    "#1- weekend\n",
    "#below is for Uber type 2- Uber Black\n",
    "\n",
    "\n",
    "plt.rcParams['figure.figsize']= 5,5\n",
    "x=more_data[more_data['type']==2]\n",
    "sns.boxplot(data=x[['weekday_flag','fare']],x='weekday_flag',y='fare')"
   ]
  },
  {
   "cell_type": "markdown",
   "metadata": {},
   "source": [
    "Uber Type = 2\n",
    "\n",
    "\n",
    "Uber Black\n",
    "\n",
    "\n",
    "This shows that number of trips are slightly more during weekend compared to weekdays, and fare is definetly higher for weekend than for weekdays"
   ]
  },
  {
   "cell_type": "markdown",
   "metadata": {},
   "source": [
    "### 5.3 Modelling the prepared Uber data to impute fare for each type of Uber\n"
   ]
  },
  {
   "cell_type": "code",
   "execution_count": 77,
   "metadata": {},
   "outputs": [
    {
     "data": {
      "text/plain": [
       "Index(['trip_id', 'type', 'ori_region', 'dest_region', 'ori_lat', 'ori_lng',\n",
       "       'dest_lat', 'dest_long', 'j_distance', 'dept_date', 'dept_time',\n",
       "       'travel_time', 'arrival_time', 'fare', 'time_interval', 'weekday_flag'],\n",
       "      dtype='object')"
      ]
     },
     "execution_count": 77,
     "metadata": {},
     "output_type": "execute_result"
    }
   ],
   "source": [
    "more_data.columns"
   ]
  },
  {
   "cell_type": "code",
   "execution_count": 78,
   "metadata": {},
   "outputs": [
    {
     "data": {
      "text/html": [
       "<div>\n",
       "<style scoped>\n",
       "    .dataframe tbody tr th:only-of-type {\n",
       "        vertical-align: middle;\n",
       "    }\n",
       "\n",
       "    .dataframe tbody tr th {\n",
       "        vertical-align: top;\n",
       "    }\n",
       "\n",
       "    .dataframe thead th {\n",
       "        text-align: right;\n",
       "    }\n",
       "</style>\n",
       "<table border=\"1\" class=\"dataframe\">\n",
       "  <thead>\n",
       "    <tr style=\"text-align: right;\">\n",
       "      <th></th>\n",
       "      <th>type</th>\n",
       "      <th>ori_region</th>\n",
       "      <th>j_distance</th>\n",
       "      <th>time_interval</th>\n",
       "      <th>weekday_flag</th>\n",
       "      <th>fare</th>\n",
       "    </tr>\n",
       "  </thead>\n",
       "  <tbody>\n",
       "    <tr>\n",
       "      <th>0</th>\n",
       "      <td>0.0</td>\n",
       "      <td>6</td>\n",
       "      <td>5825.0</td>\n",
       "      <td>2</td>\n",
       "      <td>0</td>\n",
       "      <td>11.15</td>\n",
       "    </tr>\n",
       "    <tr>\n",
       "      <th>1</th>\n",
       "      <td>0.0</td>\n",
       "      <td>1</td>\n",
       "      <td>9970.0</td>\n",
       "      <td>2</td>\n",
       "      <td>0</td>\n",
       "      <td>11.76</td>\n",
       "    </tr>\n",
       "    <tr>\n",
       "      <th>2</th>\n",
       "      <td>2.0</td>\n",
       "      <td>3</td>\n",
       "      <td>11169.0</td>\n",
       "      <td>2</td>\n",
       "      <td>0</td>\n",
       "      <td>357.92</td>\n",
       "    </tr>\n",
       "    <tr>\n",
       "      <th>3</th>\n",
       "      <td>1.0</td>\n",
       "      <td>4</td>\n",
       "      <td>4603.0</td>\n",
       "      <td>1</td>\n",
       "      <td>0</td>\n",
       "      <td>10.37</td>\n",
       "    </tr>\n",
       "    <tr>\n",
       "      <th>4</th>\n",
       "      <td>1.0</td>\n",
       "      <td>4</td>\n",
       "      <td>12680.0</td>\n",
       "      <td>1</td>\n",
       "      <td>0</td>\n",
       "      <td>23.18</td>\n",
       "    </tr>\n",
       "  </tbody>\n",
       "</table>\n",
       "</div>"
      ],
      "text/plain": [
       "   type  ori_region  j_distance  time_interval  weekday_flag    fare\n",
       "0   0.0           6      5825.0              2             0   11.15\n",
       "1   0.0           1      9970.0              2             0   11.76\n",
       "2   2.0           3     11169.0              2             0  357.92\n",
       "3   1.0           4      4603.0              1             0   10.37\n",
       "4   1.0           4     12680.0              1             0   23.18"
      ]
     },
     "execution_count": 78,
     "metadata": {},
     "output_type": "execute_result"
    }
   ],
   "source": [
    "#Taking alll the numeric feature \n",
    "#removing travel time as it is highly correlated with distance\n",
    "linear=more_data[['type','ori_region','j_distance', 'time_interval', 'weekday_flag','fare']]\n",
    "linear.head()"
   ]
  },
  {
   "cell_type": "code",
   "execution_count": 79,
   "metadata": {},
   "outputs": [],
   "source": [
    "# separating the data with na and witout na\n",
    "#without na data will be used for training\n",
    "train_linear=linear[linear['fare'].notnull()]\n",
    "fit_linear=linear[linear['fare'].isnull()]"
   ]
  },
  {
   "cell_type": "code",
   "execution_count": 80,
   "metadata": {},
   "outputs": [
    {
     "data": {
      "text/html": [
       "<style  type=\"text/css\" >\n",
       "    #T_35cf3b94_7a7f_11e9_a60f_bee08a36952crow0_col0 {\n",
       "            background-color:  #023858;\n",
       "        }    #T_35cf3b94_7a7f_11e9_a60f_bee08a36952crow0_col1 {\n",
       "            background-color:  #fdf5fa;\n",
       "        }    #T_35cf3b94_7a7f_11e9_a60f_bee08a36952crow0_col2 {\n",
       "            background-color:  #f1ebf4;\n",
       "        }    #T_35cf3b94_7a7f_11e9_a60f_bee08a36952crow0_col3 {\n",
       "            background-color:  #fbf4f9;\n",
       "        }    #T_35cf3b94_7a7f_11e9_a60f_bee08a36952crow0_col4 {\n",
       "            background-color:  #fcf4fa;\n",
       "        }    #T_35cf3b94_7a7f_11e9_a60f_bee08a36952crow0_col5 {\n",
       "            background-color:  #5a9ec9;\n",
       "        }    #T_35cf3b94_7a7f_11e9_a60f_bee08a36952crow1_col0 {\n",
       "            background-color:  #fff7fb;\n",
       "        }    #T_35cf3b94_7a7f_11e9_a60f_bee08a36952crow1_col1 {\n",
       "            background-color:  #023858;\n",
       "        }    #T_35cf3b94_7a7f_11e9_a60f_bee08a36952crow1_col2 {\n",
       "            background-color:  #8eb3d5;\n",
       "        }    #T_35cf3b94_7a7f_11e9_a60f_bee08a36952crow1_col3 {\n",
       "            background-color:  #fff7fb;\n",
       "        }    #T_35cf3b94_7a7f_11e9_a60f_bee08a36952crow1_col4 {\n",
       "            background-color:  #fff7fb;\n",
       "        }    #T_35cf3b94_7a7f_11e9_a60f_bee08a36952crow1_col5 {\n",
       "            background-color:  #f8f1f8;\n",
       "        }    #T_35cf3b94_7a7f_11e9_a60f_bee08a36952crow2_col0 {\n",
       "            background-color:  #f1ebf4;\n",
       "        }    #T_35cf3b94_7a7f_11e9_a60f_bee08a36952crow2_col1 {\n",
       "            background-color:  #8bb2d4;\n",
       "        }    #T_35cf3b94_7a7f_11e9_a60f_bee08a36952crow2_col2 {\n",
       "            background-color:  #023858;\n",
       "        }    #T_35cf3b94_7a7f_11e9_a60f_bee08a36952crow2_col3 {\n",
       "            background-color:  #faf2f8;\n",
       "        }    #T_35cf3b94_7a7f_11e9_a60f_bee08a36952crow2_col4 {\n",
       "            background-color:  #fdf5fa;\n",
       "        }    #T_35cf3b94_7a7f_11e9_a60f_bee08a36952crow2_col5 {\n",
       "            background-color:  #b9c6e0;\n",
       "        }    #T_35cf3b94_7a7f_11e9_a60f_bee08a36952crow3_col0 {\n",
       "            background-color:  #f4eef6;\n",
       "        }    #T_35cf3b94_7a7f_11e9_a60f_bee08a36952crow3_col1 {\n",
       "            background-color:  #f5eff6;\n",
       "        }    #T_35cf3b94_7a7f_11e9_a60f_bee08a36952crow3_col2 {\n",
       "            background-color:  #f2ecf5;\n",
       "        }    #T_35cf3b94_7a7f_11e9_a60f_bee08a36952crow3_col3 {\n",
       "            background-color:  #023858;\n",
       "        }    #T_35cf3b94_7a7f_11e9_a60f_bee08a36952crow3_col4 {\n",
       "            background-color:  #f2ecf5;\n",
       "        }    #T_35cf3b94_7a7f_11e9_a60f_bee08a36952crow3_col5 {\n",
       "            background-color:  #fff7fb;\n",
       "        }    #T_35cf3b94_7a7f_11e9_a60f_bee08a36952crow4_col0 {\n",
       "            background-color:  #fef6fb;\n",
       "        }    #T_35cf3b94_7a7f_11e9_a60f_bee08a36952crow4_col1 {\n",
       "            background-color:  #fff7fb;\n",
       "        }    #T_35cf3b94_7a7f_11e9_a60f_bee08a36952crow4_col2 {\n",
       "            background-color:  #fff7fb;\n",
       "        }    #T_35cf3b94_7a7f_11e9_a60f_bee08a36952crow4_col3 {\n",
       "            background-color:  #fbf3f9;\n",
       "        }    #T_35cf3b94_7a7f_11e9_a60f_bee08a36952crow4_col4 {\n",
       "            background-color:  #023858;\n",
       "        }    #T_35cf3b94_7a7f_11e9_a60f_bee08a36952crow4_col5 {\n",
       "            background-color:  #fef6fb;\n",
       "        }    #T_35cf3b94_7a7f_11e9_a60f_bee08a36952crow5_col0 {\n",
       "            background-color:  #4295c3;\n",
       "        }    #T_35cf3b94_7a7f_11e9_a60f_bee08a36952crow5_col1 {\n",
       "            background-color:  #e5e1ef;\n",
       "        }    #T_35cf3b94_7a7f_11e9_a60f_bee08a36952crow5_col2 {\n",
       "            background-color:  #a1bbda;\n",
       "        }    #T_35cf3b94_7a7f_11e9_a60f_bee08a36952crow5_col3 {\n",
       "            background-color:  #f7f0f7;\n",
       "        }    #T_35cf3b94_7a7f_11e9_a60f_bee08a36952crow5_col4 {\n",
       "            background-color:  #ede7f2;\n",
       "        }    #T_35cf3b94_7a7f_11e9_a60f_bee08a36952crow5_col5 {\n",
       "            background-color:  #023858;\n",
       "        }</style>  \n",
       "<table id=\"T_35cf3b94_7a7f_11e9_a60f_bee08a36952c\" > \n",
       "<thead>    <tr> \n",
       "        <th class=\"blank level0\" ></th> \n",
       "        <th class=\"col_heading level0 col0\" >type</th> \n",
       "        <th class=\"col_heading level0 col1\" >ori_region</th> \n",
       "        <th class=\"col_heading level0 col2\" >j_distance</th> \n",
       "        <th class=\"col_heading level0 col3\" >time_interval</th> \n",
       "        <th class=\"col_heading level0 col4\" >weekday_flag</th> \n",
       "        <th class=\"col_heading level0 col5\" >fare</th> \n",
       "    </tr></thead> \n",
       "<tbody>    <tr> \n",
       "        <th id=\"T_35cf3b94_7a7f_11e9_a60f_bee08a36952clevel0_row0\" class=\"row_heading level0 row0\" >type</th> \n",
       "        <td id=\"T_35cf3b94_7a7f_11e9_a60f_bee08a36952crow0_col0\" class=\"data row0 col0\" >1</td> \n",
       "        <td id=\"T_35cf3b94_7a7f_11e9_a60f_bee08a36952crow0_col1\" class=\"data row0 col1\" >-0.0739089</td> \n",
       "        <td id=\"T_35cf3b94_7a7f_11e9_a60f_bee08a36952crow0_col2\" class=\"data row0 col2\" >0.0303002</td> \n",
       "        <td id=\"T_35cf3b94_7a7f_11e9_a60f_bee08a36952crow0_col3\" class=\"data row0 col3\" >0.00496157</td> \n",
       "        <td id=\"T_35cf3b94_7a7f_11e9_a60f_bee08a36952crow0_col4\" class=\"data row0 col4\" >-0.0663001</td> \n",
       "        <td id=\"T_35cf3b94_7a7f_11e9_a60f_bee08a36952crow0_col5\" class=\"data row0 col5\" >0.569235</td> \n",
       "    </tr>    <tr> \n",
       "        <th id=\"T_35cf3b94_7a7f_11e9_a60f_bee08a36952clevel0_row1\" class=\"row_heading level0 row1\" >ori_region</th> \n",
       "        <td id=\"T_35cf3b94_7a7f_11e9_a60f_bee08a36952crow1_col0\" class=\"data row1 col0\" >-0.0739089</td> \n",
       "        <td id=\"T_35cf3b94_7a7f_11e9_a60f_bee08a36952crow1_col1\" class=\"data row1 col1\" >1</td> \n",
       "        <td id=\"T_35cf3b94_7a7f_11e9_a60f_bee08a36952crow1_col2\" class=\"data row1 col2\" >0.394186</td> \n",
       "        <td id=\"T_35cf3b94_7a7f_11e9_a60f_bee08a36952crow1_col3\" class=\"data row1 col3\" >-0.020769</td> \n",
       "        <td id=\"T_35cf3b94_7a7f_11e9_a60f_bee08a36952crow1_col4\" class=\"data row1 col4\" >-0.0898769</td> \n",
       "        <td id=\"T_35cf3b94_7a7f_11e9_a60f_bee08a36952crow1_col5\" class=\"data row1 col5\" >0.0845234</td> \n",
       "    </tr>    <tr> \n",
       "        <th id=\"T_35cf3b94_7a7f_11e9_a60f_bee08a36952clevel0_row2\" class=\"row_heading level0 row2\" >j_distance</th> \n",
       "        <td id=\"T_35cf3b94_7a7f_11e9_a60f_bee08a36952crow2_col0\" class=\"data row2 col0\" >0.0303002</td> \n",
       "        <td id=\"T_35cf3b94_7a7f_11e9_a60f_bee08a36952crow2_col1\" class=\"data row2 col1\" >0.394186</td> \n",
       "        <td id=\"T_35cf3b94_7a7f_11e9_a60f_bee08a36952crow2_col2\" class=\"data row2 col2\" >1</td> \n",
       "        <td id=\"T_35cf3b94_7a7f_11e9_a60f_bee08a36952crow2_col3\" class=\"data row2 col3\" >0.0166456</td> \n",
       "        <td id=\"T_35cf3b94_7a7f_11e9_a60f_bee08a36952crow2_col4\" class=\"data row2 col4\" >-0.0716551</td> \n",
       "        <td id=\"T_35cf3b94_7a7f_11e9_a60f_bee08a36952crow2_col5\" class=\"data row2 col5\" >0.343229</td> \n",
       "    </tr>    <tr> \n",
       "        <th id=\"T_35cf3b94_7a7f_11e9_a60f_bee08a36952clevel0_row3\" class=\"row_heading level0 row3\" >time_interval</th> \n",
       "        <td id=\"T_35cf3b94_7a7f_11e9_a60f_bee08a36952crow3_col0\" class=\"data row3 col0\" >0.00496157</td> \n",
       "        <td id=\"T_35cf3b94_7a7f_11e9_a60f_bee08a36952crow3_col1\" class=\"data row3 col1\" >-0.020769</td> \n",
       "        <td id=\"T_35cf3b94_7a7f_11e9_a60f_bee08a36952crow3_col2\" class=\"data row3 col2\" >0.0166456</td> \n",
       "        <td id=\"T_35cf3b94_7a7f_11e9_a60f_bee08a36952crow3_col3\" class=\"data row3 col3\" >1</td> \n",
       "        <td id=\"T_35cf3b94_7a7f_11e9_a60f_bee08a36952crow3_col4\" class=\"data row3 col4\" >0.00739761</td> \n",
       "        <td id=\"T_35cf3b94_7a7f_11e9_a60f_bee08a36952crow3_col5\" class=\"data row3 col5\" >0.0388891</td> \n",
       "    </tr>    <tr> \n",
       "        <th id=\"T_35cf3b94_7a7f_11e9_a60f_bee08a36952clevel0_row4\" class=\"row_heading level0 row4\" >weekday_flag</th> \n",
       "        <td id=\"T_35cf3b94_7a7f_11e9_a60f_bee08a36952crow4_col0\" class=\"data row4 col0\" >-0.0663001</td> \n",
       "        <td id=\"T_35cf3b94_7a7f_11e9_a60f_bee08a36952crow4_col1\" class=\"data row4 col1\" >-0.0898769</td> \n",
       "        <td id=\"T_35cf3b94_7a7f_11e9_a60f_bee08a36952crow4_col2\" class=\"data row4 col2\" >-0.0716551</td> \n",
       "        <td id=\"T_35cf3b94_7a7f_11e9_a60f_bee08a36952crow4_col3\" class=\"data row4 col3\" >0.00739761</td> \n",
       "        <td id=\"T_35cf3b94_7a7f_11e9_a60f_bee08a36952crow4_col4\" class=\"data row4 col4\" >1</td> \n",
       "        <td id=\"T_35cf3b94_7a7f_11e9_a60f_bee08a36952crow4_col5\" class=\"data row4 col5\" >0.0432153</td> \n",
       "    </tr>    <tr> \n",
       "        <th id=\"T_35cf3b94_7a7f_11e9_a60f_bee08a36952clevel0_row5\" class=\"row_heading level0 row5\" >fare</th> \n",
       "        <td id=\"T_35cf3b94_7a7f_11e9_a60f_bee08a36952crow5_col0\" class=\"data row5 col0\" >0.569235</td> \n",
       "        <td id=\"T_35cf3b94_7a7f_11e9_a60f_bee08a36952crow5_col1\" class=\"data row5 col1\" >0.0845234</td> \n",
       "        <td id=\"T_35cf3b94_7a7f_11e9_a60f_bee08a36952crow5_col2\" class=\"data row5 col2\" >0.343229</td> \n",
       "        <td id=\"T_35cf3b94_7a7f_11e9_a60f_bee08a36952crow5_col3\" class=\"data row5 col3\" >0.0388891</td> \n",
       "        <td id=\"T_35cf3b94_7a7f_11e9_a60f_bee08a36952crow5_col4\" class=\"data row5 col4\" >0.0432153</td> \n",
       "        <td id=\"T_35cf3b94_7a7f_11e9_a60f_bee08a36952crow5_col5\" class=\"data row5 col5\" >1</td> \n",
       "    </tr></tbody> \n",
       "</table> "
      ],
      "text/plain": [
       "<pandas.io.formats.style.Styler at 0x1d9c26dcc18>"
      ]
     },
     "execution_count": 80,
     "metadata": {},
     "output_type": "execute_result"
    }
   ],
   "source": [
    "#Finding co-relation\n",
    "corr = train_linear.corr()\n",
    "corr.style.background_gradient()"
   ]
  },
  {
   "cell_type": "markdown",
   "metadata": {},
   "source": [
    "The corelation factor between type and fare is 0.56. Hence it further stresses that type should be separated to see the effects clearly. Travel time and origin region may have multicolinarity, which can be checked further.\n"
   ]
  },
  {
   "cell_type": "markdown",
   "metadata": {},
   "source": [
    "Based on this analysis modelling can be done for each uber type separately"
   ]
  },
  {
   "cell_type": "code",
   "execution_count": 89,
   "metadata": {},
   "outputs": [],
   "source": [
    "upool=train_linear[train_linear['type']==0]\n",
    "ux=train_linear[train_linear['type']==1]\n",
    "ublack=train_linear[train_linear['type']==2]\n",
    "\n",
    "\n",
    "upool_na=fit_linear[fit_linear['type']==0]\n",
    "ux_na=fit_linear[fit_linear['type']==1]\n",
    "ublack_na=fit_linear[fit_linear['type']==2]\n"
   ]
  },
  {
   "cell_type": "code",
   "execution_count": 90,
   "metadata": {},
   "outputs": [
    {
     "data": {
      "text/plain": [
       "8"
      ]
     },
     "execution_count": 90,
     "metadata": {},
     "output_type": "execute_result"
    }
   ],
   "source": [
    "len(upool_na)"
   ]
  },
  {
   "cell_type": "code",
   "execution_count": 91,
   "metadata": {},
   "outputs": [
    {
     "data": {
      "text/plain": [
       "7"
      ]
     },
     "execution_count": 91,
     "metadata": {},
     "output_type": "execute_result"
    }
   ],
   "source": [
    "len(ux_na)"
   ]
  },
  {
   "cell_type": "code",
   "execution_count": 92,
   "metadata": {},
   "outputs": [
    {
     "data": {
      "text/plain": [
       "3"
      ]
     },
     "execution_count": 92,
     "metadata": {},
     "output_type": "execute_result"
    }
   ],
   "source": [
    "len(ublack_na)"
   ]
  },
  {
   "cell_type": "code",
   "execution_count": 93,
   "metadata": {},
   "outputs": [
    {
     "name": "stderr",
     "output_type": "stream",
     "text": [
      "C:\\Users\\Stephy\\Anaconda3\\lib\\site-packages\\sklearn\\cross_validation.py:41: DeprecationWarning: This module was deprecated in version 0.18 in favor of the model_selection module into which all the refactored classes and functions are moved. Also note that the interface of the new CV iterators are different from that of this module. This module will be removed in 0.20.\n",
      "  \"This module will be removed in 0.20.\", DeprecationWarning)\n"
     ]
    }
   ],
   "source": [
    "from sklearn.cross_validation import train_test_split\n",
    "from sklearn.linear_model import LinearRegression"
   ]
  },
  {
   "cell_type": "markdown",
   "metadata": {},
   "source": [
    "### 5.3.1 Modelling for Uber Pool"
   ]
  },
  {
   "cell_type": "code",
   "execution_count": 94,
   "metadata": {},
   "outputs": [
    {
     "name": "stdout",
     "output_type": "stream",
     "text": [
      "R-squared value =  0.9430108223248524\n"
     ]
    }
   ],
   "source": [
    "#uber pool\n",
    "#syntax to split traing and testing data automatically \n",
    "X_train, X_test, Y_train, Y_test = train_test_split(upool.iloc[:,:-1],upool.iloc[:,-1:])\n",
    "\n",
    "lm = LinearRegression() # Linear Regression\n",
    "lm.fit(X_train,Y_train)\n",
    "\n",
    "y_hat=lm.predict(X_test)\n",
    "\n",
    "#Model goodness checking\n",
    "print ('R-squared value = ',lm.score(X_test,Y_test))\n"
   ]
  },
  {
   "cell_type": "markdown",
   "metadata": {},
   "source": [
    "R-squared value =  0.94 indicates a good model"
   ]
  },
  {
   "cell_type": "code",
   "execution_count": 95,
   "metadata": {},
   "outputs": [
    {
     "data": {
      "text/plain": [
       "Text(0.5,1,'Linear Fit Graph for Uber Pool')"
      ]
     },
     "execution_count": 95,
     "metadata": {},
     "output_type": "execute_result"
    },
    {
     "data": {
      "image/png": "[encoded data removed]",
      "text/plain": [
       "<Figure size 360x360 with 1 Axes>"
      ]
     },
     "metadata": {},
     "output_type": "display_data"
    }
   ],
   "source": [
    "\n",
    "plt.scatter(y_hat,Y_test)\n",
    "plt.xlabel('predicted')\n",
    "plt.ylabel('testing')\n",
    "plt.title('Linear Fit Graph for Uber Pool')"
   ]
  },
  {
   "cell_type": "code",
   "execution_count": 96,
   "metadata": {
    "collapsed": true
   },
   "outputs": [
    {
     "name": "stderr",
     "output_type": "stream",
     "text": [
      "C:\\Users\\Stephy\\Anaconda3\\lib\\site-packages\\ipykernel_launcher.py:2: SettingWithCopyWarning: \n",
      "A value is trying to be set on a copy of a slice from a DataFrame\n",
      "\n",
      "See the caveats in the documentation: http://pandas.pydata.org/pandas-docs/stable/indexing.html#indexing-view-versus-copy\n",
      "  \n",
      "C:\\Users\\Stephy\\Anaconda3\\lib\\site-packages\\pandas\\core\\generic.py:7620: SettingWithCopyWarning: \n",
      "A value is trying to be set on a copy of a slice from a DataFrame\n",
      "\n",
      "See the caveats in the documentation: http://pandas.pydata.org/pandas-docs/stable/indexing.html#indexing-view-versus-copy\n",
      "  self._update_inplace(new_data)\n",
      "C:\\Users\\Stephy\\Anaconda3\\lib\\site-packages\\IPython\\core\\interactiveshell.py:2963: SettingWithCopyWarning: \n",
      "A value is trying to be set on a copy of a slice from a DataFrame\n",
      "\n",
      "See the caveats in the documentation: http://pandas.pydata.org/pandas-docs/stable/indexing.html#indexing-view-versus-copy\n",
      "  exec(code_obj, self.user_global_ns, self.user_ns)\n",
      "C:\\Users\\Stephy\\Anaconda3\\lib\\site-packages\\ipykernel_launcher.py:3: SettingWithCopyWarning: \n",
      "A value is trying to be set on a copy of a slice from a DataFrame.\n",
      "Try using .loc[row_indexer,col_indexer] = value instead\n",
      "\n",
      "See the caveats in the documentation: http://pandas.pydata.org/pandas-docs/stable/indexing.html#indexing-view-versus-copy\n",
      "  This is separate from the ipykernel package so we can avoid doing imports until\n"
     ]
    }
   ],
   "source": [
    "\n",
    "upool_na['fare'][upool_na['fare'].isnull()] = lm.predict(upool_na.drop(['fare'],axis=1)) \n",
    "upool_na['fare']=round(upool_na['fare'],2)\n"
   ]
  },
  {
   "cell_type": "code",
   "execution_count": 97,
   "metadata": {},
   "outputs": [
    {
     "data": {
      "text/html": [
       "<div>\n",
       "<style scoped>\n",
       "    .dataframe tbody tr th:only-of-type {\n",
       "        vertical-align: middle;\n",
       "    }\n",
       "\n",
       "    .dataframe tbody tr th {\n",
       "        vertical-align: top;\n",
       "    }\n",
       "\n",
       "    .dataframe thead th {\n",
       "        text-align: right;\n",
       "    }\n",
       "</style>\n",
       "<table border=\"1\" class=\"dataframe\">\n",
       "  <thead>\n",
       "    <tr style=\"text-align: right;\">\n",
       "      <th></th>\n",
       "      <th>type</th>\n",
       "      <th>ori_region</th>\n",
       "      <th>j_distance</th>\n",
       "      <th>time_interval</th>\n",
       "      <th>weekday_flag</th>\n",
       "      <th>fare</th>\n",
       "    </tr>\n",
       "  </thead>\n",
       "  <tbody>\n",
       "    <tr>\n",
       "      <th>81</th>\n",
       "      <td>0.0</td>\n",
       "      <td>7</td>\n",
       "      <td>10415.0</td>\n",
       "      <td>2</td>\n",
       "      <td>0</td>\n",
       "      <td>12.81</td>\n",
       "    </tr>\n",
       "    <tr>\n",
       "      <th>82</th>\n",
       "      <td>0.0</td>\n",
       "      <td>6</td>\n",
       "      <td>7017.0</td>\n",
       "      <td>1</td>\n",
       "      <td>1</td>\n",
       "      <td>10.16</td>\n",
       "    </tr>\n",
       "    <tr>\n",
       "      <th>89</th>\n",
       "      <td>0.0</td>\n",
       "      <td>4</td>\n",
       "      <td>4782.0</td>\n",
       "      <td>1</td>\n",
       "      <td>0</td>\n",
       "      <td>6.56</td>\n",
       "    </tr>\n",
       "    <tr>\n",
       "      <th>93</th>\n",
       "      <td>0.0</td>\n",
       "      <td>6</td>\n",
       "      <td>11711.0</td>\n",
       "      <td>1</td>\n",
       "      <td>0</td>\n",
       "      <td>9.27</td>\n",
       "    </tr>\n",
       "    <tr>\n",
       "      <th>96</th>\n",
       "      <td>0.0</td>\n",
       "      <td>1</td>\n",
       "      <td>2527.0</td>\n",
       "      <td>2</td>\n",
       "      <td>1</td>\n",
       "      <td>11.62</td>\n",
       "    </tr>\n",
       "    <tr>\n",
       "      <th>98</th>\n",
       "      <td>0.0</td>\n",
       "      <td>8</td>\n",
       "      <td>2835.0</td>\n",
       "      <td>1</td>\n",
       "      <td>0</td>\n",
       "      <td>6.53</td>\n",
       "    </tr>\n",
       "    <tr>\n",
       "      <th>100</th>\n",
       "      <td>0.0</td>\n",
       "      <td>7</td>\n",
       "      <td>9411.0</td>\n",
       "      <td>3</td>\n",
       "      <td>0</td>\n",
       "      <td>16.28</td>\n",
       "    </tr>\n",
       "    <tr>\n",
       "      <th>109</th>\n",
       "      <td>0.0</td>\n",
       "      <td>1</td>\n",
       "      <td>6140.0</td>\n",
       "      <td>3</td>\n",
       "      <td>0</td>\n",
       "      <td>14.18</td>\n",
       "    </tr>\n",
       "  </tbody>\n",
       "</table>\n",
       "</div>"
      ],
      "text/plain": [
       "     type  ori_region  j_distance  time_interval  weekday_flag   fare\n",
       "81    0.0           7     10415.0              2             0  12.81\n",
       "82    0.0           6      7017.0              1             1  10.16\n",
       "89    0.0           4      4782.0              1             0   6.56\n",
       "93    0.0           6     11711.0              1             0   9.27\n",
       "96    0.0           1      2527.0              2             1  11.62\n",
       "98    0.0           8      2835.0              1             0   6.53\n",
       "100   0.0           7      9411.0              3             0  16.28\n",
       "109   0.0           1      6140.0              3             0  14.18"
      ]
     },
     "execution_count": 97,
     "metadata": {},
     "output_type": "execute_result"
    }
   ],
   "source": [
    "upool_na"
   ]
  },
  {
   "cell_type": "code",
   "execution_count": 98,
   "metadata": {
    "collapsed": true
   },
   "outputs": [
    {
     "name": "stderr",
     "output_type": "stream",
     "text": [
      "C:\\Users\\Stephy\\Anaconda3\\lib\\site-packages\\pandas\\core\\generic.py:4401: SettingWithCopyWarning: \n",
      "A value is trying to be set on a copy of a slice from a DataFrame.\n",
      "Try using .loc[row_indexer,col_indexer] = value instead\n",
      "\n",
      "See the caveats in the documentation: http://pandas.pydata.org/pandas-docs/stable/indexing.html#indexing-view-versus-copy\n",
      "  self[name] = value\n"
     ]
    },
    {
     "data": {
      "text/html": [
       "<div>\n",
       "<style scoped>\n",
       "    .dataframe tbody tr th:only-of-type {\n",
       "        vertical-align: middle;\n",
       "    }\n",
       "\n",
       "    .dataframe tbody tr th {\n",
       "        vertical-align: top;\n",
       "    }\n",
       "\n",
       "    .dataframe thead th {\n",
       "        text-align: right;\n",
       "    }\n",
       "</style>\n",
       "<table border=\"1\" class=\"dataframe\">\n",
       "  <thead>\n",
       "    <tr style=\"text-align: right;\">\n",
       "      <th></th>\n",
       "      <th>trip_id</th>\n",
       "      <th>type</th>\n",
       "      <th>ori_region</th>\n",
       "      <th>dest_region</th>\n",
       "      <th>ori_lat</th>\n",
       "      <th>ori_lng</th>\n",
       "      <th>dest_lat</th>\n",
       "      <th>dest_long</th>\n",
       "      <th>j_distance</th>\n",
       "      <th>dept_date</th>\n",
       "      <th>dept_time</th>\n",
       "      <th>travel_time</th>\n",
       "      <th>arrival_time</th>\n",
       "      <th>fare</th>\n",
       "      <th>time_interval</th>\n",
       "      <th>weekday_flag</th>\n",
       "    </tr>\n",
       "  </thead>\n",
       "  <tbody>\n",
       "    <tr>\n",
       "      <th>81</th>\n",
       "      <td>ID1129746878</td>\n",
       "      <td>0.0</td>\n",
       "      <td>7</td>\n",
       "      <td>3</td>\n",
       "      <td>-37.861835</td>\n",
       "      <td>144.905716</td>\n",
       "      <td>-37.809342</td>\n",
       "      <td>144.992395</td>\n",
       "      <td>10415.0</td>\n",
       "      <td>2018-02-19</td>\n",
       "      <td>17:09:02</td>\n",
       "      <td>3456.72</td>\n",
       "      <td>18:06:38</td>\n",
       "      <td>12.81</td>\n",
       "      <td>2</td>\n",
       "      <td>0</td>\n",
       "    </tr>\n",
       "    <tr>\n",
       "      <th>82</th>\n",
       "      <td>ID1970075138</td>\n",
       "      <td>0.0</td>\n",
       "      <td>6</td>\n",
       "      <td>5</td>\n",
       "      <td>-37.790797</td>\n",
       "      <td>144.985865</td>\n",
       "      <td>-37.805044</td>\n",
       "      <td>144.925926</td>\n",
       "      <td>7017.0</td>\n",
       "      <td>2018-07-22</td>\n",
       "      <td>10:49:07</td>\n",
       "      <td>2026.20</td>\n",
       "      <td>11:22:53</td>\n",
       "      <td>10.16</td>\n",
       "      <td>1</td>\n",
       "      <td>1</td>\n",
       "    </tr>\n",
       "    <tr>\n",
       "      <th>89</th>\n",
       "      <td>ID1301935862</td>\n",
       "      <td>0.0</td>\n",
       "      <td>4</td>\n",
       "      <td>1</td>\n",
       "      <td>-37.800225</td>\n",
       "      <td>145.009610</td>\n",
       "      <td>-37.802653</td>\n",
       "      <td>144.963491</td>\n",
       "      <td>4782.0</td>\n",
       "      <td>2018-06-18</td>\n",
       "      <td>10:59:00</td>\n",
       "      <td>1316.94</td>\n",
       "      <td>11:20:56</td>\n",
       "      <td>6.56</td>\n",
       "      <td>1</td>\n",
       "      <td>0</td>\n",
       "    </tr>\n",
       "    <tr>\n",
       "      <th>93</th>\n",
       "      <td>ID1611767973</td>\n",
       "      <td>0.0</td>\n",
       "      <td>6</td>\n",
       "      <td>7</td>\n",
       "      <td>-37.790797</td>\n",
       "      <td>144.985865</td>\n",
       "      <td>-37.861835</td>\n",
       "      <td>144.905716</td>\n",
       "      <td>11711.0</td>\n",
       "      <td>2018-03-21</td>\n",
       "      <td>07:11:12</td>\n",
       "      <td>3866.94</td>\n",
       "      <td>8:15:38</td>\n",
       "      <td>9.27</td>\n",
       "      <td>1</td>\n",
       "      <td>0</td>\n",
       "    </tr>\n",
       "    <tr>\n",
       "      <th>96</th>\n",
       "      <td>ID1626141128</td>\n",
       "      <td>0.0</td>\n",
       "      <td>1</td>\n",
       "      <td>4</td>\n",
       "      <td>-37.804996</td>\n",
       "      <td>144.971608</td>\n",
       "      <td>-37.807412</td>\n",
       "      <td>144.998521</td>\n",
       "      <td>2527.0</td>\n",
       "      <td>2018-03-18</td>\n",
       "      <td>20:25:47</td>\n",
       "      <td>626.16</td>\n",
       "      <td>20:36:13</td>\n",
       "      <td>11.62</td>\n",
       "      <td>2</td>\n",
       "      <td>1</td>\n",
       "    </tr>\n",
       "    <tr>\n",
       "      <th>98</th>\n",
       "      <td>ID1728618028</td>\n",
       "      <td>0.0</td>\n",
       "      <td>8</td>\n",
       "      <td>4</td>\n",
       "      <td>-37.807202</td>\n",
       "      <td>145.026637</td>\n",
       "      <td>-37.814129</td>\n",
       "      <td>145.004671</td>\n",
       "      <td>2835.0</td>\n",
       "      <td>2018-05-16</td>\n",
       "      <td>11:30:48</td>\n",
       "      <td>660.66</td>\n",
       "      <td>11:41:48</td>\n",
       "      <td>6.53</td>\n",
       "      <td>1</td>\n",
       "      <td>0</td>\n",
       "    </tr>\n",
       "    <tr>\n",
       "      <th>100</th>\n",
       "      <td>ID1503345228</td>\n",
       "      <td>0.0</td>\n",
       "      <td>7</td>\n",
       "      <td>1</td>\n",
       "      <td>-37.861835</td>\n",
       "      <td>144.905716</td>\n",
       "      <td>-37.805283</td>\n",
       "      <td>144.955317</td>\n",
       "      <td>9411.0</td>\n",
       "      <td>2018-07-18</td>\n",
       "      <td>21:03:37</td>\n",
       "      <td>3144.90</td>\n",
       "      <td>21:56:01</td>\n",
       "      <td>16.28</td>\n",
       "      <td>3</td>\n",
       "      <td>0</td>\n",
       "    </tr>\n",
       "    <tr>\n",
       "      <th>109</th>\n",
       "      <td>ID1162920801</td>\n",
       "      <td>0.0</td>\n",
       "      <td>1</td>\n",
       "      <td>4</td>\n",
       "      <td>-37.815354</td>\n",
       "      <td>144.935589</td>\n",
       "      <td>-37.805506</td>\n",
       "      <td>144.997886</td>\n",
       "      <td>6140.0</td>\n",
       "      <td>2018-01-03</td>\n",
       "      <td>02:07:21</td>\n",
       "      <td>1576.44</td>\n",
       "      <td>2:33:37</td>\n",
       "      <td>14.18</td>\n",
       "      <td>3</td>\n",
       "      <td>0</td>\n",
       "    </tr>\n",
       "  </tbody>\n",
       "</table>\n",
       "</div>"
      ],
      "text/plain": [
       "          trip_id  type  ori_region  dest_region    ori_lat     ori_lng  \\\n",
       "81   ID1129746878   0.0           7            3 -37.861835  144.905716   \n",
       "82   ID1970075138   0.0           6            5 -37.790797  144.985865   \n",
       "89   ID1301935862   0.0           4            1 -37.800225  145.009610   \n",
       "93   ID1611767973   0.0           6            7 -37.790797  144.985865   \n",
       "96   ID1626141128   0.0           1            4 -37.804996  144.971608   \n",
       "98   ID1728618028   0.0           8            4 -37.807202  145.026637   \n",
       "100  ID1503345228   0.0           7            1 -37.861835  144.905716   \n",
       "109  ID1162920801   0.0           1            4 -37.815354  144.935589   \n",
       "\n",
       "      dest_lat   dest_long  j_distance   dept_date dept_time  travel_time  \\\n",
       "81  -37.809342  144.992395     10415.0  2018-02-19  17:09:02      3456.72   \n",
       "82  -37.805044  144.925926      7017.0  2018-07-22  10:49:07      2026.20   \n",
       "89  -37.802653  144.963491      4782.0  2018-06-18  10:59:00      1316.94   \n",
       "93  -37.861835  144.905716     11711.0  2018-03-21  07:11:12      3866.94   \n",
       "96  -37.807412  144.998521      2527.0  2018-03-18  20:25:47       626.16   \n",
       "98  -37.814129  145.004671      2835.0  2018-05-16  11:30:48       660.66   \n",
       "100 -37.805283  144.955317      9411.0  2018-07-18  21:03:37      3144.90   \n",
       "109 -37.805506  144.997886      6140.0  2018-01-03  02:07:21      1576.44   \n",
       "\n",
       "    arrival_time   fare  time_interval  weekday_flag  \n",
       "81      18:06:38  12.81              2             0  \n",
       "82      11:22:53  10.16              1             1  \n",
       "89      11:20:56   6.56              1             0  \n",
       "93       8:15:38   9.27              1             0  \n",
       "96      20:36:13  11.62              2             1  \n",
       "98      11:41:48   6.53              1             0  \n",
       "100     21:56:01  16.28              3             0  \n",
       "109      2:33:37  14.18              3             0  "
      ]
     },
     "execution_count": 98,
     "metadata": {},
     "output_type": "execute_result"
    }
   ],
   "source": [
    "uber_pool = more_data.index.isin(upool_na.index)\n",
    "uber_pool = more_data[uber_pool]\n",
    "uber_pool.fare = upool_na.fare\n",
    "\n",
    "#predicted values for Uber Pool\n",
    "uber_pool"
   ]
  },
  {
   "cell_type": "markdown",
   "metadata": {},
   "source": [
    "### 5.3.2 Modelling for Uber X"
   ]
  },
  {
   "cell_type": "code",
   "execution_count": 114,
   "metadata": {},
   "outputs": [
    {
     "name": "stdout",
     "output_type": "stream",
     "text": [
      "R-squared value =  0.9570496670910065\n"
     ]
    }
   ],
   "source": [
    "#uber x\n",
    "#test train split for Uber X\n",
    "#Ref https://stackoverflow.com/questions/31521170/scikit-learn-train-test-split-with-indices\n",
    "X_train, X_test, Y_train, Y_test = train_test_split(ux.iloc[:,:-1],ux.iloc[:,-1:])\n",
    "\n",
    "lm = LinearRegression() # Linear Regression\n",
    "lm.fit(X_train,Y_train)\n",
    "\n",
    "y_hat=lm.predict(X_test)\n",
    "\n",
    "#Model goodness checking\n",
    "print ('R-squared value = ',lm.score(X_test,Y_test))"
   ]
  },
  {
   "cell_type": "markdown",
   "metadata": {},
   "source": [
    "R-squared value =  0.95 indicates a good model"
   ]
  },
  {
   "cell_type": "code",
   "execution_count": 115,
   "metadata": {},
   "outputs": [
    {
     "data": {
      "text/plain": [
       "Text(0.5,1,'Linear Fit Graph for Uber X')"
      ]
     },
     "execution_count": 115,
     "metadata": {},
     "output_type": "execute_result"
    },
    {
     "data": {
      "image/png": "[encoded data removed]",
      "text/plain": [
       "<Figure size 360x360 with 1 Axes>"
      ]
     },
     "metadata": {},
     "output_type": "display_data"
    }
   ],
   "source": [
    "plt.scatter(y_hat,Y_test)\n",
    "plt.xlabel('predicted')\n",
    "plt.ylabel('testing')\n",
    "plt.title('Linear Fit Graph for Uber X')"
   ]
  },
  {
   "cell_type": "code",
   "execution_count": 116,
   "metadata": {
    "collapsed": true
   },
   "outputs": [
    {
     "name": "stderr",
     "output_type": "stream",
     "text": [
      "C:\\Users\\Stephy\\Anaconda3\\lib\\site-packages\\ipykernel_launcher.py:1: SettingWithCopyWarning: \n",
      "A value is trying to be set on a copy of a slice from a DataFrame\n",
      "\n",
      "See the caveats in the documentation: http://pandas.pydata.org/pandas-docs/stable/indexing.html#indexing-view-versus-copy\n",
      "  \"\"\"Entry point for launching an IPython kernel.\n",
      "C:\\Users\\Stephy\\Anaconda3\\lib\\site-packages\\pandas\\core\\generic.py:7620: SettingWithCopyWarning: \n",
      "A value is trying to be set on a copy of a slice from a DataFrame\n",
      "\n",
      "See the caveats in the documentation: http://pandas.pydata.org/pandas-docs/stable/indexing.html#indexing-view-versus-copy\n",
      "  self._update_inplace(new_data)\n",
      "C:\\Users\\Stephy\\Anaconda3\\lib\\site-packages\\IPython\\core\\interactiveshell.py:2963: SettingWithCopyWarning: \n",
      "A value is trying to be set on a copy of a slice from a DataFrame\n",
      "\n",
      "See the caveats in the documentation: http://pandas.pydata.org/pandas-docs/stable/indexing.html#indexing-view-versus-copy\n",
      "  exec(code_obj, self.user_global_ns, self.user_ns)\n",
      "C:\\Users\\Stephy\\Anaconda3\\lib\\site-packages\\ipykernel_launcher.py:2: SettingWithCopyWarning: \n",
      "A value is trying to be set on a copy of a slice from a DataFrame.\n",
      "Try using .loc[row_indexer,col_indexer] = value instead\n",
      "\n",
      "See the caveats in the documentation: http://pandas.pydata.org/pandas-docs/stable/indexing.html#indexing-view-versus-copy\n",
      "  \n"
     ]
    }
   ],
   "source": [
    "ux_na['fare'][ux_na['fare'].isnull()] = lm.predict(ux_na.drop(['fare'],axis=1)) \n",
    "ux_na['fare']=round(ux_na['fare'],2)"
   ]
  },
  {
   "cell_type": "code",
   "execution_count": 117,
   "metadata": {},
   "outputs": [
    {
     "data": {
      "text/html": [
       "<div>\n",
       "<style scoped>\n",
       "    .dataframe tbody tr th:only-of-type {\n",
       "        vertical-align: middle;\n",
       "    }\n",
       "\n",
       "    .dataframe tbody tr th {\n",
       "        vertical-align: top;\n",
       "    }\n",
       "\n",
       "    .dataframe thead th {\n",
       "        text-align: right;\n",
       "    }\n",
       "</style>\n",
       "<table border=\"1\" class=\"dataframe\">\n",
       "  <thead>\n",
       "    <tr style=\"text-align: right;\">\n",
       "      <th></th>\n",
       "      <th>type</th>\n",
       "      <th>ori_region</th>\n",
       "      <th>j_distance</th>\n",
       "      <th>time_interval</th>\n",
       "      <th>weekday_flag</th>\n",
       "      <th>fare</th>\n",
       "    </tr>\n",
       "  </thead>\n",
       "  <tbody>\n",
       "    <tr>\n",
       "      <th>80</th>\n",
       "      <td>1.0</td>\n",
       "      <td>2</td>\n",
       "      <td>6007.0</td>\n",
       "      <td>2</td>\n",
       "      <td>0</td>\n",
       "      <td>16.67</td>\n",
       "    </tr>\n",
       "    <tr>\n",
       "      <th>83</th>\n",
       "      <td>1.0</td>\n",
       "      <td>8</td>\n",
       "      <td>6409.0</td>\n",
       "      <td>3</td>\n",
       "      <td>1</td>\n",
       "      <td>25.25</td>\n",
       "    </tr>\n",
       "    <tr>\n",
       "      <th>91</th>\n",
       "      <td>1.0</td>\n",
       "      <td>9</td>\n",
       "      <td>50797.0</td>\n",
       "      <td>1</td>\n",
       "      <td>0</td>\n",
       "      <td>48.32</td>\n",
       "    </tr>\n",
       "    <tr>\n",
       "      <th>101</th>\n",
       "      <td>1.0</td>\n",
       "      <td>7</td>\n",
       "      <td>12775.0</td>\n",
       "      <td>3</td>\n",
       "      <td>0</td>\n",
       "      <td>27.88</td>\n",
       "    </tr>\n",
       "    <tr>\n",
       "      <th>104</th>\n",
       "      <td>1.0</td>\n",
       "      <td>2</td>\n",
       "      <td>10291.0</td>\n",
       "      <td>2</td>\n",
       "      <td>0</td>\n",
       "      <td>19.91</td>\n",
       "    </tr>\n",
       "    <tr>\n",
       "      <th>113</th>\n",
       "      <td>1.0</td>\n",
       "      <td>3</td>\n",
       "      <td>5830.0</td>\n",
       "      <td>3</td>\n",
       "      <td>0</td>\n",
       "      <td>21.34</td>\n",
       "    </tr>\n",
       "    <tr>\n",
       "      <th>117</th>\n",
       "      <td>1.0</td>\n",
       "      <td>8</td>\n",
       "      <td>13562.0</td>\n",
       "      <td>2</td>\n",
       "      <td>0</td>\n",
       "      <td>24.31</td>\n",
       "    </tr>\n",
       "  </tbody>\n",
       "</table>\n",
       "</div>"
      ],
      "text/plain": [
       "     type  ori_region  j_distance  time_interval  weekday_flag   fare\n",
       "80    1.0           2      6007.0              2             0  16.67\n",
       "83    1.0           8      6409.0              3             1  25.25\n",
       "91    1.0           9     50797.0              1             0  48.32\n",
       "101   1.0           7     12775.0              3             0  27.88\n",
       "104   1.0           2     10291.0              2             0  19.91\n",
       "113   1.0           3      5830.0              3             0  21.34\n",
       "117   1.0           8     13562.0              2             0  24.31"
      ]
     },
     "execution_count": 117,
     "metadata": {},
     "output_type": "execute_result"
    }
   ],
   "source": [
    "ux_na"
   ]
  },
  {
   "cell_type": "code",
   "execution_count": 118,
   "metadata": {
    "collapsed": true
   },
   "outputs": [
    {
     "name": "stderr",
     "output_type": "stream",
     "text": [
      "C:\\Users\\Stephy\\Anaconda3\\lib\\site-packages\\pandas\\core\\generic.py:4401: SettingWithCopyWarning: \n",
      "A value is trying to be set on a copy of a slice from a DataFrame.\n",
      "Try using .loc[row_indexer,col_indexer] = value instead\n",
      "\n",
      "See the caveats in the documentation: http://pandas.pydata.org/pandas-docs/stable/indexing.html#indexing-view-versus-copy\n",
      "  self[name] = value\n"
     ]
    },
    {
     "data": {
      "text/html": [
       "<div>\n",
       "<style scoped>\n",
       "    .dataframe tbody tr th:only-of-type {\n",
       "        vertical-align: middle;\n",
       "    }\n",
       "\n",
       "    .dataframe tbody tr th {\n",
       "        vertical-align: top;\n",
       "    }\n",
       "\n",
       "    .dataframe thead th {\n",
       "        text-align: right;\n",
       "    }\n",
       "</style>\n",
       "<table border=\"1\" class=\"dataframe\">\n",
       "  <thead>\n",
       "    <tr style=\"text-align: right;\">\n",
       "      <th></th>\n",
       "      <th>trip_id</th>\n",
       "      <th>type</th>\n",
       "      <th>ori_region</th>\n",
       "      <th>dest_region</th>\n",
       "      <th>ori_lat</th>\n",
       "      <th>ori_lng</th>\n",
       "      <th>dest_lat</th>\n",
       "      <th>dest_long</th>\n",
       "      <th>j_distance</th>\n",
       "      <th>dept_date</th>\n",
       "      <th>dept_time</th>\n",
       "      <th>travel_time</th>\n",
       "      <th>arrival_time</th>\n",
       "      <th>fare</th>\n",
       "      <th>time_interval</th>\n",
       "      <th>weekday_flag</th>\n",
       "    </tr>\n",
       "  </thead>\n",
       "  <tbody>\n",
       "    <tr>\n",
       "      <th>80</th>\n",
       "      <td>ID3446739218</td>\n",
       "      <td>1.0</td>\n",
       "      <td>2</td>\n",
       "      <td>3</td>\n",
       "      <td>-37.819344</td>\n",
       "      <td>144.932088</td>\n",
       "      <td>-37.827091</td>\n",
       "      <td>144.974919</td>\n",
       "      <td>6007.0</td>\n",
       "      <td>2018-05-01</td>\n",
       "      <td>13:38:57</td>\n",
       "      <td>1442.94</td>\n",
       "      <td>14:02:59</td>\n",
       "      <td>16.67</td>\n",
       "      <td>2</td>\n",
       "      <td>0</td>\n",
       "    </tr>\n",
       "    <tr>\n",
       "      <th>83</th>\n",
       "      <td>ID3345890245</td>\n",
       "      <td>1.0</td>\n",
       "      <td>8</td>\n",
       "      <td>3</td>\n",
       "      <td>-37.815834</td>\n",
       "      <td>145.046450</td>\n",
       "      <td>-37.820207</td>\n",
       "      <td>144.984383</td>\n",
       "      <td>6409.0</td>\n",
       "      <td>2018-03-17</td>\n",
       "      <td>23:45:02</td>\n",
       "      <td>1945.44</td>\n",
       "      <td>0:17:27</td>\n",
       "      <td>25.25</td>\n",
       "      <td>3</td>\n",
       "      <td>1</td>\n",
       "    </tr>\n",
       "    <tr>\n",
       "      <th>91</th>\n",
       "      <td>ID3802084473</td>\n",
       "      <td>1.0</td>\n",
       "      <td>9</td>\n",
       "      <td>7</td>\n",
       "      <td>-38.110916</td>\n",
       "      <td>144.654173</td>\n",
       "      <td>-37.861835</td>\n",
       "      <td>144.905716</td>\n",
       "      <td>50797.0</td>\n",
       "      <td>2018-07-10</td>\n",
       "      <td>08:01:56</td>\n",
       "      <td>13204.98</td>\n",
       "      <td>11:42:00</td>\n",
       "      <td>48.32</td>\n",
       "      <td>1</td>\n",
       "      <td>0</td>\n",
       "    </tr>\n",
       "    <tr>\n",
       "      <th>101</th>\n",
       "      <td>ID3434183545</td>\n",
       "      <td>1.0</td>\n",
       "      <td>7</td>\n",
       "      <td>5</td>\n",
       "      <td>-37.861835</td>\n",
       "      <td>144.905716</td>\n",
       "      <td>-37.800647</td>\n",
       "      <td>144.935772</td>\n",
       "      <td>12775.0</td>\n",
       "      <td>2018-01-23</td>\n",
       "      <td>23:18:26</td>\n",
       "      <td>4025.22</td>\n",
       "      <td>0:25:31</td>\n",
       "      <td>27.88</td>\n",
       "      <td>3</td>\n",
       "      <td>0</td>\n",
       "    </tr>\n",
       "    <tr>\n",
       "      <th>104</th>\n",
       "      <td>ID3349169607</td>\n",
       "      <td>1.0</td>\n",
       "      <td>2</td>\n",
       "      <td>7</td>\n",
       "      <td>-37.814511</td>\n",
       "      <td>144.938358</td>\n",
       "      <td>-37.861835</td>\n",
       "      <td>144.905716</td>\n",
       "      <td>10291.0</td>\n",
       "      <td>2018-05-09</td>\n",
       "      <td>16:53:28</td>\n",
       "      <td>3370.62</td>\n",
       "      <td>17:49:38</td>\n",
       "      <td>19.91</td>\n",
       "      <td>2</td>\n",
       "      <td>0</td>\n",
       "    </tr>\n",
       "    <tr>\n",
       "      <th>113</th>\n",
       "      <td>ID3929143578</td>\n",
       "      <td>1.0</td>\n",
       "      <td>3</td>\n",
       "      <td>5</td>\n",
       "      <td>-37.818579</td>\n",
       "      <td>144.992130</td>\n",
       "      <td>-37.809117</td>\n",
       "      <td>144.936871</td>\n",
       "      <td>5830.0</td>\n",
       "      <td>2018-06-07</td>\n",
       "      <td>01:55:23</td>\n",
       "      <td>1359.90</td>\n",
       "      <td>2:18:02</td>\n",
       "      <td>21.34</td>\n",
       "      <td>3</td>\n",
       "      <td>0</td>\n",
       "    </tr>\n",
       "    <tr>\n",
       "      <th>117</th>\n",
       "      <td>ID3824103313</td>\n",
       "      <td>1.0</td>\n",
       "      <td>8</td>\n",
       "      <td>6</td>\n",
       "      <td>-37.815834</td>\n",
       "      <td>145.046450</td>\n",
       "      <td>-37.773803</td>\n",
       "      <td>144.983647</td>\n",
       "      <td>13562.0</td>\n",
       "      <td>2018-01-11</td>\n",
       "      <td>12:05:31</td>\n",
       "      <td>4192.26</td>\n",
       "      <td>13:15:23</td>\n",
       "      <td>24.31</td>\n",
       "      <td>2</td>\n",
       "      <td>0</td>\n",
       "    </tr>\n",
       "  </tbody>\n",
       "</table>\n",
       "</div>"
      ],
      "text/plain": [
       "          trip_id  type  ori_region  dest_region    ori_lat     ori_lng  \\\n",
       "80   ID3446739218   1.0           2            3 -37.819344  144.932088   \n",
       "83   ID3345890245   1.0           8            3 -37.815834  145.046450   \n",
       "91   ID3802084473   1.0           9            7 -38.110916  144.654173   \n",
       "101  ID3434183545   1.0           7            5 -37.861835  144.905716   \n",
       "104  ID3349169607   1.0           2            7 -37.814511  144.938358   \n",
       "113  ID3929143578   1.0           3            5 -37.818579  144.992130   \n",
       "117  ID3824103313   1.0           8            6 -37.815834  145.046450   \n",
       "\n",
       "      dest_lat   dest_long  j_distance   dept_date dept_time  travel_time  \\\n",
       "80  -37.827091  144.974919      6007.0  2018-05-01  13:38:57      1442.94   \n",
       "83  -37.820207  144.984383      6409.0  2018-03-17  23:45:02      1945.44   \n",
       "91  -37.861835  144.905716     50797.0  2018-07-10  08:01:56     13204.98   \n",
       "101 -37.800647  144.935772     12775.0  2018-01-23  23:18:26      4025.22   \n",
       "104 -37.861835  144.905716     10291.0  2018-05-09  16:53:28      3370.62   \n",
       "113 -37.809117  144.936871      5830.0  2018-06-07  01:55:23      1359.90   \n",
       "117 -37.773803  144.983647     13562.0  2018-01-11  12:05:31      4192.26   \n",
       "\n",
       "    arrival_time   fare  time_interval  weekday_flag  \n",
       "80      14:02:59  16.67              2             0  \n",
       "83       0:17:27  25.25              3             1  \n",
       "91      11:42:00  48.32              1             0  \n",
       "101      0:25:31  27.88              3             0  \n",
       "104     17:49:38  19.91              2             0  \n",
       "113      2:18:02  21.34              3             0  \n",
       "117     13:15:23  24.31              2             0  "
      ]
     },
     "execution_count": 118,
     "metadata": {},
     "output_type": "execute_result"
    }
   ],
   "source": [
    "uber_x = more_data.index.isin(ux_na.index)\n",
    "uber_x = more_data[uber_x]\n",
    "uber_x.fare = ux_na.fare\n",
    "\n",
    "#predicted data for Uber X\n",
    "uber_x"
   ]
  },
  {
   "cell_type": "markdown",
   "metadata": {},
   "source": [
    "### 5.3.3 Modelling for Uber Black"
   ]
  },
  {
   "cell_type": "code",
   "execution_count": 133,
   "metadata": {},
   "outputs": [
    {
     "name": "stdout",
     "output_type": "stream",
     "text": [
      "R-squared value =  0.9668849131075251\n"
     ]
    }
   ],
   "source": [
    "#uber black\n",
    "X_train, X_test, Y_train, Y_test = train_test_split(ublack.iloc[:,:-1],ublack.iloc[:,-1:])\n",
    "\n",
    "lm = LinearRegression() # Linear Regression\n",
    "lm.fit(X_train,Y_train)\n",
    "\n",
    "y_hat=lm.predict(X_test)\n",
    "\n",
    "#Model goodness checking\n",
    "print ('R-squared value = ',lm.score(X_test,Y_test))"
   ]
  },
  {
   "cell_type": "markdown",
   "metadata": {},
   "source": [
    "R-squared value =  0.96 indicates a good model"
   ]
  },
  {
   "cell_type": "code",
   "execution_count": 134,
   "metadata": {},
   "outputs": [
    {
     "data": {
      "text/plain": [
       "Text(0.5,1,'Linear Fit Graph for Uber Black')"
      ]
     },
     "execution_count": 134,
     "metadata": {},
     "output_type": "execute_result"
    },
    {
     "data": {
      "image/png": "[encoded data removed]",
      "text/plain": [
       "<Figure size 360x360 with 1 Axes>"
      ]
     },
     "metadata": {},
     "output_type": "display_data"
    }
   ],
   "source": [
    "plt.scatter(y_hat,Y_test)\n",
    "plt.xlabel('predicted')\n",
    "plt.ylabel('testing')\n",
    "plt.title('Linear Fit Graph for Uber Black')"
   ]
  },
  {
   "cell_type": "code",
   "execution_count": 135,
   "metadata": {
    "collapsed": true
   },
   "outputs": [
    {
     "name": "stderr",
     "output_type": "stream",
     "text": [
      "C:\\Users\\Stephy\\Anaconda3\\lib\\site-packages\\ipykernel_launcher.py:1: SettingWithCopyWarning: \n",
      "A value is trying to be set on a copy of a slice from a DataFrame\n",
      "\n",
      "See the caveats in the documentation: http://pandas.pydata.org/pandas-docs/stable/indexing.html#indexing-view-versus-copy\n",
      "  \"\"\"Entry point for launching an IPython kernel.\n",
      "C:\\Users\\Stephy\\Anaconda3\\lib\\site-packages\\pandas\\core\\generic.py:7620: SettingWithCopyWarning: \n",
      "A value is trying to be set on a copy of a slice from a DataFrame\n",
      "\n",
      "See the caveats in the documentation: http://pandas.pydata.org/pandas-docs/stable/indexing.html#indexing-view-versus-copy\n",
      "  self._update_inplace(new_data)\n",
      "C:\\Users\\Stephy\\Anaconda3\\lib\\site-packages\\IPython\\core\\interactiveshell.py:2963: SettingWithCopyWarning: \n",
      "A value is trying to be set on a copy of a slice from a DataFrame\n",
      "\n",
      "See the caveats in the documentation: http://pandas.pydata.org/pandas-docs/stable/indexing.html#indexing-view-versus-copy\n",
      "  exec(code_obj, self.user_global_ns, self.user_ns)\n",
      "C:\\Users\\Stephy\\Anaconda3\\lib\\site-packages\\ipykernel_launcher.py:2: SettingWithCopyWarning: \n",
      "A value is trying to be set on a copy of a slice from a DataFrame.\n",
      "Try using .loc[row_indexer,col_indexer] = value instead\n",
      "\n",
      "See the caveats in the documentation: http://pandas.pydata.org/pandas-docs/stable/indexing.html#indexing-view-versus-copy\n",
      "  \n"
     ]
    }
   ],
   "source": [
    "ublack_na['fare'][ublack_na['fare'].isnull()] = lm.predict(ublack_na.drop(['fare'],axis=1)) \n",
    "ublack_na['fare']=round(ublack_na['fare'],2)\n"
   ]
  },
  {
   "cell_type": "code",
   "execution_count": 136,
   "metadata": {},
   "outputs": [
    {
     "data": {
      "text/html": [
       "<div>\n",
       "<style scoped>\n",
       "    .dataframe tbody tr th:only-of-type {\n",
       "        vertical-align: middle;\n",
       "    }\n",
       "\n",
       "    .dataframe tbody tr th {\n",
       "        vertical-align: top;\n",
       "    }\n",
       "\n",
       "    .dataframe thead th {\n",
       "        text-align: right;\n",
       "    }\n",
       "</style>\n",
       "<table border=\"1\" class=\"dataframe\">\n",
       "  <thead>\n",
       "    <tr style=\"text-align: right;\">\n",
       "      <th></th>\n",
       "      <th>type</th>\n",
       "      <th>ori_region</th>\n",
       "      <th>j_distance</th>\n",
       "      <th>time_interval</th>\n",
       "      <th>weekday_flag</th>\n",
       "      <th>fare</th>\n",
       "    </tr>\n",
       "  </thead>\n",
       "  <tbody>\n",
       "    <tr>\n",
       "      <th>87</th>\n",
       "      <td>2.0</td>\n",
       "      <td>9</td>\n",
       "      <td>43688.0</td>\n",
       "      <td>1</td>\n",
       "      <td>0</td>\n",
       "      <td>902.44</td>\n",
       "    </tr>\n",
       "    <tr>\n",
       "      <th>105</th>\n",
       "      <td>2.0</td>\n",
       "      <td>4</td>\n",
       "      <td>3182.0</td>\n",
       "      <td>2</td>\n",
       "      <td>0</td>\n",
       "      <td>115.37</td>\n",
       "    </tr>\n",
       "    <tr>\n",
       "      <th>115</th>\n",
       "      <td>2.0</td>\n",
       "      <td>9</td>\n",
       "      <td>44035.0</td>\n",
       "      <td>3</td>\n",
       "      <td>1</td>\n",
       "      <td>934.74</td>\n",
       "    </tr>\n",
       "  </tbody>\n",
       "</table>\n",
       "</div>"
      ],
      "text/plain": [
       "     type  ori_region  j_distance  time_interval  weekday_flag    fare\n",
       "87    2.0           9     43688.0              1             0  902.44\n",
       "105   2.0           4      3182.0              2             0  115.37\n",
       "115   2.0           9     44035.0              3             1  934.74"
      ]
     },
     "execution_count": 136,
     "metadata": {},
     "output_type": "execute_result"
    }
   ],
   "source": [
    "ublack_na"
   ]
  },
  {
   "cell_type": "code",
   "execution_count": 137,
   "metadata": {},
   "outputs": [
    {
     "name": "stderr",
     "output_type": "stream",
     "text": [
      "C:\\Users\\Stephy\\Anaconda3\\lib\\site-packages\\pandas\\core\\generic.py:4401: SettingWithCopyWarning: \n",
      "A value is trying to be set on a copy of a slice from a DataFrame.\n",
      "Try using .loc[row_indexer,col_indexer] = value instead\n",
      "\n",
      "See the caveats in the documentation: http://pandas.pydata.org/pandas-docs/stable/indexing.html#indexing-view-versus-copy\n",
      "  self[name] = value\n"
     ]
    },
    {
     "data": {
      "text/html": [
       "<div>\n",
       "<style scoped>\n",
       "    .dataframe tbody tr th:only-of-type {\n",
       "        vertical-align: middle;\n",
       "    }\n",
       "\n",
       "    .dataframe tbody tr th {\n",
       "        vertical-align: top;\n",
       "    }\n",
       "\n",
       "    .dataframe thead th {\n",
       "        text-align: right;\n",
       "    }\n",
       "</style>\n",
       "<table border=\"1\" class=\"dataframe\">\n",
       "  <thead>\n",
       "    <tr style=\"text-align: right;\">\n",
       "      <th></th>\n",
       "      <th>trip_id</th>\n",
       "      <th>type</th>\n",
       "      <th>ori_region</th>\n",
       "      <th>dest_region</th>\n",
       "      <th>ori_lat</th>\n",
       "      <th>ori_lng</th>\n",
       "      <th>dest_lat</th>\n",
       "      <th>dest_long</th>\n",
       "      <th>j_distance</th>\n",
       "      <th>dept_date</th>\n",
       "      <th>dept_time</th>\n",
       "      <th>travel_time</th>\n",
       "      <th>arrival_time</th>\n",
       "      <th>fare</th>\n",
       "      <th>time_interval</th>\n",
       "      <th>weekday_flag</th>\n",
       "    </tr>\n",
       "  </thead>\n",
       "  <tbody>\n",
       "    <tr>\n",
       "      <th>87</th>\n",
       "      <td>ID5771249188</td>\n",
       "      <td>2.0</td>\n",
       "      <td>9</td>\n",
       "      <td>5</td>\n",
       "      <td>-38.110916</td>\n",
       "      <td>144.654173</td>\n",
       "      <td>-37.805324</td>\n",
       "      <td>144.933267</td>\n",
       "      <td>43688.0</td>\n",
       "      <td>2018-04-16</td>\n",
       "      <td>08:15:31</td>\n",
       "      <td>10478.88</td>\n",
       "      <td>11:10:09</td>\n",
       "      <td>902.44</td>\n",
       "      <td>1</td>\n",
       "      <td>0</td>\n",
       "    </tr>\n",
       "    <tr>\n",
       "      <th>105</th>\n",
       "      <td>ID5732321483</td>\n",
       "      <td>2.0</td>\n",
       "      <td>4</td>\n",
       "      <td>8</td>\n",
       "      <td>-37.813248</td>\n",
       "      <td>145.000132</td>\n",
       "      <td>-37.807202</td>\n",
       "      <td>145.026637</td>\n",
       "      <td>3182.0</td>\n",
       "      <td>2018-03-21</td>\n",
       "      <td>17:18:33</td>\n",
       "      <td>777.78</td>\n",
       "      <td>17:31:30</td>\n",
       "      <td>115.37</td>\n",
       "      <td>2</td>\n",
       "      <td>0</td>\n",
       "    </tr>\n",
       "    <tr>\n",
       "      <th>115</th>\n",
       "      <td>ID5383986219</td>\n",
       "      <td>2.0</td>\n",
       "      <td>9</td>\n",
       "      <td>3</td>\n",
       "      <td>-38.110916</td>\n",
       "      <td>144.654173</td>\n",
       "      <td>-37.823719</td>\n",
       "      <td>144.967352</td>\n",
       "      <td>44035.0</td>\n",
       "      <td>2018-01-07</td>\n",
       "      <td>22:01:42</td>\n",
       "      <td>10724.46</td>\n",
       "      <td>1:00:26</td>\n",
       "      <td>934.74</td>\n",
       "      <td>3</td>\n",
       "      <td>1</td>\n",
       "    </tr>\n",
       "  </tbody>\n",
       "</table>\n",
       "</div>"
      ],
      "text/plain": [
       "          trip_id  type  ori_region  dest_region    ori_lat     ori_lng  \\\n",
       "87   ID5771249188   2.0           9            5 -38.110916  144.654173   \n",
       "105  ID5732321483   2.0           4            8 -37.813248  145.000132   \n",
       "115  ID5383986219   2.0           9            3 -38.110916  144.654173   \n",
       "\n",
       "      dest_lat   dest_long  j_distance   dept_date dept_time  travel_time  \\\n",
       "87  -37.805324  144.933267     43688.0  2018-04-16  08:15:31     10478.88   \n",
       "105 -37.807202  145.026637      3182.0  2018-03-21  17:18:33       777.78   \n",
       "115 -37.823719  144.967352     44035.0  2018-01-07  22:01:42     10724.46   \n",
       "\n",
       "    arrival_time    fare  time_interval  weekday_flag  \n",
       "87      11:10:09  902.44              1             0  \n",
       "105     17:31:30  115.37              2             0  \n",
       "115      1:00:26  934.74              3             1  "
      ]
     },
     "execution_count": 137,
     "metadata": {},
     "output_type": "execute_result"
    }
   ],
   "source": [
    "uber_black = more_data.index.isin(ublack_na.index)\n",
    "uber_black = more_data[uber_black]\n",
    "uber_black.fare = ublack_na.fare\n",
    "\n",
    "uber_black"
   ]
  },
  {
   "cell_type": "code",
   "execution_count": 182,
   "metadata": {},
   "outputs": [],
   "source": [
    "all_m = pd.concat([uber_pool,uber_x,uber_black])"
   ]
  },
  {
   "cell_type": "code",
   "execution_count": 183,
   "metadata": {
    "scrolled": true
   },
   "outputs": [
    {
     "data": {
      "text/html": [
       "<div>\n",
       "<style scoped>\n",
       "    .dataframe tbody tr th:only-of-type {\n",
       "        vertical-align: middle;\n",
       "    }\n",
       "\n",
       "    .dataframe tbody tr th {\n",
       "        vertical-align: top;\n",
       "    }\n",
       "\n",
       "    .dataframe thead th {\n",
       "        text-align: right;\n",
       "    }\n",
       "</style>\n",
       "<table border=\"1\" class=\"dataframe\">\n",
       "  <thead>\n",
       "    <tr style=\"text-align: right;\">\n",
       "      <th></th>\n",
       "      <th>trip_id</th>\n",
       "      <th>type</th>\n",
       "      <th>ori_region</th>\n",
       "      <th>dest_region</th>\n",
       "      <th>ori_lat</th>\n",
       "      <th>ori_lng</th>\n",
       "      <th>dest_lat</th>\n",
       "      <th>dest_long</th>\n",
       "      <th>j_distance</th>\n",
       "      <th>dept_date</th>\n",
       "      <th>dept_time</th>\n",
       "      <th>travel_time</th>\n",
       "      <th>arrival_time</th>\n",
       "      <th>fare</th>\n",
       "      <th>time_interval</th>\n",
       "      <th>weekday_flag</th>\n",
       "    </tr>\n",
       "  </thead>\n",
       "  <tbody>\n",
       "    <tr>\n",
       "      <th>81</th>\n",
       "      <td>ID1129746878</td>\n",
       "      <td>0.0</td>\n",
       "      <td>7</td>\n",
       "      <td>3</td>\n",
       "      <td>-37.861835</td>\n",
       "      <td>144.905716</td>\n",
       "      <td>-37.809342</td>\n",
       "      <td>144.992395</td>\n",
       "      <td>10415.0</td>\n",
       "      <td>2018-02-19</td>\n",
       "      <td>17:09:02</td>\n",
       "      <td>3456.72</td>\n",
       "      <td>18:06:38</td>\n",
       "      <td>12.81</td>\n",
       "      <td>2</td>\n",
       "      <td>0</td>\n",
       "    </tr>\n",
       "    <tr>\n",
       "      <th>82</th>\n",
       "      <td>ID1970075138</td>\n",
       "      <td>0.0</td>\n",
       "      <td>6</td>\n",
       "      <td>5</td>\n",
       "      <td>-37.790797</td>\n",
       "      <td>144.985865</td>\n",
       "      <td>-37.805044</td>\n",
       "      <td>144.925926</td>\n",
       "      <td>7017.0</td>\n",
       "      <td>2018-07-22</td>\n",
       "      <td>10:49:07</td>\n",
       "      <td>2026.20</td>\n",
       "      <td>11:22:53</td>\n",
       "      <td>10.16</td>\n",
       "      <td>1</td>\n",
       "      <td>1</td>\n",
       "    </tr>\n",
       "    <tr>\n",
       "      <th>89</th>\n",
       "      <td>ID1301935862</td>\n",
       "      <td>0.0</td>\n",
       "      <td>4</td>\n",
       "      <td>1</td>\n",
       "      <td>-37.800225</td>\n",
       "      <td>145.009610</td>\n",
       "      <td>-37.802653</td>\n",
       "      <td>144.963491</td>\n",
       "      <td>4782.0</td>\n",
       "      <td>2018-06-18</td>\n",
       "      <td>10:59:00</td>\n",
       "      <td>1316.94</td>\n",
       "      <td>11:20:56</td>\n",
       "      <td>6.56</td>\n",
       "      <td>1</td>\n",
       "      <td>0</td>\n",
       "    </tr>\n",
       "    <tr>\n",
       "      <th>93</th>\n",
       "      <td>ID1611767973</td>\n",
       "      <td>0.0</td>\n",
       "      <td>6</td>\n",
       "      <td>7</td>\n",
       "      <td>-37.790797</td>\n",
       "      <td>144.985865</td>\n",
       "      <td>-37.861835</td>\n",
       "      <td>144.905716</td>\n",
       "      <td>11711.0</td>\n",
       "      <td>2018-03-21</td>\n",
       "      <td>07:11:12</td>\n",
       "      <td>3866.94</td>\n",
       "      <td>8:15:38</td>\n",
       "      <td>9.27</td>\n",
       "      <td>1</td>\n",
       "      <td>0</td>\n",
       "    </tr>\n",
       "    <tr>\n",
       "      <th>96</th>\n",
       "      <td>ID1626141128</td>\n",
       "      <td>0.0</td>\n",
       "      <td>1</td>\n",
       "      <td>4</td>\n",
       "      <td>-37.804996</td>\n",
       "      <td>144.971608</td>\n",
       "      <td>-37.807412</td>\n",
       "      <td>144.998521</td>\n",
       "      <td>2527.0</td>\n",
       "      <td>2018-03-18</td>\n",
       "      <td>20:25:47</td>\n",
       "      <td>626.16</td>\n",
       "      <td>20:36:13</td>\n",
       "      <td>11.62</td>\n",
       "      <td>2</td>\n",
       "      <td>1</td>\n",
       "    </tr>\n",
       "    <tr>\n",
       "      <th>98</th>\n",
       "      <td>ID1728618028</td>\n",
       "      <td>0.0</td>\n",
       "      <td>8</td>\n",
       "      <td>4</td>\n",
       "      <td>-37.807202</td>\n",
       "      <td>145.026637</td>\n",
       "      <td>-37.814129</td>\n",
       "      <td>145.004671</td>\n",
       "      <td>2835.0</td>\n",
       "      <td>2018-05-16</td>\n",
       "      <td>11:30:48</td>\n",
       "      <td>660.66</td>\n",
       "      <td>11:41:48</td>\n",
       "      <td>6.53</td>\n",
       "      <td>1</td>\n",
       "      <td>0</td>\n",
       "    </tr>\n",
       "    <tr>\n",
       "      <th>100</th>\n",
       "      <td>ID1503345228</td>\n",
       "      <td>0.0</td>\n",
       "      <td>7</td>\n",
       "      <td>1</td>\n",
       "      <td>-37.861835</td>\n",
       "      <td>144.905716</td>\n",
       "      <td>-37.805283</td>\n",
       "      <td>144.955317</td>\n",
       "      <td>9411.0</td>\n",
       "      <td>2018-07-18</td>\n",
       "      <td>21:03:37</td>\n",
       "      <td>3144.90</td>\n",
       "      <td>21:56:01</td>\n",
       "      <td>16.28</td>\n",
       "      <td>3</td>\n",
       "      <td>0</td>\n",
       "    </tr>\n",
       "    <tr>\n",
       "      <th>109</th>\n",
       "      <td>ID1162920801</td>\n",
       "      <td>0.0</td>\n",
       "      <td>1</td>\n",
       "      <td>4</td>\n",
       "      <td>-37.815354</td>\n",
       "      <td>144.935589</td>\n",
       "      <td>-37.805506</td>\n",
       "      <td>144.997886</td>\n",
       "      <td>6140.0</td>\n",
       "      <td>2018-01-03</td>\n",
       "      <td>02:07:21</td>\n",
       "      <td>1576.44</td>\n",
       "      <td>2:33:37</td>\n",
       "      <td>14.18</td>\n",
       "      <td>3</td>\n",
       "      <td>0</td>\n",
       "    </tr>\n",
       "    <tr>\n",
       "      <th>80</th>\n",
       "      <td>ID3446739218</td>\n",
       "      <td>1.0</td>\n",
       "      <td>2</td>\n",
       "      <td>3</td>\n",
       "      <td>-37.819344</td>\n",
       "      <td>144.932088</td>\n",
       "      <td>-37.827091</td>\n",
       "      <td>144.974919</td>\n",
       "      <td>6007.0</td>\n",
       "      <td>2018-05-01</td>\n",
       "      <td>13:38:57</td>\n",
       "      <td>1442.94</td>\n",
       "      <td>14:02:59</td>\n",
       "      <td>16.67</td>\n",
       "      <td>2</td>\n",
       "      <td>0</td>\n",
       "    </tr>\n",
       "    <tr>\n",
       "      <th>83</th>\n",
       "      <td>ID3345890245</td>\n",
       "      <td>1.0</td>\n",
       "      <td>8</td>\n",
       "      <td>3</td>\n",
       "      <td>-37.815834</td>\n",
       "      <td>145.046450</td>\n",
       "      <td>-37.820207</td>\n",
       "      <td>144.984383</td>\n",
       "      <td>6409.0</td>\n",
       "      <td>2018-03-17</td>\n",
       "      <td>23:45:02</td>\n",
       "      <td>1945.44</td>\n",
       "      <td>0:17:27</td>\n",
       "      <td>25.25</td>\n",
       "      <td>3</td>\n",
       "      <td>1</td>\n",
       "    </tr>\n",
       "    <tr>\n",
       "      <th>91</th>\n",
       "      <td>ID3802084473</td>\n",
       "      <td>1.0</td>\n",
       "      <td>9</td>\n",
       "      <td>7</td>\n",
       "      <td>-38.110916</td>\n",
       "      <td>144.654173</td>\n",
       "      <td>-37.861835</td>\n",
       "      <td>144.905716</td>\n",
       "      <td>50797.0</td>\n",
       "      <td>2018-07-10</td>\n",
       "      <td>08:01:56</td>\n",
       "      <td>13204.98</td>\n",
       "      <td>11:42:00</td>\n",
       "      <td>48.32</td>\n",
       "      <td>1</td>\n",
       "      <td>0</td>\n",
       "    </tr>\n",
       "    <tr>\n",
       "      <th>101</th>\n",
       "      <td>ID3434183545</td>\n",
       "      <td>1.0</td>\n",
       "      <td>7</td>\n",
       "      <td>5</td>\n",
       "      <td>-37.861835</td>\n",
       "      <td>144.905716</td>\n",
       "      <td>-37.800647</td>\n",
       "      <td>144.935772</td>\n",
       "      <td>12775.0</td>\n",
       "      <td>2018-01-23</td>\n",
       "      <td>23:18:26</td>\n",
       "      <td>4025.22</td>\n",
       "      <td>0:25:31</td>\n",
       "      <td>27.88</td>\n",
       "      <td>3</td>\n",
       "      <td>0</td>\n",
       "    </tr>\n",
       "    <tr>\n",
       "      <th>104</th>\n",
       "      <td>ID3349169607</td>\n",
       "      <td>1.0</td>\n",
       "      <td>2</td>\n",
       "      <td>7</td>\n",
       "      <td>-37.814511</td>\n",
       "      <td>144.938358</td>\n",
       "      <td>-37.861835</td>\n",
       "      <td>144.905716</td>\n",
       "      <td>10291.0</td>\n",
       "      <td>2018-05-09</td>\n",
       "      <td>16:53:28</td>\n",
       "      <td>3370.62</td>\n",
       "      <td>17:49:38</td>\n",
       "      <td>19.91</td>\n",
       "      <td>2</td>\n",
       "      <td>0</td>\n",
       "    </tr>\n",
       "    <tr>\n",
       "      <th>113</th>\n",
       "      <td>ID3929143578</td>\n",
       "      <td>1.0</td>\n",
       "      <td>3</td>\n",
       "      <td>5</td>\n",
       "      <td>-37.818579</td>\n",
       "      <td>144.992130</td>\n",
       "      <td>-37.809117</td>\n",
       "      <td>144.936871</td>\n",
       "      <td>5830.0</td>\n",
       "      <td>2018-06-07</td>\n",
       "      <td>01:55:23</td>\n",
       "      <td>1359.90</td>\n",
       "      <td>2:18:02</td>\n",
       "      <td>21.34</td>\n",
       "      <td>3</td>\n",
       "      <td>0</td>\n",
       "    </tr>\n",
       "    <tr>\n",
       "      <th>117</th>\n",
       "      <td>ID3824103313</td>\n",
       "      <td>1.0</td>\n",
       "      <td>8</td>\n",
       "      <td>6</td>\n",
       "      <td>-37.815834</td>\n",
       "      <td>145.046450</td>\n",
       "      <td>-37.773803</td>\n",
       "      <td>144.983647</td>\n",
       "      <td>13562.0</td>\n",
       "      <td>2018-01-11</td>\n",
       "      <td>12:05:31</td>\n",
       "      <td>4192.26</td>\n",
       "      <td>13:15:23</td>\n",
       "      <td>24.31</td>\n",
       "      <td>2</td>\n",
       "      <td>0</td>\n",
       "    </tr>\n",
       "    <tr>\n",
       "      <th>87</th>\n",
       "      <td>ID5771249188</td>\n",
       "      <td>2.0</td>\n",
       "      <td>9</td>\n",
       "      <td>5</td>\n",
       "      <td>-38.110916</td>\n",
       "      <td>144.654173</td>\n",
       "      <td>-37.805324</td>\n",
       "      <td>144.933267</td>\n",
       "      <td>43688.0</td>\n",
       "      <td>2018-04-16</td>\n",
       "      <td>08:15:31</td>\n",
       "      <td>10478.88</td>\n",
       "      <td>11:10:09</td>\n",
       "      <td>902.44</td>\n",
       "      <td>1</td>\n",
       "      <td>0</td>\n",
       "    </tr>\n",
       "    <tr>\n",
       "      <th>105</th>\n",
       "      <td>ID5732321483</td>\n",
       "      <td>2.0</td>\n",
       "      <td>4</td>\n",
       "      <td>8</td>\n",
       "      <td>-37.813248</td>\n",
       "      <td>145.000132</td>\n",
       "      <td>-37.807202</td>\n",
       "      <td>145.026637</td>\n",
       "      <td>3182.0</td>\n",
       "      <td>2018-03-21</td>\n",
       "      <td>17:18:33</td>\n",
       "      <td>777.78</td>\n",
       "      <td>17:31:30</td>\n",
       "      <td>115.37</td>\n",
       "      <td>2</td>\n",
       "      <td>0</td>\n",
       "    </tr>\n",
       "    <tr>\n",
       "      <th>115</th>\n",
       "      <td>ID5383986219</td>\n",
       "      <td>2.0</td>\n",
       "      <td>9</td>\n",
       "      <td>3</td>\n",
       "      <td>-38.110916</td>\n",
       "      <td>144.654173</td>\n",
       "      <td>-37.823719</td>\n",
       "      <td>144.967352</td>\n",
       "      <td>44035.0</td>\n",
       "      <td>2018-01-07</td>\n",
       "      <td>22:01:42</td>\n",
       "      <td>10724.46</td>\n",
       "      <td>1:00:26</td>\n",
       "      <td>934.74</td>\n",
       "      <td>3</td>\n",
       "      <td>1</td>\n",
       "    </tr>\n",
       "  </tbody>\n",
       "</table>\n",
       "</div>"
      ],
      "text/plain": [
       "          trip_id  type  ori_region  dest_region    ori_lat     ori_lng  \\\n",
       "81   ID1129746878   0.0           7            3 -37.861835  144.905716   \n",
       "82   ID1970075138   0.0           6            5 -37.790797  144.985865   \n",
       "89   ID1301935862   0.0           4            1 -37.800225  145.009610   \n",
       "93   ID1611767973   0.0           6            7 -37.790797  144.985865   \n",
       "96   ID1626141128   0.0           1            4 -37.804996  144.971608   \n",
       "98   ID1728618028   0.0           8            4 -37.807202  145.026637   \n",
       "100  ID1503345228   0.0           7            1 -37.861835  144.905716   \n",
       "109  ID1162920801   0.0           1            4 -37.815354  144.935589   \n",
       "80   ID3446739218   1.0           2            3 -37.819344  144.932088   \n",
       "83   ID3345890245   1.0           8            3 -37.815834  145.046450   \n",
       "91   ID3802084473   1.0           9            7 -38.110916  144.654173   \n",
       "101  ID3434183545   1.0           7            5 -37.861835  144.905716   \n",
       "104  ID3349169607   1.0           2            7 -37.814511  144.938358   \n",
       "113  ID3929143578   1.0           3            5 -37.818579  144.992130   \n",
       "117  ID3824103313   1.0           8            6 -37.815834  145.046450   \n",
       "87   ID5771249188   2.0           9            5 -38.110916  144.654173   \n",
       "105  ID5732321483   2.0           4            8 -37.813248  145.000132   \n",
       "115  ID5383986219   2.0           9            3 -38.110916  144.654173   \n",
       "\n",
       "      dest_lat   dest_long  j_distance   dept_date dept_time  travel_time  \\\n",
       "81  -37.809342  144.992395     10415.0  2018-02-19  17:09:02      3456.72   \n",
       "82  -37.805044  144.925926      7017.0  2018-07-22  10:49:07      2026.20   \n",
       "89  -37.802653  144.963491      4782.0  2018-06-18  10:59:00      1316.94   \n",
       "93  -37.861835  144.905716     11711.0  2018-03-21  07:11:12      3866.94   \n",
       "96  -37.807412  144.998521      2527.0  2018-03-18  20:25:47       626.16   \n",
       "98  -37.814129  145.004671      2835.0  2018-05-16  11:30:48       660.66   \n",
       "100 -37.805283  144.955317      9411.0  2018-07-18  21:03:37      3144.90   \n",
       "109 -37.805506  144.997886      6140.0  2018-01-03  02:07:21      1576.44   \n",
       "80  -37.827091  144.974919      6007.0  2018-05-01  13:38:57      1442.94   \n",
       "83  -37.820207  144.984383      6409.0  2018-03-17  23:45:02      1945.44   \n",
       "91  -37.861835  144.905716     50797.0  2018-07-10  08:01:56     13204.98   \n",
       "101 -37.800647  144.935772     12775.0  2018-01-23  23:18:26      4025.22   \n",
       "104 -37.861835  144.905716     10291.0  2018-05-09  16:53:28      3370.62   \n",
       "113 -37.809117  144.936871      5830.0  2018-06-07  01:55:23      1359.90   \n",
       "117 -37.773803  144.983647     13562.0  2018-01-11  12:05:31      4192.26   \n",
       "87  -37.805324  144.933267     43688.0  2018-04-16  08:15:31     10478.88   \n",
       "105 -37.807202  145.026637      3182.0  2018-03-21  17:18:33       777.78   \n",
       "115 -37.823719  144.967352     44035.0  2018-01-07  22:01:42     10724.46   \n",
       "\n",
       "    arrival_time    fare  time_interval  weekday_flag  \n",
       "81      18:06:38   12.81              2             0  \n",
       "82      11:22:53   10.16              1             1  \n",
       "89      11:20:56    6.56              1             0  \n",
       "93       8:15:38    9.27              1             0  \n",
       "96      20:36:13   11.62              2             1  \n",
       "98      11:41:48    6.53              1             0  \n",
       "100     21:56:01   16.28              3             0  \n",
       "109      2:33:37   14.18              3             0  \n",
       "80      14:02:59   16.67              2             0  \n",
       "83       0:17:27   25.25              3             1  \n",
       "91      11:42:00   48.32              1             0  \n",
       "101      0:25:31   27.88              3             0  \n",
       "104     17:49:38   19.91              2             0  \n",
       "113      2:18:02   21.34              3             0  \n",
       "117     13:15:23   24.31              2             0  \n",
       "87      11:10:09  902.44              1             0  \n",
       "105     17:31:30  115.37              2             0  \n",
       "115      1:00:26  934.74              3             1  "
      ]
     },
     "execution_count": 183,
     "metadata": {},
     "output_type": "execute_result"
    }
   ],
   "source": [
    "all_m"
   ]
  },
  {
   "cell_type": "code",
   "execution_count": 184,
   "metadata": {},
   "outputs": [
    {
     "data": {
      "text/plain": [
       "18"
      ]
     },
     "execution_count": 184,
     "metadata": {},
     "output_type": "execute_result"
    }
   ],
   "source": [
    "len(all_m)"
   ]
  },
  {
   "cell_type": "code",
   "execution_count": 185,
   "metadata": {},
   "outputs": [
    {
     "name": "stderr",
     "output_type": "stream",
     "text": [
      "C:\\Users\\Stephy\\Anaconda3\\lib\\site-packages\\ipykernel_launcher.py:2: FutureWarning: Sorting because non-concatenation axis is not aligned. A future version\n",
      "of pandas will change to not sort by default.\n",
      "\n",
      "To accept the future behavior, pass 'sort=True'.\n",
      "\n",
      "To retain the current behavior and silence the warning, pass sort=False\n",
      "\n",
      "  \n"
     ]
    }
   ],
   "source": [
    "non_missing=missing[missing['fare'].notnull()]\n",
    "final = pd.concat([non_missing,all_m])"
   ]
  },
  {
   "cell_type": "code",
   "execution_count": 186,
   "metadata": {},
   "outputs": [
    {
     "data": {
      "text/plain": [
       "124"
      ]
     },
     "execution_count": 186,
     "metadata": {},
     "output_type": "execute_result"
    }
   ],
   "source": [
    "len(missing)"
   ]
  },
  {
   "cell_type": "code",
   "execution_count": 187,
   "metadata": {},
   "outputs": [
    {
     "data": {
      "text/plain": [
       "18"
      ]
     },
     "execution_count": 187,
     "metadata": {},
     "output_type": "execute_result"
    }
   ],
   "source": [
    "len(all_m)"
   ]
  },
  {
   "cell_type": "code",
   "execution_count": 188,
   "metadata": {},
   "outputs": [
    {
     "data": {
      "text/plain": [
       "124"
      ]
     },
     "execution_count": 188,
     "metadata": {},
     "output_type": "execute_result"
    }
   ],
   "source": [
    "len(final)"
   ]
  },
  {
   "cell_type": "code",
   "execution_count": 189,
   "metadata": {},
   "outputs": [
    {
     "data": {
      "text/plain": [
       "Index(['arrival_time', 'dept_date', 'dept_time', 'dest_lat', 'dest_long',\n",
       "       'dest_region', 'fare', 'j_distance', 'ori_lat', 'ori_lng', 'ori_region',\n",
       "       'time_interval', 'travel_time', 'trip_id', 'type', 'weekday_flag'],\n",
       "      dtype='object')"
      ]
     },
     "execution_count": 189,
     "metadata": {},
     "output_type": "execute_result"
    }
   ],
   "source": [
    "final.columns"
   ]
  },
  {
   "cell_type": "code",
   "execution_count": 191,
   "metadata": {
    "collapsed": true
   },
   "outputs": [
    {
     "ename": "KeyError",
     "evalue": "\"labels ['time_interval' 'weekday_flag'] not contained in axis\"",
     "output_type": "error",
     "traceback": [
      "\u001b[1;31m---------------------------------------------------------------------------\u001b[0m",
      "\u001b[1;31mKeyError\u001b[0m                                  Traceback (most recent call last)",
      "\u001b[1;32m<ipython-input-191-cae3fa936cd5>\u001b[0m in \u001b[0;36m<module>\u001b[1;34m()\u001b[0m\n\u001b[1;32m----> 1\u001b[1;33m \u001b[0mfinal\u001b[0m \u001b[1;33m=\u001b[0m \u001b[0mfinal\u001b[0m\u001b[1;33m.\u001b[0m\u001b[0mdrop\u001b[0m\u001b[1;33m(\u001b[0m\u001b[0mcolumns\u001b[0m\u001b[1;33m=\u001b[0m\u001b[1;33m[\u001b[0m\u001b[1;34m'time_interval'\u001b[0m\u001b[1;33m,\u001b[0m\u001b[1;34m'weekday_flag'\u001b[0m\u001b[1;33m]\u001b[0m\u001b[1;33m)\u001b[0m\u001b[1;33m\u001b[0m\u001b[0m\n\u001b[0m",
      "\u001b[1;32m~\\Anaconda3\\lib\\site-packages\\pandas\\core\\frame.py\u001b[0m in \u001b[0;36mdrop\u001b[1;34m(self, labels, axis, index, columns, level, inplace, errors)\u001b[0m\n\u001b[0;32m   3692\u001b[0m                                            \u001b[0mindex\u001b[0m\u001b[1;33m=\u001b[0m\u001b[0mindex\u001b[0m\u001b[1;33m,\u001b[0m \u001b[0mcolumns\u001b[0m\u001b[1;33m=\u001b[0m\u001b[0mcolumns\u001b[0m\u001b[1;33m,\u001b[0m\u001b[1;33m\u001b[0m\u001b[0m\n\u001b[0;32m   3693\u001b[0m                                            \u001b[0mlevel\u001b[0m\u001b[1;33m=\u001b[0m\u001b[0mlevel\u001b[0m\u001b[1;33m,\u001b[0m \u001b[0minplace\u001b[0m\u001b[1;33m=\u001b[0m\u001b[0minplace\u001b[0m\u001b[1;33m,\u001b[0m\u001b[1;33m\u001b[0m\u001b[0m\n\u001b[1;32m-> 3694\u001b[1;33m                                            errors=errors)\n\u001b[0m\u001b[0;32m   3695\u001b[0m \u001b[1;33m\u001b[0m\u001b[0m\n\u001b[0;32m   3696\u001b[0m     @rewrite_axis_style_signature('mapper', [('copy', True),\n",
      "\u001b[1;32m~\\Anaconda3\\lib\\site-packages\\pandas\\core\\generic.py\u001b[0m in \u001b[0;36mdrop\u001b[1;34m(self, labels, axis, index, columns, level, inplace, errors)\u001b[0m\n\u001b[0;32m   3106\u001b[0m         \u001b[1;32mfor\u001b[0m \u001b[0maxis\u001b[0m\u001b[1;33m,\u001b[0m \u001b[0mlabels\u001b[0m \u001b[1;32min\u001b[0m \u001b[0maxes\u001b[0m\u001b[1;33m.\u001b[0m\u001b[0mitems\u001b[0m\u001b[1;33m(\u001b[0m\u001b[1;33m)\u001b[0m\u001b[1;33m:\u001b[0m\u001b[1;33m\u001b[0m\u001b[0m\n\u001b[0;32m   3107\u001b[0m             \u001b[1;32mif\u001b[0m \u001b[0mlabels\u001b[0m \u001b[1;32mis\u001b[0m \u001b[1;32mnot\u001b[0m \u001b[1;32mNone\u001b[0m\u001b[1;33m:\u001b[0m\u001b[1;33m\u001b[0m\u001b[0m\n\u001b[1;32m-> 3108\u001b[1;33m                 \u001b[0mobj\u001b[0m \u001b[1;33m=\u001b[0m \u001b[0mobj\u001b[0m\u001b[1;33m.\u001b[0m\u001b[0m_drop_axis\u001b[0m\u001b[1;33m(\u001b[0m\u001b[0mlabels\u001b[0m\u001b[1;33m,\u001b[0m \u001b[0maxis\u001b[0m\u001b[1;33m,\u001b[0m \u001b[0mlevel\u001b[0m\u001b[1;33m=\u001b[0m\u001b[0mlevel\u001b[0m\u001b[1;33m,\u001b[0m \u001b[0merrors\u001b[0m\u001b[1;33m=\u001b[0m\u001b[0merrors\u001b[0m\u001b[1;33m)\u001b[0m\u001b[1;33m\u001b[0m\u001b[0m\n\u001b[0m\u001b[0;32m   3109\u001b[0m \u001b[1;33m\u001b[0m\u001b[0m\n\u001b[0;32m   3110\u001b[0m         \u001b[1;32mif\u001b[0m \u001b[0minplace\u001b[0m\u001b[1;33m:\u001b[0m\u001b[1;33m\u001b[0m\u001b[0m\n",
      "\u001b[1;32m~\\Anaconda3\\lib\\site-packages\\pandas\\core\\generic.py\u001b[0m in \u001b[0;36m_drop_axis\u001b[1;34m(self, labels, axis, level, errors)\u001b[0m\n\u001b[0;32m   3138\u001b[0m                 \u001b[0mnew_axis\u001b[0m \u001b[1;33m=\u001b[0m \u001b[0maxis\u001b[0m\u001b[1;33m.\u001b[0m\u001b[0mdrop\u001b[0m\u001b[1;33m(\u001b[0m\u001b[0mlabels\u001b[0m\u001b[1;33m,\u001b[0m \u001b[0mlevel\u001b[0m\u001b[1;33m=\u001b[0m\u001b[0mlevel\u001b[0m\u001b[1;33m,\u001b[0m \u001b[0merrors\u001b[0m\u001b[1;33m=\u001b[0m\u001b[0merrors\u001b[0m\u001b[1;33m)\u001b[0m\u001b[1;33m\u001b[0m\u001b[0m\n\u001b[0;32m   3139\u001b[0m             \u001b[1;32melse\u001b[0m\u001b[1;33m:\u001b[0m\u001b[1;33m\u001b[0m\u001b[0m\n\u001b[1;32m-> 3140\u001b[1;33m                 \u001b[0mnew_axis\u001b[0m \u001b[1;33m=\u001b[0m \u001b[0maxis\u001b[0m\u001b[1;33m.\u001b[0m\u001b[0mdrop\u001b[0m\u001b[1;33m(\u001b[0m\u001b[0mlabels\u001b[0m\u001b[1;33m,\u001b[0m \u001b[0merrors\u001b[0m\u001b[1;33m=\u001b[0m\u001b[0merrors\u001b[0m\u001b[1;33m)\u001b[0m\u001b[1;33m\u001b[0m\u001b[0m\n\u001b[0m\u001b[0;32m   3141\u001b[0m             \u001b[0mdropped\u001b[0m \u001b[1;33m=\u001b[0m \u001b[0mself\u001b[0m\u001b[1;33m.\u001b[0m\u001b[0mreindex\u001b[0m\u001b[1;33m(\u001b[0m\u001b[1;33m**\u001b[0m\u001b[1;33m{\u001b[0m\u001b[0maxis_name\u001b[0m\u001b[1;33m:\u001b[0m \u001b[0mnew_axis\u001b[0m\u001b[1;33m}\u001b[0m\u001b[1;33m)\u001b[0m\u001b[1;33m\u001b[0m\u001b[0m\n\u001b[0;32m   3142\u001b[0m             \u001b[1;32mtry\u001b[0m\u001b[1;33m:\u001b[0m\u001b[1;33m\u001b[0m\u001b[0m\n",
      "\u001b[1;32m~\\Anaconda3\\lib\\site-packages\\pandas\\core\\indexes\\base.py\u001b[0m in \u001b[0;36mdrop\u001b[1;34m(self, labels, errors)\u001b[0m\n\u001b[0;32m   4385\u001b[0m             \u001b[1;32mif\u001b[0m \u001b[0merrors\u001b[0m \u001b[1;33m!=\u001b[0m \u001b[1;34m'ignore'\u001b[0m\u001b[1;33m:\u001b[0m\u001b[1;33m\u001b[0m\u001b[0m\n\u001b[0;32m   4386\u001b[0m                 raise KeyError(\n\u001b[1;32m-> 4387\u001b[1;33m                     'labels %s not contained in axis' % labels[mask])\n\u001b[0m\u001b[0;32m   4388\u001b[0m             \u001b[0mindexer\u001b[0m \u001b[1;33m=\u001b[0m \u001b[0mindexer\u001b[0m\u001b[1;33m[\u001b[0m\u001b[1;33m~\u001b[0m\u001b[0mmask\u001b[0m\u001b[1;33m]\u001b[0m\u001b[1;33m\u001b[0m\u001b[0m\n\u001b[0;32m   4389\u001b[0m         \u001b[1;32mreturn\u001b[0m \u001b[0mself\u001b[0m\u001b[1;33m.\u001b[0m\u001b[0mdelete\u001b[0m\u001b[1;33m(\u001b[0m\u001b[0mindexer\u001b[0m\u001b[1;33m)\u001b[0m\u001b[1;33m\u001b[0m\u001b[0m\n",
      "\u001b[1;31mKeyError\u001b[0m: \"labels ['time_interval' 'weekday_flag'] not contained in axis\""
     ]
    }
   ],
   "source": [
    "final = final.drop(columns=['time_interval','weekday_flag'])"
   ]
  },
  {
   "cell_type": "code",
   "execution_count": 192,
   "metadata": {},
   "outputs": [],
   "source": [
    "final = final[['trip_id', 'type', 'ori_region', 'dest_region',\n",
    "         'ori_lat','ori_lng','dest_lat',\n",
    "         'dest_long','j_distance','dept_date',\n",
    "        'dept_time','travel_time','arrival_time','fare']]"
   ]
  },
  {
   "cell_type": "code",
   "execution_count": 198,
   "metadata": {
    "collapsed": true
   },
   "outputs": [
    {
     "data": {
      "text/html": [
       "<div>\n",
       "<style scoped>\n",
       "    .dataframe tbody tr th:only-of-type {\n",
       "        vertical-align: middle;\n",
       "    }\n",
       "\n",
       "    .dataframe tbody tr th {\n",
       "        vertical-align: top;\n",
       "    }\n",
       "\n",
       "    .dataframe thead th {\n",
       "        text-align: right;\n",
       "    }\n",
       "</style>\n",
       "<table border=\"1\" class=\"dataframe\">\n",
       "  <thead>\n",
       "    <tr style=\"text-align: right;\">\n",
       "      <th></th>\n",
       "      <th>trip_id</th>\n",
       "    </tr>\n",
       "  </thead>\n",
       "  <tbody>\n",
       "    <tr>\n",
       "      <th>0</th>\n",
       "      <td>ID1150447209</td>\n",
       "    </tr>\n",
       "    <tr>\n",
       "      <th>1</th>\n",
       "      <td>ID1865938578</td>\n",
       "    </tr>\n",
       "    <tr>\n",
       "      <th>2</th>\n",
       "      <td>ID5959375442</td>\n",
       "    </tr>\n",
       "    <tr>\n",
       "      <th>3</th>\n",
       "      <td>ID3415243284</td>\n",
       "    </tr>\n",
       "    <tr>\n",
       "      <th>4</th>\n",
       "      <td>ID3952316105</td>\n",
       "    </tr>\n",
       "    <tr>\n",
       "      <th>5</th>\n",
       "      <td>ID1137438502</td>\n",
       "    </tr>\n",
       "    <tr>\n",
       "      <th>6</th>\n",
       "      <td>ID3327093815</td>\n",
       "    </tr>\n",
       "    <tr>\n",
       "      <th>7</th>\n",
       "      <td>ID5333097186</td>\n",
       "    </tr>\n",
       "    <tr>\n",
       "      <th>8</th>\n",
       "      <td>ID3984616234</td>\n",
       "    </tr>\n",
       "    <tr>\n",
       "      <th>9</th>\n",
       "      <td>ID1932239555</td>\n",
       "    </tr>\n",
       "    <tr>\n",
       "      <th>10</th>\n",
       "      <td>ID5428198548</td>\n",
       "    </tr>\n",
       "    <tr>\n",
       "      <th>11</th>\n",
       "      <td>ID3464842001</td>\n",
       "    </tr>\n",
       "    <tr>\n",
       "      <th>12</th>\n",
       "      <td>ID5581061239</td>\n",
       "    </tr>\n",
       "    <tr>\n",
       "      <th>13</th>\n",
       "      <td>ID1944735020</td>\n",
       "    </tr>\n",
       "    <tr>\n",
       "      <th>14</th>\n",
       "      <td>ID1828467371</td>\n",
       "    </tr>\n",
       "    <tr>\n",
       "      <th>15</th>\n",
       "      <td>ID3311880313</td>\n",
       "    </tr>\n",
       "    <tr>\n",
       "      <th>16</th>\n",
       "      <td>ID1896673775</td>\n",
       "    </tr>\n",
       "    <tr>\n",
       "      <th>17</th>\n",
       "      <td>ID3303603927</td>\n",
       "    </tr>\n",
       "    <tr>\n",
       "      <th>18</th>\n",
       "      <td>ID1557030431</td>\n",
       "    </tr>\n",
       "    <tr>\n",
       "      <th>19</th>\n",
       "      <td>ID1262062225</td>\n",
       "    </tr>\n",
       "    <tr>\n",
       "      <th>20</th>\n",
       "      <td>ID1324417517</td>\n",
       "    </tr>\n",
       "    <tr>\n",
       "      <th>21</th>\n",
       "      <td>ID1734582130</td>\n",
       "    </tr>\n",
       "    <tr>\n",
       "      <th>22</th>\n",
       "      <td>ID1799146603</td>\n",
       "    </tr>\n",
       "    <tr>\n",
       "      <th>23</th>\n",
       "      <td>ID3832710898</td>\n",
       "    </tr>\n",
       "    <tr>\n",
       "      <th>24</th>\n",
       "      <td>ID1402936565</td>\n",
       "    </tr>\n",
       "    <tr>\n",
       "      <th>25</th>\n",
       "      <td>ID5644276599</td>\n",
       "    </tr>\n",
       "    <tr>\n",
       "      <th>26</th>\n",
       "      <td>ID1566606241</td>\n",
       "    </tr>\n",
       "    <tr>\n",
       "      <th>27</th>\n",
       "      <td>ID3795374103</td>\n",
       "    </tr>\n",
       "    <tr>\n",
       "      <th>28</th>\n",
       "      <td>ID3431450420</td>\n",
       "    </tr>\n",
       "    <tr>\n",
       "      <th>29</th>\n",
       "      <td>ID1804383166</td>\n",
       "    </tr>\n",
       "    <tr>\n",
       "      <th>...</th>\n",
       "      <td>...</td>\n",
       "    </tr>\n",
       "    <tr>\n",
       "      <th>94</th>\n",
       "      <td>ID5523599461</td>\n",
       "    </tr>\n",
       "    <tr>\n",
       "      <th>95</th>\n",
       "      <td>ID1988760153</td>\n",
       "    </tr>\n",
       "    <tr>\n",
       "      <th>96</th>\n",
       "      <td>ID1626141128</td>\n",
       "    </tr>\n",
       "    <tr>\n",
       "      <th>97</th>\n",
       "      <td>ID1574713099</td>\n",
       "    </tr>\n",
       "    <tr>\n",
       "      <th>98</th>\n",
       "      <td>ID1728618028</td>\n",
       "    </tr>\n",
       "    <tr>\n",
       "      <th>99</th>\n",
       "      <td>ID1454347850</td>\n",
       "    </tr>\n",
       "    <tr>\n",
       "      <th>100</th>\n",
       "      <td>ID1503345228</td>\n",
       "    </tr>\n",
       "    <tr>\n",
       "      <th>101</th>\n",
       "      <td>ID3434183545</td>\n",
       "    </tr>\n",
       "    <tr>\n",
       "      <th>102</th>\n",
       "      <td>ID1336259845</td>\n",
       "    </tr>\n",
       "    <tr>\n",
       "      <th>103</th>\n",
       "      <td>ID1525511869</td>\n",
       "    </tr>\n",
       "    <tr>\n",
       "      <th>104</th>\n",
       "      <td>ID3349169607</td>\n",
       "    </tr>\n",
       "    <tr>\n",
       "      <th>105</th>\n",
       "      <td>ID5732321483</td>\n",
       "    </tr>\n",
       "    <tr>\n",
       "      <th>106</th>\n",
       "      <td>ID3630673284</td>\n",
       "    </tr>\n",
       "    <tr>\n",
       "      <th>107</th>\n",
       "      <td>ID5940923370</td>\n",
       "    </tr>\n",
       "    <tr>\n",
       "      <th>108</th>\n",
       "      <td>ID3694239468</td>\n",
       "    </tr>\n",
       "    <tr>\n",
       "      <th>109</th>\n",
       "      <td>ID1162920801</td>\n",
       "    </tr>\n",
       "    <tr>\n",
       "      <th>110</th>\n",
       "      <td>ID1276868084</td>\n",
       "    </tr>\n",
       "    <tr>\n",
       "      <th>111</th>\n",
       "      <td>ID3484603884</td>\n",
       "    </tr>\n",
       "    <tr>\n",
       "      <th>112</th>\n",
       "      <td>ID1801405850</td>\n",
       "    </tr>\n",
       "    <tr>\n",
       "      <th>113</th>\n",
       "      <td>ID3929143578</td>\n",
       "    </tr>\n",
       "    <tr>\n",
       "      <th>114</th>\n",
       "      <td>ID3434319632</td>\n",
       "    </tr>\n",
       "    <tr>\n",
       "      <th>115</th>\n",
       "      <td>ID5383986219</td>\n",
       "    </tr>\n",
       "    <tr>\n",
       "      <th>116</th>\n",
       "      <td>ID3469092224</td>\n",
       "    </tr>\n",
       "    <tr>\n",
       "      <th>117</th>\n",
       "      <td>ID3824103313</td>\n",
       "    </tr>\n",
       "    <tr>\n",
       "      <th>118</th>\n",
       "      <td>ID1898563492</td>\n",
       "    </tr>\n",
       "    <tr>\n",
       "      <th>119</th>\n",
       "      <td>ID1611621510</td>\n",
       "    </tr>\n",
       "    <tr>\n",
       "      <th>120</th>\n",
       "      <td>ID3947262629</td>\n",
       "    </tr>\n",
       "    <tr>\n",
       "      <th>121</th>\n",
       "      <td>ID1290810202</td>\n",
       "    </tr>\n",
       "    <tr>\n",
       "      <th>122</th>\n",
       "      <td>ID1324691044</td>\n",
       "    </tr>\n",
       "    <tr>\n",
       "      <th>123</th>\n",
       "      <td>ID3629810751</td>\n",
       "    </tr>\n",
       "  </tbody>\n",
       "</table>\n",
       "<p>124 rows × 1 columns</p>\n",
       "</div>"
      ],
      "text/plain": [
       "          trip_id\n",
       "0    ID1150447209\n",
       "1    ID1865938578\n",
       "2    ID5959375442\n",
       "3    ID3415243284\n",
       "4    ID3952316105\n",
       "5    ID1137438502\n",
       "6    ID3327093815\n",
       "7    ID5333097186\n",
       "8    ID3984616234\n",
       "9    ID1932239555\n",
       "10   ID5428198548\n",
       "11   ID3464842001\n",
       "12   ID5581061239\n",
       "13   ID1944735020\n",
       "14   ID1828467371\n",
       "15   ID3311880313\n",
       "16   ID1896673775\n",
       "17   ID3303603927\n",
       "18   ID1557030431\n",
       "19   ID1262062225\n",
       "20   ID1324417517\n",
       "21   ID1734582130\n",
       "22   ID1799146603\n",
       "23   ID3832710898\n",
       "24   ID1402936565\n",
       "25   ID5644276599\n",
       "26   ID1566606241\n",
       "27   ID3795374103\n",
       "28   ID3431450420\n",
       "29   ID1804383166\n",
       "..            ...\n",
       "94   ID5523599461\n",
       "95   ID1988760153\n",
       "96   ID1626141128\n",
       "97   ID1574713099\n",
       "98   ID1728618028\n",
       "99   ID1454347850\n",
       "100  ID1503345228\n",
       "101  ID3434183545\n",
       "102  ID1336259845\n",
       "103  ID1525511869\n",
       "104  ID3349169607\n",
       "105  ID5732321483\n",
       "106  ID3630673284\n",
       "107  ID5940923370\n",
       "108  ID3694239468\n",
       "109  ID1162920801\n",
       "110  ID1276868084\n",
       "111  ID3484603884\n",
       "112  ID1801405850\n",
       "113  ID3929143578\n",
       "114  ID3434319632\n",
       "115  ID5383986219\n",
       "116  ID3469092224\n",
       "117  ID3824103313\n",
       "118  ID1898563492\n",
       "119  ID1611621510\n",
       "120  ID3947262629\n",
       "121  ID1290810202\n",
       "122  ID1324691044\n",
       "123  ID3629810751\n",
       "\n",
       "[124 rows x 1 columns]"
      ]
     },
     "execution_count": 198,
     "metadata": {},
     "output_type": "execute_result"
    }
   ],
   "source": [
    "to_merge = pd.DataFrame(missing.trip_id)\n",
    "len(to_merge)\n",
    "to_merge"
   ]
  },
  {
   "cell_type": "markdown",
   "metadata": {},
   "source": [
    "### 5.4 Saving the fixed file"
   ]
  },
  {
   "cell_type": "code",
   "execution_count": 200,
   "metadata": {},
   "outputs": [],
   "source": [
    "final_data = pd.merge(to_merge, final,  how='left', left_on=['trip_id'], right_on = ['trip_id'])"
   ]
  },
  {
   "cell_type": "code",
   "execution_count": 201,
   "metadata": {},
   "outputs": [],
   "source": [
    "final_data.columns=['Unnamed: 0', 'Uber Type', 'Origin Region', 'Destination Region',\n",
    "                   'Origin Latitude', 'Origin Longitude', 'Destination Latitude',\n",
    "                   'Destination Longitude', 'Journey Distance(m)', 'Departure Date',\n",
    "                   'Departure Time', 'Travel Time(s)', 'Arrival Time', 'Fare$']"
   ]
  },
  {
   "cell_type": "code",
   "execution_count": 203,
   "metadata": {},
   "outputs": [],
   "source": [
    "# saving as csv file\n",
    "\n",
    "final_data.to_csv('29915651.missing_value_solution.csv', encoding='utf-8', index=False)"
   ]
  },
  {
   "cell_type": "code",
   "execution_count": 204,
   "metadata": {},
   "outputs": [
    {
     "data": {
      "text/plain": [
       "Unnamed: 0               0\n",
       "Uber Type                0\n",
       "Origin Region            0\n",
       "Destination Region       0\n",
       "Origin Latitude          0\n",
       "Origin Longitude         0\n",
       "Destination Latitude     0\n",
       "Destination Longitude    0\n",
       "Journey Distance(m)      0\n",
       "Departure Date           0\n",
       "Departure Time           0\n",
       "Travel Time(s)           0\n",
       "Arrival Time             0\n",
       "Fare$                    0\n",
       "dtype: int64"
      ]
     },
     "execution_count": 204,
     "metadata": {},
     "output_type": "execute_result"
    }
   ],
   "source": [
    "final_data.isnull().sum()"
   ]
  },
  {
   "cell_type": "markdown",
   "metadata": {},
   "source": [
    "#### The final output after missing value computation has no null values"
   ]
  },
  {
   "cell_type": "markdown",
   "metadata": {},
   "source": [
    "## 6.  Outlier detection and removal\n",
    "\n",
    "### Task 3 \n",
    "\n",
    "Impute the outlier values in <student_no>_outlier_value.csv\n",
    "\n",
    "The data given is the 29915651_outliers file.\n",
    "Basic EDA is performed on this file to understand the data and how the missing values can be imputed."
   ]
  },
  {
   "cell_type": "code",
   "execution_count": 212,
   "metadata": {},
   "outputs": [],
   "source": [
    "outlier= pd.read_csv(\"29915651_outliers.csv\")"
   ]
  },
  {
   "cell_type": "markdown",
   "metadata": {},
   "source": [
    "### 6.1 Methodology based on IQR "
   ]
  },
  {
   "attachments": {
    "image.png": {
     "image/png": "[encoded data removed]"
    }
   },
   "cell_type": "markdown",
   "metadata": {},
   "source": [
    "Outlier detection can be done based on boxplot IQR method.\n",
    "In this method all point beyond Q1-1.5IQR and all points beyond Q3+1.5IQR is considered as outlier.\n",
    "\n",
    "\n",
    "This method is equivalent to removing ooutliers from mean+2.96 SD for upper bound and mean-2.96 SD if the data is fitted as a normal distribution\n",
    "\n",
    "Ref: https://towardsdatascience.com/understanding-boxplots-5e2df7bcbd51\n",
    "\n",
    "![image.png](attachment:image.png)"
   ]
  },
  {
   "cell_type": "code",
   "execution_count": 213,
   "metadata": {},
   "outputs": [
    {
     "data": {
      "text/plain": [
       "(108, 15)"
      ]
     },
     "execution_count": 213,
     "metadata": {},
     "output_type": "execute_result"
    }
   ],
   "source": [
    "outlier.shape"
   ]
  },
  {
   "cell_type": "code",
   "execution_count": 235,
   "metadata": {},
   "outputs": [
    {
     "data": {
      "text/plain": [
       "Index(['index', 'trip_id', 'type', 'ori_region', 'dest_region', 'ori_lat',\n",
       "       'ori_lng', 'dest_lat', 'dest_long', 'j_distance', 'dept_date',\n",
       "       'dept_time', 'travel_time', 'arrival_time', 'fare'],\n",
       "      dtype='object')"
      ]
     },
     "execution_count": 235,
     "metadata": {},
     "output_type": "execute_result"
    }
   ],
   "source": [
    "outlier.columns"
   ]
  },
  {
   "cell_type": "code",
   "execution_count": 215,
   "metadata": {},
   "outputs": [],
   "source": [
    "#rename columns\n",
    "outlier.columns = ['index','trip_id', 'type', 'ori_region', 'dest_region', 'ori_lat', 'ori_lng',\n",
    "       'dest_lat', 'dest_long', 'j_distance', 'dept_date', 'dept_time',\n",
    "       'travel_time', 'arrival_time', 'fare']"
   ]
  },
  {
   "cell_type": "code",
   "execution_count": 216,
   "metadata": {},
   "outputs": [
    {
     "data": {
      "text/plain": [
       "Index(['index', 'trip_id', 'type', 'ori_region', 'dest_region', 'ori_lat',\n",
       "       'ori_lng', 'dest_lat', 'dest_long', 'j_distance', 'dept_date',\n",
       "       'dept_time', 'travel_time', 'arrival_time', 'fare'],\n",
       "      dtype='object')"
      ]
     },
     "execution_count": 216,
     "metadata": {},
     "output_type": "execute_result"
    }
   ],
   "source": [
    "outlier.columns"
   ]
  },
  {
   "cell_type": "markdown",
   "metadata": {},
   "source": [
    "Basic EDA is performed on the data to find the spread of fare"
   ]
  },
  {
   "cell_type": "code",
   "execution_count": 217,
   "metadata": {},
   "outputs": [
    {
     "data": {
      "text/plain": [
       "<matplotlib.axes._subplots.AxesSubplot at 0x1d9c4499da0>"
      ]
     },
     "execution_count": 217,
     "metadata": {},
     "output_type": "execute_result"
    },
    {
     "data": {
      "image/png": "[encoded data removed]",
      "text/plain": [
       "<Figure size 360x576 with 1 Axes>"
      ]
     },
     "metadata": {},
     "output_type": "display_data"
    }
   ],
   "source": [
    "#Plotting the outliers\n",
    "plt.rcParams['figure.figsize']=5,8\n",
    "sns.boxplot(data=outlier[['type','fare']],x='type',y='fare')"
   ]
  },
  {
   "cell_type": "markdown",
   "metadata": {},
   "source": [
    "It can de seen that in each Uber type there is outlier for the fare, especially in the case of Uber Black\n"
   ]
  },
  {
   "cell_type": "code",
   "execution_count": 218,
   "metadata": {},
   "outputs": [
    {
     "data": {
      "text/plain": [
       "type\n",
       "0    51\n",
       "1    44\n",
       "2    13\n",
       "Name: trip_id, dtype: int64"
      ]
     },
     "execution_count": 218,
     "metadata": {},
     "output_type": "execute_result"
    }
   ],
   "source": [
    "#checking the number of entries in each type\n",
    "outlier.groupby('type')['trip_id'].nunique()"
   ]
  },
  {
   "cell_type": "markdown",
   "metadata": {},
   "source": [
    "### 6.2 Outlier removal"
   ]
  },
  {
   "cell_type": "code",
   "execution_count": 219,
   "metadata": {},
   "outputs": [],
   "source": [
    "#outliers are removed separately for each uber type \n",
    "def remove_outlier(data_df):\n",
    "    ubertype=(0,1,2)\n",
    "    #empty dataframe for cleaned data\n",
    "    clean_df = pd.DataFrame()\n",
    "    #empty dataframe for outlier data\n",
    "    outlier_df = pd.DataFrame()\n",
    "    for each in ubertype:\n",
    "        #each type of uber \n",
    "        ubertype_df=data_df[data_df.iloc[:,-1]==[each]]\n",
    "        Q1 = ubertype_df.quantile(0.25)\n",
    "        Q3 = ubertype_df.quantile(0.75)\n",
    "        IQR = Q3 - Q1\n",
    "        LB = Q1 - 1.5 * IQR\n",
    "        UB = Q3 + 1.5 * IQR\n",
    "        clean=ubertype_df[~((ubertype_df < LB)|(ubertype_df > UB)).any(axis=1)]\n",
    "        outlier= ubertype_df[((ubertype_df < LB)|(ubertype_df > UB)).any(axis=1)]\n",
    "        clean_df=pd.concat([clean_df,clean])\n",
    "        outlier_df=pd.concat([outlier_df,outlier])\n",
    "                               \n",
    "    return(clean_df,outlier_df)\n",
    "\n",
    "df_fare=outlier[['fare','type']]\n",
    "cleaned_data,outlier_data= remove_outlier(df_fare)\n"
   ]
  },
  {
   "cell_type": "code",
   "execution_count": 220,
   "metadata": {},
   "outputs": [
    {
     "data": {
      "text/html": [
       "<div>\n",
       "<style scoped>\n",
       "    .dataframe tbody tr th:only-of-type {\n",
       "        vertical-align: middle;\n",
       "    }\n",
       "\n",
       "    .dataframe tbody tr th {\n",
       "        vertical-align: top;\n",
       "    }\n",
       "\n",
       "    .dataframe thead th {\n",
       "        text-align: right;\n",
       "    }\n",
       "</style>\n",
       "<table border=\"1\" class=\"dataframe\">\n",
       "  <thead>\n",
       "    <tr style=\"text-align: right;\">\n",
       "      <th></th>\n",
       "      <th>fare</th>\n",
       "      <th>type</th>\n",
       "    </tr>\n",
       "  </thead>\n",
       "  <tbody>\n",
       "    <tr>\n",
       "      <th>6</th>\n",
       "      <td>69.04</td>\n",
       "      <td>1</td>\n",
       "    </tr>\n",
       "    <tr>\n",
       "      <th>22</th>\n",
       "      <td>56.60</td>\n",
       "      <td>1</td>\n",
       "    </tr>\n",
       "    <tr>\n",
       "      <th>30</th>\n",
       "      <td>63.74</td>\n",
       "      <td>1</td>\n",
       "    </tr>\n",
       "    <tr>\n",
       "      <th>45</th>\n",
       "      <td>56.87</td>\n",
       "      <td>1</td>\n",
       "    </tr>\n",
       "    <tr>\n",
       "      <th>55</th>\n",
       "      <td>51.35</td>\n",
       "      <td>1</td>\n",
       "    </tr>\n",
       "    <tr>\n",
       "      <th>68</th>\n",
       "      <td>63.45</td>\n",
       "      <td>1</td>\n",
       "    </tr>\n",
       "    <tr>\n",
       "      <th>2</th>\n",
       "      <td>736.66</td>\n",
       "      <td>2</td>\n",
       "    </tr>\n",
       "    <tr>\n",
       "      <th>63</th>\n",
       "      <td>912.84</td>\n",
       "      <td>2</td>\n",
       "    </tr>\n",
       "  </tbody>\n",
       "</table>\n",
       "</div>"
      ],
      "text/plain": [
       "      fare  type\n",
       "6    69.04     1\n",
       "22   56.60     1\n",
       "30   63.74     1\n",
       "45   56.87     1\n",
       "55   51.35     1\n",
       "68   63.45     1\n",
       "2   736.66     2\n",
       "63  912.84     2"
      ]
     },
     "execution_count": 220,
     "metadata": {},
     "output_type": "execute_result"
    }
   ],
   "source": [
    "outlier_data"
   ]
  },
  {
   "cell_type": "code",
   "execution_count": 221,
   "metadata": {},
   "outputs": [
    {
     "data": {
      "text/plain": [
       "(100, 2)"
      ]
     },
     "execution_count": 221,
     "metadata": {},
     "output_type": "execute_result"
    }
   ],
   "source": [
    "cleaned_data.shape"
   ]
  },
  {
   "cell_type": "markdown",
   "metadata": {},
   "source": [
    "Thus 8 outlier points are removed from this method"
   ]
  },
  {
   "cell_type": "code",
   "execution_count": 222,
   "metadata": {},
   "outputs": [],
   "source": [
    "clean_out = outlier.index.isin(cleaned_data.index)\n",
    "clean_out=outlier[clean_out]"
   ]
  },
  {
   "cell_type": "code",
   "execution_count": 223,
   "metadata": {},
   "outputs": [
    {
     "data": {
      "text/plain": [
       "Index(['index', 'trip_id', 'type', 'ori_region', 'dest_region', 'ori_lat',\n",
       "       'ori_lng', 'dest_lat', 'dest_long', 'j_distance', 'dept_date',\n",
       "       'dept_time', 'travel_time', 'arrival_time', 'fare'],\n",
       "      dtype='object')"
      ]
     },
     "execution_count": 223,
     "metadata": {},
     "output_type": "execute_result"
    }
   ],
   "source": [
    "clean_out.columns"
   ]
  },
  {
   "cell_type": "markdown",
   "metadata": {},
   "source": [
    "### 6.3 Saving the fixed file"
   ]
  },
  {
   "cell_type": "code",
   "execution_count": 224,
   "metadata": {},
   "outputs": [],
   "source": [
    "clean_out.columns=['Unnamed: 0', 'Unnamed: 0.1', 'Uber Type', 'Origin Region',\n",
    "       'Destination Region', 'Origin Latitude', 'Origin Longitude',\n",
    "       'Destination Latitude', 'Destination Longitude', 'Journey Distance(m)',\n",
    "       'Departure Date', 'Departure Time', 'Travel Time(s)', 'Arrival Time',\n",
    "       'Fare$']\n"
   ]
  },
  {
   "cell_type": "code",
   "execution_count": 225,
   "metadata": {},
   "outputs": [],
   "source": [
    "# saving as csv file\n",
    "clean_out.to_csv('29915651_outliers_solution.csv', encoding='utf-8', index=False)\n"
   ]
  },
  {
   "cell_type": "markdown",
   "metadata": {},
   "source": [
    "#### The 8 outlier points identifies were removed from the final output "
   ]
  },
  {
   "cell_type": "code",
   "execution_count": null,
   "metadata": {},
   "outputs": [],
   "source": [
    "#Thank you"
   ]
  },
  {
   "attachments": {
    "image.png": {
     "image/png": "[encoded data removed]"
    }
   },
   "cell_type": "markdown",
   "metadata": {},
   "source": [
    "## 7. Summary\n",
    "\n",
    "1. The dirty data had errors in the uber type, destination and origion region, destination and origin latitude, distance, arrival and given time.\n",
    "All these errors were fixed using the various method described in this project.\n",
    "The count of errors fixed are as below. In the arrival time the deviation is one second for a lot of values\n",
    "\n",
    "\n",
    "![image.png](attachment:image.png)\n",
    "\n",
    "2. The missing value treatment had to be done for Uber Type and for fare.\n",
    "The fare was calculated based on linear modelling for each type of Uber separately.\n",
    "20 Uber types and 18 fare values were imputed\n",
    "\n",
    "3. By classifying the points beyong Q3 +IQR and Q1- IQR, 8 data points were labelled as outliers and removed from the data."
   ]
  },
  {
   "cell_type": "markdown",
   "metadata": {},
   "source": [
    "## 8. References\n",
    "\n",
    "\n",
    "\n",
    "Networkx\n",
    "https://networkx.github.io/documentation/latest/reference/generated/networkx.convert_matrix.from_pandas_edgelist.html\n",
    "https://www.python-course.eu/networkx.php\n",
    "\n",
    "\n",
    "Haversine Distance\n",
    "https://stackoverflow.com/questions/19412462/getting-distance-between-two-points-based-on-latitude-longitude \n",
    "\n",
    "\n",
    "Cross Product\n",
    "https://stackoverflow.com/questions/53699012/performant-cartesian-product-cross-join-with-pandas/53699013#53699013\n",
    "\n",
    "\n",
    "Filter and group by\n",
    "https://stackoverflow.com/questions/27488080/python-pandas-filter-rows-after-groupby\n",
    "\n",
    "\n",
    "Validating time format\n",
    "https://stackoverflow.com/questions/27488080/python-pandas-filter-rows-after-groupby\n",
    "\n",
    "\n",
    "Timedelta conversion and operation\n",
    "https://stackoverflow.com/questions/34519536/convert-integer-series-to-timedelta-in-pandas\n",
    "\n",
    "\n",
    "Time operation\n",
    "https://www.numpy.org/devdocs/reference/arrays.datetime.html\n",
    "\n",
    "\n",
    "Test train split\n",
    "https://stackoverflow.com/questions/31521170/scikit-learn-train-test-split-with-indices\n",
    "\n",
    "\n",
    "Outliers \n",
    "https://towardsdatascience.com/understanding-boxplots-5e2df7bcbd51\n",
    "\n",
    "\n"
   ]
  },
  {
   "cell_type": "markdown",
   "metadata": {},
   "source": [
    "### Thank you"
   ]
  },
  {
   "cell_type": "code",
   "execution_count": null,
   "metadata": {},
   "outputs": [],
   "source": []
  }
 ],
 "metadata": {
  "kernelspec": {
   "display_name": "Python 3",
   "language": "python",
   "name": "python3"
  },
  "language_info": {
   "codemirror_mode": {
    "name": "ipython",
    "version": 3
   },
   "file_extension": ".py",
   "mimetype": "text/x-python",
   "name": "python",
   "nbconvert_exporter": "python",
   "pygments_lexer": "ipython3",
   "version": "3.6.5"
  }
 },
 "nbformat": 4,
 "nbformat_minor": 2
}
